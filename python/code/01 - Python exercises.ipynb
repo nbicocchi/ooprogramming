{
 "cells": [
  {
   "cell_type": "markdown",
   "metadata": {},
   "source": [
    "# String"
   ]
  },
  {
   "cell_type": "markdown",
   "metadata": {},
   "source": [
    "## Question\n",
    "Define a function that can convert a integer into a string."
   ]
  },
  {
   "cell_type": "code",
   "execution_count": 109,
   "metadata": {},
   "outputs": [
    {
     "data": {
      "text/plain": [
       "'3'"
      ]
     },
     "execution_count": 109,
     "metadata": {},
     "output_type": "execute_result"
    }
   ],
   "source": [
    "def convert(n):\n",
    "    return str(n)\n",
    "\n",
    "convert(3)"
   ]
  },
  {
   "cell_type": "markdown",
   "metadata": {},
   "source": [
    "## Question\n",
    "Write a program to concatenate two strings using the *.format()* method."
   ]
  },
  {
   "cell_type": "code",
   "execution_count": 110,
   "metadata": {
    "jupyter": {
     "source_hidden": true
    }
   },
   "outputs": [
    {
     "name": "stdout",
     "output_type": "stream",
     "text": [
      "ada lovelace\n"
     ]
    }
   ],
   "source": [
    "a = 'ada'\n",
    "b = 'lovelace'\n",
    "print('{} {}'.format(a, b))"
   ]
  },
  {
   "cell_type": "markdown",
   "metadata": {},
   "source": [
    "## Question\n",
    "Write a program to replace all instances of 'dog' with 'bird' in the following sentence: *'I like cats and dogs, but I'd much rather own a dog.'*"
   ]
  },
  {
   "cell_type": "code",
   "execution_count": 111,
   "metadata": {
    "jupyter": {
     "source_hidden": true
    }
   },
   "outputs": [
    {
     "name": "stdout",
     "output_type": "stream",
     "text": [
      "I like cats and birds, but I'd much rather own a bird.\n"
     ]
    }
   ],
   "source": [
    "message = 'I like cats and dogs, but I\\'d much rather own a dog.'\n",
    "print(message.replace('dog', 'bird'))"
   ]
  },
  {
   "cell_type": "markdown",
   "metadata": {},
   "source": [
    "## Question\n",
    "Write a Python function to compose a string made of the first 2 and the last 2 chars from a given a string. If the string length is less than 2, return instead of the empty string. \n",
    "\n",
    "Input: 'w3resource' -> Output: 'w3ce'\n",
    "\n",
    "Input: 'w3' ->  Output : 'w3w3'"
   ]
  },
  {
   "cell_type": "code",
   "execution_count": 112,
   "metadata": {
    "jupyter": {
     "source_hidden": true
    }
   },
   "outputs": [
    {
     "name": "stdout",
     "output_type": "stream",
     "text": [
      "nila\n",
      "w3w3\n",
      "\n"
     ]
    }
   ],
   "source": [
    "def transform(s):\n",
    "    if len(s) < 2:\n",
    "        return ''\n",
    "    return s[0:2] + s[-2:]\n",
    "\n",
    "print(transform('nicola'))\n",
    "print(transform('w3'))\n",
    "print(transform('n'))"
   ]
  },
  {
   "cell_type": "markdown",
   "metadata": {},
   "source": [
    "## Question\n",
    "Write a Python program that, given a string, replaces all occurrences of its first char with '$', except the first char itself.\n",
    "\n",
    "Input: restart -> Output: resta$t"
   ]
  },
  {
   "cell_type": "code",
   "execution_count": 113,
   "metadata": {
    "jupyter": {
     "source_hidden": true
    }
   },
   "outputs": [
    {
     "name": "stdout",
     "output_type": "stream",
     "text": [
      "resta$t\n"
     ]
    }
   ],
   "source": [
    "s = 'restart'\n",
    "first_char = s[0]\n",
    "print(first_char + s[1:].replace(first_char, '$'))"
   ]
  },
  {
   "cell_type": "markdown",
   "metadata": {},
   "source": [
    "## Question\n",
    "Write a Python program to produce a single string given two strings as per below. Use slicing combined with the *str.format()* method().\n",
    "\n",
    "Input : 'abc', 'xyz' -> Output: 'xyc abz'"
   ]
  },
  {
   "cell_type": "code",
   "execution_count": 114,
   "metadata": {
    "jupyter": {
     "source_hidden": true
    }
   },
   "outputs": [
    {
     "name": "stdout",
     "output_type": "stream",
     "text": [
      "xyc abz\n"
     ]
    }
   ],
   "source": [
    "s1 = 'abc'\n",
    "s2 = 'xyz'\n",
    "print('{}{} {}{}'.format(s2[:-1], s1[-1], s1[:-1], s2[-1]))"
   ]
  },
  {
   "cell_type": "markdown",
   "metadata": {},
   "source": [
    "## Question\n",
    "Write a Python program to remove the nth index character from a nonempty string."
   ]
  },
  {
   "cell_type": "code",
   "execution_count": 115,
   "metadata": {
    "jupyter": {
     "source_hidden": true
    }
   },
   "outputs": [
    {
     "data": {
      "text/plain": [
       "'niola'"
      ]
     },
     "execution_count": 115,
     "metadata": {},
     "output_type": "execute_result"
    }
   ],
   "source": [
    "def remove_char(s, index):\n",
    "    return s[:index] + s[index + 1:]\n",
    "\n",
    "remove_char('nicola', 2)"
   ]
  },
  {
   "cell_type": "markdown",
   "metadata": {},
   "source": [
    "## Question \n",
    "Write a program to check the validity of password input by users. Following are the criteria for checking the password:\n",
    "* Minimum length of transaction password: 6\n",
    "* Maximum length of transaction password: 12\n",
    "* The password have to be composed of only numbers or only digits\n"
   ]
  },
  {
   "cell_type": "code",
   "execution_count": 116,
   "metadata": {
    "jupyter": {
     "source_hidden": true
    }
   },
   "outputs": [
    {
     "data": {
      "text/plain": [
       "False"
      ]
     },
     "execution_count": 116,
     "metadata": {},
     "output_type": "execute_result"
    }
   ],
   "source": [
    "import re\n",
    "\n",
    "def test_password(password):\n",
    "    if len(password) < 6 or len(password) > 12:\n",
    "        return False\n",
    "    if not password.isnumeric() and not password.isalpha():\n",
    "        return False\n",
    "    return True\n",
    "\n",
    "test_password('1234v567')"
   ]
  },
  {
   "cell_type": "markdown",
   "metadata": {},
   "source": [
    "## Question\n",
    "Write a Python function to reverses a string if its length is a multiple of 4. Otherwise, it returns the original string."
   ]
  },
  {
   "cell_type": "code",
   "execution_count": 117,
   "metadata": {
    "jupyter": {
     "source_hidden": true
    }
   },
   "outputs": [
    {
     "data": {
      "text/plain": [
       "'abcdefgh'"
      ]
     },
     "execution_count": 117,
     "metadata": {},
     "output_type": "execute_result"
    }
   ],
   "source": [
    "def reverse(s):\n",
    "    if len(s) % 4 == 0:\n",
    "        return s[::-1]\n",
    "    return s\n",
    "\n",
    "reverse('hgfedcba')"
   ]
  },
  {
   "cell_type": "markdown",
   "metadata": {},
   "source": [
    "## Question\n",
    "Write a program which accepts a string as input and print 'Yes' if the string is 'yes' in any case form (e.g., Yes, YES, yes, yEs...), otherwise print \"No\". "
   ]
  },
  {
   "cell_type": "code",
   "execution_count": 118,
   "metadata": {
    "jupyter": {
     "source_hidden": true
    }
   },
   "outputs": [
    {
     "data": {
      "text/plain": [
       "'Yes'"
      ]
     },
     "execution_count": 118,
     "metadata": {},
     "output_type": "execute_result"
    }
   ],
   "source": [
    "def normalize(s):\n",
    "    if s.lower() == 'yes':\n",
    "        return 'Yes'\n",
    "    else:\n",
    "        return 'No'\n",
    "    \n",
    "normalize('YeS')"
   ]
  },
  {
   "cell_type": "markdown",
   "metadata": {},
   "source": [
    "## Question\n",
    "Please write a program which accepts a string from console and print the characters that have even indexes. Remember slicing supports increments!\n",
    "\n",
    "Input: 'H1e2l3l4o5w6o7r8l9d' -> Output: 'Helloworld'"
   ]
  },
  {
   "cell_type": "code",
   "execution_count": 119,
   "metadata": {
    "jupyter": {
     "source_hidden": true
    }
   },
   "outputs": [
    {
     "name": "stdout",
     "output_type": "stream",
     "text": [
      "Helloworld\n"
     ]
    }
   ],
   "source": [
    "s = 'H1e2l3l4o5w6o7r8l9d'\n",
    "print(s[::2])"
   ]
  },
  {
   "cell_type": "markdown",
   "metadata": {},
   "source": [
    "## Question\n",
    "Write a Python program to add 'ing' at the end of a given string. If the given string already ends with 'ing' then add 'ly' instead. If the string length of the given string is less than 3, leave it unchanged.\n",
    "\n",
    "Input: 'abc' -> Output: 'abcing'\n",
    "\n",
    "Input: 'string' -> Output: 'stringly'"
   ]
  },
  {
   "cell_type": "code",
   "execution_count": 120,
   "metadata": {
    "jupyter": {
     "source_hidden": true
    }
   },
   "outputs": [
    {
     "name": "stdout",
     "output_type": "stream",
     "text": [
      "abcing\n",
      "stringly\n",
      "ab\n"
     ]
    }
   ],
   "source": [
    "def concat_ing(s):\n",
    "    if len(s) < 3:\n",
    "        return s\n",
    "    if s[-3:] == 'ing':\n",
    "        return '{}ly'.format(s)\n",
    "    return '{}ing'.format(s)\n",
    "        \n",
    "print(concat_ing('abc'))\n",
    "print(concat_ing('string'))\n",
    "print(concat_ing('ab'))"
   ]
  },
  {
   "cell_type": "markdown",
   "metadata": {},
   "source": [
    "## Question\n",
    "Write a Python function to return a string made of 4 copies of the last two characters of a specified string (length must be at least 2). \n",
    "\n",
    "Input: 'Python' -> Output: 'onononon'\n",
    "\n",
    "Input: 'Exercises' -> Output: 'eseseses'"
   ]
  },
  {
   "cell_type": "code",
   "execution_count": 121,
   "metadata": {
    "jupyter": {
     "source_hidden": true
    }
   },
   "outputs": [
    {
     "data": {
      "text/plain": [
       "'tatatata'"
      ]
     },
     "execution_count": 121,
     "metadata": {},
     "output_type": "execute_result"
    }
   ],
   "source": [
    "def four_copies(s):\n",
    "    return s[-2:] * 4\n",
    "\n",
    "four_copies('agata')"
   ]
  },
  {
   "cell_type": "markdown",
   "metadata": {},
   "source": [
    "## Question\n",
    "Write a program to split a string on the last occurrence of the delimiter. See the *str.rsplit()*"
   ]
  },
  {
   "cell_type": "code",
   "execution_count": 122,
   "metadata": {},
   "outputs": [
    {
     "name": "stdout",
     "output_type": "stream",
     "text": [
      "['1,2,3,4,5,6,7,8,9', '10']\n"
     ]
    }
   ],
   "source": [
    "s = '1,2,3,4,5,6,7,8,9,10'\n",
    "print(s.rsplit(',', 1))"
   ]
  },
  {
   "cell_type": "markdown",
   "metadata": {},
   "source": [
    "# Conditional statements"
   ]
  },
  {
   "cell_type": "markdown",
   "metadata": {},
   "source": [
    "## Question\n",
    "Write a function receiving a number and printing the square of that number if it is below 200. Otherwise, it returns 200."
   ]
  },
  {
   "cell_type": "code",
   "execution_count": 123,
   "metadata": {},
   "outputs": [
    {
     "data": {
      "text/plain": [
       "200"
      ]
     },
     "execution_count": 123,
     "metadata": {},
     "output_type": "execute_result"
    }
   ],
   "source": [
    "def square(n):\n",
    "    if n * n < 200:\n",
    "        return n * n\n",
    "    return 200\n",
    "\n",
    "square(17)"
   ]
  },
  {
   "cell_type": "markdown",
   "metadata": {},
   "source": [
    "## Question\n",
    "Write a Python program to construct the following pattern, using a nested for loop.\n",
    "\n",
    "```\n",
    "* \n",
    "* * \n",
    "* * * \n",
    "* * * * \n",
    "* * * * * \n",
    "* * * * * *\n",
    "* * * * * * *\n",
    "```"
   ]
  },
  {
   "cell_type": "code",
   "execution_count": 124,
   "metadata": {},
   "outputs": [
    {
     "name": "stdout",
     "output_type": "stream",
     "text": [
      "\n",
      "* \n",
      "* * \n",
      "* * * \n",
      "* * * * \n",
      "* * * * * \n",
      "* * * * * * \n",
      "* * * * * * * \n"
     ]
    }
   ],
   "source": [
    "for i in range(8):\n",
    "    for j in range(i):\n",
    "        print('* ', end='')\n",
    "    print()"
   ]
  },
  {
   "cell_type": "markdown",
   "metadata": {},
   "source": [
    "## Question\n",
    "Write a Python program to count the number of even and odd numbers from a series of numbers. "
   ]
  },
  {
   "cell_type": "markdown",
   "metadata": {},
   "source": [
    "## Question\n",
    "Write a Python program to compute the sum of first 100 squared integers using the while construct."
   ]
  },
  {
   "cell_type": "code",
   "execution_count": 125,
   "metadata": {},
   "outputs": [
    {
     "name": "stdout",
     "output_type": "stream",
     "text": [
      "328350\n"
     ]
    }
   ],
   "source": [
    "n = sum = 0\n",
    "while n < 100:\n",
    "    sum = sum + n * n\n",
    "    n = n + 1\n",
    "print(sum)\n",
    "    "
   ]
  },
  {
   "cell_type": "markdown",
   "metadata": {},
   "source": [
    "## Question\n",
    "Write a Python program to compute all the multiples of 17 below 300 using the while construct."
   ]
  },
  {
   "cell_type": "code",
   "execution_count": 126,
   "metadata": {
    "jupyter": {
     "source_hidden": true
    }
   },
   "outputs": [
    {
     "name": "stdout",
     "output_type": "stream",
     "text": [
      "0\n",
      "17\n",
      "34\n",
      "51\n",
      "68\n",
      "85\n",
      "102\n",
      "119\n",
      "136\n",
      "153\n",
      "170\n",
      "187\n",
      "204\n",
      "221\n",
      "238\n",
      "255\n",
      "272\n",
      "289\n"
     ]
    }
   ],
   "source": [
    "n = 0\n",
    "while n < 300:\n",
    "    print(n)\n",
    "    n = n + 17"
   ]
  },
  {
   "cell_type": "markdown",
   "metadata": {},
   "source": [
    "## Question\n",
    "Define a function that can accept two strings as input and print the string with maximum length in console. If two strings have the same length, then the function should print all strings line by line."
   ]
  },
  {
   "cell_type": "code",
   "execution_count": 127,
   "metadata": {},
   "outputs": [
    {
     "data": {
      "text/plain": [
       "('three',)"
      ]
     },
     "execution_count": 127,
     "metadata": {},
     "output_type": "execute_result"
    }
   ],
   "source": [
    "def get_longest(s1, s2):\n",
    "    if len(s1) > len(s2):\n",
    "        return (s1,)\n",
    "    elif len(s2) > len(s1):\n",
    "        return (s2,)\n",
    "    else:\n",
    "        return (s1, s2)\n",
    "        \n",
    "get_longest('one','three')"
   ]
  },
  {
   "cell_type": "markdown",
   "metadata": {},
   "source": [
    "## Question\n",
    "Define a function that can accept an integer number as input and print the \"It is an even number\" if the number is even, otherwise print \"It is an odd number\"."
   ]
  },
  {
   "cell_type": "code",
   "execution_count": 128,
   "metadata": {},
   "outputs": [
    {
     "name": "stdout",
     "output_type": "stream",
     "text": [
      "It is an odd number\n"
     ]
    }
   ],
   "source": [
    "def checkValue(n):\n",
    "    if n % 2 == 0:\n",
    "        print('It is an even number')\n",
    "    else:\n",
    "        print('It is an odd number')\n",
    "        \n",
    "checkValue(7)"
   ]
  },
  {
   "cell_type": "markdown",
   "metadata": {},
   "source": [
    "# Iterative Statements"
   ]
  },
  {
   "cell_type": "markdown",
   "metadata": {},
   "source": [
    "## Question\n",
    "Write a program computing the sum of the first 100 integer numbers."
   ]
  },
  {
   "cell_type": "code",
   "execution_count": 129,
   "metadata": {},
   "outputs": [
    {
     "name": "stdout",
     "output_type": "stream",
     "text": [
      "5050\n"
     ]
    }
   ],
   "source": [
    "sum = 0\n",
    "for i in range(101):\n",
    "    sum = sum + i\n",
    "print(sum)"
   ]
  },
  {
   "cell_type": "markdown",
   "metadata": {},
   "source": [
    "## Question\n",
    "Write a program which can compute the factorial of a given number."
   ]
  },
  {
   "cell_type": "code",
   "execution_count": 130,
   "metadata": {},
   "outputs": [
    {
     "name": "stdout",
     "output_type": "stream",
     "text": [
      "3628800\n"
     ]
    }
   ],
   "source": [
    "def factorial(x):\n",
    "    f = 1\n",
    "    for i in range(2, x + 1):\n",
    "        f *= i\n",
    "    return f\n",
    "\n",
    "print(factorial(10))"
   ]
  },
  {
   "cell_type": "markdown",
   "metadata": {},
   "source": [
    "## Question\n",
    "Write a program to print the numbers divisible by 7 below 200."
   ]
  },
  {
   "cell_type": "code",
   "execution_count": 131,
   "metadata": {},
   "outputs": [
    {
     "name": "stdout",
     "output_type": "stream",
     "text": [
      "0\n",
      "7\n",
      "14\n",
      "21\n",
      "28\n",
      "35\n",
      "42\n",
      "49\n",
      "56\n",
      "63\n",
      "70\n",
      "77\n",
      "84\n",
      "91\n",
      "98\n",
      "105\n",
      "112\n",
      "119\n",
      "126\n",
      "133\n",
      "140\n",
      "147\n",
      "154\n",
      "161\n",
      "168\n",
      "175\n",
      "182\n",
      "189\n",
      "196\n"
     ]
    }
   ],
   "source": [
    "for i in range(200):\n",
    "    if i % 7 == 0:\n",
    "        print(i)\n",
    "       \n",
    "# or\n",
    "# print(list(range(0, 200, 7)))"
   ]
  },
  {
   "cell_type": "markdown",
   "metadata": {},
   "source": [
    "## Question\n",
    "Write a program to show the Pitagoric table."
   ]
  },
  {
   "cell_type": "code",
   "execution_count": 132,
   "metadata": {},
   "outputs": [
    {
     "name": "stdout",
     "output_type": "stream",
     "text": [
      "\t1\t2\t3\t4\t5\t6\t7\t8\t9\t10\n",
      "\t2\t4\t6\t8\t10\t12\t14\t16\t18\t20\n",
      "\t3\t6\t9\t12\t15\t18\t21\t24\t27\t30\n",
      "\t4\t8\t12\t16\t20\t24\t28\t32\t36\t40\n",
      "\t5\t10\t15\t20\t25\t30\t35\t40\t45\t50\n",
      "\t6\t12\t18\t24\t30\t36\t42\t48\t54\t60\n",
      "\t7\t14\t21\t28\t35\t42\t49\t56\t63\t70\n",
      "\t8\t16\t24\t32\t40\t48\t56\t64\t72\t80\n",
      "\t9\t18\t27\t36\t45\t54\t63\t72\t81\t90\n",
      "\t10\t20\t30\t40\t50\t60\t70\t80\t90\t100\n"
     ]
    }
   ],
   "source": [
    "for i in range(1, 11):\n",
    "    for j in range(1, 11):\n",
    "        print('\\t' + str(i * j), end='')\n",
    "    print()"
   ]
  },
  {
   "cell_type": "markdown",
   "metadata": {},
   "source": [
    "## Question\n",
    "Write a Python program to simulate a dice game. There are 2 players, each player throws the dice, wins each game the player with the highest score. Wins the first one which reaches 1000 wins."
   ]
  },
  {
   "cell_type": "code",
   "execution_count": 133,
   "metadata": {},
   "outputs": [
    {
     "name": "stdout",
     "output_type": "stream",
     "text": [
      "968 1000\n"
     ]
    }
   ],
   "source": [
    "import random\n",
    "\n",
    "n_wins_p1 = n_wins_p2 = 0\n",
    "while n_wins_p1 < 1000 and n_wins_p2 < 1000:\n",
    "    dice_p1 = random.randint(1, 6)\n",
    "    dice_p2 = random.randint(1, 6)\n",
    "    if dice_p1 > dice_p2:\n",
    "        n_wins_p1 += 1\n",
    "    if dice_p1 < dice_p2:\n",
    "        n_wins_p2 += 1\n",
    "\n",
    "print(n_wins_p1, n_wins_p2)"
   ]
  },
  {
   "cell_type": "markdown",
   "metadata": {},
   "source": [
    "## Question\n",
    "The Fibonacci Sequence (0, 1, 1, 2, 3, 5, 8, ...) is computed based on the following formula:\n",
    "\n",
    "* f(n)=0 if n=0\n",
    "* f(n)=1 if n=1\n",
    "* f(n)=f(n-1)+f(n-2) if n>1\n",
    "\n",
    "Please write a program to compute the Fibonacci series until an arbitrary number."
   ]
  },
  {
   "cell_type": "code",
   "execution_count": 134,
   "metadata": {},
   "outputs": [
    {
     "name": "stdout",
     "output_type": "stream",
     "text": [
      "[0, 1, 1, 2, 3, 5, 8]\n"
     ]
    }
   ],
   "source": [
    "def fibonacci(n):\n",
    "    f = [0, 1]\n",
    "    while True:\n",
    "        i = f[-1] + f[-2]\n",
    "        if i > n: break\n",
    "        f.append(i)\n",
    "    return f\n",
    "\n",
    "print(fibonacci(10))"
   ]
  },
  {
   "cell_type": "markdown",
   "metadata": {},
   "source": [
    "## Question\n",
    "Write a binary search function which searches an item in a sorted list. The function should return the index of element to be searched in the list."
   ]
  },
  {
   "cell_type": "code",
   "execution_count": 135,
   "metadata": {},
   "outputs": [
    {
     "name": "stdout",
     "output_type": "stream",
     "text": [
      "4\n",
      "-1\n"
     ]
    }
   ],
   "source": [
    "import math\n",
    "def bin_search(li, element):\n",
    "    bottom = 0\n",
    "    top = len(li)-1\n",
    "    index = -1\n",
    "    while top>=bottom and index==-1:\n",
    "        mid = int(math.floor((top+bottom)/2.0))\n",
    "        if li[mid]==element:\n",
    "            index = mid\n",
    "        elif li[mid]>element:\n",
    "            top = mid-1\n",
    "        else:\n",
    "            bottom = mid+1\n",
    "\n",
    "    return index\n",
    "\n",
    "l = [2, 5, 7, 9, 11, 17, 222]\n",
    "print(bin_search(l, 11))\n",
    "print(bin_search(l, 12))"
   ]
  },
  {
   "cell_type": "markdown",
   "metadata": {},
   "source": [
    "# List"
   ]
  },
  {
   "cell_type": "markdown",
   "metadata": {},
   "source": [
    "## Question\n",
    "Given the list [1,2,3,4,5,6,7,8,9,10], write a program to print the first half values in one line and the last half values in a single line line. Use [n1:n2] notation to get the slices."
   ]
  },
  {
   "cell_type": "code",
   "execution_count": 136,
   "metadata": {
    "jupyter": {
     "source_hidden": true
    }
   },
   "outputs": [
    {
     "name": "stdout",
     "output_type": "stream",
     "text": [
      "[1, 2, 3, 4, 5] [6, 7, 8, 9, 10]\n"
     ]
    }
   ],
   "source": [
    "t = [1,2,3,4,5,6,7,8,9,10]\n",
    "print(t[:5], t[5:])"
   ]
  },
  {
   "cell_type": "markdown",
   "metadata": {},
   "source": [
    "## Question\n",
    "Write a program that, given a list, produces another list containing all the original values multiplied by 2."
   ]
  },
  {
   "cell_type": "code",
   "execution_count": 137,
   "metadata": {
    "jupyter": {
     "source_hidden": true
    }
   },
   "outputs": [
    {
     "name": "stdout",
     "output_type": "stream",
     "text": [
      "[4, 10, 'aa', 'hellohello', 34.6]\n"
     ]
    }
   ],
   "source": [
    "def duplicate(l):\n",
    "    new = []\n",
    "    for i in l:\n",
    "        new.append(i * 2)\n",
    "    return new\n",
    "\n",
    "l = [2, 5, 'a', 'hello', 17.3]\n",
    "print(duplicate(l))"
   ]
  },
  {
   "cell_type": "markdown",
   "metadata": {},
   "source": [
    "## Question\n",
    "Define a function which can generate a list where the values are square of numbers between 1 and 20 (both included). Use ** operator to get power of a number.\n",
    "Use range() for loops. Use list.append() to add values into a list."
   ]
  },
  {
   "cell_type": "code",
   "execution_count": 138,
   "metadata": {
    "jupyter": {
     "source_hidden": true
    }
   },
   "outputs": [
    {
     "name": "stdout",
     "output_type": "stream",
     "text": [
      "[1, 4, 9, 16, 25, 36, 49, 64, 81, 100, 121, 144, 169, 196, 225, 256, 289, 324, 361, 400]\n"
     ]
    }
   ],
   "source": [
    "def gen_list():\n",
    "    l = []\n",
    "    for i in range(1,21):\n",
    "        l.append(i**2)\n",
    "    return l\n",
    "\n",
    "print(gen_list())"
   ]
  },
  {
   "cell_type": "markdown",
   "metadata": {},
   "source": [
    "## Question\n",
    "Write a program to find all numbers which are divisible by 7 but are not a multiple of 5, between 200 and 300 (both included). The numbers obtained should be printed in a comma-separated sequence on a single line. Consider the use of str.join() for joining the elements of a list."
   ]
  },
  {
   "cell_type": "code",
   "execution_count": 139,
   "metadata": {
    "jupyter": {
     "source_hidden": true
    }
   },
   "outputs": [
    {
     "data": {
      "text/plain": [
       "'203,217,224,231,238,252,259,266,273,287,294'"
      ]
     },
     "execution_count": 139,
     "metadata": {},
     "output_type": "execute_result"
    }
   ],
   "source": [
    "def gen_list():\n",
    "    l = []\n",
    "    for n in range(200, 301):\n",
    "        if n % 7 == 0 and n % 5 != 0:\n",
    "            l.append(str(n))\n",
    "    return ','.join(l)\n",
    "gen_list()"
   ]
  },
  {
   "cell_type": "markdown",
   "metadata": {},
   "source": [
    "## Question\n",
    "Write a program which accepts a sequence of comma-separated numbers and generate a list which contains every number.\n",
    "Suppose the following input is supplied to the program:\n",
    "'34,67,55,33,12,98'\n",
    "Then, the output should be: ['34', '67', '55', '33', '12', '98']"
   ]
  },
  {
   "cell_type": "code",
   "execution_count": 140,
   "metadata": {},
   "outputs": [
    {
     "name": "stdout",
     "output_type": "stream",
     "text": [
      "['34', '67', '55', '33', '12', '98']\n"
     ]
    }
   ],
   "source": [
    "values = '34,67,55,33,12,98'\n",
    "print(values.split(','))"
   ]
  },
  {
   "cell_type": "markdown",
   "metadata": {},
   "source": [
    "## Question\n",
    "Write a program that accepts a comma separated sequence of words as input and prints the words in a comma-separated sequence after sorting them alphabetically. Suppose the following input is supplied to the program: 'without,hello,bag,world'. The output should be: 'bag,hello,without,world'."
   ]
  },
  {
   "cell_type": "code",
   "execution_count": 141,
   "metadata": {
    "jupyter": {
     "source_hidden": true
    }
   },
   "outputs": [
    {
     "data": {
      "text/plain": [
       "'bag,hello,without,world'"
      ]
     },
     "execution_count": 141,
     "metadata": {},
     "output_type": "execute_result"
    }
   ],
   "source": [
    "def sort_list(words):\n",
    "    return ','.join(sorted(words.split(',')))\n",
    "\n",
    "sort_list('without,hello,bag,world')"
   ]
  },
  {
   "cell_type": "markdown",
   "metadata": {},
   "source": [
    "## Question\n",
    "Write a function to return, given a list of words, all the words that are longer than min_lenght."
   ]
  },
  {
   "cell_type": "code",
   "execution_count": 142,
   "metadata": {},
   "outputs": [
    {
     "name": "stdout",
     "output_type": "stream",
     "text": [
      "['hello', 'moon']\n"
     ]
    }
   ],
   "source": [
    "def longer_than(words, min_lenght):\n",
    "    new = []\n",
    "    for word in words:\n",
    "        if len(word) > min_lenght:\n",
    "            new.append(word)\n",
    "    return new\n",
    "\n",
    "print(longer_than(['hello', 'abc', 'sun', 'moon'], 3))"
   ]
  },
  {
   "cell_type": "markdown",
   "metadata": {},
   "source": [
    "## Question\n",
    "Write a function to remove duplicates from a list without using sets."
   ]
  },
  {
   "cell_type": "code",
   "execution_count": 143,
   "metadata": {},
   "outputs": [
    {
     "data": {
      "text/plain": [
       "[1, 2, 3, 4, 5]"
      ]
     },
     "execution_count": 143,
     "metadata": {},
     "output_type": "execute_result"
    }
   ],
   "source": [
    "def remove_duplicates(l):\n",
    "    unique = []\n",
    "    for i in l:\n",
    "        if i not in unique:\n",
    "            unique.append(i)\n",
    "    return unique\n",
    "        \n",
    "l = [1, 2, 3, 2, 1, 3, 4, 4, 5]\n",
    "remove_duplicates(l)"
   ]
  },
  {
   "cell_type": "markdown",
   "metadata": {},
   "source": [
    "## Question\n",
    "Write a function that takes two lists and returns True if they have at least one common member."
   ]
  },
  {
   "cell_type": "code",
   "execution_count": 144,
   "metadata": {},
   "outputs": [
    {
     "name": "stdout",
     "output_type": "stream",
     "text": [
      "True\n"
     ]
    }
   ],
   "source": [
    "def contain_duplicates(l1, l2):\n",
    "    for i in l1:\n",
    "        if i in l2:\n",
    "            return True\n",
    "    return False\n",
    "\n",
    "print(contain_duplicates([1, 2, 4], [4, 5, 6]))"
   ]
  },
  {
   "cell_type": "markdown",
   "metadata": {},
   "source": [
    "## Question\n",
    "Write a function to iterate over two lists simultaneously. Given two lists, the function checks if they have the same length and returns a list containing the product of corresponding elements."
   ]
  },
  {
   "cell_type": "code",
   "execution_count": 145,
   "metadata": {},
   "outputs": [
    {
     "name": "stdout",
     "output_type": "stream",
     "text": [
      "[4, 10, 18]\n"
     ]
    }
   ],
   "source": [
    "def multiply_list(l1, l2):\n",
    "    if len(l1) != len(l2):\n",
    "        return None\n",
    "    new = []\n",
    "    for i in range(0, len(l1)):\n",
    "        new.append(l1[i] * l2[i])\n",
    "    return new\n",
    "\n",
    "print(multiply_list([1,2,3], [4,5,6]))"
   ]
  },
  {
   "cell_type": "markdown",
   "metadata": {},
   "source": [
    "## Question\n",
    "Write a program for sorting a list of integers in both ascending and descending order."
   ]
  },
  {
   "cell_type": "code",
   "execution_count": 146,
   "metadata": {},
   "outputs": [
    {
     "name": "stdout",
     "output_type": "stream",
     "text": [
      "[1, 12, 22, 44, 55, 78]\n",
      "[78, 55, 44, 22, 12, 1]\n"
     ]
    }
   ],
   "source": [
    "l = [22, 44, 55, 78, 1, 12]\n",
    "l.sort()\n",
    "print(l)\n",
    "\n",
    "l.sort(reverse=True)\n",
    "print(l)"
   ]
  },
  {
   "cell_type": "code",
   "execution_count": 147,
   "metadata": {},
   "outputs": [
    {
     "name": "stdout",
     "output_type": "stream",
     "text": [
      "[1, 12, 22, 44, 55, 78]\n",
      "[78, 55, 44, 22, 12, 1]\n",
      "[22, 44, 55, 78, 1, 12]\n"
     ]
    }
   ],
   "source": [
    "# use sorted() for sorting a copy without modifying the original list\n",
    "l = [22, 44, 55, 78, 1, 12]\n",
    "print(sorted(l))\n",
    "print(sorted(l, reverse=True))\n",
    "print(l)"
   ]
  },
  {
   "cell_type": "markdown",
   "metadata": {},
   "source": [
    "## Question\n",
    "Please write a program to shuffle and print the list [3,6,7,8]. Use the *shuffle()* method."
   ]
  },
  {
   "cell_type": "code",
   "execution_count": 148,
   "metadata": {},
   "outputs": [
    {
     "name": "stdout",
     "output_type": "stream",
     "text": [
      "[6, 3, 7, 8]\n"
     ]
    }
   ],
   "source": [
    "import random\n",
    "l = [3,6,7,8]\n",
    "random.shuffle(l)\n",
    "print(l)"
   ]
  },
  {
   "cell_type": "markdown",
   "metadata": {},
   "source": [
    "## Question\n",
    "Please write a program which prints all permutations of [1,2,3]. Use itertools.permutations() to get permutations of list."
   ]
  },
  {
   "cell_type": "code",
   "execution_count": 149,
   "metadata": {
    "jupyter": {
     "source_hidden": true
    }
   },
   "outputs": [
    {
     "name": "stdout",
     "output_type": "stream",
     "text": [
      "[(1, 2, 3), (1, 3, 2), (2, 1, 3), (2, 3, 1), (3, 1, 2), (3, 2, 1)]\n"
     ]
    }
   ],
   "source": [
    "import itertools\n",
    "print(list(itertools.permutations([1,2,3])))"
   ]
  },
  {
   "cell_type": "markdown",
   "metadata": {},
   "source": [
    "## Question\n",
    "Write a program to generate a list with 5 random numbers between 100 and 200 inclusive. Use *random.sample()*.\n",
    "\n",
    "Solution:"
   ]
  },
  {
   "cell_type": "code",
   "execution_count": 150,
   "metadata": {},
   "outputs": [
    {
     "name": "stdout",
     "output_type": "stream",
     "text": [
      "[153, 199, 135, 144, 123]\n"
     ]
    }
   ],
   "source": [
    "import random\n",
    "print(random.sample(range(100, 201), 5))"
   ]
  },
  {
   "cell_type": "markdown",
   "metadata": {},
   "source": [
    "# Tuple"
   ]
  },
  {
   "cell_type": "markdown",
   "metadata": {},
   "source": [
    "## Question\n",
    "Write a program to get the 4th element and 4th element from the end of a given tuple (length must be at least 6)."
   ]
  },
  {
   "cell_type": "code",
   "execution_count": 151,
   "metadata": {},
   "outputs": [
    {
     "name": "stdout",
     "output_type": "stream",
     "text": [
      "4 5\n"
     ]
    }
   ],
   "source": [
    "t = (1, 2, 3, 4, 5, 6, 7, 8)\n",
    "if len(t) > 6:\n",
    "    print(t[3], t[-4])"
   ]
  },
  {
   "cell_type": "markdown",
   "metadata": {},
   "source": [
    "## Question\n",
    "Write a program to check whether an element exists within a tuple."
   ]
  },
  {
   "cell_type": "code",
   "execution_count": 152,
   "metadata": {},
   "outputs": [
    {
     "name": "stdout",
     "output_type": "stream",
     "text": [
      "Present!\n"
     ]
    }
   ],
   "source": [
    "t = (1, 2, 3, 4, 5, 6, 7, 8)\n",
    "if 3 in t:\n",
    "    print('Present!')\n",
    "else:\n",
    "    print('Not present!')"
   ]
  },
  {
   "cell_type": "markdown",
   "metadata": {},
   "source": [
    "## Question\n",
    "Write a program to convert a list to a tuple."
   ]
  },
  {
   "cell_type": "code",
   "execution_count": 153,
   "metadata": {},
   "outputs": [
    {
     "name": "stdout",
     "output_type": "stream",
     "text": [
      "[1, 2, 3]\n",
      "(1, 2, 3)\n"
     ]
    }
   ],
   "source": [
    "l = [1,2,3]\n",
    "t = tuple(l)\n",
    "print(l)\n",
    "print(t)"
   ]
  },
  {
   "cell_type": "markdown",
   "metadata": {},
   "source": [
    "## Question\n",
    "Write a function to remove an item with index n from a tuple."
   ]
  },
  {
   "cell_type": "code",
   "execution_count": 154,
   "metadata": {},
   "outputs": [
    {
     "name": "stdout",
     "output_type": "stream",
     "text": [
      "(1, 2, 4, 5, 6, 7, 8)\n"
     ]
    }
   ],
   "source": [
    "#def remove_item(t, index):\n",
    "#    l = list(t)\n",
    "#    l.pop(index)\n",
    "#    return tuple(l)\n",
    " \n",
    "# or\n",
    "def remove_item(t, index):\n",
    "    return t[:index] + t[index + 1:]\n",
    "    \n",
    "t = (1, 2, 3, 4, 5, 6, 7, 8)\n",
    "print(remove_item(t, 2))"
   ]
  },
  {
   "cell_type": "markdown",
   "metadata": {},
   "source": [
    "## Question\n",
    "Write a function to double the last value of each tuple in a list.\n",
    "\n",
    "Input: [(10, 20, 40), (40, 50, 60), (70, 80, 90)] -> Output: [(10, 20, 80), (40, 50, 120), (70, 80, 180)]"
   ]
  },
  {
   "cell_type": "code",
   "execution_count": 155,
   "metadata": {},
   "outputs": [
    {
     "name": "stdout",
     "output_type": "stream",
     "text": [
      "[(10, 20, 80), (40, 50, 120), (70, 80, 180)]\n"
     ]
    }
   ],
   "source": [
    "def double_last(l):\n",
    "    new = []\n",
    "    for t in l:\n",
    "        new.append((t[0], t[1], t[2] * 2))\n",
    "    return new\n",
    "        \n",
    "l = [(10, 20, 40), (40, 50, 60), (70, 80, 90)]\n",
    "print(double_last(l))"
   ]
  },
  {
   "cell_type": "markdown",
   "metadata": {},
   "source": [
    "## Question\n",
    "Please write a program to generate all sentences where subject is in [\"I\", \"You\"] and verb is in [\"Play\", \"Love\"] and the object is in [\"Hockey\",\"Football\"]."
   ]
  },
  {
   "cell_type": "code",
   "execution_count": 156,
   "metadata": {},
   "outputs": [
    {
     "name": "stdout",
     "output_type": "stream",
     "text": [
      "I Play Hockey\n",
      "I Play Football\n",
      "I Love Hockey\n",
      "I Love Football\n",
      "You Play Hockey\n",
      "You Play Football\n",
      "You Love Hockey\n",
      "You Love Football\n"
     ]
    }
   ],
   "source": [
    "subjects = ['I', 'You']\n",
    "verbs = ['Play', 'Love']\n",
    "objects = ['Hockey', 'Football']\n",
    "for i in range(len(subjects)):\n",
    "    for j in range(len(verbs)):\n",
    "        for k in range(len(objects)):\n",
    "            sentence = '{} {} {}'.format(subjects[i], verbs[j], objects[k])\n",
    "            print(sentence)"
   ]
  },
  {
   "cell_type": "markdown",
   "metadata": {},
   "source": [
    "## Question\n",
    "Write a program for sorting a list of tuples (each tuple has 3 elements) according with the 2nd element of each tuple."
   ]
  },
  {
   "cell_type": "code",
   "execution_count": 157,
   "metadata": {},
   "outputs": [
    {
     "name": "stdout",
     "output_type": "stream",
     "text": [
      "[(17, 1, 44), (99, 33, 33), (4, 55, 6)]\n"
     ]
    }
   ],
   "source": [
    "l = [(17, 1, 44), (4, 55, 6), (99, 33, 33)]\n",
    "print(sorted(l, key=lambda t: t[1]))"
   ]
  },
  {
   "cell_type": "markdown",
   "metadata": {},
   "source": [
    "## Question\n",
    "Write a program for sorting a list of tuples (each tuple has 2 elements) according with the product of the two elements of each tuple."
   ]
  },
  {
   "cell_type": "code",
   "execution_count": 158,
   "metadata": {},
   "outputs": [
    {
     "name": "stdout",
     "output_type": "stream",
     "text": [
      "[(4, 11), (9, 9), (5, 22), (17, 8), (4, 55), (23, 11)]\n"
     ]
    }
   ],
   "source": [
    "l = [(17, 8), (4, 55), (5, 22), (4, 11), (9, 9), (23, 11)]\n",
    "print(sorted(l, key=lambda t: t[0] * t[1]))"
   ]
  },
  {
   "cell_type": "markdown",
   "metadata": {},
   "source": [
    "## Question\n",
    "Write a program for sorting a list of strings according with the 3rd letter of each string (descending order)."
   ]
  },
  {
   "cell_type": "code",
   "execution_count": 159,
   "metadata": {},
   "outputs": [
    {
     "name": "stdout",
     "output_type": "stream",
     "text": [
      "['susanna', 'carla', 'giovanni', 'pino', 'nicola']\n"
     ]
    }
   ],
   "source": [
    "l = ['nicola', 'susanna', 'giovanni', 'pino', 'carla']\n",
    "print(sorted(l, key=lambda s: s[2], reverse=True))"
   ]
  },
  {
   "cell_type": "markdown",
   "metadata": {},
   "source": [
    "## Question\n",
    "\n",
    "Sort the (name, age, height) tuples by ascending order where name is string, age and height are numbers. Sort by name, age and score in this order.\n",
    "\n",
    "If the following tuples are given as input: [('Tom', 19, 80), ('John', 20, 90), ('Jony', 17, 91), ('Jony', 17, 93), ('Json', 21, 85)], the output of the program should be: [('John', '20', '90'), ('Jony', '17', '91'), ('Jony', '17', '93'), ('Json', '21', '85'), ('Tom', '19', '80')]"
   ]
  },
  {
   "cell_type": "code",
   "execution_count": 160,
   "metadata": {},
   "outputs": [
    {
     "data": {
      "text/plain": [
       "[('John', 20, 90),\n",
       " ('Jony', 17, 91),\n",
       " ('Jony', 17, 93),\n",
       " ('Json', 21, 85),\n",
       " ('Tom', 19, 80)]"
      ]
     },
     "execution_count": 160,
     "metadata": {},
     "output_type": "execute_result"
    }
   ],
   "source": [
    "from operator import itemgetter\n",
    "l = [('Tom',19,80),('John',20,90),('Jony',17,91),('Jony',17,93),('Json',21,85)]\n",
    "sorted(l, key=itemgetter(0,1,2))"
   ]
  },
  {
   "cell_type": "markdown",
   "metadata": {},
   "source": [
    "# Set"
   ]
  },
  {
   "cell_type": "markdown",
   "metadata": {},
   "source": [
    "## Question\n",
    "With two given lists [1,3,6,78,35,55] and [12,24,35,24,88,120,155], write a program to make a list whose elements are intersection of the above given lists."
   ]
  },
  {
   "cell_type": "code",
   "execution_count": 161,
   "metadata": {},
   "outputs": [
    {
     "data": {
      "text/plain": [
       "[35]"
      ]
     },
     "execution_count": 161,
     "metadata": {},
     "output_type": "execute_result"
    }
   ],
   "source": [
    "l1 = [1,3,6,78,35,55]\n",
    "l2 = [12,24,35,24,88,120,155]\n",
    "list(set(l1).intersection(set(l2)))"
   ]
  },
  {
   "cell_type": "markdown",
   "metadata": {},
   "source": [
    "## Question\n",
    "With a given list [12,24,35,24,88,120,155,88,120,155], write a program to print this list after removing all duplicate values with original order reversed."
   ]
  },
  {
   "cell_type": "code",
   "execution_count": 162,
   "metadata": {},
   "outputs": [
    {
     "data": {
      "text/plain": [
       "[35, 12, 155, 24, 88, 120]"
      ]
     },
     "execution_count": 162,
     "metadata": {},
     "output_type": "execute_result"
    }
   ],
   "source": [
    "l = [12, 24, 35, 24, 88, 120, 155, 88, 120, 155]\n",
    "list(set(l))"
   ]
  },
  {
   "cell_type": "code",
   "execution_count": 163,
   "metadata": {
    "jupyter": {
     "source_hidden": true
    }
   },
   "outputs": [
    {
     "name": "stdout",
     "output_type": "stream",
     "text": [
      "[155, 120, 88, 35, 24, 12]\n"
     ]
    }
   ],
   "source": [
    "def remove_duplicate(l):\n",
    "    new = []\n",
    "    seen = set()\n",
    "    for item in l:\n",
    "        if item not in seen:\n",
    "            seen.add(item)\n",
    "            new.append(item)\n",
    "    return sorted(new, reverse=True)\n",
    "\n",
    "l = [12,24,35,24,88,120,155,88,120,155]\n",
    "print(remove_duplicate(l))"
   ]
  },
  {
   "cell_type": "markdown",
   "metadata": {},
   "source": [
    "# Dictionary"
   ]
  },
  {
   "cell_type": "markdown",
   "metadata": {},
   "source": [
    "## Question\n",
    "Write a function which can generate an example dictionary containing 5 key, value couples. Specifically, the keys represent phone numbers, and the values represent names."
   ]
  },
  {
   "cell_type": "code",
   "execution_count": 164,
   "metadata": {},
   "outputs": [
    {
     "name": "stdout",
     "output_type": "stream",
     "text": [
      "{'3472345678': 'Filippo Bolognesi', '3475654564': 'Chiara Lazzari', '3478796656': 'Luca Boldrini', '3477738394': 'Andrea Pluglisi', '3471232123': 'Roberta Pasolini'}\n"
     ]
    }
   ],
   "source": [
    "def get_dict():\n",
    "    d = {}\n",
    "    d['3472345678'] = 'Filippo Bolognesi'\n",
    "    d['3475654564'] = 'Chiara Lazzari'\n",
    "    d['3478796656'] = 'Luca Boldrini'\n",
    "    d['3477738394'] = 'Andrea Pluglisi'\n",
    "    d['3471232123'] = 'Roberta Pasolini'\n",
    "    return d\n",
    "\n",
    "print(get_dict())"
   ]
  },
  {
   "cell_type": "markdown",
   "metadata": {},
   "source": [
    "## Question\n",
    "Write a function which can generate an example dictionary representing a person. Keys must be: name, surname, address, age."
   ]
  },
  {
   "cell_type": "code",
   "execution_count": 165,
   "metadata": {},
   "outputs": [
    {
     "name": "stdout",
     "output_type": "stream",
     "text": [
      "{'name': 'Filippo', 'surname': 'Bolognese', 'address': 'Via Larga 33', 'age': '25'}\n"
     ]
    }
   ],
   "source": [
    "def get_dict():\n",
    "    d = {}\n",
    "    d['name'] = 'Filippo'\n",
    "    d['surname'] = 'Bolognese'\n",
    "    d['address'] = 'Via Larga 33'\n",
    "    d['age'] = '25'\n",
    "    return d\n",
    "\n",
    "print(get_dict())"
   ]
  },
  {
   "cell_type": "markdown",
   "metadata": {},
   "source": [
    "## Question\n",
    "Write a function which can generate a dictionary where the keys are numbers between 1 and 20 (both included) and the values are square of keys. The function should return the dictionary itself."
   ]
  },
  {
   "cell_type": "code",
   "execution_count": 166,
   "metadata": {},
   "outputs": [
    {
     "name": "stdout",
     "output_type": "stream",
     "text": [
      "{1: 1, 2: 4, 3: 9, 4: 16, 5: 25, 6: 36, 7: 49, 8: 64, 9: 81, 10: 100, 11: 121, 12: 144, 13: 169, 14: 196, 15: 225, 16: 256, 17: 289, 18: 324, 19: 361, 20: 400}\n"
     ]
    }
   ],
   "source": [
    "def get_dict():\n",
    "    d = {}\n",
    "    for i in range(1, 21):\n",
    "        d[i] = i**2\n",
    "    return d\n",
    "\n",
    "print(get_dict())"
   ]
  },
  {
   "cell_type": "markdown",
   "metadata": {},
   "source": [
    "## Question\n",
    "Write a function which can generate a dictionary where the keys are numbers between 1 and 20 (both included) and the values are square of keys. The function should return the dictionary itself. Then, calculate the average of both keys and values."
   ]
  },
  {
   "cell_type": "code",
   "execution_count": 167,
   "metadata": {},
   "outputs": [
    {
     "ename": "TypeError",
     "evalue": "'int' object is not callable",
     "output_type": "error",
     "traceback": [
      "\u001b[0;31m---------------------------------------------------------------------------\u001b[0m",
      "\u001b[0;31mTypeError\u001b[0m                                 Traceback (most recent call last)",
      "\u001b[0;32m<ipython-input-167-9e358b8769b4>\u001b[0m in \u001b[0;36m<module>\u001b[0;34m\u001b[0m\n\u001b[1;32m      6\u001b[0m \u001b[0;34m\u001b[0m\u001b[0m\n\u001b[1;32m      7\u001b[0m \u001b[0md\u001b[0m \u001b[0;34m=\u001b[0m \u001b[0mget_dict\u001b[0m\u001b[0;34m(\u001b[0m\u001b[0;34m)\u001b[0m\u001b[0;34m\u001b[0m\u001b[0;34m\u001b[0m\u001b[0m\n\u001b[0;32m----> 8\u001b[0;31m \u001b[0mprint\u001b[0m\u001b[0;34m(\u001b[0m\u001b[0msum\u001b[0m\u001b[0;34m(\u001b[0m\u001b[0md\u001b[0m\u001b[0;34m.\u001b[0m\u001b[0mkeys\u001b[0m\u001b[0;34m(\u001b[0m\u001b[0;34m)\u001b[0m\u001b[0;34m)\u001b[0m \u001b[0;34m/\u001b[0m \u001b[0mlen\u001b[0m\u001b[0;34m(\u001b[0m\u001b[0md\u001b[0m\u001b[0;34m)\u001b[0m\u001b[0;34m)\u001b[0m\u001b[0;34m\u001b[0m\u001b[0;34m\u001b[0m\u001b[0m\n\u001b[0m\u001b[1;32m      9\u001b[0m \u001b[0mprint\u001b[0m\u001b[0;34m(\u001b[0m\u001b[0msum\u001b[0m\u001b[0;34m(\u001b[0m\u001b[0md\u001b[0m\u001b[0;34m.\u001b[0m\u001b[0mvalues\u001b[0m\u001b[0;34m(\u001b[0m\u001b[0;34m)\u001b[0m\u001b[0;34m)\u001b[0m \u001b[0;34m/\u001b[0m \u001b[0mlen\u001b[0m\u001b[0;34m(\u001b[0m\u001b[0md\u001b[0m\u001b[0;34m)\u001b[0m\u001b[0;34m)\u001b[0m\u001b[0;34m\u001b[0m\u001b[0;34m\u001b[0m\u001b[0m\n",
      "\u001b[0;31mTypeError\u001b[0m: 'int' object is not callable"
     ]
    }
   ],
   "source": [
    "def get_dict():\n",
    "    d = {}\n",
    "    for i in range(1, 21):\n",
    "        d[i] = i**2\n",
    "    return d\n",
    "\n",
    "d = get_dict()\n",
    "print(sum(d.keys()) / len(d))\n",
    "print(sum(d.values()) / len(d))"
   ]
  },
  {
   "cell_type": "markdown",
   "metadata": {},
   "source": [
    "## Question\n",
    "Write a Python program to map two lists into a dictionary. keys = ['red', 'green', 'blue']\n",
    "values = ['#FF0000','#008000', '#0000FF']"
   ]
  },
  {
   "cell_type": "code",
   "execution_count": null,
   "metadata": {},
   "outputs": [],
   "source": [
    "keys = ['red', 'green', 'blue']\n",
    "values = ['#FF0000','#008000', '#0000FF']\n",
    "\n",
    "d = {}\n",
    "for i in range(len(keys)):\n",
    "    d[keys[i]] = values[i]\n",
    "\n",
    "print(d)"
   ]
  },
  {
   "cell_type": "markdown",
   "metadata": {},
   "source": [
    "## Question\n",
    "Write a program which count and print the numbers of each character in a string. If the following string is given as input to the program: 'Hello World!'. Then, the output of the program should be:\n",
    "\n",
    "{'H': 1, 'e': 1, 'l': 3, 'o': 2, ' ': 1, 'W': 1, 'r': 1, 'd': 1, '!': 1}"
   ]
  },
  {
   "cell_type": "code",
   "execution_count": null,
   "metadata": {},
   "outputs": [],
   "source": [
    "s = 'Hello World!'\n",
    "\n",
    "d = {}\n",
    "for c in s:\n",
    "    if c in d:\n",
    "        d[c] += 1\n",
    "    else:\n",
    "        d[c] = 1\n",
    "print(d)"
   ]
  },
  {
   "cell_type": "markdown",
   "metadata": {},
   "source": [
    "## Question\n",
    "Write a program that accepts a string and calculate the number of letters and digits.\n",
    "Suppose the following input is supplied to the program: 'hello world! 123'\n",
    "\n",
    "Then, the output should be: {'digits': 3, 'letters': 10}"
   ]
  },
  {
   "cell_type": "code",
   "execution_count": 174,
   "metadata": {},
   "outputs": [
    {
     "name": "stdout",
     "output_type": "stream",
     "text": [
      "{'digits': 3, 'letters': 10}\n"
     ]
    }
   ],
   "source": [
    "s = 'hello world! 123'\n",
    "d = {'digits' : 0, 'letters' : 0}\n",
    "\n",
    "for c in s:\n",
    "    if c.isalpha():\n",
    "        d['letters'] += 1\n",
    "    if c.isnumeric():\n",
    "        d['digits'] += 1\n",
    "\n",
    "print(d)"
   ]
  },
  {
   "cell_type": "markdown",
   "metadata": {},
   "source": [
    "# Comprehension"
   ]
  },
  {
   "cell_type": "markdown",
   "metadata": {},
   "source": [
    "## Question\n",
    "Use a list comprehension to filter odd numbers in a list. Suppose the following input is supplied to the program: [1,2,3,4,5,6,7,8,9]. Then, the output should be: [1,3,5,7,9]."
   ]
  },
  {
   "cell_type": "code",
   "execution_count": null,
   "metadata": {},
   "outputs": [],
   "source": [
    "l = [i for i in range(1, 10) if i % 2 != 0]\n",
    "print(l)"
   ]
  },
  {
   "cell_type": "markdown",
   "metadata": {},
   "source": [
    "## Question\n",
    "Write a program to generate a list whose values are the first 50 even numbers. Then, transform the list into a tuple using *tuple()*."
   ]
  },
  {
   "cell_type": "code",
   "execution_count": null,
   "metadata": {},
   "outputs": [],
   "source": [
    "l = [i for i in range(100) if i % 2 == 0]\n",
    "print(tuple(l))"
   ]
  },
  {
   "cell_type": "markdown",
   "metadata": {},
   "source": [
    "## Question\n",
    "Write a program to get a list of strings a create a list of integers. Each integer represent the length of each initial string."
   ]
  },
  {
   "cell_type": "code",
   "execution_count": null,
   "metadata": {},
   "outputs": [],
   "source": [
    "words = ['nicola', 'fabio', 'luca', 'lucia', 'gianni']\n",
    "l = [ len(word) for word in words ]\n",
    "print(l)\n",
    "\n",
    "import random\n",
    "print(random.choice(l))"
   ]
  },
  {
   "cell_type": "markdown",
   "metadata": {},
   "source": [
    "## Question\n",
    "Please write a program to output a random number, which is divisible by 5 and 7, between 0 and 200 inclusive using random module and list comprehension. Use random.choice() to a random element from a list."
   ]
  },
  {
   "cell_type": "code",
   "execution_count": null,
   "metadata": {},
   "outputs": [],
   "source": [
    "import random\n",
    "l = [i for i in range(201) if i % 5 == 0 and i % 7 == 0]\n",
    "print(random.choice(l))\n",
    "\n",
    "# eventually...\n",
    "# print(random.randint(1, 5) * 35)"
   ]
  },
  {
   "cell_type": "markdown",
   "metadata": {},
   "source": [
    "## Question\n",
    "By using list comprehension, please write a program to print a given list after removing numbers which are divisible by 5 and 7 in [12,24,35,70,88,120,155]."
   ]
  },
  {
   "cell_type": "code",
   "execution_count": null,
   "metadata": {
    "jupyter": {
     "source_hidden": true
    }
   },
   "outputs": [],
   "source": [
    "l = [12, 24, 35, 70, 88, 120, 155]\n",
    "l = [x for x in l if x % 5 != 0 and x % 7 != 0]\n",
    "print(l)"
   ]
  },
  {
   "cell_type": "markdown",
   "metadata": {},
   "source": [
    "## Question\n",
    "Write a program that accepts a sequence of white space separated words as input and prints the words after removing all duplicate words and sorting them alphanumerically.\n",
    "\n",
    "Suppose the following input is supplied to the program:\n",
    "'hello world and practice makes perfect and hello world again'\n",
    "\n",
    "Then, the output should be:\n",
    "'again and hello makes perfect practice world'"
   ]
  },
  {
   "cell_type": "code",
   "execution_count": 168,
   "metadata": {},
   "outputs": [
    {
     "name": "stdout",
     "output_type": "stream",
     "text": [
      "again and hello makes perfect practice world\n"
     ]
    }
   ],
   "source": [
    "s = 'hello world and practice makes perfect and hello world again'\n",
    "words = s.split(' ')\n",
    "print(' '.join(sorted(list(set(words)))))"
   ]
  },
  {
   "cell_type": "markdown",
   "metadata": {},
   "source": [
    "## Question\n",
    "Rewrite the following code using list comprehension.\n",
    "\n",
    "```python\n",
    "sentence = \"the quick brown fox jumps over the lazy dog\"\n",
    "words = sentence.split()\n",
    "word_lengths = []\n",
    "for word in words:\n",
    "      if word != \"the\":\n",
    "          word_lengths.append(len(word))\n",
    "print(words)\n",
    "print(word_lengths)\n",
    "```"
   ]
  },
  {
   "cell_type": "code",
   "execution_count": 170,
   "metadata": {},
   "outputs": [
    {
     "name": "stdout",
     "output_type": "stream",
     "text": [
      "[5, 5, 3, 5, 4, 4, 3]\n"
     ]
    }
   ],
   "source": [
    "s = 'the quick brown fox jumps over the lazy dog'\n",
    "l = [ len(word) for word in s.split(' ') if word != 'the' ]\n",
    "print(l)"
   ]
  },
  {
   "cell_type": "markdown",
   "metadata": {},
   "source": [
    "## Question\n",
    "By using list comprehension, please write a program to print the list after removing the 0th, 2nd, 4th, 6th numbers in [12,24,35,70,88,120,155]. Use list comprehension to delete a bunch of element from a list. Use *enumerate()* to get (index, value) tuple."
   ]
  },
  {
   "cell_type": "code",
   "execution_count": null,
   "metadata": {
    "jupyter": {
     "source_hidden": true
    }
   },
   "outputs": [],
   "source": [
    "l = [12,24,35,70,88,120,155]\n",
    "l = [x for (i,x) in enumerate(l) if i%2 != 0]\n",
    "print(l)"
   ]
  },
  {
   "cell_type": "markdown",
   "metadata": {},
   "source": [
    "# Exceptions"
   ]
  },
  {
   "cell_type": "markdown",
   "metadata": {},
   "source": [
    "## Question\n",
    "Please raise a RuntimeError exception. Use raise() to raise an exception."
   ]
  },
  {
   "cell_type": "code",
   "execution_count": null,
   "metadata": {
    "jupyter": {
     "source_hidden": true
    }
   },
   "outputs": [],
   "source": [
    "# raise RuntimeError('something wrong')"
   ]
  },
  {
   "cell_type": "markdown",
   "metadata": {},
   "source": [
    "## Question\n",
    "Define a custom exception class which takes a string message as attribute. To define a custom exception, we need to define a class inherited from Exception."
   ]
  },
  {
   "cell_type": "code",
   "execution_count": null,
   "metadata": {
    "jupyter": {
     "source_hidden": true
    }
   },
   "outputs": [],
   "source": [
    "class MyError(Exception):\n",
    "    \"\"\"\n",
    "    My own exception class\n",
    "\n",
    "    Attributes:\n",
    "    msg explanation of the error\n",
    "    \"\"\"\n",
    "    \n",
    "    def __init__(self, msg):\n",
    "        self.msg = msg\n",
    "\n",
    "e = MyError('something wrong')\n",
    "print(e)"
   ]
  },
  {
   "cell_type": "markdown",
   "metadata": {},
   "source": [
    "# Classes"
   ]
  },
  {
   "cell_type": "markdown",
   "metadata": {},
   "source": [
    "## Question\n",
    "Define a class named CaseString with the following methods:\n",
    "* the constructor takes an initial string as a parameter\n",
    "* set_upper: sets string mode (False = original case, True = upper case)\n",
    "* set_string: sets the encapsulated string \n",
    "* get_string: returns the string with the proper case"
   ]
  },
  {
   "cell_type": "code",
   "execution_count": null,
   "metadata": {
    "jupyter": {
     "source_hidden": true
    }
   },
   "outputs": [],
   "source": [
    "class CaseString:\n",
    "    def __init__(self, s, upper = False):\n",
    "        self.s = s\n",
    "        self.upper = upper\n",
    "        \n",
    "    def set_string(self, s):\n",
    "        self.s = s\n",
    "        \n",
    "    def get_string(self):\n",
    "        if self.upper:\n",
    "            return self.s.upper()\n",
    "        return self.s\n",
    "    \n",
    "    def set_upper(self, upper):\n",
    "        self.upper = upper\n",
    "\n",
    "cs = CaseString('niCOla', True)\n",
    "print(cs.get_string())"
   ]
  },
  {
   "cell_type": "markdown",
   "metadata": {},
   "source": [
    "## Question\n",
    "Define a class named American which has a static method called get_nationality. Use the @staticmethod decorator."
   ]
  },
  {
   "cell_type": "code",
   "execution_count": null,
   "metadata": {
    "jupyter": {
     "source_hidden": true
    }
   },
   "outputs": [],
   "source": [
    "class American:\n",
    "    @staticmethod\n",
    "    def get_nationality():\n",
    "        print('US')\n",
    "\n",
    "American.get_nationality()"
   ]
  },
  {
   "cell_type": "markdown",
   "metadata": {},
   "source": [
    "## Question\n",
    "Define a class named American and its subclass NewYorker. Use pass for filling the classes body."
   ]
  },
  {
   "cell_type": "code",
   "execution_count": null,
   "metadata": {
    "jupyter": {
     "source_hidden": true
    }
   },
   "outputs": [],
   "source": [
    "class American:\n",
    "    pass\n",
    "\n",
    "class NewYorker(American):\n",
    "    pass\n",
    "\n",
    "a = American()\n",
    "b = NewYorker()\n",
    "print(a)\n",
    "print(b)"
   ]
  },
  {
   "cell_type": "markdown",
   "metadata": {},
   "source": [
    "## Question\n",
    "Define a class named Circle which can be constructed by a radius. The Circle class has two methods for computing perimeter and area, respectively."
   ]
  },
  {
   "cell_type": "code",
   "execution_count": null,
   "metadata": {
    "jupyter": {
     "source_hidden": true
    }
   },
   "outputs": [],
   "source": [
    "import math\n",
    "class Circle():\n",
    "    def __init__(self, r):\n",
    "        self.radius = r\n",
    "\n",
    "    def area(self):\n",
    "        return self.radius**2 * math.pi\n",
    "    \n",
    "    def perimeter(self):\n",
    "        return self.radius * math.pi * 2\n",
    "\n",
    "c = Circle(3)\n",
    "print(c.area())\n",
    "print(c.perimeter())"
   ]
  },
  {
   "cell_type": "markdown",
   "metadata": {},
   "source": [
    "## Question\n",
    "Define a class named Rectangle which can be constructed by length and width. The Rectangle class has two methods for computing perimeter and area, respectively."
   ]
  },
  {
   "cell_type": "code",
   "execution_count": null,
   "metadata": {
    "jupyter": {
     "source_hidden": true
    }
   },
   "outputs": [],
   "source": [
    "class Rectangle():\n",
    "    def __init__(self, l, w):\n",
    "        self.length = l\n",
    "        self.width = w\n",
    "\n",
    "    def area(self):\n",
    "        return self.length * self.width\n",
    "    \n",
    "    def perimeter(self):\n",
    "        return 2 * (self.length +  self.width)\n",
    "\n",
    "r = Rectangle(4, 10)\n",
    "print(r.area())\n",
    "print(r.perimeter())"
   ]
  },
  {
   "cell_type": "markdown",
   "metadata": {},
   "source": [
    "## Question\n",
    "Define a class named Shape and its subclass Square. The Square class has a constructor which takes a length as argument. Both classes have an area function which can print the area of the shape where Shape's area is 0 by default."
   ]
  },
  {
   "cell_type": "code",
   "execution_count": null,
   "metadata": {
    "jupyter": {
     "source_hidden": true
    }
   },
   "outputs": [],
   "source": [
    "class Shape:\n",
    "    def __init__(self):\n",
    "        pass\n",
    "            \n",
    "    def area(self):\n",
    "        return 0\n",
    "\n",
    "class Square(Shape):\n",
    "    def __init__(self, l):\n",
    "        super().__init__()\n",
    "        self.length = l\n",
    "\n",
    "    def area(self):\n",
    "        return self.length**2\n",
    "\n",
    "s = Square(3)\n",
    "print(s.area())"
   ]
  },
  {
   "cell_type": "markdown",
   "metadata": {},
   "source": [
    "## Question\n",
    "Define a class Person and two child classes: Male and Female. All classes have a method getGender which can print 'Male' for Male class and 'Female' for Female class."
   ]
  },
  {
   "cell_type": "code",
   "execution_count": null,
   "metadata": {
    "jupyter": {
     "source_hidden": true
    }
   },
   "outputs": [],
   "source": [
    "class Person():\n",
    "    def getGender(self):\n",
    "        return 'Unknown'\n",
    "\n",
    "class Male(Person):\n",
    "    def getGender(self):\n",
    "        return 'Male'\n",
    "\n",
    "class Female(Person):\n",
    "    def getGender(self):\n",
    "        return 'Female'\n",
    "\n",
    "m = Male()\n",
    "f = Female()\n",
    "print(m.getGender())\n",
    "print(f.getGender())"
   ]
  }
 ],
 "metadata": {
  "kernelspec": {
   "display_name": "Python 3",
   "language": "python",
   "name": "python3"
  },
  "language_info": {
   "codemirror_mode": {
    "name": "ipython",
    "version": 3
   },
   "file_extension": ".py",
   "mimetype": "text/x-python",
   "name": "python",
   "nbconvert_exporter": "python",
   "pygments_lexer": "ipython3",
   "version": "3.6.12"
  },
  "toc-autonumbering": true
 },
 "nbformat": 4,
 "nbformat_minor": 4
}

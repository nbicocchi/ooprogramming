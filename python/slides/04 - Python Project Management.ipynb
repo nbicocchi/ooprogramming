{
 "cells": [
  {
   "cell_type": "markdown",
   "metadata": {},
   "source": [
    "# Virtual environments\n",
    "When working with Python projects, *best practice is to have a separate virtual environment for each of them*. Each virtual environment has its own Python binary. When you install some Python package into your virtual environment, it'll be installed only into that specific environment. This means that you can have different versions of a single Python package in different virtual environments in the same machine. Key benefits:\n",
    "\n",
    "* Isolation\n",
    "* Different projects have different dependency versions\n",
    "* You don't want to mess up the system Python"
   ]
  },
  {
   "cell_type": "markdown",
   "metadata": {},
   "source": [
    "## Creating environments\n",
    "\n",
    "[`pipenv`](https://pipenv.readthedocs.io/en/latest/)\n",
    "* Basically combines `pip` and `virtualenv` under single CLI\n",
    "* [Pipfile](https://pipenv.readthedocs.io/en/latest/basics/#example-pipfile) which replaces the need for requirements.txt and requirements-dev.txt \n",
    "* [Pipfile.lock](https://pipenv.readthedocs.io/en/latest/basics/#example-pipfile-lock) which pins dependencies, this means deterministic builds\n",
    "* Possibility to visualize the [dependency graph](https://pipenv.readthedocs.io/en/latest/#pipenv-graph)\n",
    "* [Compatible with `pyenv`](https://pipenv.readthedocs.io/en/latest/advanced/#automatic-python-installation)\n",
    "\n",
    "[`virtualenvwrapper`](https://virtualenvwrapper.readthedocs.io/en/latest/)\n",
    "* If you are using Windows command prompt: [`virtualenvwrapper-win`](https://pypi.org/project/virtualenvwrapper-win/)\n",
    "* Like the name suggests, a wrapper around [`virtualenv`](https://pypi.org/project/virtualenv/)\n",
    "* Eases the workflow for creating, deleting, and (de)activating your virtual environments\n",
    "\n",
    "[`pyenv`](https://github.com/pyenv/pyenv)\n",
    "* Easily change global / per project Python version \n",
    "* Also a tool for installing different Python versions (also different runtimes available, e.g. [PyPy](https://pypy.org/))\n",
    "* Useful if you'll need to work with different Python versions"
   ]
  },
  {
   "cell_type": "markdown",
   "metadata": {},
   "source": [
    "## Installing packages\n",
    "After activating the newly created virtual environment, you can install new packages by using `pip`. For example if you want to install `pytest`:\n",
    "\n",
    "`python -m pip install pytest`\n",
    "\n",
    "it'll be installed into path_to_virtual_env/lib/<python_version>/site-packages. Note that the path to site-packages maybe slightly different depending on the operating system you are using.\n",
    "\n",
    "You can list the installed packages and their versions by running:\n",
    "\n",
    "`python -m pip freeze`"
   ]
  },
  {
   "cell_type": "markdown",
   "metadata": {},
   "source": [
    "## Environments and Anaconda"
   ]
  },
  {
   "cell_type": "markdown",
   "metadata": {},
   "source": [
    "# Python Standard Library\n",
    "The Python Standard Libary is part of your Python installation. It contains a wide range of packages which may be helpful while building your Python masterpieces."
   ]
  },
  {
   "cell_type": "markdown",
   "metadata": {},
   "source": [
    "## `datetime`"
   ]
  },
  {
   "cell_type": "code",
   "execution_count": 23,
   "metadata": {},
   "outputs": [
    {
     "name": "stdout",
     "output_type": "stream",
     "text": [
      "local now: 2020-12-14 21:53:37.002906\n",
      "utc now: 2020-12-14 20:53:37.003446\n",
      "2020 12 14 21 53 37\n",
      "date: 2020-12-14\n",
      "time: 21:53:37.002906\n"
     ]
    }
   ],
   "source": [
    "import datetime as dt\n",
    "\n",
    "local_now = dt.datetime.now()\n",
    "print('local now: {}'.format(local_now))\n",
    "\n",
    "utc_now = dt.datetime.utcnow()\n",
    "print('utc now: {}'.format(utc_now))\n",
    "\n",
    "# You can access any value separately:\n",
    "print('{} {} {} {} {} {}'.format(local_now.year, local_now.month,\n",
    "                                 local_now.day, local_now.hour,\n",
    "                                 local_now.minute, local_now.second))\n",
    "\n",
    "print('date: {}'.format(local_now.date()))\n",
    "print('time: {}'.format(local_now.time()))"
   ]
  },
  {
   "cell_type": "markdown",
   "metadata": {},
   "source": [
    "### String formatting datetime"
   ]
  },
  {
   "cell_type": "code",
   "execution_count": 24,
   "metadata": {},
   "outputs": [
    {
     "name": "stdout",
     "output_type": "stream",
     "text": [
      "2020/12/14-21:53:37\n",
      "date: 2020-12-14 time:21:53:37\n"
     ]
    }
   ],
   "source": [
    "formatted1 = local_now.strftime('%Y/%m/%d-%H:%M:%S')\n",
    "print(formatted1)\n",
    "\n",
    "formatted2 = local_now.strftime('date: %Y-%m-%d time:%H:%M:%S')\n",
    "print(formatted2)"
   ]
  },
  {
   "cell_type": "code",
   "execution_count": 25,
   "metadata": {},
   "outputs": [
    {
     "name": "stdout",
     "output_type": "stream",
     "text": [
      "my_dt: 2000-01-01 10:00:00\n"
     ]
    }
   ],
   "source": [
    "my_dt = dt.datetime.strptime('2000-01-01 10:00:00', '%Y-%m-%d %H:%M:%S')\n",
    "print('my_dt: {}'.format(my_dt))"
   ]
  },
  {
   "cell_type": "markdown",
   "metadata": {},
   "source": [
    "### Working with time differences"
   ]
  },
  {
   "cell_type": "code",
   "execution_count": 26,
   "metadata": {},
   "outputs": [
    {
     "name": "stdout",
     "output_type": "stream",
     "text": [
      "tomorrow this time: 2020-12-15 21:53:37.002906\n",
      "tomorrow - now = 1 day, 0:00:00\n",
      "days: 1, seconds: 0\n",
      "total seconds: 86400.0\n"
     ]
    }
   ],
   "source": [
    "tomorrow = local_now + dt.timedelta(days=1)\n",
    "print('tomorrow this time: {}'.format(tomorrow))\n",
    "\n",
    "delta = tomorrow - local_now\n",
    "print('tomorrow - now = {}'.format(delta))\n",
    "print('days: {}, seconds: {}'.format(delta.days, delta.seconds))\n",
    "print('total seconds: {}'.format(delta.total_seconds()))"
   ]
  },
  {
   "cell_type": "markdown",
   "metadata": {},
   "source": [
    "### Working with timezones\n",
    "Let's first make sure [`pytz`](http://pytz.sourceforge.net/) is installed."
   ]
  },
  {
   "cell_type": "code",
   "execution_count": 27,
   "metadata": {},
   "outputs": [
    {
     "name": "stdout",
     "output_type": "stream",
     "text": [
      "Requirement already satisfied: pytz in /Users/nicola/anaconda3/lib/python3.6/site-packages (2020.4)\n"
     ]
    }
   ],
   "source": [
    "import sys\n",
    "!{sys.executable} -m pip install pytz"
   ]
  },
  {
   "cell_type": "code",
   "execution_count": 28,
   "metadata": {},
   "outputs": [
    {
     "name": "stdout",
     "output_type": "stream",
     "text": [
      "naive utc now: 2020-12-14 20:53:38.261157, tzinfo: None\n",
      "utc now: 2020-12-14 20:53:38.261157+00:00, tzinfo: UTC\n",
      "Paris: 2020-12-14 21:53:38.261157+01:00, tzinfo: Europe/Paris\n",
      "New York: 2020-12-14 15:53:38.261157-05:00, tzinfo: America/New_York\n"
     ]
    }
   ],
   "source": [
    "import datetime as dt\n",
    "import pytz\n",
    "\n",
    "naive_utc_now = dt.datetime.utcnow()\n",
    "print('naive utc now: {}, tzinfo: {}'.format(naive_utc_now, naive_utc_now.tzinfo))\n",
    "\n",
    "# Localizing naive datetimes\n",
    "UTC_TZ = pytz.timezone('UTC')\n",
    "utc_now = UTC_TZ.localize(naive_utc_now)\n",
    "print('utc now: {}, tzinfo: {}'.format(utc_now, utc_now.tzinfo))\n",
    "\n",
    "# Converting localized datetimes to different timezone\n",
    "PARIS_TZ = pytz.timezone('Europe/Paris')\n",
    "paris_now = PARIS_TZ.normalize(utc_now)\n",
    "print('Paris: {}, tzinfo: {}'.format(paris_now, paris_now.tzinfo))\n",
    "\n",
    "NEW_YORK_TZ = pytz.timezone('America/New_York')\n",
    "ny_now = NEW_YORK_TZ.normalize(utc_now)\n",
    "print('New York: {}, tzinfo: {}'.format(ny_now, ny_now.tzinfo))"
   ]
  },
  {
   "cell_type": "markdown",
   "metadata": {},
   "source": [
    "**NOTE**: If your project uses datetimes heavily, you may want to take a look at external libraries, such as [Pendulum](https://pendulum.eustace.io/docs/) and [Maya](https://github.com/kennethreitz/maya), which make working with datetimes easier for certain use cases."
   ]
  },
  {
   "cell_type": "markdown",
   "metadata": {},
   "source": [
    "## [`logging`](https://docs.python.org/3/library/logging.html#module-logging)"
   ]
  },
  {
   "cell_type": "code",
   "execution_count": 29,
   "metadata": {},
   "outputs": [
    {
     "name": "stderr",
     "output_type": "stream",
     "text": [
      "This is warning\n",
      "This is error\n",
      "This is critical\n"
     ]
    }
   ],
   "source": [
    "import logging\n",
    "\n",
    "# Handy way for getting a dedicated logger for every module separately\n",
    "logger = logging.getLogger(__name__)\n",
    "logger.setLevel(logging.WARNING)\n",
    "\n",
    "logger.debug('This is debug')\n",
    "logger.info('This is info')\n",
    "logger.warning('This is warning')\n",
    "logger.error('This is error')\n",
    "logger.critical('This is critical')"
   ]
  },
  {
   "cell_type": "markdown",
   "metadata": {},
   "source": [
    "### Logging expections\n",
    "There's a neat `exception` function in `logging` module which will automatically log the stack trace in addition to user defined log entry. "
   ]
  },
  {
   "cell_type": "code",
   "execution_count": 30,
   "metadata": {},
   "outputs": [
    {
     "name": "stderr",
     "output_type": "stream",
     "text": [
      "ERROR:root:All went south in my calculation\n",
      "Traceback (most recent call last):\n",
      "  File \"<ipython-input-30-ccd7d25e79b7>\", line 2, in <module>\n",
      "    path_calculation = 1 / 0\n",
      "ZeroDivisionError: division by zero\n"
     ]
    }
   ],
   "source": [
    "try:\n",
    "    path_calculation = 1 / 0\n",
    "except ZeroDivisionError:\n",
    "    logging.exception('All went south in my calculation')"
   ]
  },
  {
   "cell_type": "markdown",
   "metadata": {},
   "source": [
    "### Formatting log entries"
   ]
  },
  {
   "cell_type": "code",
   "execution_count": 31,
   "metadata": {},
   "outputs": [
    {
     "name": "stderr",
     "output_type": "stream",
     "text": [
      "2020-12-14 21:53:38,393 | MyLogger     | WARNING    | Something bad is going to happen\n",
      "2020-12-14 21:53:38,394 | MyLogger     | ERROR      | Uups, it already happened\n"
     ]
    }
   ],
   "source": [
    "import logging\n",
    "\n",
    "# This is only required for Jupyter notebook environment\n",
    "from importlib import reload\n",
    "reload(logging)\n",
    "\n",
    "my_format = '%(asctime)s | %(name)-12s | %(levelname)-10s | %(message)s'\n",
    "logging.basicConfig(format=my_format)\n",
    "\n",
    "logger = logging.getLogger('MyLogger')\n",
    "\n",
    "logger.warning('Something bad is going to happen')\n",
    "logger.error('Uups, it already happened')"
   ]
  },
  {
   "cell_type": "markdown",
   "metadata": {},
   "source": [
    "### Logging to file"
   ]
  },
  {
   "cell_type": "code",
   "execution_count": 32,
   "metadata": {},
   "outputs": [],
   "source": [
    "import os\n",
    "import logging\n",
    "\n",
    "# This is only required for Jupyter notebook environment\n",
    "from importlib import reload\n",
    "reload(logging)\n",
    "\n",
    "logger = logging.getLogger('MyFileLogger')\n",
    "\n",
    "# Let's define a file_handler for our logger\n",
    "log_path = os.path.join(os.getcwd(), 'my_log.txt')\n",
    "file_handler = logging.FileHandler(log_path)\n",
    "\n",
    "# And a nice format\n",
    "formatter = logging.Formatter('%(asctime)s | %(name)-12s | %(levelname)-10s | %(message)s')\n",
    "file_handler.setFormatter(formatter)\n",
    "\n",
    "logger.addHandler(file_handler)\n",
    "\n",
    "# If you want to see it also in the console, add another handler for it\n",
    "# logger.addHandler(logging.StreamHandler())\n",
    "\n",
    "logger.warning('Oops something is going to happen')\n",
    "logger.error('John Doe visits our place')"
   ]
  },
  {
   "cell_type": "markdown",
   "metadata": {},
   "source": [
    "## `re`"
   ]
  },
  {
   "cell_type": "markdown",
   "metadata": {},
   "source": [
    "### Searching occurences"
   ]
  },
  {
   "cell_type": "code",
   "execution_count": 35,
   "metadata": {},
   "outputs": [
    {
     "name": "stdout",
     "output_type": "stream",
     "text": [
      "match: <_sre.SRE_Match object; span=(9, 12), match='g12'>\n",
      "match.group(): g12\n",
      "numbers: ['8', '1', '2', '5', '0', '9']\n"
     ]
    }
   ],
   "source": [
    "import re\n",
    "\n",
    "secret_code = 'qwret 8sfg12f5 fd09f_df'\n",
    "# \"r\" at the beginning means raw format, use it with regular expression patterns\n",
    "search_pattern = r'(g12)' \n",
    "\n",
    "match = re.search(search_pattern, secret_code)\n",
    "print('match: {}'.format(match))\n",
    "print('match.group(): {}'.format(match.group()))\n",
    "\n",
    "numbers_pattern = r'[0-9]'\n",
    "numbers_match = re.findall(numbers_pattern, secret_code)\n",
    "print('numbers: {}'.format(numbers_match))"
   ]
  },
  {
   "cell_type": "markdown",
   "metadata": {},
   "source": [
    "### Variable validation"
   ]
  },
  {
   "cell_type": "code",
   "execution_count": 36,
   "metadata": {},
   "outputs": [
    {
     "name": "stdout",
     "output_type": "stream",
     "text": [
      "True\n",
      "False\n",
      "False\n",
      "False\n",
      "False\n"
     ]
    }
   ],
   "source": [
    "import re\n",
    "\n",
    "def validate_only_lower_case_letters(to_validate):\n",
    "    pattern = r'^[a-z]+$'\n",
    "    return bool(re.match(pattern, to_validate))\n",
    "\n",
    "print(validate_only_lower_case_letters('thisshouldbeok'))\n",
    "print(validate_only_lower_case_letters('thisshould notbeok'))\n",
    "print(validate_only_lower_case_letters('Thisshouldnotbeok'))\n",
    "print(validate_only_lower_case_letters('thisshouldnotbeok1'))\n",
    "print(validate_only_lower_case_letters(''))"
   ]
  },
  {
   "cell_type": "markdown",
   "metadata": {},
   "source": [
    "## `json`"
   ]
  },
  {
   "cell_type": "markdown",
   "metadata": {},
   "source": [
    "### Encoding"
   ]
  },
  {
   "cell_type": "code",
   "execution_count": 37,
   "metadata": {},
   "outputs": [
    {
     "name": "stdout",
     "output_type": "stream",
     "text": [
      "type: <class 'str'> data: {\"b\": true, \"a\": 1, \"nested\": {\"foo\": \"bar\"}, \"c\": null, \"some_list\": [1, 2, 3]}\n"
     ]
    }
   ],
   "source": [
    "import json\n",
    "\n",
    "data = {'b': True, 'a': 1, 'nested': {'foo': 'bar'}, 'c': None, 'some_list': [1, 2, 3]}\n",
    "json_data = json.dumps(data)\n",
    "print('type: {} data: {}'.format(type(json_data), json_data))"
   ]
  },
  {
   "cell_type": "markdown",
   "metadata": {},
   "source": [
    "### Decoding"
   ]
  },
  {
   "cell_type": "code",
   "execution_count": 38,
   "metadata": {},
   "outputs": [
    {
     "name": "stdout",
     "output_type": "stream",
     "text": [
      "type: <class 'dict'> data: {'b': True, 'a': 1, 'nested': {'foo': 'bar'}, 'c': None, 'some_list': [1, 2, 3]}\n"
     ]
    }
   ],
   "source": [
    "decoded = json.loads(json_data)\n",
    "print('type: {} data: {}'.format(type(decoded), decoded))"
   ]
  },
  {
   "cell_type": "markdown",
   "metadata": {},
   "source": [
    "## [`collections`](https://docs.python.org/3/library/collections.html#module-collections)"
   ]
  },
  {
   "cell_type": "markdown",
   "metadata": {},
   "source": [
    "### [`namedtuple`](https://docs.python.org/3/library/collections.html#collections.namedtuple)\n",
    "A great helper for creating more readable and self documenting code.\n",
    "\n",
    "`namedtuple` is a function that returns a tuple whose fields have names and also the tuple itself has a name (just like classes and their instance variables). Potential use cases include storing data which should be immutable. If you can use Python 3.7 or newer, you may want to take a look at [`dataclasses`](https://docs.python.org/3/library/dataclasses.html#module-dataclasses) as well. "
   ]
  },
  {
   "cell_type": "code",
   "execution_count": 39,
   "metadata": {},
   "outputs": [
    {
     "name": "stdout",
     "output_type": "stream",
     "text": [
      "Person(name='John Doe', age=83, is_gangster=True) Person(name='Lis Doe', age=77, is_gangster=False)\n",
      "Is John a gangster: True\n"
     ]
    }
   ],
   "source": [
    "from collections import namedtuple\n",
    "\n",
    "Person = namedtuple('Person', ['name', 'age', 'is_gangster'])\n",
    "\n",
    "# instance creation is similar to classes\n",
    "john = Person('John Doe', 83, True)\n",
    "lisa = Person('Lis Doe', age=77, is_gangster=False)\n",
    "\n",
    "print(john, lisa)\n",
    "print('Is John a gangster: {}'.format(john.is_gangster))\n",
    "\n",
    "# tuples are immutable, thus you can't do this\n",
    "#john.is_gangster = False"
   ]
  },
  {
   "cell_type": "markdown",
   "metadata": {},
   "source": [
    "### [`Counter`](https://docs.python.org/3/library/collections.html#collections.Counter)\n",
    "For counting the occurences of elements in a collection."
   ]
  },
  {
   "cell_type": "code",
   "execution_count": 40,
   "metadata": {},
   "outputs": [
    {
     "name": "stdout",
     "output_type": "stream",
     "text": [
      "type: <class 'collections.Counter'>, counter: Counter({2: 3, 1: 2, 3: 1, 4: 1, 5: 1, 6: 1})\n",
      "count of twos: 3\n",
      "count of tens: 0\n",
      "counter is a dict: True\n"
     ]
    }
   ],
   "source": [
    "from collections import Counter\n",
    "\n",
    "data = [1, 2, 3, 1, 2, 4, 5, 6, 2]\n",
    "\n",
    "counter = Counter(data)\n",
    "print('type: {}, counter: {}'.format(type(counter), counter))\n",
    "\n",
    "print('count of twos: {}'.format(counter[2]))\n",
    "print('count of tens: {}'.format(counter[10])) # zero for non existing\n",
    "\n",
    "print('counter is a dict: {}'.format(isinstance(counter, dict)))"
   ]
  },
  {
   "cell_type": "markdown",
   "metadata": {},
   "source": [
    "### [`defaultdict`](https://docs.python.org/3/library/collections.html#collections.defaultdict)\n",
    "For cleaner code for populating dictionaries.\n",
    "\n",
    "Let's first see how you could use a normal `dict`."
   ]
  },
  {
   "cell_type": "code",
   "execution_count": 41,
   "metadata": {},
   "outputs": [
    {
     "name": "stdout",
     "output_type": "stream",
     "text": [
      "{'odd': [1, 3, 3, 5, 7], 'even': [2, 4, 2, 6]}\n"
     ]
    }
   ],
   "source": [
    "data = (1, 2, 3, 4, 3, 2, 5, 6, 7)\n",
    "\n",
    "my_dict = {}\n",
    "for val in data:\n",
    "    if val % 2:\n",
    "        if not 'odd' in my_dict:\n",
    "            my_dict['odd'] = []\n",
    "        my_dict['odd'].append(val)\n",
    "    else:\n",
    "        if not 'even' in my_dict:\n",
    "            my_dict['even'] = []\n",
    "        my_dict['even'].append(val)\n",
    "        \n",
    "print(my_dict)"
   ]
  },
  {
   "cell_type": "markdown",
   "metadata": {},
   "source": [
    "With `defaultdict`:"
   ]
  },
  {
   "cell_type": "code",
   "execution_count": 42,
   "metadata": {},
   "outputs": [
    {
     "name": "stdout",
     "output_type": "stream",
     "text": [
      "defaultdict(<class 'list'>, {'odd': [1, 3, 3, 5, 7], 'even': [2, 4, 2, 6]})\n"
     ]
    }
   ],
   "source": [
    "from collections import defaultdict\n",
    "\n",
    "my_dict = defaultdict(list)\n",
    "for val in data:\n",
    "    if val % 2:\n",
    "        my_dict['odd'].append(val)\n",
    "    else:\n",
    "        my_dict['even'].append(val)\n",
    "print(my_dict)"
   ]
  },
  {
   "cell_type": "markdown",
   "metadata": {},
   "source": [
    "In the above example, `defaultdict` makes sure that a fresh `list` is automatically initialized as a value when a new key is added.\n",
    "\n",
    "Here's another example with `int` as a default."
   ]
  },
  {
   "cell_type": "code",
   "execution_count": 43,
   "metadata": {},
   "outputs": [
    {
     "name": "stdout",
     "output_type": "stream",
     "text": [
      "defaultdict(<class 'int'>, {'odd_count': 5, 'even_count': 4})\n"
     ]
    }
   ],
   "source": [
    "my_dict = defaultdict(int)\n",
    "for val in data:\n",
    "    if val % 2:\n",
    "        my_dict['odd_count'] += 1\n",
    "    else:\n",
    "        my_dict['even_count'] += 1\n",
    "print(my_dict)"
   ]
  },
  {
   "cell_type": "markdown",
   "metadata": {},
   "source": [
    "# Modules and packages"
   ]
  },
  {
   "cell_type": "markdown",
   "metadata": {},
   "source": [
    "## Benefits\n",
    "\n",
    "> Module is a Python source code file, i.e. a file with .py extension.\n",
    "\n",
    "> Package is a directory which contains `__init__.py` file and can contain python modules and other packages.  \n",
    "\n",
    "\n",
    "* Maintainability\n",
    "* Reusability\n",
    "* Namespacing\n",
    "* People unfamiliar with your project can get a clear overview just by looking at the directory structure of your project\n",
    "* Searching for certain functionality or class is easy"
   ]
  },
  {
   "cell_type": "markdown",
   "metadata": {},
   "source": [
    "## Organizing code\n",
    "\n",
    "Let's use the following directory structure as an example:\n",
    "\n",
    "      \n",
    "```\n",
    "food_store/\n",
    "    __init__.py\n",
    "    \n",
    "    product/\n",
    "        __init__.py\n",
    "        \n",
    "        fruit/\n",
    "            __init__.py\n",
    "            apple.py\n",
    "            banana.py\n",
    "            \n",
    "        drink/\n",
    "            __init__.py\n",
    "            juice.py\n",
    "            milk.py\n",
    "            beer.py\n",
    "\n",
    "    cashier/\n",
    "        __ini__.py\n",
    "        receipt.py\n",
    "        calculator.py\n",
    "```\n",
    "\n",
    "\n",
    "Let's consider that banana.py file contains:\n",
    "\n",
    "```python\n",
    "\n",
    "def get_available_brands():\n",
    "    return ['chiquita']\n",
    "\n",
    "\n",
    "class Banana:\n",
    "    def __init__(self, brand='chiquita'):\n",
    "        if brand not in get_available_brands():\n",
    "            raise ValueError('Unkown brand: {}'.format(brand))\n",
    "        self._brand = brand\n",
    "     \n",
    "```"
   ]
  },
  {
   "cell_type": "markdown",
   "metadata": {},
   "source": [
    "## Importing modules\n",
    "\n",
    "Let's say that we need access `Banana` class from banana.py file inside receipt.py. We can achive this by importing at the beginning of receipt.py:\n",
    "\n",
    "```python\n",
    "from food_store.product.fruit.banana import Banana\n",
    "\n",
    "# then it's used like this\n",
    "my_banana = Banana()\n",
    "```\n",
    "\n",
    "\n",
    "\n",
    "If we need to access multiple classes or functions from banana.py file:\n",
    "\n",
    "```python\n",
    "from food_store.product.fruit import banana\n",
    "\n",
    "# then it's used like this\n",
    "brands = banana.get_available_brands()\n",
    "my_banana = banana.Banana()\n",
    "```"
   ]
  },
  {
   "cell_type": "markdown",
   "metadata": {},
   "source": [
    "A comprehensive introduction to modules and packages can be found [here](https://realpython.com/python-modules-packages/)."
   ]
  },
  {
   "cell_type": "markdown",
   "metadata": {},
   "source": [
    "# Testing"
   ]
  },
  {
   "cell_type": "markdown",
   "metadata": {},
   "source": [
    "## Benefits\n",
    "* When you fix a bug or add a new feature, tests are a way to verify that you did not break anything on the way\n",
    "* If you have clear requirements, you can have matching test(s) for each requirement\n",
    "* You don't have to be afraid of refactoring\n",
    "* Tests document your implementation - they show other people use cases of your implementation"
   ]
  },
  {
   "cell_type": "markdown",
   "metadata": {},
   "source": [
    "## [Test-driven development](https://en.wikipedia.org/wiki/Test-driven_development) aka TDD\n",
    "The basic idea of TDD is to write tests before writing the actual implementation. Maybe the most significant benefit of the approach is that the developer focuses on writing tests which match with what the program should do. Whereas if the tests are written after the actual implementation, there is a high risk for rushing tests which just show green light for the already written logic.\n",
    "\n",
    "*Tests are first class citizens in modern, agile software development, which is why it's important to start thinking TDD early during your Python learning path.*"
   ]
  },
  {
   "cell_type": "markdown",
   "metadata": {},
   "source": [
    "## `doctest`"
   ]
  },
  {
   "cell_type": "code",
   "execution_count": 44,
   "metadata": {},
   "outputs": [],
   "source": [
    "def sum_of_three_numbers(num1, num2, num3):\n",
    "    '''\n",
    "    This is a test:\n",
    "    >>> sum_of_three_numbers(2, 2, 2)\n",
    "    6\n",
    "    >>> sum_of_three_numbers(0, 0, 0)\n",
    "    0\n",
    "    '''\n",
    "    return num1 + num2 + num3"
   ]
  },
  {
   "cell_type": "code",
   "execution_count": 45,
   "metadata": {},
   "outputs": [
    {
     "name": "stdout",
     "output_type": "stream",
     "text": [
      "Trying:\n",
      "    sum_of_three_numbers(2, 2, 2)\n",
      "Expecting:\n",
      "    6\n",
      "ok\n",
      "Trying:\n",
      "    sum_of_three_numbers(0, 0, 0)\n",
      "Expecting:\n",
      "    0\n",
      "ok\n",
      "9 items had no tests:\n",
      "    __main__\n",
      "    __main__.Person\n",
      "    __main__.Person.age\n",
      "    __main__.Person.is_gangster\n",
      "    __main__.Person.name\n",
      "    __main__.TestNotebook\n",
      "    __main__.TestNotebook.test_sum_of_three_numbers\n",
      "    __main__.test_sum_of_three_numbers\n",
      "    __main__.validate_only_lower_case_letters\n",
      "1 items passed all tests:\n",
      "   2 tests in __main__.sum_of_three_numbers\n",
      "2 tests in 10 items.\n",
      "2 passed and 0 failed.\n",
      "Test passed.\n"
     ]
    },
    {
     "data": {
      "text/plain": [
       "TestResults(failed=0, attempted=2)"
      ]
     },
     "execution_count": 45,
     "metadata": {},
     "output_type": "execute_result"
    }
   ],
   "source": [
    "import doctest\n",
    "doctest.testmod(verbose=True)"
   ]
  },
  {
   "cell_type": "markdown",
   "metadata": {},
   "source": [
    "## `unittest`"
   ]
  },
  {
   "cell_type": "code",
   "execution_count": 46,
   "metadata": {},
   "outputs": [],
   "source": [
    "# This would be in your e.g. implementation.py\n",
    "def sum_of_three_numbers(num1, num2, num3):\n",
    "    return num1 + num2 + num3"
   ]
  },
  {
   "cell_type": "code",
   "execution_count": 47,
   "metadata": {},
   "outputs": [
    {
     "name": "stderr",
     "output_type": "stream",
     "text": [
      "test_sum_of_three_numbers (__main__.TestNotebook) ... ok\n",
      "\n",
      "----------------------------------------------------------------------\n",
      "Ran 1 test in 0.002s\n",
      "\n",
      "OK\n"
     ]
    },
    {
     "data": {
      "text/plain": [
       "<unittest.main.TestProgram at 0x118269ac8>"
      ]
     },
     "execution_count": 47,
     "metadata": {},
     "output_type": "execute_result"
    }
   ],
   "source": [
    "import unittest\n",
    "\n",
    "class TestNotebook(unittest.TestCase):\n",
    "    def test_sum_of_three_numbers(self):\n",
    "        self.assertEqual(sum_of_three_numbers(2, 2, 2), 6)\n",
    "        self.assertEqual(sum_of_three_numbers(0, 0, 0), 0)\n",
    "\n",
    "unittest.main(argv=[''], verbosity=2, exit=False)"
   ]
  },
  {
   "cell_type": "markdown",
   "metadata": {},
   "source": [
    "## `unittest.mock.MagicMock`\n",
    "\n",
    "In general, [Mocks](https://en.wikipedia.org/wiki/Mock_object) are simulated objects that replace the functionality/state of a real world object in a controlled way. Thus, they are especially useful in tests for mimicing some behavior of a specific part of the implementation under test.\n",
    "\n",
    "There is also a [`Mock`](https://docs.python.org/3/library/unittest.mock.html#unittest.mock.Mock) class in the Python Standard Library but you usually want to use [`MagicMock`](https://docs.python.org/3/library/unittest.mock.html#unittest.mock.MagicMock) which is a subclass of `Mock`. `MagicMock` provides default implementation for the most of the magic methods (e.g. `__setitem__()` and `__getitem__()`)\n",
    "\n",
    "A potential use case could be something like this:"
   ]
  },
  {
   "cell_type": "code",
   "execution_count": 48,
   "metadata": {},
   "outputs": [
    {
     "name": "stdout",
     "output_type": "stream",
     "text": [
      "All good, woop woop!\n"
     ]
    }
   ],
   "source": [
    "import random\n",
    "\n",
    "class Client:\n",
    "    def __init__(self, url, username, password):\n",
    "        self.url = url\n",
    "        self.creds = (username, password)\n",
    "        \n",
    "    def fetch_some_data(self):\n",
    "        print('Here we could for example fetch data from 3rd party API and return the data.')\n",
    "        print('Now we will just return some random number between 1-100.')\n",
    "        return random.randint(1, 100)\n",
    "\n",
    "\n",
    "class MyApplication:\n",
    "    def __init__(self):\n",
    "        self.client = Client(url='https://somewhere/api', username='John Doe', password='secret123?')\n",
    "        \n",
    "    def do_something_fancy(self):\n",
    "        data = self.client.fetch_some_data()\n",
    "        return data**(1/2) # let's return a square root just for example\n",
    "    \n",
    "    \n",
    "####################\n",
    "# In the test module:\n",
    "\n",
    "from unittest.mock import MagicMock\n",
    "\n",
    "# Inside a test case:\n",
    "app = MyApplication()\n",
    "app.client = MagicMock() # Mock the client\n",
    "app.client.fetch_some_data.return_value = 4  # Set controlled behaviour\n",
    "result = app.do_something_fancy()\n",
    "assert result == 2\n",
    "print('All good, woop woop!')"
   ]
  },
  {
   "cell_type": "markdown",
   "metadata": {},
   "source": [
    "## `unittest.mock.patch`\n",
    "The use cases of [`patch`](https://docs.python.org/3/library/unittest.mock.html#unittest.mock.patch) are pretty similar to `MacigMock`. The biggest difference is that `patch` is used as a context manager or a decorator. Object to be patched is given as an argument for `patch`. In addition, you can provide additional object as a second argument (`new`) which will replace the original one. In case the `new` is omitted, `MagicMock` will be used by default.\n",
    "\n",
    "Let's see how the example above would look like with `patch`."
   ]
  },
  {
   "cell_type": "code",
   "execution_count": 49,
   "metadata": {},
   "outputs": [
    {
     "name": "stdout",
     "output_type": "stream",
     "text": [
      "All good, woop woop!\n"
     ]
    }
   ],
   "source": [
    "# In the test module:\n",
    "\n",
    "from unittest.mock import patch\n",
    "\n",
    "# Inside a test case:\n",
    "app = MyApplication()\n",
    "with patch('__main__.app.client') as patched_client:  # Patch the client \n",
    "    patched_client.fetch_some_data.return_value = 4 # Set controlled behaviour\n",
    "    result = app.do_something_fancy()\n",
    "    assert result == 2\n",
    "    print('All good, woop woop!')"
   ]
  },
  {
   "cell_type": "markdown",
   "metadata": {},
   "source": [
    "The same but with a function decorator instead of a context manager. Note that here we are patching the whole `Client` class, not just the `client` instance variable of `app`."
   ]
  },
  {
   "cell_type": "code",
   "execution_count": 50,
   "metadata": {},
   "outputs": [
    {
     "name": "stdout",
     "output_type": "stream",
     "text": [
      "All good, woop woop!\n"
     ]
    }
   ],
   "source": [
    "from unittest.mock import patch\n",
    "\n",
    "@patch('__main__.Client') # Patch the Client\n",
    "def test_do_something_fancy(client_cls):\n",
    "    client_cls().fetch_some_data.return_value = 4 # Set controlled behaviour\n",
    "    app = MyApplication()\n",
    "    result = app.do_something_fancy()\n",
    "    assert result == 2\n",
    "    print('All good, woop woop!')\n",
    "    \n",
    "    \n",
    "test_do_something_fancy()  # This is just for the sake of example"
   ]
  },
  {
   "cell_type": "markdown",
   "metadata": {},
   "source": [
    "## `pytest`"
   ]
  },
  {
   "cell_type": "markdown",
   "metadata": {},
   "source": [
    "# Python packaging\n",
    "An example structure for a python project:\n",
    "\n",
    "```\n",
    "my_project/\n",
    "    README.md\n",
    "    requirements.txt\n",
    "    setup.py\n",
    "    \n",
    "    src/\n",
    "        my_project/\n",
    "            __init__.py\n",
    "            my_module.py\n",
    "            other_module.py\n",
    "            \n",
    "            my_pkg1/\n",
    "                __init__.py\n",
    "                my_third_module.py\n",
    "                \n",
    "    tests/\n",
    "        conftest.py\n",
    "        test_module.py\n",
    "        test_other_module.py\n",
    "        \n",
    "        my_pkg1/\n",
    "            test_my_third_module.py\n",
    "\n",
    "```\n",
    "\n",
    "* [requirements.txt](https://pip.pypa.io/en/latest/user_guide/#requirements-files) lists the Python packages from which my_project depends on.\n",
    "    * these can be installed by running `pip install -r requirements`\n",
    "* [setup.py](https://packaging.python.org/tutorials/distributing-packages/#setup-py) is a file in which you include relevant information about your project and the file is also used for packaging your project. Here's a minimal example of a setup.py:\n",
    "\n",
    "```python\n",
    "'''Minimal setup.py file'''\n",
    "\n",
    "from setuptools import setup, find_packages\n",
    "\n",
    "setup(\n",
    "    name='my_project',\n",
    "    version='0.1',\n",
    "    packages=find_packages(where=\"src\"),\n",
    "    package_dir={\"\": \"src\"})\n",
    "```\n",
    "* Once you have the setup.py file in place, you can install your project in editable mode by running `pip install -e .` in the root directory of your project. In editable mode the installed version is updated when you make changes to the source code files."
   ]
  },
  {
   "cell_type": "markdown",
   "metadata": {},
   "source": [
    "# Best practices"
   ]
  },
  {
   "cell_type": "markdown",
   "metadata": {},
   "source": [
    "## Use virtual environments\n",
    "* Isolation\n",
    "* Different projects have different dependency versions\n",
    "* You don't want to mess up the system Python\n",
    "\n",
    "[`pipenv`](https://pipenv.readthedocs.io/en/latest/)\n",
    "* Basically combines `pip` and `virtualenv` under single CLI\n",
    "* [Pipfile](https://pipenv.readthedocs.io/en/latest/basics/#example-pipfile) which replaces the need for requirements.txt and requirements-dev.txt \n",
    "* [Pipfile.lock](https://pipenv.readthedocs.io/en/latest/basics/#example-pipfile-lock) which pins dependencies, this means deterministic builds\n",
    "* Possibility to visualize the [dependency graph](https://pipenv.readthedocs.io/en/latest/#pipenv-graph)\n",
    "* [Compatible with `pyenv`](https://pipenv.readthedocs.io/en/latest/advanced/#automatic-python-installation)\n",
    "\n",
    "[`virtualenvwrapper`](https://virtualenvwrapper.readthedocs.io/en/latest/)\n",
    "* If you are using Windows command prompt: [`virtualenvwrapper-win`](https://pypi.org/project/virtualenvwrapper-win/)\n",
    "* Like the name suggests, a wrapper around [`virtualenv`](https://pypi.org/project/virtualenv/)\n",
    "* Eases the workflow for creating, deleting, and (de)activating your virtual environments\n",
    "\n",
    "[`pyenv`](https://github.com/pyenv/pyenv)\n",
    "* Easily change global / per project Python version \n",
    "* Also a tool for installing different Python versions (also different runtimes available, e.g. [PyPy](https://pypy.org/))\n",
    "* Useful if you'll need to work with different Python versions"
   ]
  },
  {
   "cell_type": "markdown",
   "metadata": {},
   "source": [
    "## Structure code and projects\n",
    "* Package and module structure gives an overview about the project\n",
    "* Modular design == better reusability\n",
    "\n",
    "Some general guidelines:\n",
    "* Don't put too much stuff into one module\n",
    "* Split project into packages\n",
    "* Be consistent with your naming conventions\n",
    "\n",
    "A few words about structuring your projects. If you're developing, say, a relative big business application, it makes sense to separate some of the non-core business logic packages into a separate project and publish that as separate package. This way the \"main\" repository doesn't get bloated and it's more approachable for newcomers. Additionally, there's a change that you (or someone else) can easily reuse this \"separated\" package in the future, which is often the case e.g. for different kinds of utility functionalities. \n",
    "\n",
    "Let's take a practical example. If your team has two different applications which interact with the same third party, it's beneficial to implement a separate client library for communication with it. This way a change is needed only in one place (in the client library) if the third party decides to make a backwards incompatible change in their API. \n",
    "\n",
    "[`cookiecutter`](https://cookiecutter.readthedocs.io/en/latest/)\n",
    "\n",
    "* Rapid set-up of new projects, no need to copy paste from existing ones\n",
    "* Consistent development practices across all projects (project structure as well as e.g. `pre-commit`, `tox`, and CI configuration)\n",
    "* You can create one yourself or use some of the [existing ones](https://cookiecutter.readthedocs.io/en/latest/readme.html#python)\n",
    "* Written in Python but is applicable for non-Python projects as well, even non-programming related directory and file structures"
   ]
  },
  {
   "cell_type": "markdown",
   "metadata": {},
   "source": [
    "## Use continuous integration and deployment"
   ]
  },
  {
   "cell_type": "markdown",
   "metadata": {},
   "source": [
    "CI & CD belong to the best practices of software development without controversy, no matter what is the technology stack used for development. From Python point of view, CI is the place where we want to make sure that the other best practices described above are followed. For example, in bigger projects, it may not be even practical/possible to run the full test suite on developer's machine."
   ]
  },
  {
   "cell_type": "markdown",
   "metadata": {},
   "source": [
    "* Make sure the tests pass\n",
    "* CI is the place where it's possible to run also some time consuming tests which the impatient developers prefer to skip on their local machines\n",
    "* Make sure there's no linting errors\n",
    "* Ideally, the place to test against all target versions and platforms\n",
    "* Overall, CI is the last resort for automatically ensuring the quality \n",
    "* Manual deployments are time consuming and error-prone, CD is automated and deterministic\n",
    "* You want to automate as much as possible, human time is expensive\n",
    "* Minimize the time required for code reviews - what could be detected with automatic tools, should be detected by using those tools. Human time is expensive. \n",
    "\n",
    "Tooling depends on which git repository manager option you've chosen and what kind of requirements you have. For example:\n",
    "* Gitlab has a built-in [integrated CI/CD](https://about.gitlab.com/features/gitlab-ci-cd/)\n",
    "* Same for [BitBucket](https://www.atlassian.com/continuous-delivery/continuous-integration-tutorial)\n",
    "* If you're using GitHub, see [full list of available tools](https://github.com/marketplace/category/continuous-integration)\n",
    "* There's an extensive comparison of different providers in [wikipedia](https://en.wikipedia.org/wiki/Comparison_of_continuous_integration_software)"
   ]
  },
  {
   "cell_type": "markdown",
   "metadata": {},
   "source": [
    "## Use the capabilities of your editor"
   ]
  },
  {
   "cell_type": "markdown",
   "metadata": {},
   "source": [
    "As there's a number of different editors and IDEs available, not to mention that everyone has their own preferences, I'll just focus on highlighting some of the features of my favorite IDE, [PyCharm](https://www.jetbrains.com/help/pycharm/quick-start-guide.html), which I highly recommend for Python development.\n",
    "\n",
    "* Good integration with `pytest`, e.g. run single tests / test classes / test modules\n",
    "* Git integration (in case you don't like command line)\n",
    "* Easy to configure to use automatic formatting, e.g [`black`](https://github.com/ambv/black#pycharm)\n",
    "* Intuitive searching capabilities\n",
    "* Refactoring features\n",
    "* Debugger\n",
    "* Jupyter Notebook integration\n",
    "* Free community edition already contains all you need"
   ]
  },
  {
   "cell_type": "markdown",
   "metadata": {},
   "source": [
    "## Use existing solutions\n",
    "\n",
    "* Python Standard Library is extensive - and stable!\n",
    "* There are over 150k packages in [PyPI](https://pypi.org/)\n",
    "* Someone has most likely solved the problem you're trying to solve\n",
    "* Spend 5 minutes doing a google research before starting to solve a new problem, e.g. [stackoverflow](https://stackoverflow.com/) is a magical place."
   ]
  },
  {
   "cell_type": "markdown",
   "metadata": {},
   "source": [
    "## Learn how to debug"
   ]
  },
  {
   "cell_type": "markdown",
   "metadata": {},
   "source": [
    "* You won't write completely stable code anyway - impossible looking conditions will occur. \n",
    "* When something is not working as expected, there are plenty of tools out there to help you figure out what's going on. \n",
    "\n",
    "* [`pdb`](https://docs.python.org/3/library/pdb.html) Part of the Standard Library. Sufficient for most use cases.\n",
    "* [`ipdb`](https://pypi.org/project/ipdb/) Feature rich `pdb` with similar API.\n",
    "* [`pdb++`](https://pypi.org/project/pdbpp/) Drop-in replacement for `pdb` with additional features.\n",
    "* [`gprof2dot`](https://github.com/jrfonseca/gprof2dot) Find the performance bottlenecks of your application via illustrative graphs. If you're using `pytest` (like you should), see also [`pytest-profiling`].(https://pypi.org/project/pytest-profiling/) which is powered by `gprof2dot`\n",
    "* [`py-spy`](https://github.com/benfred/py-spy) Profile running Python program without the need for modifying the source code or restarting the target process. Potential tool for identifying problems of e.g. a web application in production.\n",
    "* [`objgraph`](https://mg.pov.lt/objgraph/) Graphs which are useful while hunting memory leaks."
   ]
  },
  {
   "cell_type": "markdown",
   "metadata": {},
   "source": [
    "## Use logging"
   ]
  },
  {
   "cell_type": "markdown",
   "metadata": {},
   "source": [
    "* [`logging`](https://docs.python.org/3/library/logging.html) is part of the Standard Library\n",
    "* With logging you can redirect the output to a file\n",
    "* Logs are usually the first place to look at after an end user reports an issue\n",
    "* You can specify the runtime level - no need to remove the debug prints"
   ]
  }
 ],
 "metadata": {
  "kernelspec": {
   "display_name": "Python 3",
   "language": "python",
   "name": "python3"
  },
  "language_info": {
   "codemirror_mode": {
    "name": "ipython",
    "version": 3
   },
   "file_extension": ".py",
   "mimetype": "text/x-python",
   "name": "python",
   "nbconvert_exporter": "python",
   "pygments_lexer": "ipython3",
   "version": "3.6.12"
  }
 },
 "nbformat": 4,
 "nbformat_minor": 4
}

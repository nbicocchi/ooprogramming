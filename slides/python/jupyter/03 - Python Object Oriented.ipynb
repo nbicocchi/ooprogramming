{
 "cells": [
  {
   "cell_type": "markdown",
   "metadata": {},
   "source": [
    "# Python Object Oriented\n",
    "Author: Dr. Nicola Bicocchi - UNIMORE"
   ]
  },
  {
   "cell_type": "markdown",
   "metadata": {},
   "source": [
    "## Introduction"
   ]
  },
  {
   "cell_type": "markdown",
   "metadata": {},
   "source": [
    "#### The \\'class\\' concept\n",
    "![title](img/class_plato.png)\n",
    "![title](img/class_internals.png)"
   ]
  },
  {
   "cell_type": "markdown",
   "metadata": {},
   "source": [
    "#### Objects and References\n",
    "The usual *variables as boxes* metaphor actually hinders the understanding of reference variables in OO languages. Python variables are like reference variables in Java, so it’s better to think of them as labels attached to objects. \n",
    "\n",
    "![title](img/class_reference.png)"
   ]
  },
  {
   "cell_type": "code",
   "execution_count": 5,
   "metadata": {},
   "outputs": [
    {
     "name": "stdout",
     "output_type": "stream",
     "text": [
      "[1, 2, 3, 4]\n",
      "[1, 2, 3, 4]\n",
      "True\n"
     ]
    }
   ],
   "source": [
    "a = [1, 2, 3]\n",
    "b = a\n",
    "a.append(4)\n",
    "print(a)\n",
    "print(b)\n",
    "print(a is b)\n"
   ]
  },
  {
   "cell_type": "markdown",
   "metadata": {},
   "source": [
    "Every object has an identity, a type and a value. \n",
    "\n",
    "An object’s identityis unique and never changes once it has been created. The id() function returns an integer representing its identity. \n",
    "\n",
    "The == operator compares the values of objects (the data they hold), while is operator compares their identities.\n"
   ]
  },
  {
   "cell_type": "code",
   "execution_count": 6,
   "metadata": {},
   "outputs": [
    {
     "name": "stdout",
     "output_type": "stream",
     "text": [
      "4603492680\n",
      "4601367176\n",
      "4603492680\n",
      "False\n",
      "True\n",
      "True\n",
      "True\n"
     ]
    }
   ],
   "source": [
    "a = [1, 2, 3]\n",
    "b = [1, 2, 3]\n",
    "c = a\n",
    "print(id(a))\n",
    "print(id(b))\n",
    "print(id(c))\n",
    "print(a is b)\n",
    "print(a is c)\n",
    "print(a == b)\n",
    "print(a == c)"
   ]
  },
  {
   "cell_type": "markdown",
   "metadata": {},
   "source": [
    "#### Instance Attributes\n",
    "Attributes are the properties defining any specific class of objects\n",
    "Attributes are defined inside the \\_\\_init\\_\\_ method of the class. It is the initializer method that is first run as soon as the object is created.\n",
    "On execution, we create an instance (an object) of the Car class referenced with the m3 name.\n",
    "We access the instance attributes using the dot notation (m3.brand)\n",
    "Instance attributes have specific values in each instance.\n",
    "\n",
    "\n"
   ]
  },
  {
   "cell_type": "code",
   "execution_count": 7,
   "metadata": {},
   "outputs": [
    {
     "name": "stdout",
     "output_type": "stream",
     "text": [
      "Brand=Bmw, Model=M3\n"
     ]
    }
   ],
   "source": [
    "class Car:\n",
    "    # costructor method\n",
    "    def __init__(self, brand, model):\n",
    "        # instance attributes\n",
    "        self.brand = brand\n",
    "        self.model = model\n",
    "\n",
    "if __name__ == '__main__':\n",
    "    m3 = Car('Bmw', 'M3')\n",
    "    print(\"Brand={}, Model={}\".format(m3.brand, m3.model))\n"
   ]
  },
  {
   "cell_type": "markdown",
   "metadata": {},
   "source": [
    "#### Class attributes\n",
    "Outside the \\_\\_init\\_\\_ method we can define class attributes. We can access the class attributes using \\_\\_class\\_\\_.attribute. Class attributes are shared among all instances of a class. "
   ]
  },
  {
   "cell_type": "code",
   "execution_count": 21,
   "metadata": {},
   "outputs": [
    {
     "name": "stdout",
     "output_type": "stream",
     "text": [
      "Wheels=2\n",
      "Bmw, M3\n",
      "Wheels=2\n",
      "Tesla,Models S\n"
     ]
    }
   ],
   "source": [
    "class Car:\n",
    "    # class attribute\n",
    "    wheels = 4\n",
    "\n",
    "    def __init__(self, brand, model):\n",
    "        self.brand = brand\n",
    "        self.model = model\n",
    "\n",
    "if __name__ == '__main__':\n",
    "    m3 = Car('Bmw', 'M3')\n",
    "    tsla = Car('Tesla', 'Models S')\n",
    "\n",
    "    m3.__class__.wheels = 2\n",
    "\n",
    "    print(\"Wheels={}\".format(m3.__class__.wheels))\n",
    "    print(\"{}, {}\".format(m3.brand, m3.model))\n",
    "\n",
    "    print(\"Wheels={}\".format(tsla.__class__.wheels))\n",
    "    print(\"{},{}\".format(tsla.brand, tsla.model))"
   ]
  },
  {
   "cell_type": "markdown",
   "metadata": {},
   "source": [
    "#### Constructor \n",
    "Constructors are generally used for instantiating an object.\n",
    "The task of constructors is to initialize(assign values) to the data members of the class when an object of class is created. In Python the \\_\\_init\\_\\_ method is called the constructor and is always called when an object is created. Unlike Java, you cannot define multiple constructors in Python. However, you can define a default value if one is not passed.\n"
   ]
  },
  {
   "cell_type": "code",
   "execution_count": 9,
   "metadata": {},
   "outputs": [
    {
     "name": "stdout",
     "output_type": "stream",
     "text": [
      "Bmw M3\n",
      "Fiat Punto\n"
     ]
    }
   ],
   "source": [
    "class Car:\n",
    "    # constructor    \n",
    "    def __init__(self, brand='Fiat', model='Punto'):        \n",
    "        # instance attribute        \n",
    "        self.brand = brand        \n",
    "        self.model = model\n",
    "    \n",
    "if __name__ == '__main__':    \n",
    "    m3 = Car('Bmw', 'M3')\n",
    "    punto = Car()\n",
    "    print(\"{} {}\".format(m3.brand, m3.model))\n",
    "    print(\"{} {}\".format(punto.brand, punto.model))\n"
   ]
  },
  {
   "cell_type": "markdown",
   "metadata": {},
   "source": [
    "#### Garbabe Collector\n",
    "Whenever you create an object in Python, the underlying C object has both a Python type (such as list, dict, or function) and a reference count.\n",
    "At a very basic level, a Python object’s reference count is incremented whenever the object is referenced, and it’s decremented when an object is dereferenced. If an object’s reference count is 0, the memory for the object is deallocated."
   ]
  },
  {
   "cell_type": "code",
   "execution_count": 10,
   "metadata": {},
   "outputs": [
    {
     "data": {
      "text/plain": [
       "5"
      ]
     },
     "execution_count": 10,
     "metadata": {},
     "output_type": "execute_result"
    }
   ],
   "source": [
    "# For calling garbage collection explicitely\n",
    "import gc\n",
    "gc.collect()\n",
    "\n",
    "# For counting references\n",
    "import sys\n",
    "a = 'my-string'\n",
    "b = [a] \n",
    "c = { 'key': a }\n",
    "sys.getrefcount(a)\n",
    "\n"
   ]
  },
  {
   "cell_type": "markdown",
   "metadata": {},
   "source": [
    "#### Destructors\n",
    "Destructors are called when an object gets destroyed. In Python, destructors are not needed as much needed in C++ because Python has a garbage collector that handles memory management automatically.\n",
    "The __del__() method is a known as a destructor method in Python. It is called when all references to the object have been deleted i.e when an object is garbage collected."
   ]
  },
  {
   "cell_type": "code",
   "execution_count": 11,
   "metadata": {},
   "outputs": [
    {
     "name": "stdout",
     "output_type": "stream",
     "text": [
      "Object destroyed!\n"
     ]
    }
   ],
   "source": [
    "class Car:\n",
    "    # constructor\n",
    "    def __init__(self, brand, model):\n",
    "        # instance attribute\n",
    "        self.brand = brand\n",
    "        self.model = model\n",
    "\n",
    "    # destructor\n",
    "    def __del__(self):\n",
    "        print('Object destroyed!')\n",
    "\n",
    "\n",
    "if __name__ == '__main__':\n",
    "    m3 = Car('Bmw', 'M3')\n",
    "    del m3\n"
   ]
  },
  {
   "cell_type": "markdown",
   "metadata": {},
   "source": [
    "#### Methods\n",
    "Methods are functions defined inside the body of a class. They are used to define the behaviors of an object. Instance methods are called on instances of a class (objects)."
   ]
  },
  {
   "cell_type": "code",
   "execution_count": 12,
   "metadata": {},
   "outputs": [
    {
     "name": "stdout",
     "output_type": "stream",
     "text": [
      "Bmw M3 is running at 90km/h\n",
      "Bmw M3 is braking\n"
     ]
    }
   ],
   "source": [
    "class Car:\n",
    "    # constructor\n",
    "    def __init__(self, brand, model):\n",
    "        # instance attribute\n",
    "        self.brand = brand\n",
    "        self.model = model\n",
    "\n",
    "    def run(self, speed):\n",
    "        return '{} {} is running at {}km/h'.format(self.brand, self.model, speed)\n",
    "\n",
    "    def brake(self):\n",
    "        return '{} {} is braking'.format(self.brand, self.model)\n",
    "\n",
    "\n",
    "if __name__ == '__main__':\n",
    "    m3 = Car('Bmw', 'M3')\n",
    "    print(m3.run(90))\n",
    "    print(m3.brake())\n"
   ]
  },
  {
   "cell_type": "markdown",
   "metadata": {},
   "source": [
    "#### @staticmethod\n",
    "A static method is a method which is bound to the class and not the object of the class. A static method can’t access or modify class state. It is present in a class because it makes sense for the method to be present in class. Generally used to create utility functions.\n"
   ]
  },
  {
   "cell_type": "code",
   "execution_count": 13,
   "metadata": {},
   "outputs": [
    {
     "name": "stdout",
     "output_type": "stream",
     "text": [
      "True\n"
     ]
    }
   ],
   "source": [
    "class Car:\n",
    "    def __init__(self, brand, model):\n",
    "        # instance attribute\n",
    "        self.brand = brand\n",
    "        self.model = model\n",
    "\n",
    "    @staticmethod\n",
    "    def within_limits(speed, maxspeed):\n",
    "        return speed < maxspeed\n",
    "\n",
    "\n",
    "if __name__ == '__main__':\n",
    "    m3 = Car('Bmw', 'M3')\n",
    "    print(Car.within_limits(75, 90))\n"
   ]
  },
  {
   "cell_type": "markdown",
   "metadata": {},
   "source": [
    "#### @classmethod\n",
    "A class method is a method which is bound to the class and not the object of the class.\n",
    "They have the access to the state of the class as it takes a class parameter that points to the class and not the object instance. It can modify a class state that would apply across all the instances of the class. Generally used cto create factory methods. Factory methods return class object (similar to a constructor)."
   ]
  },
  {
   "cell_type": "code",
   "execution_count": 14,
   "metadata": {},
   "outputs": [
    {
     "name": "stdout",
     "output_type": "stream",
     "text": [
      "aaaaaa aaaaaa\n"
     ]
    }
   ],
   "source": [
    "class Car:\n",
    "    def __init__(self, brand, model):\n",
    "        # instance attribute\n",
    "        self.brand = brand\n",
    "        self.model = model\n",
    "\n",
    "    @classmethod\n",
    "    def from_chars(cls, c):\n",
    "        return cls(c * 6, c * 6)\n",
    "\n",
    "if __name__ == '__main__':\n",
    "    acar = Car.from_chars('a')\n",
    "    print(\"{} {}\".format(acar.brand, acar.model))\n"
   ]
  },
  {
   "cell_type": "markdown",
   "metadata": {},
   "source": [
    "#### String representation\n",
    "\\_\\_repr\\_\\_ in interally called by the repr() standard function.\n",
    "\n",
    "\\_\\_repr\\_\\_, and \\_\\_str\\_\\_ return a string representation of the object \n",
    "if \\_\\_repr\\_\\_ is defined, and \\_\\_str\\_\\_ is not, the object will behave as though \\_\\_str\\_\\_=\\_\\_repr\\_\\_. This means, in simple terms: almost every object you implement should have a functional \\_\\_repr\\_\\_ that’s usable for understanding the object. \n",
    "\n",
    "Implementing \\_\\_str\\_\\_ is optional: do that if you need a “pretty print” functionality (for example, used by a report generator)."
   ]
  },
  {
   "cell_type": "code",
   "execution_count": 15,
   "metadata": {},
   "outputs": [
    {
     "name": "stdout",
     "output_type": "stream",
     "text": [
      "Bmw M3\n",
      "Bmw M3\n"
     ]
    }
   ],
   "source": [
    "class Car:\n",
    "    def __init__(self, brand, model):\n",
    "        self.brand = brand\n",
    "        self.model = model\n",
    "\n",
    "    def __repr__(self):\n",
    "        return '{} {}'.format(self.brand, self.model)\n",
    "\n",
    "if __name__ == '__main__':\n",
    "    m3 = Car('Bmw', 'M3')\n",
    "    print(m3)\n",
    "    print(repr(m3))"
   ]
  },
  {
   "cell_type": "code",
   "execution_count": 16,
   "metadata": {},
   "outputs": [
    {
     "name": "stdout",
     "output_type": "stream",
     "text": [
      "This is a Bmw. Model M3.\n",
      "Bmw M3\n"
     ]
    }
   ],
   "source": [
    "class Car:\n",
    "    def __init__(self, brand, model):\n",
    "        self.brand = brand\n",
    "        self.model = model\n",
    "\n",
    "    def __repr__(self):\n",
    "        return '{} {}'.format(self.brand, self.model)\n",
    "\n",
    "    def __str__(self):\n",
    "        return 'This is a {}. Model {}.'.format(self.brand, self.model)\n",
    "\n",
    "if __name__ == '__main__':\n",
    "    m3 = Car('Bmw', 'M3')\n",
    "    print(m3)\n",
    "    print(repr(m3))\n"
   ]
  },
  {
   "cell_type": "markdown",
   "metadata": {},
   "source": [
    "#### docstrings\n",
    "docstring is a short for documentation string.\n",
    "\n",
    "Python docstrings are the string literals that appear right after the definition of a function, method, class, or module. Triple quotes are used.\n",
    "The docstring is available as the __doc__ attribute."
   ]
  },
  {
   "cell_type": "code",
   "execution_count": 17,
   "metadata": {},
   "outputs": [
    {
     "name": "stdout",
     "output_type": "stream",
     "text": [
      "\n",
      "    A simple class for representing a car\n",
      "    with a brand and a model name\n",
      "    \n",
      "\n",
      "    A simple class for representing a car\n",
      "    with a brand and a model name\n",
      "    \n"
     ]
    }
   ],
   "source": [
    "class Car:\n",
    "    \"\"\"\n",
    "    A simple class for representing a car\n",
    "    with a brand and a model name\n",
    "    \"\"\"\n",
    "\n",
    "    def __init__(self, brand, model):\n",
    "        self.brand = brand\n",
    "        self.model = model\n",
    "\n",
    "\n",
    "if __name__ == '__main__':\n",
    "    m3 = Car('Bmw', 'M3')\n",
    "    print(m3.__doc__)\n",
    "    print(Car.__doc__)\n"
   ]
  },
  {
   "attachments": {},
   "cell_type": "markdown",
   "metadata": {},
   "source": [
    "#### Encapsulation\n",
    "Using OOP in Python, we can restrict access to methods and variables. \n",
    "This prevents data from direct modification which is called encapsulation. \n",
    "In Python, we denote private attributes using underscore as the prefix:\n",
    "self.\\_varname\n",
    "self.\\_\\_varname\n",
    "\n",
    "Getters and setters are needed for manipulating private attributes"
   ]
  },
  {
   "cell_type": "code",
   "execution_count": 18,
   "metadata": {},
   "outputs": [
    {
     "name": "stdout",
     "output_type": "stream",
     "text": [
      "FY345YT\n"
     ]
    }
   ],
   "source": [
    "class Car:\n",
    "\n",
    "    def __init__(self, brand, model, licence):\n",
    "        self.__licence = licence\n",
    "        self.brand = brand\n",
    "        self.model = model\n",
    "\n",
    "    def get_licence(self):\n",
    "        return self.__licence\n",
    "\n",
    "    def set_licence(self, licence):\n",
    "        self.__licence = licence\n",
    "\n",
    "if __name__ == '__main__':\n",
    "    m3 = Car('Bmw', 'M3', 'GY455AI')\n",
    "    m3.set_licence('FY345YT')\n",
    "    print(m3.get_licence())\n",
    "    # print(m3.__licence)\n",
    "    # AttributeError: 'Car' object has no attribute '__licence'\n"
   ]
  },
  {
   "attachments": {},
   "cell_type": "markdown",
   "metadata": {},
   "source": [
    "#### Inheritance\n",
    "Inheritance allows us to define a class that inherits all the methods and properties from another class. \n",
    "\n",
    "The class which get inherited is called base class or parent class. The class which inherits the other class is called child class or derived class.\n",
    "\n",
    "The derived class inherits all attributes and methods from base classe. Furthermore it can:\n",
    "* add attributes and methods\n",
    "* redefine existing methods\n",
    "\n",
    "Python has a super function which allows us to access temporary object of the super class. The super function is usually used in constructurs of derived classes"
   ]
  },
  {
   "cell_type": "code",
   "execution_count": 19,
   "metadata": {},
   "outputs": [
    {
     "name": "stdout",
     "output_type": "stream",
     "text": [
      "Tesla ModelX is braking\n",
      "Tesla ModelX is charging\n"
     ]
    }
   ],
   "source": [
    "class Car:\n",
    "    def __init__(self, brand, model):\n",
    "        self.brand = brand\n",
    "        self.model = model\n",
    "\n",
    "    def brake(self):\n",
    "        return '{} {} is braking'.format(self.brand, self.model)\n",
    "\n",
    "class ECar(Car):\n",
    "    def __init__(self, brand, model, battery_cycles):\n",
    "        super().__init__(brand, model)\n",
    "        self.battery_cycles = battery_cycles\n",
    "\n",
    "    def charge(self):\n",
    "        return '{} {} is charging'.format(self.brand, self.model)\n",
    "\n",
    "if __name__ == '__main__':\n",
    "    tsla = ECar('Tesla', 'ModelX', 0)\n",
    "    print(tsla.brake())\n",
    "    print(tsla.charge())\n"
   ]
  },
  {
   "cell_type": "markdown",
   "metadata": {},
   "source": [
    "#### Polymorphism\n",
    "In inheritance, the child class inherits the methods from the parent class. However, it is possible to modify a method in a child class that it has inherited from the parent class. \n",
    "In such cases, we re-implement the method in the child class. This process of re-implementing a method in the child class is known as method overriding.\n",
    "Method overriding eventually leads to polymorphism."
   ]
  },
  {
   "cell_type": "code",
   "execution_count": 20,
   "metadata": {},
   "outputs": [
    {
     "name": "stdout",
     "output_type": "stream",
     "text": [
      "Bmw M3 is braking\n",
      "Tesla ModelX is regenerating\n"
     ]
    }
   ],
   "source": [
    "class Car:\n",
    "    def __init__(self, brand, model):\n",
    "        self.brand = brand\n",
    "        self.model = model\n",
    "\n",
    "    def brake(self):\n",
    "        return '{} {} is braking'.format(self.brand, self.model)\n",
    "\n",
    "class ECar(Car):\n",
    "    def __init__(self, brand, model, battery_cycles):\n",
    "        super().__init__(brand, model)\n",
    "        self.battery_cycles = battery_cycles\n",
    "\n",
    "    def brake(self):\n",
    "        return '{} {} is regenerating'.format(self.brand, self.model)\n",
    "\n",
    "if __name__ == '__main__':\n",
    "    m3 = Car('Bmw', 'M3')\n",
    "    tsla = ECar('Tesla', 'ModelX', 10)\n",
    "    print(m3.brake())\n",
    "    print(tsla.brake())\n"
   ]
  },
  {
   "cell_type": "code",
   "execution_count": null,
   "metadata": {},
   "outputs": [],
   "source": []
  }
 ],
 "metadata": {
  "kernelspec": {
   "display_name": "Python 3",
   "language": "python",
   "name": "python3"
  },
  "language_info": {
   "codemirror_mode": {
    "name": "ipython",
    "version": 3
   },
   "file_extension": ".py",
   "mimetype": "text/x-python",
   "name": "python",
   "nbconvert_exporter": "python",
   "pygments_lexer": "ipython3",
   "version": "3.6.7"
  }
 },
 "nbformat": 4,
 "nbformat_minor": 2
}

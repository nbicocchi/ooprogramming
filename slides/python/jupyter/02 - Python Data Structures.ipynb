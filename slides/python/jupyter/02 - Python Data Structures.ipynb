{
 "cells": [
  {
   "cell_type": "markdown",
   "metadata": {},
   "source": [
    "# Iterable"
   ]
  },
  {
   "cell_type": "markdown",
   "metadata": {},
   "source": [
    "## Iterable\n",
    "*An iterable object is any object capable of returning its members one at a time, permitting it to be iterated over in a for-loop*. Familiar examples of iterables include *lists*, *tuples*, *dictionaries*, *sets*, and *strings*. It is also possible to have an iterable that *generates* its members upon iteration without storing them in memory."
   ]
  },
  {
   "cell_type": "code",
   "execution_count": null,
   "metadata": {},
   "outputs": [],
   "source": [
    "# string\n",
    "string = 'Hello'\n",
    "for c in string:\n",
    "       print(c)"
   ]
  },
  {
   "cell_type": "code",
   "execution_count": null,
   "metadata": {},
   "outputs": [],
   "source": [
    "# list\n",
    "numbers = [1, 2, 3]\n",
    "for n in numbers:\n",
    "    print(n)"
   ]
  },
  {
   "cell_type": "code",
   "execution_count": null,
   "metadata": {},
   "outputs": [],
   "source": [
    "# tuple\n",
    "numbers = (1, 2, 3)\n",
    "for n in numbers:\n",
    "    print(n)"
   ]
  },
  {
   "cell_type": "code",
   "execution_count": null,
   "metadata": {},
   "outputs": [],
   "source": [
    "# set\n",
    "numbers = {1, 2, 3}\n",
    "for n in numbers:\n",
    "    print(n)"
   ]
  },
  {
   "cell_type": "code",
   "execution_count": null,
   "metadata": {},
   "outputs": [],
   "source": [
    "# dictionary\n",
    "map = {1 : 'a', 2 : 'b', 3 : 'c'}\n",
    "for k, v in map.items():\n",
    "       print(k, v)"
   ]
  },
  {
   "cell_type": "markdown",
   "metadata": {},
   "source": [
    "## Iterable and Iterator\n",
    "*Every iterator is an iterable, but not every iterable is an iterator*. An iterable is an object that can be iterated over but does not necessarily have all the machinery of an iterator. For example, sequences (e.g lists, tuples, and strings) do not keep track of their own state of iteration. Thus you cannot call *next()* on one of these. An *iterator* object, instead, stores its current state of iteration and yields each of its members in order via the *next()* method."
   ]
  },
  {
   "cell_type": "code",
   "execution_count": null,
   "metadata": {},
   "outputs": [],
   "source": [
    "my_list = [4, 7, 0, 3]\n",
    "my_iter = iter(my_list)\n",
    "\n",
    "print(next(my_iter))\n",
    "# or\n",
    "print(my_iter.__next__())\n",
    "\n",
    "# print(next(my_list))\n",
    "# TypeError: 'list' object is not an iterator"
   ]
  },
  {
   "cell_type": "markdown",
   "metadata": {},
   "source": [
    "## Functions acting on iterables\n",
    "\n",
    "* *list, tuple, dict, set*: construct a list, tuple, dictionary, or set, respectively, from the contents of an iterable\n",
    "* *sorted*: return a list of the sorted contents of an iterable\n",
    "* *any*: returns True and ends the iteration immediately if bool(item) was True for any item in the iterable.\n",
    "* *all*: returns True only if bool(item) was True for all items in the iterable.\n",
    "* *sum*: sum the contents of an iterable.\n",
    "* *max*: return the largest value in an iterable.\n",
    "* *min*: return the smallest value in an iterable.\n"
   ]
  },
  {
   "cell_type": "code",
   "execution_count": null,
   "metadata": {},
   "outputs": [],
   "source": [
    "print(list('I am a cow'))\n",
    "print(sum([1, 2, 3]))\n",
    "print(sorted('gheliabciou'))\n",
    "print(any((0, None, [], 0)))\n",
    "print(all([1, (0, 1), True, None]))\n",
    "print(max((5, 8, 9, 0)))\n",
    "print(min('hello'))"
   ]
  },
  {
   "cell_type": "markdown",
   "metadata": {},
   "source": [
    "# List"
   ]
  },
  {
   "cell_type": "markdown",
   "metadata": {},
   "source": [
    "**Implementation**: resizable array, **Mutable**: yes, **Insertion order**: yes, **Allows duplicates**: yes\n",
    "\n",
    "Lists are based on resizable arrays. They are mutable and thus can be altered after creation. They can grow and shrink by adding and removing objects as needed. It’s also possible to change any object stored in any slot. Items can be of different types (integer, float, string etc.). A list can also have another list as an item. Lists are ordered and have a definite count. The elements in a list are indexed according to a definite sequence starting from 0. A list is created by placing all the items inside square brackets **[ ]**, separated by commas. \n",
    "\n",
    "Since lists are collection of objects, it is good practice to give them a plural name. If each item in your list is a car, call the list 'cars'. This gives you a straightforward way to refer to the entire list ('cars'), and to a single item in the list ('car')."
   ]
  },
  {
   "cell_type": "code",
   "execution_count": null,
   "metadata": {},
   "outputs": [],
   "source": [
    "# empty list\n",
    "my_list = []\n",
    "\n",
    "# list of integers\n",
    "my_list = [1, 2, 3]\n",
    "\n",
    "# list with mixed data types\n",
    "my_list = [1, 'Hello', 3.4]\n",
    "\n",
    "# nested list \n",
    "my_list = ['mouse', [8, 4, 6], ['a']]"
   ]
  },
  {
   "cell_type": "markdown",
   "metadata": {},
   "source": [
    "## Accessing elements\n",
    "We can use the index operator [] to access an item in a list. Index starts at 0. The index of -1 refers to the last item, -2 to the second last item and so on. The index must be an integer. Trying to access indices out of valid bounds raises *IndexError*. We can also access a range of items in a list by using the slicing operator :(colon). Slices are partial copies of the original list."
   ]
  },
  {
   "cell_type": "code",
   "execution_count": 9,
   "metadata": {},
   "outputs": [
    {
     "name": "stdout",
     "output_type": "stream",
     "text": [
      "['s', 'o', 'u', 'r', 'c', 'e', ' ', 'c', 'o', 'd', 'e']\n",
      "s\n",
      "c\n",
      "a\n",
      "5\n"
     ]
    }
   ],
   "source": [
    "my_list = list('source code')\n",
    "print(my_list)\n",
    "\n",
    "# Indexing\n",
    "print(my_list[0])\n",
    "print(my_list[4])\n",
    "\n",
    "# Nested indexing\n",
    "my_list = ['Happy', [2, 0, 1, 5]]\n",
    "print(my_list[0][1])\n",
    "print(my_list[1][3])\n",
    "\n",
    "# print(my_list[4.0])\n",
    "# TypeError: list indices must be integers or slices, not float"
   ]
  },
  {
   "cell_type": "code",
   "execution_count": 10,
   "metadata": {},
   "outputs": [
    {
     "name": "stdout",
     "output_type": "stream",
     "text": [
      "['s', 'o', 'u', 'r', 'c', 'e', ' ', 'c', 'o', 'd', 'e']\n",
      "e\n",
      "d\n",
      "o\n"
     ]
    }
   ],
   "source": [
    "my_list = list('source code')\n",
    "\n",
    "# Negative indexing\n",
    "print(my_list)\n",
    "print(my_list[-1])\n",
    "print(my_list[-2])\n",
    "print(my_list[-3])"
   ]
  },
  {
   "cell_type": "code",
   "execution_count": 11,
   "metadata": {},
   "outputs": [
    {
     "name": "stdout",
     "output_type": "stream",
     "text": [
      "['s', 'o', 'u']\n",
      "['s', 'o', 'u', 'r', 'c', 'e', ' ', 'c', 'o', 'd']\n",
      "['e', ' ', 'c', 'o', 'd', 'e']\n",
      "['s', 'o', 'u', 'r', 'c', 'e', ' ', 'c', 'o', 'd', 'e']\n"
     ]
    }
   ],
   "source": [
    "my_list = list('source code')\n",
    "\n",
    "# elements 3rd to 5th\n",
    "print(my_list[0:3])\n",
    "\n",
    "# elements beginning to the last one (excluded)\n",
    "print(my_list[:-1])\n",
    "\n",
    "# elements 6th to end\n",
    "print(my_list[5:])\n",
    "\n",
    "# elements beginning to end\n",
    "# shallow copy of the list\n",
    "print(my_list[:])\n"
   ]
  },
  {
   "cell_type": "markdown",
   "metadata": {},
   "source": [
    "## Changing elements\n",
    "Lists are mutable, meaning their elements can be changed unlike string or tuple. We can use the assignment operator (=) to change an item or a range of items. It is possible to change entire slices eventually."
   ]
  },
  {
   "cell_type": "code",
   "execution_count": 12,
   "metadata": {},
   "outputs": [
    {
     "name": "stdout",
     "output_type": "stream",
     "text": [
      "[2, 4, 6, 8]\n",
      "[1, 4, 6, 8]\n",
      "[1, 3, 5, 7]\n"
     ]
    }
   ],
   "source": [
    "my_list = [2, 4, 6, 8]\n",
    "print(my_list)\n",
    "\n",
    "# change the 1st item    \n",
    "my_list[0] = 1            \n",
    "print(my_list)\n",
    "\n",
    "# change 2nd to 4th items\n",
    "my_list[1:4] = [3, 5, 7]  \n",
    "print(my_list) "
   ]
  },
  {
   "cell_type": "markdown",
   "metadata": {},
   "source": [
    "## Adding elements\n",
    "We can add one item at the end of a list using the *append()* method. We can add one item in a specific position using the *insert()* method. We can add a (flat) group of items using the *extend()* method."
   ]
  },
  {
   "cell_type": "code",
   "execution_count": 13,
   "metadata": {},
   "outputs": [
    {
     "name": "stdout",
     "output_type": "stream",
     "text": [
      "['hello']\n",
      "['hello', [9, 11]]\n",
      "[1, 'hello', [9, 11]]\n",
      "[1, 'hello', [9, 11], 17, 19]\n",
      "[1, 2, 3, 1, 'hello', [9, 11], 17, 19]\n"
     ]
    }
   ],
   "source": [
    "# Appending and Extending lists\n",
    "my_list = []\n",
    "my_list.append('hello')\n",
    "print(my_list)\n",
    "my_list.append([9, 11])\n",
    "print(my_list)\n",
    "my_list.insert(0, 1)\n",
    "print(my_list)\n",
    "my_list.extend([17, 19])\n",
    "print(my_list)\n",
    "# extending in arbitrary positions\n",
    "my_list[0:0] = [1,2,3]\n",
    "print(my_list)"
   ]
  },
  {
   "cell_type": "markdown",
   "metadata": {},
   "source": [
    "We can also use *+ operator* to combine two lists. This is also called concatenation.\n",
    "\n",
    "The ** operator* repeats a list for the given number of times."
   ]
  },
  {
   "cell_type": "code",
   "execution_count": 14,
   "metadata": {},
   "outputs": [
    {
     "name": "stdout",
     "output_type": "stream",
     "text": [
      "[1, 3, 5, 9, 7, 5]\n",
      "['abc', 'abc', 'abc']\n"
     ]
    }
   ],
   "source": [
    "# Concatenating and repeating\n",
    "print([1, 3, 5] + [9, 7, 5])\n",
    "print(['abc'] * 3)"
   ]
  },
  {
   "cell_type": "markdown",
   "metadata": {},
   "source": [
    "## Removing elements\n",
    "We can delete one or more items from a list using the keyword *del*. *del* can even delete the list entirely."
   ]
  },
  {
   "cell_type": "code",
   "execution_count": 15,
   "metadata": {},
   "outputs": [
    {
     "name": "stdout",
     "output_type": "stream",
     "text": [
      "['s', 'u', 'r', 'c', 'e', ' ', 'c', 'o', 'd', 'e']\n",
      "['c', 'o', 'd', 'e']\n"
     ]
    }
   ],
   "source": [
    "# Deleting list items\n",
    "my_list = list('source code')\n",
    "\n",
    "# delete one item\n",
    "del my_list[1]\n",
    "print(my_list)\n",
    "\n",
    "# delete multiple items\n",
    "del my_list[0:6]\n",
    "print(my_list)\n",
    "\n",
    "# delete entire list\n",
    "del my_list\n",
    "# print(my_list)\n",
    "# NameError: name 'my_list' is not defined\n"
   ]
  },
  {
   "cell_type": "markdown",
   "metadata": {},
   "source": [
    "We can also use the *remove()* method to remove the given item or pop() method to remove an item at the given index. The *pop()* method removes and returns the last item if the index is not provided. Useful for implementing lists as stacks (first in, last out data structure). We can also use the clear() method to empty a list."
   ]
  },
  {
   "cell_type": "code",
   "execution_count": 16,
   "metadata": {},
   "outputs": [
    {
     "name": "stdout",
     "output_type": "stream",
     "text": [
      "['s', 'o', 'u', 'r', 'c', 'e', ' ', 'c', 'o', 'e']\n",
      "o\n",
      "['s', 'u', 'r', 'c', 'e', ' ', 'c', 'o', 'e']\n",
      "e\n",
      "['s', 'u', 'r', 'c', 'e', ' ', 'c', 'o']\n",
      "[]\n"
     ]
    }
   ],
   "source": [
    "my_list = list('source code')\n",
    "\n",
    "my_list.remove('d')\n",
    "print(my_list)\n",
    "\n",
    "print(my_list.pop(1))\n",
    "print(my_list)\n",
    "\n",
    "print(my_list.pop())\n",
    "print(my_list)\n",
    "\n",
    "my_list.clear()\n",
    "print(my_list)"
   ]
  },
  {
   "cell_type": "markdown",
   "metadata": {},
   "source": [
    "## Sorting\n",
    "We can sort a list alphabetically, in either order."
   ]
  },
  {
   "cell_type": "code",
   "execution_count": 17,
   "metadata": {
    "collapsed": false,
    "jupyter": {
     "outputs_hidden": false
    }
   },
   "outputs": [
    {
     "name": "stdout",
     "output_type": "stream",
     "text": [
      "['aaron', 'bernie', 'cody', 'lucy']\n",
      "['lucy', 'cody', 'bernie', 'aaron']\n",
      "['aaron', 'bernie', 'cody', 'lucy']\n",
      "['lucy', 'cody', 'bernie', 'aaron']\n"
     ]
    }
   ],
   "source": [
    "students = ['lucy', 'bernie', 'aaron', 'cody']\n",
    "students.sort()\n",
    "print(students)\n",
    "\n",
    "students.sort(reverse=True)\n",
    "print(students)\n",
    "\n",
    "students.sort(key=lambda x: x[1])\n",
    "print(students)\n",
    "\n",
    "students.reverse()\n",
    "print(students)"
   ]
  },
  {
   "cell_type": "markdown",
   "metadata": {},
   "source": [
    "Whenever you consider sorting a list, keep in mind that you can not recover the original order. If you want to display a list in sorted order, but preserve the original order, you can use the *sorted()* function. The *sorted()* function also accepts the optional *reverse=True* argument."
   ]
  },
  {
   "cell_type": "code",
   "execution_count": 18,
   "metadata": {},
   "outputs": [
    {
     "name": "stdout",
     "output_type": "stream",
     "text": [
      "['aaron', 'bernice', 'cody']\n",
      "bernice\n",
      "aaron\n",
      "cody\n"
     ]
    }
   ],
   "source": [
    "students = ['bernice', 'aaron', 'cody']\n",
    "print(sorted(students))\n",
    "\n",
    "for student in students:\n",
    "    print(student)"
   ]
  },
  {
   "cell_type": "markdown",
   "metadata": {},
   "source": [
    "## Other List operations"
   ]
  },
  {
   "cell_type": "code",
   "execution_count": 19,
   "metadata": {},
   "outputs": [
    {
     "name": "stdout",
     "output_type": "stream",
     "text": [
      "3\n"
     ]
    }
   ],
   "source": [
    "my_list = list('abc')\n",
    "\n",
    "# length\n",
    "print(len(my_list))"
   ]
  },
  {
   "cell_type": "code",
   "execution_count": 20,
   "metadata": {},
   "outputs": [
    {
     "name": "stdout",
     "output_type": "stream",
     "text": [
      "True\n",
      "False\n"
     ]
    }
   ],
   "source": [
    "# membership\n",
    "print('a' in my_list)\n",
    "print('a' not in my_list)"
   ]
  },
  {
   "cell_type": "code",
   "execution_count": 21,
   "metadata": {},
   "outputs": [
    {
     "name": "stdout",
     "output_type": "stream",
     "text": [
      "a\n",
      "b\n",
      "c\n"
     ]
    }
   ],
   "source": [
    "# iteration\n",
    "for i in my_list:\n",
    "    print(i)"
   ]
  },
  {
   "cell_type": "code",
   "execution_count": 22,
   "metadata": {},
   "outputs": [
    {
     "name": "stdout",
     "output_type": "stream",
     "text": [
      "a\n",
      "b\n",
      "c\n"
     ]
    }
   ],
   "source": [
    "# iteration by index\n",
    "length = len(my_list)\n",
    "for i in range(length):\n",
    "    print(my_list[i])"
   ]
  },
  {
   "cell_type": "markdown",
   "metadata": {},
   "source": [
    "# Tuple"
   ]
  },
  {
   "cell_type": "markdown",
   "metadata": {},
   "source": [
    "**Implementation**: records, **Mutable**: no, mutable items, **Insertion order**: yes, **Allows duplicates**: yes\n",
    "\n",
    "A tuple is a collection of objects much like a list. The sequence of values stored in a tuple can be of any type, and they are indexed by integers. Tuples are immutable. A tuple cannot change once it has been assigned. Eventually, we can change its internal items, if they are mutable (e.g., a list contained in a tuple). A tuple is created by placing all the items (elements) inside parentheses (), separated by commas. The parentheses are optional, however, it is a good practice to use them. "
   ]
  },
  {
   "cell_type": "code",
   "execution_count": 23,
   "metadata": {},
   "outputs": [
    {
     "name": "stdout",
     "output_type": "stream",
     "text": [
      "()\n",
      "(1, 2, 3, 3)\n",
      "(1, 'Hello', 3.4)\n",
      "('mouse', [8, 4, 6], (1, 2, 3))\n"
     ]
    }
   ],
   "source": [
    "# empty tuple\n",
    "my_tuple = ()\n",
    "print(my_tuple)\n",
    "\n",
    "# tuple having integers\n",
    "my_tuple = (1, 2, 3, 3)\n",
    "print(my_tuple)\n",
    "\n",
    "# tuple with mixed datatypes\n",
    "my_tuple = (1, 'Hello', 3.4)\n",
    "print(my_tuple)\n",
    "\n",
    "# nested tuple\n",
    "my_tuple = ('mouse', [8, 4, 6], (1, 2, 3))\n",
    "print(my_tuple)\n"
   ]
  },
  {
   "cell_type": "markdown",
   "metadata": {},
   "source": [
    "Creating a tuple with one element is a bit tricky. Having one element within parentheses is not enough. A trailing comma to indicate that it is a tuple is required."
   ]
  },
  {
   "cell_type": "code",
   "execution_count": 24,
   "metadata": {},
   "outputs": [
    {
     "name": "stdout",
     "output_type": "stream",
     "text": [
      "<class 'str'>\n",
      "<class 'tuple'>\n",
      "<class 'tuple'>\n"
     ]
    }
   ],
   "source": [
    "my_tuple = ('hello')\n",
    "print(type(my_tuple))\n",
    "\n",
    "# Creating a tuple having one element\n",
    "my_tuple = ('hello',)\n",
    "print(type(my_tuple))\n",
    "\n",
    "# Parentheses is optional\n",
    "my_tuple = 'hello',\n",
    "print(type(my_tuple))\n"
   ]
  },
  {
   "cell_type": "markdown",
   "metadata": {},
   "source": [
    "## Accessing elements\n",
    "As seen for lists, elements of a tuple can be accessed via both: indexing and slicing."
   ]
  },
  {
   "cell_type": "code",
   "execution_count": 25,
   "metadata": {},
   "outputs": [
    {
     "name": "stdout",
     "output_type": "stream",
     "text": [
      "s\n",
      "e\n",
      "e\n",
      "d\n",
      "('s', 'o', 'u', 'r', 'c', 'e')\n",
      "('c', 'o', 'd', 'e')\n"
     ]
    }
   ],
   "source": [
    "my_tuple = tuple('source code')\n",
    "\n",
    "# indexing\n",
    "print(my_tuple[0])\n",
    "print(my_tuple[5])\n",
    "\n",
    "# negative indexing\n",
    "print(my_tuple[-1])\n",
    "print(my_tuple[-2])\n",
    "\n",
    "# slicing\n",
    "print(my_tuple[:6]) \n",
    "print(my_tuple[-4:]) "
   ]
  },
  {
   "cell_type": "markdown",
   "metadata": {},
   "source": [
    "## Changing elements\n",
    "Unlike lists, tuples are immutable. Elements of a tuple cannot be changed once they have been assigned. \n",
    "However, if the element is itself a mutable data type like list, its nested items can be changed.\n",
    "We can also assign a tuple to different values (reassignment).\n"
   ]
  },
  {
   "cell_type": "code",
   "execution_count": 26,
   "metadata": {},
   "outputs": [
    {
     "name": "stdout",
     "output_type": "stream",
     "text": [
      "(4, 2, 3, [6, 5])\n",
      "(4, 2, 3, [9, 5])\n",
      "('n', 'i', 'c', 'o', 'l', 'a')\n"
     ]
    }
   ],
   "source": [
    "my_tuple = (4, 2, 3, [6, 5])\n",
    "print(my_tuple)\n",
    "\n",
    "# my_tuple[1] = 9\n",
    "# TypeError: 'tuple' object does not support item assignment\n",
    "\n",
    "# However…\n",
    "my_tuple[3][0] = 9\n",
    "print(my_tuple)\n",
    "\n",
    "# Tuples can be re-assigned\n",
    "my_tuple = ('n', 'i', 'c', 'o', 'l', 'a')\n",
    "print(my_tuple)\n"
   ]
  },
  {
   "cell_type": "markdown",
   "metadata": {},
   "source": [
    "We cannot change the elements in a tuple. It means that we cannot delete or remove items from a tuple. Deleting a tuple entirely, however, is possible using the keyword del."
   ]
  },
  {
   "cell_type": "code",
   "execution_count": 27,
   "metadata": {},
   "outputs": [],
   "source": [
    "my_tuple = ('n', 'i', 'c', 'o', 'l', 'a')\n",
    "\n",
    "# del my_tuple[3]\n",
    "# TypeError: 'tuple' object doesn't support item deletion\n",
    "\n",
    "del my_tuple\n",
    "\n",
    "# print(my_tuple)\n",
    "# NameError: name 'my_tuple' is not defined\n"
   ]
  },
  {
   "cell_type": "markdown",
   "metadata": {},
   "source": [
    "## Other Tuple operations\n",
    "We can test if an item exists in a tuple or not, using the keyword in. We can use a for loop to iterate through each item in a tuple."
   ]
  },
  {
   "cell_type": "code",
   "execution_count": 28,
   "metadata": {},
   "outputs": [
    {
     "name": "stdout",
     "output_type": "stream",
     "text": [
      "True\n",
      "False\n",
      "False\n"
     ]
    }
   ],
   "source": [
    "my_tuple = ('a', 'p', 'p', 'l', 'e',)\n",
    "\n",
    "print('a' in my_tuple)\n",
    "print('b' in my_tuple)\n",
    "print('a' not in my_tuple)"
   ]
  },
  {
   "cell_type": "code",
   "execution_count": 29,
   "metadata": {},
   "outputs": [
    {
     "name": "stdout",
     "output_type": "stream",
     "text": [
      "Hello John\n",
      "Hello Kate\n",
      "Hello Archie\n"
     ]
    }
   ],
   "source": [
    "# iterate through a tuple\n",
    "for name in ('John', 'Kate', 'Archie'):\n",
    "    print('Hello', name)"
   ]
  },
  {
   "cell_type": "markdown",
   "metadata": {},
   "source": [
    "## Advantages of Tuple over List"
   ]
  },
  {
   "cell_type": "markdown",
   "metadata": {},
   "source": [
    "Since tuples are quite similar to lists, both of them are used in similar situations. However, there are certain advantages of implementing a tuple over a list. Below listed are some of the main advantages:\n",
    "\n",
    "* We generally use tuples for heterogeneous (different) data types and lists for homogeneous data types.\n",
    "* Since tuples are immutable, iterating through a tuple is faster than with list. \n",
    "* Tuples that contain immutable elements can be used as a key for a dictionary. With lists, this is not possible.\n",
    "* If you have data that doesn't change, implementing it as tuple will guarantee that it remains write-protected.\n"
   ]
  },
  {
   "cell_type": "markdown",
   "metadata": {},
   "source": [
    "# Set"
   ]
  },
  {
   "cell_type": "markdown",
   "metadata": {},
   "source": [
    "**Implementation**: hash table, **Mutable**: yes, **Insertion order**: no, **Allows duplicates**: no\n",
    "\n",
    "A set is an unordered collection data type, mutable and has no duplicate elements. Set items must be immutable (e.g., lists are not allowed). The major advantage of using a set, as opposed to a list, is that it has a highly optimized method for checking whether a specific element is contained in the set. Sets are based on a data structure known as a hash table. Because of this, sets are unordered and cannot be accessed using indexes like lists and tuples.\n",
    "\n",
    "A set is created by placing all the items (elements) inside curly braces {}, separated by comma, or by using the built-in *set()* function. It can have any number of items and they may be of different types (integer, float, tuple, string etc.) as long as they are immutable."
   ]
  },
  {
   "cell_type": "code",
   "execution_count": 30,
   "metadata": {},
   "outputs": [
    {
     "name": "stdout",
     "output_type": "stream",
     "text": [
      "{1024, 1, 4, 47}\n",
      "{1.0, 'Hello', (1, 2, 3)}\n",
      "{1, 2, 3}\n"
     ]
    }
   ],
   "source": [
    "# set of integers\n",
    "my_set = {1, 47, 1024, 4}\n",
    "print(my_set)\n",
    "\n",
    "# set of mixed datatypes\n",
    "my_set = {1.0, 'Hello', (1, 2, 3)}\n",
    "print(my_set)\n",
    "\n",
    "# set from list\n",
    "my_set = set([1, 2, 3, 2])\n",
    "print(my_set)\n",
    "\n",
    "# inserting mutable elements\n",
    "# my_set = {1, 2, [3, 4]}\n",
    "# TypeError: unhashable type: 'list'"
   ]
  },
  {
   "cell_type": "code",
   "execution_count": 31,
   "metadata": {},
   "outputs": [
    {
     "name": "stdout",
     "output_type": "stream",
     "text": [
      "<class 'dict'>\n",
      "<class 'set'>\n"
     ]
    }
   ],
   "source": [
    "# Distinguish set and dictionary while creating empty set\n",
    "\n",
    "# initialize a with {}\n",
    "a = {}\n",
    "print(type(a))\n",
    "\n",
    "# initialize a with set()\n",
    "a = set()\n",
    "print(type(a))"
   ]
  },
  {
   "cell_type": "markdown",
   "metadata": {},
   "source": [
    "## Accessing elements\n",
    "Since Sets are unordered, indexing has no meaning. We cannot access or change an element of a set using indexing or slicing. The Set data type does not support it."
   ]
  },
  {
   "cell_type": "code",
   "execution_count": 32,
   "metadata": {},
   "outputs": [
    {
     "name": "stdout",
     "output_type": "stream",
     "text": [
      "1\n",
      "3.6\n",
      "99\n",
      "4\n",
      "6\n",
      "77\n",
      "hello\n"
     ]
    }
   ],
   "source": [
    "my_set = {99, 1, 'hello', 3.6, 4, 77, 6}\n",
    "for item in my_set:\n",
    "    print(item)\n",
    "\n",
    "# my_set[0] = 2\n",
    "# TypeError: 'set' object does not support item assignment"
   ]
  },
  {
   "cell_type": "markdown",
   "metadata": {},
   "source": [
    "## Adding elements\n",
    "Sets are mutable. We can add a single element using the *add()* method, and multiple elements using the *update()* method. The update() method can take tuples, lists, strings or other sets as its argument. In all cases, duplicates are avoided."
   ]
  },
  {
   "cell_type": "code",
   "execution_count": 33,
   "metadata": {},
   "outputs": [
    {
     "name": "stdout",
     "output_type": "stream",
     "text": [
      "{1, 3}\n",
      "{1, 2, 3}\n",
      "{1, 2, 3, 4}\n"
     ]
    }
   ],
   "source": [
    "# initialize my_set\n",
    "my_set = {1, 3}\n",
    "print(my_set)\n",
    "\n",
    "# add an element\n",
    "my_set.add(2)\n",
    "print(my_set)\n",
    "\n",
    "# add multiple elements\n",
    "my_set.update([2, 3, 4])\n",
    "print(my_set)"
   ]
  },
  {
   "cell_type": "markdown",
   "metadata": {},
   "source": [
    "## Removing elements\n",
    "A particular item can be removed from a set using the methods *discard()* and *remove()*.\n",
    "\n",
    "The only difference between the two is that the *discard()* function leaves a set unchanged if the element is not present in the set. On the other hand, the *remove()* function will raise an error in such a condition (if element is not present in the set).\n"
   ]
  },
  {
   "cell_type": "code",
   "execution_count": 34,
   "metadata": {},
   "outputs": [
    {
     "name": "stdout",
     "output_type": "stream",
     "text": [
      "{1, 2, 3, 4, 5, 6}\n",
      "{1, 2, 3, 4, 6}\n",
      "{1, 2, 3, 4}\n",
      "{1, 2, 3, 4}\n"
     ]
    }
   ],
   "source": [
    "# initialize my_set\n",
    "my_set = {1, 2, 3, 4, 5, 6}\n",
    "print(my_set)\n",
    "\n",
    "# discard an element\n",
    "my_set.discard(5)\n",
    "print(my_set)\n",
    "\n",
    "# remove an element\n",
    "my_set.remove(6)\n",
    "print(my_set)\n",
    "\n",
    "# discard an element not present\n",
    "my_set.discard(5)\n",
    "print(my_set)\n",
    "\n",
    "# remove an element not present\n",
    "# my_set.remove(6)\n",
    "# KeyError: 4\n"
   ]
  },
  {
   "cell_type": "markdown",
   "metadata": {},
   "source": [
    "## Other Set operations\n",
    "Sets are mostly used for:\n",
    "\n",
    "* removing duplicates from lists\n",
    "* checking membership efficiently\n",
    "* operations on ensembles (union, intersection, difference and symmetric difference)"
   ]
  },
  {
   "cell_type": "code",
   "execution_count": 35,
   "metadata": {},
   "outputs": [
    {
     "name": "stdout",
     "output_type": "stream",
     "text": [
      "[1, 2, 3, 4, 1, 2, 3]\n",
      "[1, 2, 3, 4]\n"
     ]
    }
   ],
   "source": [
    "# removing duplicates\n",
    "my_list = [1, 2, 3, 4, 1, 2, 3]\n",
    "print(my_list)\n",
    "my_list = list(set(my_list))\n",
    "print(my_list)"
   ]
  },
  {
   "cell_type": "code",
   "execution_count": 36,
   "metadata": {},
   "outputs": [
    {
     "name": "stdout",
     "output_type": "stream",
     "text": [
      "True\n",
      "False\n"
     ]
    }
   ],
   "source": [
    "# checking membership efficiently\n",
    "my_set = {1, 2, 3, 4, 5}\n",
    "print(1 in my_set)\n",
    "print(6 in my_set)"
   ]
  },
  {
   "cell_type": "markdown",
   "metadata": {},
   "source": [
    "Sets are significantly faster than lists when it comes to determining if an object is present in the set (as in x in s), but are slower than lists when it comes to iterating over their contents."
   ]
  },
  {
   "cell_type": "code",
   "execution_count": 37,
   "metadata": {},
   "outputs": [
    {
     "name": "stdout",
     "output_type": "stream",
     "text": [
      "t=0.033s\n",
      "t=0.027s\n",
      "t=0.034s\n",
      "t=0.169s\n"
     ]
    }
   ],
   "source": [
    "import timeit\n",
    "t = timeit.timeit(\"'a' in {'a', 'b', 'c', 'd', 'e', 'f', 'g', 'h', 'i'}\", number=1000000)\n",
    "print('t={:5.3f}s'.format(t))\n",
    "\n",
    "t = timeit.timeit(\"'a' in ['a', 'b', 'c', 'd', 'e', 'f', 'g', 'h', 'i']\", number=1000000)\n",
    "print('t={:5.3f}s'.format(t))\n",
    "\n",
    "t = timeit.timeit(\"'i' in {'a', 'b', 'c', 'd', 'e', 'f', 'g', 'h', 'i'}\", number=1000000)\n",
    "print('t={:5.3f}s'.format(t))\n",
    "\n",
    "t = timeit.timeit(\"'i' in ['a', 'b', 'c', 'd', 'e', 'f', 'g', 'h', 'i']\", number=1000000)\n",
    "print('t={:5.3f}s'.format(t))"
   ]
  },
  {
   "cell_type": "code",
   "execution_count": 38,
   "metadata": {},
   "outputs": [
    {
     "name": "stdout",
     "output_type": "stream",
     "text": [
      "{1, 2, 3, 4, 5, 6}\n",
      "{3, 4}\n",
      "{1, 2}\n",
      "{1, 2, 5, 6}\n"
     ]
    }
   ],
   "source": [
    "# operations on ensembles (union, intersection, difference and symmetric difference)\n",
    "A = {1, 2, 3, 4}\n",
    "B = {3, 4, 5, 6}\n",
    "\n",
    "print(A | B) # union\n",
    "print(A & B) # intersection\n",
    "print(A - B) # difference\n",
    "print(A ^ B) # simmetric difference"
   ]
  },
  {
   "cell_type": "markdown",
   "metadata": {},
   "source": [
    "## Frozenset\n",
    "*Frozenset has the characteristics of a set, but its elements cannot be changed once assigned*. While tuples are immutable lists, frozensets are immutable sets. Sets being mutable are unhashable, so they can't be used as dictionary keys. On the other hand, frozensets being immutable and hashable can be used as keys into a dictionary. Frozensets can be created using the *frozenset()* function."
   ]
  },
  {
   "cell_type": "code",
   "execution_count": 39,
   "metadata": {},
   "outputs": [],
   "source": [
    "s1 = frozenset([1, 2, 3, 4])\n",
    "s2 = frozenset([3, 4, 5, 6])\n",
    "\n",
    "# s1.add(5)\n",
    "# AttributeError: 'frozenset' object has no attribute 'add'\n",
    "\n",
    "# s1.remove(3)\n",
    "# AttributeError: 'frozenset' object has no attribute 'remove'"
   ]
  },
  {
   "cell_type": "markdown",
   "metadata": {},
   "source": [
    "# Dictionary"
   ]
  },
  {
   "cell_type": "markdown",
   "metadata": {},
   "source": [
    "**Implementation**: hash table, **Mutable**: yes, **Insertion order**: no, **Allows duplicates**: no in keys, yes in values\n",
    "\n",
    "A dictionary is an unordered collection of *key:value* pairs. Each key is unique and immutable and has a value associated with it. The values associated with a key can be any object. Dictionaries are unordered and mutable. Dictionaries can have any number of pairs. The order in which pairs are added to a dictionary is not maintained and has no meaning."
   ]
  },
  {
   "cell_type": "code",
   "execution_count": 40,
   "metadata": {},
   "outputs": [
    {
     "name": "stdout",
     "output_type": "stream",
     "text": [
      "{1: 'Geeks', 2: 'For', 3: 'Geeks'}\n",
      "{'Name': 'Geeks', 1: [1, 2, 3, 4]}\n"
     ]
    }
   ],
   "source": [
    "# Creating a Dictionary with Integer Keys \n",
    "dict = {1: 'Geeks', 2: 'For', 3: 'Geeks'}  \n",
    "print(dict)\n",
    " \n",
    "# Creating a Dictionary with Mixed keys \n",
    "dict = {'Name': 'Geeks', 1: [1, 2, 3, 4]} \n",
    "print(dict)"
   ]
  },
  {
   "cell_type": "markdown",
   "metadata": {},
   "source": [
    "## Accessing elements\n",
    "While indexing is used with other data types to access values, a dictionary uses keys. Keys can be used either inside square brackets *[]* or with the *get()* method.\n",
    "If we use the square brackets *[]*, KeyError is raised in case a key is not found. On the other hand, the *get()* method returns None if the key is not found."
   ]
  },
  {
   "cell_type": "code",
   "execution_count": 41,
   "metadata": {},
   "outputs": [
    {
     "name": "stdout",
     "output_type": "stream",
     "text": [
      "Jack\n",
      "26\n",
      "None\n"
     ]
    }
   ],
   "source": [
    "# get vs [] for retrieving elements\n",
    "my_dict = {'name': 'Jack', 'age': 26}\n",
    "\n",
    "print(my_dict['name'])\n",
    "print(my_dict.get('age'))\n",
    "\n",
    "print(my_dict.get('address'))\n",
    "# print(my_dict['address'])\n",
    "# KeyError: 'address'"
   ]
  },
  {
   "cell_type": "markdown",
   "metadata": {},
   "source": [
    "## Changing elements\n",
    "Dictionaries are mutable. We can add new items or change the value of existing items using an assignment operator. If the key is already present, then the existing value gets updated. In case the key is not present, a new (key: value) pair is added to the dictionary.\n"
   ]
  },
  {
   "cell_type": "code",
   "execution_count": 42,
   "metadata": {},
   "outputs": [
    {
     "name": "stdout",
     "output_type": "stream",
     "text": [
      "{'name': 'Jack', 'age': 27}\n"
     ]
    }
   ],
   "source": [
    "my_dict = {'name': 'Jack', 'age': 26}\n",
    "\n",
    "my_dict['age'] = 27\n",
    "print(my_dict)"
   ]
  },
  {
   "cell_type": "markdown",
   "metadata": {},
   "source": [
    "## Adding elements"
   ]
  },
  {
   "cell_type": "code",
   "execution_count": 43,
   "metadata": {},
   "outputs": [
    {
     "name": "stdout",
     "output_type": "stream",
     "text": [
      "{'name': 'Jack', 'age': 26, 'address': 'Downtown'}\n"
     ]
    }
   ],
   "source": [
    "my_dict = {'name': 'Jack', 'age': 26}\n",
    "\n",
    "my_dict['address'] = 'Downtown'\n",
    "print(my_dict)"
   ]
  },
  {
   "cell_type": "markdown",
   "metadata": {},
   "source": [
    "## Removing elements\n",
    "We can remove a particular item in a dictionary by using the *pop()* method. This method removes an item with the provided key and returns its value. The *popitem()* method can be used to remove and return an arbitrary (key, value) item. All the items can be removed at once, using the *clear()* method. We can also use the *del* keyword to remove individual items or the entire dictionary itself."
   ]
  },
  {
   "cell_type": "code",
   "execution_count": 44,
   "metadata": {},
   "outputs": [
    {
     "name": "stdout",
     "output_type": "stream",
     "text": [
      "{1: 1, 2: 4, 3: 9, 4: 16, 5: 25}\n",
      "removed = 16\n",
      "{1: 1, 2: 4, 3: 9, 5: 25}\n",
      "removed = (5, 25)\n",
      "{1: 1, 2: 4, 3: 9}\n",
      "{2: 4, 3: 9}\n",
      "{}\n"
     ]
    }
   ],
   "source": [
    "squares = {1: 1, 2: 4, 3: 9, 4: 16, 5: 25}\n",
    "print(squares)\n",
    "\n",
    "# remove a particular item, returns its value\n",
    "print('removed =', squares.pop(4))\n",
    "print(squares)\n",
    "\n",
    "# remove an arbitrary item, return (key,value)\n",
    "print('removed =', squares.popitem())\n",
    "print(squares)\n",
    "\n",
    "# remove an item using del\n",
    "del squares[1]\n",
    "print(squares)\n",
    "\n",
    "# remove all items\n",
    "squares.clear()\n",
    "print(squares)"
   ]
  },
  {
   "cell_type": "markdown",
   "metadata": {},
   "source": [
    "## Other Dictionary Operations\n",
    "We can test if a key is in a dictionary using the keyword *in*. Notice that *the membership test is only for the keys and not for the values*. We can iterate through both keys and key:value pairs using a for loop."
   ]
  },
  {
   "cell_type": "code",
   "execution_count": 45,
   "metadata": {},
   "outputs": [
    {
     "name": "stdout",
     "output_type": "stream",
     "text": [
      "True\n",
      "False\n"
     ]
    }
   ],
   "source": [
    "squares = {1: 1, 2: 4, 3: 9}\n",
    "\n",
    "# membership tests for key only\n",
    "print(1 in squares)\n",
    "print(9 in squares)"
   ]
  },
  {
   "cell_type": "code",
   "execution_count": 46,
   "metadata": {},
   "outputs": [
    {
     "name": "stdout",
     "output_type": "stream",
     "text": [
      "1 1\n",
      "2 4\n",
      "3 9\n"
     ]
    }
   ],
   "source": [
    "# Iterating through keys\n",
    "for k in squares:\n",
    "    print(k, squares[k])"
   ]
  },
  {
   "cell_type": "code",
   "execution_count": 47,
   "metadata": {},
   "outputs": [
    {
     "name": "stdout",
     "output_type": "stream",
     "text": [
      "1 1\n",
      "2 4\n",
      "3 9\n"
     ]
    }
   ],
   "source": [
    "# Iterating through keys\n",
    "for k in squares.keys():\n",
    "    print(k, squares[k])"
   ]
  },
  {
   "cell_type": "code",
   "execution_count": 48,
   "metadata": {},
   "outputs": [
    {
     "name": "stdout",
     "output_type": "stream",
     "text": [
      "1\n",
      "4\n",
      "9\n"
     ]
    }
   ],
   "source": [
    "# Iterating through values\n",
    "for v in squares.values():\n",
    "    print(v)"
   ]
  },
  {
   "cell_type": "code",
   "execution_count": 49,
   "metadata": {},
   "outputs": [
    {
     "name": "stdout",
     "output_type": "stream",
     "text": [
      "[(1, 1), (2, 4), (3, 9)]\n",
      "1 1\n",
      "2 4\n",
      "3 9\n"
     ]
    }
   ],
   "source": [
    "print(list(squares.items()))\n",
    "\n",
    "# Iterating through keys and values using unpacking\n",
    "for k, v in squares.items():\n",
    "    print(k, v)"
   ]
  },
  {
   "cell_type": "markdown",
   "metadata": {},
   "source": [
    "# Comprehension Expressions"
   ]
  },
  {
   "cell_type": "markdown",
   "metadata": {},
   "source": [
    "## Unpacking\n",
    "Python provides some syntactic tricks for working with iterables: unpacking and enumerating iterables. Writing clean, readable code leads to bug-free algorithms that are easy to understand. Furthermore, these tricks will also facilitate the use of other features, like comprehension-statements.\n",
    "\n",
    "The process of splitting the packed values into individual elements is called *unpacking*. The packed values are strings, lists, tuples, sets, and dictionaries. During the unpacking elements from RHS (Right Hand Side) are split into its relative position on the LHS (Left Hand Side). "
   ]
  },
  {
   "cell_type": "code",
   "execution_count": 50,
   "metadata": {},
   "outputs": [
    {
     "name": "stdout",
     "output_type": "stream",
     "text": [
      "('Ashley', 28, 27)\n",
      "('Brad', 23, 26)\n",
      "('Cassie', 25, 28)\n",
      "Ashley 28 27\n",
      "Brad 23 26\n",
      "Cassie 25 28\n"
     ]
    }
   ],
   "source": [
    "# assigning a list to variables using iterable unpacking\n",
    "my_list = [7, 9, 11]\n",
    "x, y, z = my_list\n",
    "\n",
    "grades = [('Ashley', 28, 27), ('Brad', 23, 26), ('Cassie', 25, 28)]\n",
    "\n",
    "# for loop without unpacking\n",
    "for entry in grades:\n",
    "    print(entry)\n",
    "\n",
    "# for loop with unpacking\n",
    "for name, grade_1, grade_2 in grades:\n",
    "    print(name, grade_1, grade_2)"
   ]
  },
  {
   "cell_type": "markdown",
   "metadata": {},
   "source": [
    "## Enumerating\n",
    "The *enumerate()* method adds counter to an iterable and returns it. The returned object is a enumerate object. You can convert enumerate objects to list and tuple using *list()* and *tuple()* method respectively."
   ]
  },
  {
   "cell_type": "code",
   "execution_count": 51,
   "metadata": {},
   "outputs": [
    {
     "name": "stdout",
     "output_type": "stream",
     "text": [
      "<class 'enumerate'>\n",
      "[(0, 'Nikola'), (1, 'Rimac'), (2, 'Polestar')]\n"
     ]
    }
   ],
   "source": [
    "brands = ['Nikola', 'Rimac', 'Polestar']\n",
    "e = enumerate(brands)\n",
    "print(type(e))\n",
    "print(list(e))"
   ]
  },
  {
   "cell_type": "code",
   "execution_count": 52,
   "metadata": {},
   "outputs": [
    {
     "name": "stdout",
     "output_type": "stream",
     "text": [
      "[1, 3]\n"
     ]
    }
   ],
   "source": [
    "# track which entries of an iterable store the None element\n",
    "# without enumeration\n",
    "none_indices = []\n",
    "iter_cnt = 0  \n",
    "for item in [2, None, -10, None, 4, 8]:\n",
    "    if item is None:\n",
    "        none_indices.append(iter_cnt)\n",
    "    iter_cnt += 1\n",
    "print(none_indices)"
   ]
  },
  {
   "cell_type": "code",
   "execution_count": 53,
   "metadata": {},
   "outputs": [
    {
     "name": "stdout",
     "output_type": "stream",
     "text": [
      "[1, 3]\n"
     ]
    }
   ],
   "source": [
    "# track which entries of an iterable store the None element\n",
    "# with enumeration\n",
    "none_indices = []\n",
    "for iter_cnt, item in enumerate([2, None, -10, None, 4, 8]):\n",
    "    if item is None:\n",
    "        none_indices.append(iter_cnt)\n",
    "print(none_indices)"
   ]
  },
  {
   "cell_type": "markdown",
   "metadata": {},
   "source": [
    "## Generators\n",
    "A generator is a special kind of iterator, which stores the instructions for how to generate each of its members, in order, along with its current state of iterations. *A generator does not store elements is memory but generates each member*, one at a time, as requested via iteration."
   ]
  },
  {
   "cell_type": "code",
   "execution_count": 54,
   "metadata": {},
   "outputs": [
    {
     "name": "stdout",
     "output_type": "stream",
     "text": [
      "0\n",
      "1\n",
      "2\n"
     ]
    }
   ],
   "source": [
    "# start: 0 (default, included) # stop: 3 (excluded) # step: 1 (default) \n",
    "for i in range(3): \n",
    "    print(i) "
   ]
  },
  {
   "cell_type": "code",
   "execution_count": 55,
   "metadata": {},
   "outputs": [
    {
     "name": "stdout",
     "output_type": "stream",
     "text": [
      "12\n",
      "13\n",
      "14\n"
     ]
    }
   ],
   "source": [
    "# start: 2 (included) # stop: 5 (excluded) # step: 1 (default) \n",
    "for i in range(12, 15): \n",
    "    print(i) "
   ]
  },
  {
   "cell_type": "code",
   "execution_count": 56,
   "metadata": {},
   "outputs": [
    {
     "name": "stdout",
     "output_type": "stream",
     "text": [
      "0\n",
      "2\n",
      "4\n",
      "6\n",
      "8\n"
     ]
    }
   ],
   "source": [
    "# start: 1 (included) # stop: 10 (excluded) # step: 3\n",
    "for i in range(0, 10, 2): \n",
    "    print(i) "
   ]
  },
  {
   "cell_type": "markdown",
   "metadata": {},
   "source": [
    "## Generator Comprehension\n",
    "*A generator comprehension is a single-line specification for defining a generator*. It is absolutely essential to learn this syntax in order to write simple and readable code.\n",
    "\n",
    "```\n",
    "(<expression> for <var> in <iterable> [if <condition>]) \n",
    "```\n",
    "Specifies the general form for a generator comprehension. This produces a generator, whose instructions for generating its members are provided within the parenthetical statement."
   ]
  },
  {
   "cell_type": "code",
   "execution_count": 57,
   "metadata": {},
   "outputs": [
    {
     "name": "stdout",
     "output_type": "stream",
     "text": [
      "0.0\n",
      "4.5\n",
      "10.5\n",
      "16.0\n"
     ]
    }
   ],
   "source": [
    "example_gen = (i/2 for i in [0, 9, 21, 32])\n",
    "for item in example_gen:\n",
    "    print(item)"
   ]
  },
  {
   "cell_type": "code",
   "execution_count": 58,
   "metadata": {},
   "outputs": [
    {
     "name": "stdout",
     "output_type": "stream",
     "text": [
      "(0, 0, 0)\n",
      "(1, 1, 1)\n",
      "(2, 4, 8)\n",
      "(3, 9, 27)\n",
      "(4, 16, 64)\n"
     ]
    }
   ],
   "source": [
    "example_gen = ((i, i**2, i**3) for i in range(5))\n",
    "for item in example_gen:\n",
    "    print(item)"
   ]
  },
  {
   "cell_type": "code",
   "execution_count": 59,
   "metadata": {},
   "outputs": [
    {
     "name": "stdout",
     "output_type": "stream",
     "text": [
      "even\n",
      "odd\n",
      "even\n",
      "odd\n"
     ]
    }
   ],
   "source": [
    "example_gen = (('even' if i % 2 == 0 else 'odd') for i in range(4))\n",
    "for item in example_gen:\n",
    "    print(item)"
   ]
  },
  {
   "cell_type": "markdown",
   "metadata": {},
   "source": [
    "## Consuming generators\n",
    "We can feed a generator to any function that accepts iterables. For instance, we can feed it to the built-in sum function, which sums the contents of an iterable. This computes the sum of the sequence of numbers without ever storing the full sequence of numbers in memory.\n",
    "\n",
    "*You must redefine the generator if you want to iterate over it again*. Defining a generator requires very few resources, so this is not a point of concern."
   ]
  },
  {
   "cell_type": "code",
   "execution_count": 60,
   "metadata": {},
   "outputs": [
    {
     "name": "stdout",
     "output_type": "stream",
     "text": [
      "285\n",
      "0\n"
     ]
    }
   ],
   "source": [
    "gen = (i**2 for i in range(10))\n",
    "# computes the sum of gen\n",
    "print(sum(gen))\n",
    "\n",
    "# computes the sum of ... nothing!\n",
    "# gen has already been consumed!\n",
    "print(sum(gen))"
   ]
  },
  {
   "cell_type": "code",
   "execution_count": 61,
   "metadata": {},
   "outputs": [
    {
     "name": "stdout",
     "output_type": "stream",
     "text": [
      "0\n",
      "1\n",
      "4\n"
     ]
    }
   ],
   "source": [
    "gen = (i**2 for i in range(3))\n",
    "print(next(gen))\n",
    "print(next(gen))\n",
    "print(next(gen))\n",
    "# print(next(gen))\n",
    "# StopIteration "
   ]
  },
  {
   "cell_type": "markdown",
   "metadata": {},
   "source": [
    "## Generator comprehensions on-the-fly\n",
    "\n",
    "A generator comprehension can be specified directly as an argument to a function, wherever a single iterable is expected as an input to that function."
   ]
  },
  {
   "cell_type": "code",
   "execution_count": 62,
   "metadata": {},
   "outputs": [
    {
     "name": "stdout",
     "output_type": "stream",
     "text": [
      "45\n",
      "[0, 1, 4, 9, 16, 25, 36, 49, 64, 81]\n",
      "True\n",
      "10, 200, 4000, 800\n"
     ]
    }
   ],
   "source": [
    "# providing generator expressions as arguments to functions\n",
    "# that operate on iterables\n",
    "print(sum(i for i in range(10)))\n",
    "print(list(i**2 for i in range(10)))\n",
    "print(any(i < 6 for i in [6, 6, 5, 7, 8, 8]))\n",
    "print(', '.join(str(i) for i in [10, 200, 4000, 800]))"
   ]
  },
  {
   "cell_type": "markdown",
   "metadata": {},
   "source": [
    "## Iterating over generators (next)\n",
    "The built-in function next allows you manually “request” the next member of a generator, or more generally, any kind of iterator.  Calling next on an exhausted iterator will raise a StopIteration signal."
   ]
  },
  {
   "cell_type": "code",
   "execution_count": 63,
   "metadata": {},
   "outputs": [
    {
     "name": "stdout",
     "output_type": "stream",
     "text": [
      "0.5\n",
      "1.0\n",
      "1.5\n"
     ]
    }
   ],
   "source": [
    "short_gen = (i/2 for i in [1, 2, 3])\n",
    "\n",
    "print(next(short_gen))\n",
    "print(next(short_gen))\n",
    "print(next(short_gen))\n",
    "# print(next(short_gen))\n",
    "# StopIteration"
   ]
  },
  {
   "cell_type": "markdown",
   "metadata": {},
   "source": [
    "## List & Tuple Comprehensions"
   ]
  },
  {
   "cell_type": "markdown",
   "metadata": {},
   "source": [
    "Using generator comprehensions to initialize lists is so useful that Python actually reserves a specialized syntax for it, known as the list comprehension. A list comprehension is a syntax for constructing a list, which exactly mirrors the generator comprehension syntax:\n",
    "\n",
    "```\n",
    "[<expression> for <var> in <iterable> [if <condition>]]\n",
    "```\n",
    "\n",
    "List comprehension produces the exact same result as feeding the list function a generator comprehension. However, using a list comprehension is slightly more efficient than is feeding the list function a generator comprehension."
   ]
  },
  {
   "cell_type": "code",
   "execution_count": 64,
   "metadata": {},
   "outputs": [
    {
     "name": "stdout",
     "output_type": "stream",
     "text": [
      "[0, 1, 2, 3, 4]\n",
      "(0, 1, 4, 9, 16)\n"
     ]
    }
   ],
   "source": [
    "# creating a list using a comprehension expression \n",
    "print([i for i in range(5)])\n",
    "\n",
    "# creating a tuple using a comprehension expression \n",
    "print(tuple(i**2 for i in range(5)))"
   ]
  },
  {
   "cell_type": "code",
   "execution_count": 65,
   "metadata": {},
   "outputs": [
    {
     "name": "stdout",
     "output_type": "stream",
     "text": [
      "[0.0, 1.0, 1.4142135623730951, 1.7320508075688772, 2.0]\n"
     ]
    }
   ],
   "source": [
    "import math\n",
    "print([math.sqrt(i) for i in range(5)])"
   ]
  },
  {
   "cell_type": "code",
   "execution_count": 66,
   "metadata": {},
   "outputs": [
    {
     "name": "stdout",
     "output_type": "stream",
     "text": [
      "['andrew', 'lucy', 'george', 'lucas']\n"
     ]
    }
   ],
   "source": [
    "l = ['  Andrew  ', ' luCY   ', '    george', ' LUCAS  ']\n",
    "l = [s.strip().lower() for s in l]\n",
    "print(l)"
   ]
  },
  {
   "cell_type": "code",
   "execution_count": 67,
   "metadata": {},
   "outputs": [
    {
     "name": "stdout",
     "output_type": "stream",
     "text": [
      "['Python', 'You']\n",
      "['Python', 'You']\n"
     ]
    }
   ],
   "source": [
    "# Select all words containing the char 'o' OR 'O'\n",
    "word_collection = ['Python', 'Like', 'You', 'Mean', 'It']\n",
    "\n",
    "# without list comprehension (4 lines)\n",
    "out = []\n",
    "for word in word_collection:\n",
    "    if 'o' in word.lower():\n",
    "        out.append(word)\n",
    "print(out)\n",
    "\n",
    "# with list comprehension (1 line)\n",
    "out = [word for word in word_collection if 'o' in word.lower()]\n",
    "print(out)"
   ]
  },
  {
   "cell_type": "code",
   "execution_count": 68,
   "metadata": {},
   "outputs": [
    {
     "name": "stdout",
     "output_type": "stream",
     "text": [
      "[0, 0, 0, 1, 1, 0, 0, 0, 1, 0]\n",
      "[0, 0, 0, 1, 1, 0, 0, 0, 1, 0]\n"
     ]
    }
   ],
   "source": [
    "# Skip all non-lowercased letters (including punctuation)\n",
    "# Append 1 if lowercase letter is 'o'\n",
    "# Append 0 if lowercase letter is not 'o'\n",
    "\n",
    "word = 'Hello. How Are You?'\n",
    "\n",
    "# without comprehension\n",
    "out = []\n",
    "for i in word:\n",
    "    if i.islower():\n",
    "        if i == 'o':\n",
    "            out.append(1)\n",
    "        else:\n",
    "            out.append(0)\n",
    "print(out)\n",
    "\n",
    "# with comprehension\n",
    "out = [(1 if letter == 'o' else 0) for letter in word if letter.islower()]\n",
    "print(out)"
   ]
  },
  {
   "cell_type": "markdown",
   "metadata": {},
   "source": [
    "## Dictionary Comprehension\n",
    "Dictionary comprehension is an elegant and concise way to create a new dictionary from an iterable.\n",
    "Dictionary comprehension consists of an expression pair (key: value) followed by a for statement inside curly braces {}."
   ]
  },
  {
   "cell_type": "code",
   "execution_count": 69,
   "metadata": {},
   "outputs": [
    {
     "name": "stdout",
     "output_type": "stream",
     "text": [
      "{0: 0, 1: 1, 2: 4, 3: 9, 4: 16, 5: 25}\n",
      "{0: 0, 1: 1, 2: 4, 3: 9, 4: 16, 5: 25}\n"
     ]
    }
   ],
   "source": [
    "# Without Dictionary Comprehension\n",
    "squares = {}\n",
    "for n in range(6):\n",
    "    squares[n] = n**2\n",
    "print(squares)\n",
    "\n",
    "# With Dictionary Comprehension\n",
    "squares = {n: n**2 for n in range(6)}\n",
    "print(squares)"
   ]
  },
  {
   "cell_type": "code",
   "execution_count": 70,
   "metadata": {},
   "outputs": [
    {
     "name": "stdout",
     "output_type": "stream",
     "text": [
      "{-6772420468520126047: 'is',\n",
      " -3618244624373615208: 'lifting',\n",
      " -2821218520077008155: 'spaceship',\n",
      " -1922498759619520378: 'mother',\n",
      " 3797348510419243046: 'off'}\n"
     ]
    }
   ],
   "source": [
    "words = ['mother', 'spaceship', 'is', 'lifting', 'off']\n",
    "d = {hash(word): word  for word in words}\n",
    "\n",
    "# pprint stands for pretty print for a reason\n",
    "import pprint\n",
    "pprint.pprint(d)"
   ]
  },
  {
   "cell_type": "markdown",
   "metadata": {},
   "source": [
    "# Itertools\n",
    "Python has an itertools module, which provides a core set of fast, memory-efficient tools for creating iterators. The majority of these functions create generators, thus we will have to iterate over them in order to explicitly demonstrate their use. \n",
    "\n",
    "There are three built-in functions, *range()*, *enumerate()*, and *zip()*, that belong in itertools, but they are so useful that they are made accessible immediately and do not need to be imported. It is essential that range, enumerate, and zip become tools that you are comfortable using."
   ]
  },
  {
   "cell_type": "markdown",
   "metadata": {},
   "source": [
    "## range()\n",
    "*range()* allows user to generate a series of numbers within a given range. Depending on how many arguments user is passing to the function, user can decide where that series of numbers will begin and end as well as how big the difference will be between one number and the next."
   ]
  },
  {
   "cell_type": "code",
   "execution_count": 1,
   "metadata": {},
   "outputs": [
    {
     "name": "stdout",
     "output_type": "stream",
     "text": [
      "range(0, 10)\n",
      "[0, 1, 2, 3, 4, 5, 6, 7, 8, 9]\n"
     ]
    }
   ],
   "source": [
    "print(range(10))\n",
    "print(list(range(10)))"
   ]
  },
  {
   "cell_type": "code",
   "execution_count": 4,
   "metadata": {},
   "outputs": [
    {
     "name": "stdout",
     "output_type": "stream",
     "text": [
      "range(5, 10)\n",
      "[5, 6, 7, 8, 9]\n"
     ]
    }
   ],
   "source": [
    "print(range(5, 10))\n",
    "print(list(range(5, 10)))"
   ]
  },
  {
   "cell_type": "code",
   "execution_count": 3,
   "metadata": {},
   "outputs": [
    {
     "name": "stdout",
     "output_type": "stream",
     "text": [
      "range(0, 10, 3)\n",
      "[0, 3, 6, 9]\n"
     ]
    }
   ],
   "source": [
    "print(range(0, 10, 3))\n",
    "print(list(range(0, 10, 3)))"
   ]
  },
  {
   "cell_type": "markdown",
   "metadata": {},
   "source": [
    "## enumerate()\n",
    "When dealing with iterators, we also get a need to keep a count of iterations. Python eases the programmers’ task by providing a built-in function *enumerate()* for this task.\n",
    "*enumerate()* function adds a counter to an iterable and returns it in a form of enumerate object. This enumerate object can then be used directly in for loops or be converted into a list of tuples using list() method."
   ]
  },
  {
   "cell_type": "code",
   "execution_count": 74,
   "metadata": {},
   "outputs": [
    {
     "name": "stdout",
     "output_type": "stream",
     "text": [
      "<enumerate object at 0x10a959708>\n",
      "[(0, 'apple'), (1, 'banana'), (2, 'cat'), (3, 'dog')]\n"
     ]
    }
   ],
   "source": [
    "print(enumerate(['apple', 'banana', 'cat', 'dog']))\n",
    "print(list(enumerate(['apple', 'banana', 'cat', 'dog'])))"
   ]
  },
  {
   "cell_type": "code",
   "execution_count": 75,
   "metadata": {},
   "outputs": [
    {
     "name": "stdout",
     "output_type": "stream",
     "text": [
      "0 apple\n",
      "1 banana\n",
      "2 cat\n",
      "3 dog\n"
     ]
    }
   ],
   "source": [
    "my_list = ['apple', 'banana', 'cat', 'dog']\n",
    "for i, item in enumerate(my_list):\n",
    "    print(i, item)"
   ]
  },
  {
   "cell_type": "markdown",
   "metadata": {},
   "source": [
    "## zip()\n",
    "The purpose of *zip()* is to map the similar index of multiple containers so that they can be used just using as single entity."
   ]
  },
  {
   "cell_type": "code",
   "execution_count": 76,
   "metadata": {},
   "outputs": [
    {
     "name": "stdout",
     "output_type": "stream",
     "text": [
      "<zip object at 0x10a9a0548>\n",
      "[('Angie', 90, 95), ('Brian', 82, 84), ('Cassie', 79, 72), ('David', 87, 91)]\n",
      "Angie 90 95\n",
      "Brian 82 84\n",
      "Cassie 79 72\n",
      "David 87 91\n"
     ]
    }
   ],
   "source": [
    "names = ['Angie', 'Brian', 'Cassie', 'David']\n",
    "exam_1_scores = [90, 82, 79, 87]\n",
    "exam_2_scores = [95, 84, 72, 91]\n",
    "\n",
    "print(zip(names, exam_1_scores, exam_2_scores))\n",
    "print(list(zip(names, exam_1_scores, exam_2_scores)))\n",
    "\n",
    "for name, grade_1, grade_2 in zip(names, exam_1_scores, exam_2_scores):\n",
    "    print(name, grade_1, grade_2)"
   ]
  },
  {
   "cell_type": "markdown",
   "metadata": {},
   "source": [
    "# Sorting Iterables"
   ]
  },
  {
   "cell_type": "markdown",
   "metadata": {},
   "source": [
    "## Using sort() and sorted()"
   ]
  },
  {
   "cell_type": "markdown",
   "metadata": {},
   "source": [
    "Both *list.sort()* and *sorted()* have a key parameter to specify a function (or other callable) to be called on each list element prior to making comparisons.\n",
    "\n",
    "The value of the key parameter should be a function (or other callable) that takes a single argument and returns a key to use for sorting purposes. This technique is fast because the key function is called exactly once for each input record."
   ]
  },
  {
   "cell_type": "code",
   "execution_count": 8,
   "metadata": {},
   "outputs": [
    {
     "name": "stdout",
     "output_type": "stream",
     "text": [
      "[('BMW', 'M2', 200), ('Fiat', '500E', 100), ('Rimac', 'Concept One', 300)]\n"
     ]
    }
   ],
   "source": [
    "# sorting tuples\n",
    "car_tuples = [\n",
    "    ('BMW', 'M2', 200),\n",
    "    ('Rimac', 'Concept One', 300),\n",
    "    ('Fiat', '500E', 100),\n",
    "]\n",
    "\n",
    "# sort by brand\n",
    "print(sorted(car_tuples, key=lambda car : car[0]))"
   ]
  },
  {
   "cell_type": "markdown",
   "metadata": {},
   "source": [
    "## The operator module"
   ]
  },
  {
   "cell_type": "markdown",
   "metadata": {},
   "source": [
    "The key-function patterns shown above are very common, so Python provides convenience functions to make accessor functions easier and faster. The *operator* module has *itemgetter()*, *attrgetter()*, and a *methodcaller()* function."
   ]
  },
  {
   "cell_type": "code",
   "execution_count": 78,
   "metadata": {},
   "outputs": [
    {
     "name": "stdout",
     "output_type": "stream",
     "text": [
      "[('BMW', 'M2', 200), ('Fiat', '500E', 100), ('Rimac', 'Concept One', 300)]\n",
      "[('Fiat', '500E', 100), ('Rimac', 'Concept One', 300), ('BMW', 'M2', 200)]\n"
     ]
    }
   ],
   "source": [
    "import operator\n",
    "print(sorted(car_tuples, key=operator.itemgetter(0)))\n",
    "print(sorted(car_tuples, key=operator.itemgetter(1)))"
   ]
  },
  {
   "cell_type": "markdown",
   "metadata": {},
   "source": [
    "## Sorting on multiple levels\n",
    "The *operator* module functions allows multiple levels of sorting. For example, to sort by grade then by age:"
   ]
  },
  {
   "cell_type": "code",
   "execution_count": 79,
   "metadata": {},
   "outputs": [
    {
     "name": "stdout",
     "output_type": "stream",
     "text": [
      "[('BMW', 'M2', 200), ('Fiat', '500E', 100), ('Rimac', 'Concept One', 300)]\n",
      "[('Fiat', '500E', 100), ('Rimac', 'Concept One', 300), ('BMW', 'M2', 200)]\n"
     ]
    }
   ],
   "source": [
    "import operator\n",
    "print(sorted(car_tuples, key=operator.itemgetter(0, 1)))\n",
    "print(sorted(car_tuples, key=operator.itemgetter(1, 2)))"
   ]
  },
  {
   "cell_type": "markdown",
   "metadata": {},
   "source": [
    "# Copying Iterables"
   ]
  },
  {
   "cell_type": "markdown",
   "metadata": {},
   "source": [
    "## Shallow copy\n",
    "\n",
    "The easiest way to copy a list (or most built-in mutable collections) is to use the built-in constructor for the type itself. For lists and other mutable sequences, the shortcut l2 = l1[:] also makes a copy. \n",
    "\n",
    "However, these approaches produce shallow copies (i.e., the outermost container is duplicated, but the copy is filled with references to the same items held by the original container). This saves memory and causes no problems if all the items are immutable. But if there are mutable items, this may lead to unpleasant surprises. [pythontutor](http://www.pythontutor.com/) allows for visualizing code as the examples below show."
   ]
  },
  {
   "cell_type": "code",
   "execution_count": 80,
   "metadata": {},
   "outputs": [
    {
     "name": "stdout",
     "output_type": "stream",
     "text": [
      "True\n",
      "False\n"
     ]
    }
   ],
   "source": [
    "l1 = [3, [55, 44], (7, 8, 9)]\n",
    "l2 = list(l1)\n",
    "print(l2 == l1)\n",
    "print(l2 is l1)"
   ]
  },
  {
   "cell_type": "markdown",
   "metadata": {},
   "source": [
    "|                |              | \n",
    "| :------------- | :----------: |\n",
    "|  ![alt](images/obj_copy_1.png) |    | "
   ]
  },
  {
   "cell_type": "code",
   "execution_count": 81,
   "metadata": {},
   "outputs": [
    {
     "name": "stdout",
     "output_type": "stream",
     "text": [
      "l1: [3, [66, 55, 44], (7, 8, 9)]\n",
      "l2: [3, [66, 55, 44], (7, 8, 9)]\n",
      "l1: [3, [66, 44, 33, 22], (7, 8, 9), 100]\n",
      "l2: [3, [66, 44, 33, 22], (7, 8, 9, 10, 11)]\n"
     ]
    }
   ],
   "source": [
    "l1 = [3, [66, 55, 44], (7, 8, 9)]\n",
    "l2 = list(l1)\n",
    "print('l1:', l1)\n",
    "print('l2:', l2)\n",
    "l1.append(100)\n",
    "l1[1].remove(55)\n",
    "l2[1] += [33, 22]\n",
    "l2[2] += (10, 11)\n",
    "print('l1:', l1)\n",
    "print('l2:', l2)"
   ]
  },
  {
   "cell_type": "markdown",
   "metadata": {},
   "source": [
    "|  Before        |  After       | \n",
    "| :------------- | :----------: |\n",
    "|  ![alt](images/obj_copy_2.png) | ![alt](images/obj_copy_3.png)   | "
   ]
  },
  {
   "cell_type": "markdown",
   "metadata": {},
   "source": [
    "## Deep copy\n",
    "Deep copies (completely separate copies) can be obtained by making use of the *copy* module."
   ]
  },
  {
   "cell_type": "code",
   "execution_count": 82,
   "metadata": {},
   "outputs": [
    {
     "name": "stdout",
     "output_type": "stream",
     "text": [
      "True\n",
      "False\n",
      "True\n",
      "False\n"
     ]
    }
   ],
   "source": [
    "# shallow copy\n",
    "l1 = [3, [55, 44], (7, 8, 9)]\n",
    "l2 = list(l1)\n",
    "print(l2 == l1)\n",
    "print(l2 is l1)\n",
    "\n",
    "# deep copy\n",
    "import copy\n",
    "l1 = [3, [55, 44], (7, 8, 9)]\n",
    "l2 = copy.deepcopy(l1)\n",
    "print(l2 == l1)\n",
    "print(l2 is l1)"
   ]
  },
  {
   "cell_type": "markdown",
   "metadata": {},
   "source": [
    "|  Shallow Copy  |  Deep Copy   | \n",
    "| :------------- | :----------: |\n",
    "|  ![alt](images/obj_copy_1.png) | ![alt](images/obj_copy_4.png)   |"
   ]
  },
  {
   "cell_type": "code",
   "execution_count": null,
   "metadata": {},
   "outputs": [],
   "source": []
  }
 ],
 "metadata": {
  "kernelspec": {
   "display_name": "Python 3",
   "language": "python",
   "name": "python3"
  },
  "language_info": {
   "codemirror_mode": {
    "name": "ipython",
    "version": 3
   },
   "file_extension": ".py",
   "mimetype": "text/x-python",
   "name": "python",
   "nbconvert_exporter": "python",
   "pygments_lexer": "ipython3",
   "version": "3.6.12"
  }
 },
 "nbformat": 4,
 "nbformat_minor": 4
}

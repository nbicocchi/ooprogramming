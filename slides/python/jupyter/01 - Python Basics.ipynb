{
 "cells": [
  {
   "cell_type": "markdown",
   "metadata": {},
   "source": [
    "# The Python Environment"
   ]
  },
  {
   "cell_type": "markdown",
   "metadata": {},
   "source": [
    "## Timeline\n",
    "\n",
    "* 1989: Python started as a hobby project\n",
    "* 1991: Python 0.9.0 released on the Internet (alt.sources)\n",
    "* 1994: Python 1 released\n",
    "* 2000: Python 2 released\n",
    "* 2008: Python 3 released (no more backward compatibility)\n",
    "* 2020: Python 3.9 released\n",
    "\n",
    "*Python is an experiment in how much freedom programmers need. Too much freedom and nobody can read another's code; too little and expressiveness is endangered.* - Guido van Rossum, August 1996\n",
    "\n",
    "[Guido](http://en.wikipedia.org/wiki/Guido_van_Rossum) [van Rossum](http://www.python.org/~guido/) is considered Python's [Benevolent Dictator for Life](http://en.wikipedia.org/wiki/Benevolent_Dictator_for_Life). Guido still signs off on all major changes to the core Python language."
   ]
  },
  {
   "cell_type": "markdown",
   "metadata": {},
   "source": [
    "## Advantages and disadvantes\n",
    "\n",
    "Advantages\n",
    "\n",
    "* Portable\n",
    "* User-Friendly\n",
    "* Open-Source and Community\n",
    "* Fast Prototyping\n",
    "* High-level (no need to manage system architecture or memory)\n",
    "* Interpreted\n",
    "* Object-Oriented\n",
    "* Dynamic Typing (no need to declare data types)\n",
    "* Large Standard Library\n",
    "\n",
    "Disvantages\n",
    "\n",
    "* Slow Speed\n",
    "* Not Memory Efficient\n",
    "* Weak in Mobile Computing\n",
    "* Database Access (way more primitive than JDBC)\n",
    "* Runtime Errors (dynamically typed languages need more testing)\n"
   ]
  },
  {
   "cell_type": "markdown",
   "metadata": {},
   "source": [
    "## The Zen of Python\n",
    "\n",
    "Experienced Python programmers will encourage you to **avoid complexity** and aim for simplicity whenever possible. \n",
    "The Python community’s philosophy is contained in “The Zen of Python” by Tim Peters. You can access this brief set of principles for writing good code by entering **import this** into your interpreter. "
   ]
  },
  {
   "cell_type": "code",
   "execution_count": 4,
   "metadata": {},
   "outputs": [
    {
     "name": "stdout",
     "output_type": "stream",
     "text": [
      "The Zen of Python, by Tim Peters\n",
      "\n",
      "Beautiful is better than ugly.\n",
      "Explicit is better than implicit.\n",
      "Simple is better than complex.\n",
      "Complex is better than complicated.\n",
      "Flat is better than nested.\n",
      "Sparse is better than dense.\n",
      "Readability counts.\n",
      "Special cases aren't special enough to break the rules.\n",
      "Although practicality beats purity.\n",
      "Errors should never pass silently.\n",
      "Unless explicitly silenced.\n",
      "In the face of ambiguity, refuse the temptation to guess.\n",
      "There should be one-- and preferably only one --obvious way to do it.\n",
      "Although that way may not be obvious at first unless you're Dutch.\n",
      "Now is better than never.\n",
      "Although never is often better than *right* now.\n",
      "If the implementation is hard to explain, it's a bad idea.\n",
      "If the implementation is easy to explain, it may be a good idea.\n",
      "Namespaces are one honking great idea -- let's do more of those!\n"
     ]
    }
   ],
   "source": [
    "import this"
   ]
  },
  {
   "cell_type": "markdown",
   "metadata": {},
   "source": [
    "There is a lot here. Let's just take a few lines, and see what they mean for you as a new programmer.\n",
    "\n",
    "    Beautiful is better than ugly.\n",
    "\n",
    "Python programmers recognize that good code can actually be beautiful. If you come up with a particularly elegant or efficient way to solve a problem, especially a difficult problem, other Python programmers will respect your work and may even call it beautiful. There is beauty in high-level technical work.\n",
    "\n",
    "    Explicit is better than implicit.\n",
    "\n",
    "It is better to be clear about what you are doing, than come up with some shorter way to do something that is difficult to understand.\n",
    "\n",
    "    Simple is better than complex.\n",
    "    Complex is better than complicated.\n",
    "\n",
    "Keep your code simple whenever possible, but recognize that we sometimes take on really difficult problems for which there are no easy solutions. In those cases, accept the complexity but avoid complication.\n",
    "\n",
    "    Readability counts.\n",
    "\n",
    "There are very few interesting and useful programs these days that are written and maintained entirely by one person. Write your code in a way that others can read it as easily as possible, and in a way that you will be able to read and understand it 6 months from now. This includes writing good comments in your code.\n",
    "\n",
    "    There should be one-- and preferably only one --obvious way to do it.\n",
    "\n",
    "There are many ways to solve most problems that come up in programming. However, most problems have a standard, well-established approach. Save complexity for when it is needed, and solve problems in the most straightforward way possible.\n",
    "\n",
    "    Now is better than never.\n",
    "\n",
    "No one ever writes perfect code. If you have an idea you want to implement it, write some code that works. Release it, let it be used by others, and then steadily improve it."
   ]
  },
  {
   "cell_type": "markdown",
   "metadata": {},
   "source": [
    "## Python Enhancement Proposals\n",
    "\n",
    "PEP stands for Python Enhancement Proposal.  A PEP is a design document providing information, or describing a new feature for Python or its processes or environment.  The PEP should provide a concise technical specification of the feature and a rationale for the feature.\n",
    "\n",
    "[PEP 0 -- Index of Python Enhancement Proposals (PEPs)](https://www.python.org/dev/peps/)\n",
    "\n",
    "[PEP 8 -- Style Guide for Python Code](\n",
    "https://www.python.org/dev/peps/pep-0008/)"
   ]
  },
  {
   "cell_type": "markdown",
   "metadata": {},
   "source": [
    "## Python Virtual Machine\n",
    "![alt](images/python_interpreter.png)"
   ]
  },
  {
   "cell_type": "markdown",
   "metadata": {},
   "source": [
    "## Using Python\n",
    "* The Python shell is an interface for typing Python code and executing it directly in your computer’s terminal.\n",
    "* The IPython shell is a much nicer version of the Python shell. It provides syntax highlighting, autocompletion, and other features.\n",
    "* An IDE is a sophisticated text editor that allows you edit, run, and debug code. The most feature-rich is PyCharm. The default and simple one is IDLE. A good compromise is Sublime Text.\n",
    "* Python scripts can be run from command line.\n",
    "* The Jupyter Notebook is a powerful tool for prototyping and experimenting with code, as well as visualizing data and writing nicely-formatted text. We will be using this throughout the course.\n",
    "\n",
    "In all cases aside from Jupyter Notebooks, a python program is a readable script ready for being executed by an interpreter as represented below.\n",
    "\n",
    "```\n",
    "#!/usr/bin/env python\n",
    "def main():\n",
    "  print(‘Hello world!’)\n",
    "\n",
    "if __name__ == \"__main__\":\n",
    "    main()\n",
    "\n",
    "\n",
    "$ python script.py\n",
    "OR\n",
    "$ chmod 755 script.sh\n",
    "$ ./script.sh\n",
    "```"
   ]
  },
  {
   "cell_type": "markdown",
   "metadata": {},
   "source": [
    "## Libraries\n",
    "\n",
    "The Python Package Index (aka PyPI) is the official third-party software repository for the Python. \n",
    "\n",
    "[https://pypi.org/](https://pypi.org/)\n",
    "\n",
    "pip is a is a command-line program used to {install, remove, update, …} software packages written in Python. \n",
    "\n",
    "[https://pypi.python.org/pypi/pip](https://pypi.python.org/pypi/pip)"
   ]
  },
  {
   "cell_type": "markdown",
   "metadata": {},
   "source": [
    "## Virtual environments\n",
    "\n",
    "Virtual Environments allow Python packages to be installed in an isolated location for a particular application, rather than being installed globally. For example, what if you want to install an application and leave it be? If an application works, any change in its libraries or the versions of those libraries can break the application. Virtual Environments have their own installation directories and they don’t share libraries with other virtual environments. venv is available by default in Python 3.3 and later, and installs pip and setuptools into created virtual environments."
   ]
  },
  {
   "cell_type": "markdown",
   "metadata": {},
   "source": [
    "## Which Python version am I running?"
   ]
  },
  {
   "cell_type": "code",
   "execution_count": 5,
   "metadata": {},
   "outputs": [
    {
     "data": {
      "text/plain": [
       "'3.6.7 |Anaconda, Inc.| (default, Oct 23 2018, 14:01:38) \\n[GCC 4.2.1 Compatible Clang 4.0.1 (tags/RELEASE_401/final)]'"
      ]
     },
     "execution_count": 5,
     "metadata": {},
     "output_type": "execute_result"
    }
   ],
   "source": [
    "import sys\n",
    "sys.version"
   ]
  },
  {
   "cell_type": "markdown",
   "metadata": {},
   "source": [
    "# Basic concepts"
   ]
  },
  {
   "cell_type": "markdown",
   "metadata": {},
   "source": [
    "## Main function\n",
    "\n",
    "Python is not designed to start execution of the code from a main function explicitly. A special variable called \\_\\_name\\_\\_ provides the functionality of the main function.  When you run a stand-alone python script which is not referring to any other script, the value of \\_\\_name\\_\\_ variable is equal to \\_\\_main\\_\\_."
   ]
  },
  {
   "cell_type": "code",
   "execution_count": 6,
   "metadata": {},
   "outputs": [
    {
     "name": "stdout",
     "output_type": "stream",
     "text": [
      "Hello world!\n"
     ]
    }
   ],
   "source": [
    "def main():\n",
    "    print('Hello world!')\n",
    "\n",
    "if __name__ == \"__main__\":\n",
    "    main()"
   ]
  },
  {
   "cell_type": "markdown",
   "metadata": {},
   "source": [
    "## Multi-line statements\n",
    "\n",
    "The end of a statement is marked by a newline character. \n",
    "We can make a statement extend over multiple lines with the line continuation character \\\\. Line continuation is implied inside parentheses **( )**, brackets **[ ]**, and braces **{ }**. "
   ]
  },
  {
   "cell_type": "code",
   "execution_count": 7,
   "metadata": {},
   "outputs": [],
   "source": [
    "a = 1 + 2 + 3 + \\\n",
    "    4 + 5 + 6 + \\\n",
    "    7 + 8 + 9\n",
    "\n",
    "a = (1 + 2 + 3 + \n",
    "     4 + 5 + 6 +\n",
    "     7 + 8 + 9)"
   ]
  },
  {
   "cell_type": "markdown",
   "metadata": {},
   "source": [
    "## Indentation\n",
    "\n",
    "Other languages like C/C++ and Java use curly braces **{ }** to indicate the beginning and the end of blocks of code. Python uses white spaces (space or tabs) to define the block of functions. It is **mandatory** to use a consistent amount of spaces (usually 4) for blocks throughout the code."
   ]
  },
  {
   "cell_type": "code",
   "execution_count": 8,
   "metadata": {},
   "outputs": [
    {
     "name": "stdout",
     "output_type": "stream",
     "text": [
      "Who are you?\n",
      "Hi man!\n"
     ]
    }
   ],
   "source": [
    "def test_name(name):\n",
    "    \"\"\"\n",
    "    This is a multi-line comment\n",
    "    Used for explaining functions, methods\n",
    "    \"\"\"\n",
    "    \n",
    "    # single line comment\n",
    "    if name == 'Diego Armando':\n",
    "        print('Hi man!')\n",
    "    else:\n",
    "        print('Who are you?')\n",
    "        \n",
    "test_name('Nicola')\n",
    "test_name('Diego Armando')\n",
    "        \n"
   ]
  },
  {
   "cell_type": "markdown",
   "metadata": {},
   "source": [
    "Naming rules\n",
    "---\n",
    "- Variables can only contain letters, numbers, and underscores. Variable names can start with a letter or an underscore, but can not start with a number.\n",
    "- Spaces are not allowed in variable names, so we use underscores instead of spaces. For example, use student_name instead of \"student name\".\n",
    "- Variable names should be descriptive, without being too long. For example mc_wheels is better than just \"wheels\", and number_of_wheels_on_a_motorycle.\n",
    "- Be careful about using the lowercase letter l and the uppercase letter O in places where they could be confused with the numbers 1 and 0.\n",
    "- You cannot use [Python keywords](http://docs.python.org/3/reference/lexical_analysis.html#keywords) as variable names."
   ]
  },
  {
   "cell_type": "markdown",
   "metadata": {},
   "source": [
    "## Variable Assignment"
   ]
  },
  {
   "cell_type": "markdown",
   "metadata": {},
   "source": [
    "Think of a variable as a name attached to a particular object. In Python, variables need not be declared or defined in advance, as is the case in many other programming languages. To create a variable, you just assign it a value and then start using it. Assignment is done with a single equals sign (=)."
   ]
  },
  {
   "cell_type": "code",
   "execution_count": 9,
   "metadata": {},
   "outputs": [],
   "source": [
    " # one variable, one value\n",
    " v = 'apple.com'\n",
    "\n",
    " # same variable, a new value\n",
    " v = 1\n",
    "\n",
    " # multiple variables, multiple values\n",
    " a, b, c = 5, 3.2, 'Hello'\n",
    "\n",
    " # multiple variables, one value\n",
    " x = y = z = 'same value'"
   ]
  },
  {
   "cell_type": "code",
   "execution_count": 10,
   "metadata": {},
   "outputs": [
    {
     "data": {
      "text/plain": [
       "True"
      ]
     },
     "execution_count": 10,
     "metadata": {},
     "output_type": "execute_result"
    }
   ],
   "source": [
    "import keyword\n",
    "keyword.iskeyword('while')"
   ]
  },
  {
   "cell_type": "markdown",
   "metadata": {},
   "source": [
    "## Constants\n",
    "Constants are written in capital letters with underscores separating words. *Constats are only a convention and can be modified.* In fact, there are no actual compiler checks. Constants are usually declared and assigned in a separate module imported from the main file. "
   ]
  },
  {
   "cell_type": "code",
   "execution_count": 11,
   "metadata": {},
   "outputs": [
    {
     "name": "stdout",
     "output_type": "stream",
     "text": [
      "3.14\n",
      "9.81\n",
      "3.141592653589793\n",
      "2.718281828459045\n"
     ]
    }
   ],
   "source": [
    "PI = 3.14 \n",
    "GRAVITY = 9.81\n",
    "\n",
    "print(PI)\n",
    "print(GRAVITY)\n",
    "\n",
    "import math\n",
    "print(math.pi)\n",
    "print(math.e)"
   ]
  },
  {
   "cell_type": "markdown",
   "metadata": {},
   "source": [
    "## Everything Is an Object\n",
    "\n",
    "Python is an object-oriented programming language, so in Python everything is an object. Some claim erroneously that Python is a type-free language. But this is not the case! Python has types; however, the types are linked not to the variable names but to the objects themselves. Variable names are only names, references to actual objects."
   ]
  },
  {
   "cell_type": "code",
   "execution_count": 12,
   "metadata": {},
   "outputs": [
    {
     "name": "stdout",
     "output_type": "stream",
     "text": [
      "<class 'int'>\n",
      "<class 'float'>\n",
      "<class 'complex'>\n",
      "<class 'str'>\n"
     ]
    }
   ],
   "source": [
    "x = 4 \n",
    "print(type(x))\n",
    "\n",
    "x = 3.14159 \n",
    "print(type(x))\n",
    "\n",
    "x = 3+4j\n",
    "print(type(x))\n",
    "\n",
    "x = 'hello' \n",
    "print(type(x))"
   ]
  },
  {
   "cell_type": "markdown",
   "metadata": {},
   "source": [
    "In object-oriented programming languages, an object is an entity that contains data along with associated functionalities. Every entity has data (called attributes) and associated functionalities (called methods). These attributes and methods are accessed via the dot syntax. What is sometimes unexpected is that in Python even simple types have attached attributes and methods."
   ]
  },
  {
   "cell_type": "code",
   "execution_count": 13,
   "metadata": {},
   "outputs": [
    {
     "name": "stdout",
     "output_type": "stream",
     "text": [
      "4.0 + 3.0 i\n",
      "False\n",
      "True\n"
     ]
    }
   ],
   "source": [
    "x = 4+3j\n",
    "print(x.real, \"+\", x.imag, 'i')\n",
    "\n",
    "x = 4.5\n",
    "print(x.is_integer())\n",
    "\n",
    "x = 4.0\n",
    "print(x.is_integer())"
   ]
  },
  {
   "cell_type": "markdown",
   "metadata": {},
   "source": [
    "# Literals"
   ]
  },
  {
   "cell_type": "markdown",
   "metadata": {},
   "source": [
    "## Numeric literals\n",
    "\n",
    "Numeric Literals are immutable (unchangeable). Can be only redefined (discarding the old value). Numeric literals can belong to 3 different numerical types: Integer, Float, Complex. The **math** module contains mathematical functions. The **random** module provides functions for random numbers."
   ]
  },
  {
   "cell_type": "code",
   "execution_count": 14,
   "metadata": {},
   "outputs": [
    {
     "name": "stdout",
     "output_type": "stream",
     "text": [
      "3.0\n",
      "1.4142135623730951\n",
      "0.0440648676446832\n"
     ]
    }
   ],
   "source": [
    "i = 0b1010 # Integer (Binary)\n",
    "i = 100    # Integer (Decimal)\n",
    "i = 0x12c  # Integer (Hex)\n",
    "\n",
    "f = 10.5   # Float \n",
    "f = 1.5e2  # Float\n",
    "\n",
    "c = 3.14j   # Complex \n",
    "\n",
    "import math\n",
    "print(math.fabs(-3))\n",
    "print(math.sqrt(2))\n",
    "\n",
    "import random\n",
    "print(random.random())"
   ]
  },
  {
   "cell_type": "markdown",
   "metadata": {},
   "source": [
    "## Boolean literals\n",
    "\n",
    "Boolean values are the two constant objects **False** and **True**.\n",
    "They are used to represent truth values (other values can also be considered false or true). In numeric contexts, they behave like integers (i.e., True = 1, False = 0)."
   ]
  },
  {
   "cell_type": "code",
   "execution_count": 15,
   "metadata": {},
   "outputs": [
    {
     "name": "stdout",
     "output_type": "stream",
     "text": [
      "x = True\n",
      "y = False\n",
      "z = 6\n",
      "k = 5\n"
     ]
    }
   ],
   "source": [
    "x = (1 == True)\n",
    "y = (1 == False)\n",
    "z = True + 5\n",
    "k = False + 5\n",
    "\n",
    "print('x =', x)\n",
    "print('y =', y)\n",
    "print('z =', z)\n",
    "print('k =', k)"
   ]
  },
  {
   "cell_type": "markdown",
   "metadata": {},
   "source": [
    "Every value can be evaluated as True or False. The general rule is that any non-zero or non-empty value will evaluate to True. If you are ever unsure, you can open a Python terminal and write two lines to find out if the value you are considering is True or False."
   ]
  },
  {
   "cell_type": "code",
   "execution_count": 1,
   "metadata": {
    "collapsed": false,
    "jupyter": {
     "outputs_hidden": false
    }
   },
   "outputs": [
    {
     "name": "stdout",
     "output_type": "stream",
     "text": [
      "This evaluates to True.\n"
     ]
    }
   ],
   "source": [
    "if 1253756:\n",
    "    print('This evaluates to True.')\n",
    "else:\n",
    "    print('This evaluates to False.')"
   ]
  },
  {
   "cell_type": "code",
   "execution_count": 2,
   "metadata": {
    "collapsed": false,
    "jupyter": {
     "outputs_hidden": false
    }
   },
   "outputs": [
    {
     "name": "stdout",
     "output_type": "stream",
     "text": [
      "This evaluates to True.\n"
     ]
    }
   ],
   "source": [
    "if -1:\n",
    "    print('This evaluates to True.')\n",
    "else:\n",
    "    print('This evaluates to False.')"
   ]
  },
  {
   "cell_type": "code",
   "execution_count": 3,
   "metadata": {
    "collapsed": false,
    "jupyter": {
     "outputs_hidden": false
    }
   },
   "outputs": [
    {
     "name": "stdout",
     "output_type": "stream",
     "text": [
      "This evaluates to False.\n"
     ]
    }
   ],
   "source": [
    "if '':\n",
    "    print('This evaluates to True.')\n",
    "else:\n",
    "    print('This evaluates to False.')"
   ]
  },
  {
   "cell_type": "code",
   "execution_count": 4,
   "metadata": {
    "collapsed": false,
    "jupyter": {
     "outputs_hidden": false
    }
   },
   "outputs": [
    {
     "name": "stdout",
     "output_type": "stream",
     "text": [
      "This evaluates to True.\n"
     ]
    }
   ],
   "source": [
    "if ' ':\n",
    "    print('This evaluates to True.')\n",
    "else:\n",
    "    print('This evaluates to False.')"
   ]
  },
  {
   "cell_type": "code",
   "execution_count": 5,
   "metadata": {
    "collapsed": false,
    "jupyter": {
     "outputs_hidden": false
    }
   },
   "outputs": [
    {
     "name": "stdout",
     "output_type": "stream",
     "text": [
      "This evaluates to True.\n"
     ]
    }
   ],
   "source": [
    "if 'hello':\n",
    "    print('This evaluates to True.')\n",
    "else:\n",
    "    print('This evaluates to False.')"
   ]
  },
  {
   "cell_type": "code",
   "execution_count": 6,
   "metadata": {
    "collapsed": false,
    "jupyter": {
     "outputs_hidden": false
    }
   },
   "outputs": [
    {
     "name": "stdout",
     "output_type": "stream",
     "text": [
      "This evaluates to False.\n"
     ]
    }
   ],
   "source": [
    "if None:\n",
    "    print('This evaluates to True.')\n",
    "else:\n",
    "    print('This evaluates to False.')"
   ]
  },
  {
   "cell_type": "markdown",
   "metadata": {},
   "source": [
    "## String literals\n",
    "Strings are arrays of bytes representing Unicode characters (16bit encoding).\n",
    "Python does not have a character data type, a single character is a string with a length of 1."
   ]
  },
  {
   "cell_type": "code",
   "execution_count": 7,
   "metadata": {},
   "outputs": [],
   "source": [
    "a = 'This is Python'\n",
    "b = 'C'\n",
    "c = \\\n",
    "\"\"\"\n",
    "This is a multiline string with more than one line code.\n",
    "\"\"\""
   ]
  },
  {
   "cell_type": "markdown",
   "metadata": {},
   "source": [
    "## type()\n",
    "If a single object is passed to type(), the function returns its type.\n",
    "We can use the type() function to know which class a variable or a value belongs to and the isinstance() function to check if it belongs to a particular class."
   ]
  },
  {
   "cell_type": "code",
   "execution_count": 23,
   "metadata": {},
   "outputs": [
    {
     "name": "stdout",
     "output_type": "stream",
     "text": [
      "<class 'int'>\n",
      "<class 'float'>\n",
      "<class 'complex'>\n",
      "True\n"
     ]
    }
   ],
   "source": [
    "a = 5\n",
    "b = 2.3 \n",
    "c = 5 + 3j\n",
    "\n",
    "print(type(a))\n",
    "print(type(b))\n",
    "print(type(c))\n",
    "print(isinstance(c, complex))"
   ]
  },
  {
   "cell_type": "markdown",
   "metadata": {},
   "source": [
    "## Implicit Casting\n",
    "In Implicit type conversion, Python automatically converts one data type to another data type. This process doesn't need any user involvement.\n",
    "Python promotes the conversion of the lower data type (integer) to the higher data type (float) to avoid data loss."
   ]
  },
  {
   "cell_type": "code",
   "execution_count": 24,
   "metadata": {},
   "outputs": [
    {
     "name": "stdout",
     "output_type": "stream",
     "text": [
      "<class 'int'>\n",
      "<class 'float'>\n",
      "<class 'float'>\n"
     ]
    }
   ],
   "source": [
    "a = 123\n",
    "b = 1.23\n",
    "c = a + b\n",
    "\n",
    "print(type(a))\n",
    "print(type(b))\n",
    "print(type(c))"
   ]
  },
  {
   "cell_type": "markdown",
   "metadata": {},
   "source": [
    "## Explicit Casting\n",
    "* int() - constructs an integer number from an integer literal, a float literal, or a string literal (providing the string represents a whole number)\n",
    "* float() - constructs a float number from an integer literal, a float literal or a string literal (providing the string represents a float or an integer)\n",
    "* str() - constructs a string from a wide variety of data types, including strings, integer literals and float literals\n",
    "* bool() - constructs a boolean from a numeric literals."
   ]
  },
  {
   "cell_type": "code",
   "execution_count": 25,
   "metadata": {},
   "outputs": [
    {
     "name": "stdout",
     "output_type": "stream",
     "text": [
      "<class 'int'> 1\n",
      "<class 'int'> 2\n",
      "<class 'int'> 2\n",
      "<class 'float'> 1.0\n",
      "<class 'float'> 4.2\n",
      "<class 'float'> 2.0\n",
      "<class 'str'> abc\n",
      "<class 'str'> 4.2\n",
      "<class 'str'> 2\n",
      "<class 'bool'> True\n",
      "<class 'bool'> False\n",
      "<class 'bool'> True\n"
     ]
    }
   ],
   "source": [
    "def show(n):\n",
    "    print(type(n), n)\n",
    "\n",
    "show(int(1))\n",
    "show(int(2.8))\n",
    "show(int('2'))\n",
    "\n",
    "show(float(1))\n",
    "show(float('4.2'))\n",
    "show(float('2'))\n",
    "\n",
    "show(str('abc'))\n",
    "show(str('4.2'))\n",
    "show(str('2'))\n",
    "\n",
    "show(bool(1))\n",
    "show(bool(0))\n",
    "show(bool(0.2))"
   ]
  },
  {
   "cell_type": "markdown",
   "metadata": {},
   "source": [
    "Numbers\n",
    "===\n",
    "Dealing with simple numerical data is fairly straightforward in Python, but there are a few things you should know about."
   ]
  },
  {
   "cell_type": "markdown",
   "metadata": {},
   "source": [
    "Integers\n",
    "---\n",
    "You can do all of the basic operations with integers, and everything should behave as you expect. Addition and subtraction use the standard plus and minus symbols. Multiplication uses the asterisk, and division uses a forward slash. Exponents use two asterisks."
   ]
  },
  {
   "cell_type": "code",
   "execution_count": 26,
   "metadata": {
    "collapsed": false,
    "jupyter": {
     "outputs_hidden": false
    }
   },
   "outputs": [
    {
     "name": "stdout",
     "output_type": "stream",
     "text": [
      "5\n",
      "1\n",
      "6\n",
      "1.5\n",
      "9\n"
     ]
    }
   ],
   "source": [
    "print(3+2)\n",
    "print(3-2)\n",
    "print(3*2)\n",
    "print(3/2)\n",
    "print(3**2)"
   ]
  },
  {
   "cell_type": "markdown",
   "metadata": {},
   "source": [
    "You can use parenthesis to modify the standard order of operations."
   ]
  },
  {
   "cell_type": "code",
   "execution_count": 27,
   "metadata": {
    "collapsed": false,
    "jupyter": {
     "outputs_hidden": false
    }
   },
   "outputs": [
    {
     "name": "stdout",
     "output_type": "stream",
     "text": [
      "14\n"
     ]
    }
   ],
   "source": [
    "standard_order = 2+3*4\n",
    "print(standard_order)"
   ]
  },
  {
   "cell_type": "code",
   "execution_count": 28,
   "metadata": {
    "collapsed": false,
    "jupyter": {
     "outputs_hidden": false
    }
   },
   "outputs": [
    {
     "name": "stdout",
     "output_type": "stream",
     "text": [
      "20\n"
     ]
    }
   ],
   "source": [
    "my_order = (2+3)*4\n",
    "print(my_order)"
   ]
  },
  {
   "cell_type": "markdown",
   "metadata": {},
   "source": [
    "Floating-Point numbers\n",
    "---\n",
    "Floating-point numbers refer to any number with a decimal point. Most of the time, you can think of floating point numbers as decimals, and they will behave as you expect them to."
   ]
  },
  {
   "cell_type": "code",
   "execution_count": 29,
   "metadata": {
    "collapsed": false,
    "jupyter": {
     "outputs_hidden": false
    }
   },
   "outputs": [
    {
     "name": "stdout",
     "output_type": "stream",
     "text": [
      "0.2\n"
     ]
    }
   ],
   "source": [
    "print(0.1+0.1)"
   ]
  },
  {
   "cell_type": "markdown",
   "metadata": {},
   "source": [
    "However, sometimes you will get an answer with an unexpectly long decimal part:"
   ]
  },
  {
   "cell_type": "code",
   "execution_count": 30,
   "metadata": {
    "collapsed": false,
    "jupyter": {
     "outputs_hidden": false
    }
   },
   "outputs": [
    {
     "name": "stdout",
     "output_type": "stream",
     "text": [
      "0.30000000000000004\n"
     ]
    }
   ],
   "source": [
    "print(0.1+0.2)"
   ]
  },
  {
   "cell_type": "markdown",
   "metadata": {},
   "source": [
    "This happens because of the way computers represent numbers internally; this has nothing to do with Python itself. Basically, we are used to working in powers of ten, where one tenth plus two tenths is just three tenths. But computers work in powers of two. So your computer has to represent 0.1 in a power of two, and then 0.2 as a power of two, and express their sum as a power of two. There is no exact representation for 0.3 in powers of two, and we see that in the answer to 0.1+0.2. Python tries to hide this kind of stuff when possible. "
   ]
  },
  {
   "cell_type": "markdown",
   "metadata": {},
   "source": [
    "# Strings"
   ]
  },
  {
   "cell_type": "markdown",
   "metadata": {},
   "source": [
    "## String\n",
    "A string is a sequence of UNICODE characters (16bit encoding). Sequences allow you to store multiple values in an organized and efficient fashion. There are seven sequence types: strings, Unicode strings, lists, tuples, bytearrays, buffers, and xrange objects.\n",
    "Anything inside quotes is considered a string. It is possible to use single or double quotes around strings. Syntax highlighting is helpful!"
   ]
  },
  {
   "cell_type": "code",
   "execution_count": 31,
   "metadata": {},
   "outputs": [
    {
     "name": "stdout",
     "output_type": "stream",
     "text": [
      "This is a string.\n",
      "This is also a string.\n",
      "I told my friend, \"Python is my favorite language!\"\n",
      "The language 'Python' is named after Monty Python, not the snake.\n"
     ]
    }
   ],
   "source": [
    "print(\"This is a string.\")\n",
    "print('This is also a string.')\n",
    "print('I told my friend, \"Python is my favorite language!\"')\n",
    "print(\"The language 'Python' is named after Monty Python, not the snake.\")"
   ]
  },
  {
   "cell_type": "markdown",
   "metadata": {},
   "source": [
    "## len()\n",
    "The len() bultin function returns the number of items in an object.\n",
    "When the object is a string, the len() function returns the number of characters in the string. Internally, len() calls object's __len__ method. \n",
    "\n",
    "```\n",
    "def len(s): \n",
    "    return s.__len__()\n",
    "```"
   ]
  },
  {
   "cell_type": "code",
   "execution_count": 32,
   "metadata": {},
   "outputs": [
    {
     "name": "stdout",
     "output_type": "stream",
     "text": [
      "6\n",
      "6\n",
      "4\n"
     ]
    }
   ],
   "source": [
    "# string object\n",
    "obj = 'Python'\n",
    "print(len(obj))\n",
    "\n",
    "# byte object\n",
    "obj = b'Python'\n",
    "print(len(obj))\n",
    "\n",
    "# list object\n",
    "obj = [1, 2, 3, 4]\n",
    "print(len(obj))"
   ]
  },
  {
   "cell_type": "markdown",
   "metadata": {},
   "source": [
    "## Accessing characters\n",
    "Individual characters can be accessed using **indexing**, **negative indexing**, and **slicing**. Index starts both from 0 and -1. Access a character out of index range raises IndexError. Using not-integer index raises TypeError. Concerning negative indexing, the index of -1 refers to the last item, -2 to the second last item and so on. We can also access a range of items in a string by using the slicing operator :(colon)."
   ]
  },
  {
   "cell_type": "code",
   "execution_count": 87,
   "metadata": {},
   "outputs": [
    {
     "name": "stdout",
     "output_type": "stream",
     "text": [
      "o\n",
      "r\n",
      "g\n",
      "n\n",
      "op\n",
      "grammi\n"
     ]
    }
   ],
   "source": [
    "name = 'ooprogramming'\n",
    "# indexing\n",
    "print(name[0])\n",
    "print(name[3])\n",
    "\n",
    "# negative indexing\n",
    "print(name[-1])\n",
    "print(name[-2])\n",
    "\n",
    "# slicing\n",
    "print(name[1:3])\n",
    "print(name[5:-2])"
   ]
  },
  {
   "cell_type": "markdown",
   "metadata": {},
   "source": [
    "## Changing Strings\n",
    "Strings are immutable. This means that elements of a string cannot be changed once they have been assigned. \n",
    "We can only assign different values to the same reference (i.e., the old object is discarded).\n",
    "We cannot delete or remove characters from a string. But deleting the string entirely is possible using the del keyword."
   ]
  },
  {
   "cell_type": "code",
   "execution_count": 89,
   "metadata": {},
   "outputs": [],
   "source": [
    "name = 'python'\n",
    "# name[2] = 'a'\n",
    "# TypeError: 'str' object does not support item assignment\n",
    "\n",
    "# del name\n",
    "# print(name)\n",
    "# UnboundLocalError: local variable 'str' referenced before assignment"
   ]
  },
  {
   "cell_type": "markdown",
   "metadata": {},
   "source": [
    "## Combining Strings"
   ]
  },
  {
   "cell_type": "code",
   "execution_count": 90,
   "metadata": {},
   "outputs": [
    {
     "name": "stdout",
     "output_type": "stream",
     "text": [
      "ada lovelace\n",
      "ada lovelace\n"
     ]
    }
   ],
   "source": [
    "a = 'ada'\n",
    "b = 'lovelace'\n",
    "\n",
    "name = a + ' ' + b \n",
    "print(name) \n",
    "name = '{} {}'.format(a, b) \n",
    "print(name) "
   ]
  },
  {
   "cell_type": "markdown",
   "metadata": {},
   "source": [
    "Explicit casting is required when mixing numeric literals and string literals.\n",
    "Alternatively, use string formatting techniques."
   ]
  },
  {
   "cell_type": "code",
   "execution_count": 36,
   "metadata": {},
   "outputs": [
    {
     "name": "stdout",
     "output_type": "stream",
     "text": [
      "Happy 23rd Birthday!\n",
      "Happy 23rd Birthday!\n"
     ]
    }
   ],
   "source": [
    "age = 23 \n",
    "# print('Happy ' + age + 'rd Birthday!') \n",
    "# TypeError: must be str, not int\n",
    "print('Happy ' + str(age) + 'rd Birthday!')\n",
    "print('Happy {}rd Birthday!'.format(age))"
   ]
  },
  {
   "cell_type": "markdown",
   "metadata": {},
   "source": [
    "## Formatting Strings"
   ]
  },
  {
   "cell_type": "code",
   "execution_count": 37,
   "metadata": {},
   "outputs": [
    {
     "name": "stdout",
     "output_type": "stream",
     "text": [
      "bicocchi nicola\n",
      "nicola    * bicocchi  *\n",
      "0.3333 0.6667\n",
      "0000.3 0000.7\n"
     ]
    }
   ],
   "source": [
    "# re-arranging the order of arguments\n",
    "print('{1} {0}'.format('nicola', 'bicocchi'))\n",
    "\n",
    "# padding up to 10 spaces\n",
    "print('{:10}* {:10}*'.format('nicola', 'bicocchi'))\n",
    "\n",
    "# padding up to 6 spaces, 2 digits precision\n",
    "print('{:06.4f} {:06.4f}'.format(1 / 3, 2 / 3))\n",
    "\n",
    "# padding up to 4 spaces, 1 digit precision\n",
    "print('{:06.1f} {:06.1f}'.format(1 / 3, 2 / 3))"
   ]
  },
  {
   "cell_type": "markdown",
   "metadata": {},
   "source": [
    "## Dealing with whitespaces"
   ]
  },
  {
   "cell_type": "code",
   "execution_count": 38,
   "metadata": {},
   "outputs": [
    {
     "name": "stdout",
     "output_type": "stream",
     "text": [
      "' python'\n",
      "'python '\n",
      "'python'\n",
      "'    python'\n",
      "'python    '\n",
      "'  python  '\n"
     ]
    }
   ],
   "source": [
    "name = ' python '\n",
    "print('\\'{}\\''.format(name.rstrip()))\n",
    "print('\\'{}\\''.format(name.lstrip()))\n",
    "print('\\'{}\\''.format(name.strip()))\n",
    "\n",
    "name = 'python'\n",
    "print('\\'{}\\''.format(name.rjust(10)))\n",
    "print('\\'{}\\''.format(name.ljust(10)))\n",
    "print('\\'{}\\''.format(name.center(10)))"
   ]
  },
  {
   "cell_type": "markdown",
   "metadata": {},
   "source": [
    "## Dealing with cases"
   ]
  },
  {
   "cell_type": "code",
   "execution_count": 39,
   "metadata": {},
   "outputs": [
    {
     "name": "stdout",
     "output_type": "stream",
     "text": [
      "ADA LOVELACE\n",
      "ada lovelace\n",
      "Ada lovelace\n",
      "Ada Lovelace\n",
      "False\n",
      "False\n",
      "True\n"
     ]
    }
   ],
   "source": [
    "name = 'Ada Lovelace'\n",
    "print(name.upper())\n",
    "print(name.lower())\n",
    "print(name.capitalize())\n",
    "print(name.title())\n",
    "print(name.islower())\n",
    "print(name.isupper())\n",
    "print(name.istitle())"
   ]
  },
  {
   "cell_type": "markdown",
   "metadata": {},
   "source": [
    "## String membership\n",
    "We can test if a substring exists within a string or not, using the keyword in."
   ]
  },
  {
   "cell_type": "code",
   "execution_count": 40,
   "metadata": {},
   "outputs": [
    {
     "data": {
      "text/plain": [
       "True"
      ]
     },
     "execution_count": 40,
     "metadata": {},
     "output_type": "execute_result"
    }
   ],
   "source": [
    "'a' in 'program'\n",
    "True"
   ]
  },
  {
   "cell_type": "code",
   "execution_count": 41,
   "metadata": {},
   "outputs": [
    {
     "data": {
      "text/plain": [
       "False"
      ]
     },
     "execution_count": 41,
     "metadata": {},
     "output_type": "execute_result"
    }
   ],
   "source": [
    "'at' not in 'battle'\n",
    "False"
   ]
  },
  {
   "cell_type": "markdown",
   "metadata": {},
   "source": [
    "## Finding substrings"
   ]
  },
  {
   "cell_type": "markdown",
   "metadata": {},
   "source": [
    "If you want to know where a substring appears in a string, you can use the *find()* method. The *find()* method tells you the index at which the substring begins."
   ]
  },
  {
   "cell_type": "code",
   "execution_count": 42,
   "metadata": {
    "collapsed": false,
    "jupyter": {
     "outputs_hidden": false
    }
   },
   "outputs": [
    {
     "name": "stdout",
     "output_type": "stream",
     "text": [
      "16\n"
     ]
    }
   ],
   "source": [
    "message = 'I like cats and dogs, but I\\'d much rather own a dog.'\n",
    "dog_index = message.find('dog')\n",
    "print(dog_index)"
   ]
  },
  {
   "cell_type": "markdown",
   "metadata": {},
   "source": [
    "Note, however, that this function only returns the index of the first appearance of the substring you are looking for. If the substring appears more than once, you will miss the other substrings."
   ]
  },
  {
   "cell_type": "code",
   "execution_count": 43,
   "metadata": {
    "collapsed": false,
    "jupyter": {
     "outputs_hidden": false
    }
   },
   "outputs": [
    {
     "name": "stdout",
     "output_type": "stream",
     "text": [
      "16\n"
     ]
    }
   ],
   "source": [
    "message = 'I like cats and dogs, but I\\'d much rather own a dog.'\n",
    "dog_index = message.find('dog')\n",
    "print(dog_index)"
   ]
  },
  {
   "cell_type": "markdown",
   "metadata": {},
   "source": [
    "If you want to find the last appearance of a substring, you can use the *rfind()* function:"
   ]
  },
  {
   "cell_type": "code",
   "execution_count": 44,
   "metadata": {
    "collapsed": false,
    "jupyter": {
     "outputs_hidden": false
    }
   },
   "outputs": [
    {
     "name": "stdout",
     "output_type": "stream",
     "text": [
      "48\n"
     ]
    }
   ],
   "source": [
    "message = 'I like cats and dogs, but I\\'d much rather own a dog.'\n",
    "last_dog_index = message.rfind('dog')\n",
    "print(last_dog_index)"
   ]
  },
  {
   "cell_type": "markdown",
   "metadata": {},
   "source": [
    "Replacing substrings\n",
    "---\n",
    "You can use the *replace()* function to replace any substring with another substring. To use the *replace()* function, give the substring you want to replace, and then the substring you want to replace it with. You also need to store the new string, either in the same string variable or in a new variable."
   ]
  },
  {
   "cell_type": "code",
   "execution_count": 45,
   "metadata": {
    "collapsed": false,
    "jupyter": {
     "outputs_hidden": false
    }
   },
   "outputs": [
    {
     "name": "stdout",
     "output_type": "stream",
     "text": [
      "I like cats and snakes, but I'd much rather own a snake.\n"
     ]
    }
   ],
   "source": [
    "message = 'I like cats and dogs, but I\\'d much rather own a dog.'\n",
    "message = message.replace('dog', 'snake')\n",
    "print(message)"
   ]
  },
  {
   "cell_type": "markdown",
   "metadata": {},
   "source": [
    "Counting substrings\n",
    "---\n",
    "If you want to know how many times a substring appears within a string, you can use the *count()* method."
   ]
  },
  {
   "cell_type": "code",
   "execution_count": 46,
   "metadata": {
    "collapsed": false,
    "jupyter": {
     "outputs_hidden": false
    }
   },
   "outputs": [
    {
     "name": "stdout",
     "output_type": "stream",
     "text": [
      "2\n"
     ]
    }
   ],
   "source": [
    "message = 'I like cats and dogs, but I\\'d much rather own a dog.'\n",
    "number_dogs = message.count('dog')\n",
    "print(number_dogs)"
   ]
  },
  {
   "cell_type": "markdown",
   "metadata": {},
   "source": [
    "Splitting strings\n",
    "---\n",
    "Strings can be split into a set of substrings when they are separated by a repeated character. If a string consists of a simple sentence, the string can be split based on spaces. The *split()* function returns a list of substrings. The *split()* function takes one argument, the character that separates the parts of the string."
   ]
  },
  {
   "cell_type": "code",
   "execution_count": 47,
   "metadata": {
    "collapsed": false,
    "jupyter": {
     "outputs_hidden": false
    }
   },
   "outputs": [
    {
     "name": "stdout",
     "output_type": "stream",
     "text": [
      "['I', 'like', 'cats', 'and', 'dogs,', 'but', \"I'd\", 'much', 'rather', 'own', 'a', 'dog.']\n"
     ]
    }
   ],
   "source": [
    "message = 'I like cats and dogs, but I\\'d much rather own a dog.'\n",
    "words = message.split(' ')\n",
    "print(words)"
   ]
  },
  {
   "cell_type": "markdown",
   "metadata": {},
   "source": [
    "Notice that the punctuation is left in the substrings.\n",
    "\n",
    "It is more common to split strings that are really lists, separated by something like a comma. The *split()* function gives you an easy way to turn comma-separated strings, which you can't do much with in Python, into lists. Once you have your data in a list, you can work with it in much more powerful ways."
   ]
  },
  {
   "cell_type": "code",
   "execution_count": 48,
   "metadata": {
    "collapsed": false,
    "jupyter": {
     "outputs_hidden": false
    }
   },
   "outputs": [
    {
     "name": "stdout",
     "output_type": "stream",
     "text": [
      "['dog', ' cat', ' tiger', ' mouse', ' liger', ' bear']\n"
     ]
    }
   ],
   "source": [
    "animals = 'dog, cat, tiger, mouse, liger, bear'\n",
    "\n",
    "# Rewrite the string as a list, and store it in the same variable\n",
    "animals = animals.split(',')\n",
    "print(animals)"
   ]
  },
  {
   "cell_type": "markdown",
   "metadata": {},
   "source": [
    "# Flow control"
   ]
  },
  {
   "cell_type": "markdown",
   "metadata": {},
   "source": [
    "## if .. else\n",
    "The if..else statement evaluates a boolean condition. If the condition is True, the body of if is executed. If the condition is False, the body of else is executed. Mandatory indentation is used to separate the blocks."
   ]
  },
  {
   "cell_type": "code",
   "execution_count": 92,
   "metadata": {},
   "outputs": [
    {
     "name": "stdout",
     "output_type": "stream",
     "text": [
      "positive number\n"
     ]
    }
   ],
   "source": [
    "number = 0\n",
    "if number >= 0:\n",
    "    print(\"positive number\")\n",
    "else:\n",
    "    print(\"negative number\")"
   ]
  },
  {
   "cell_type": "markdown",
   "metadata": {},
   "source": [
    "## if .. elif .. else\n",
    "The elif is short for else if. It allows us to check for multiple conditions. If the condition for if is False, it checks the condition of the next elif block and so on. If all the conditions are False, the body of else is executed. Only one block among the several if...elif...else blocks is executed according to the condition. The if block can have only one else block. But it can have multiple elif blocks."
   ]
  },
  {
   "cell_type": "code",
   "execution_count": 50,
   "metadata": {},
   "outputs": [
    {
     "name": "stdout",
     "output_type": "stream",
     "text": [
      "zero\n"
     ]
    }
   ],
   "source": [
    "number = 0\n",
    "if number > 0:\n",
    "    print(\"positive number\")\n",
    "elif number < 0:\n",
    "    print(\"negative number\")\n",
    "else:\n",
    "    print('zero')"
   ]
  },
  {
   "cell_type": "markdown",
   "metadata": {},
   "source": [
    "## Comparison operators\n",
    "Every if statement evaluates to *True* or *False*. *True* and *False* are Python keywords, which have special meanings attached to them. You can test a number of conditions in your if statements. The most frequently used are listed below."
   ]
  },
  {
   "cell_type": "code",
   "execution_count": 51,
   "metadata": {
    "collapsed": false,
    "jupyter": {
     "outputs_hidden": false
    }
   },
   "outputs": [
    {
     "data": {
      "text/plain": [
       "False"
      ]
     },
     "execution_count": 51,
     "metadata": {},
     "output_type": "execute_result"
    }
   ],
   "source": [
    "5 == 4"
   ]
  },
  {
   "cell_type": "code",
   "execution_count": 52,
   "metadata": {
    "collapsed": false,
    "jupyter": {
     "outputs_hidden": false
    }
   },
   "outputs": [
    {
     "data": {
      "text/plain": [
       "True"
      ]
     },
     "execution_count": 52,
     "metadata": {},
     "output_type": "execute_result"
    }
   ],
   "source": [
    "5 == 5.0"
   ]
  },
  {
   "cell_type": "code",
   "execution_count": 53,
   "metadata": {
    "collapsed": false,
    "jupyter": {
     "outputs_hidden": false
    }
   },
   "outputs": [
    {
     "data": {
      "text/plain": [
       "True"
      ]
     },
     "execution_count": 53,
     "metadata": {},
     "output_type": "execute_result"
    }
   ],
   "source": [
    "'Eric'.lower() == 'eric'.lower()"
   ]
  },
  {
   "cell_type": "code",
   "execution_count": 54,
   "metadata": {
    "collapsed": false,
    "jupyter": {
     "outputs_hidden": false
    }
   },
   "outputs": [
    {
     "data": {
      "text/plain": [
       "True"
      ]
     },
     "execution_count": 54,
     "metadata": {},
     "output_type": "execute_result"
    }
   ],
   "source": [
    "'5' == str(5)"
   ]
  },
  {
   "cell_type": "code",
   "execution_count": 55,
   "metadata": {
    "collapsed": false,
    "jupyter": {
     "outputs_hidden": false
    }
   },
   "outputs": [
    {
     "data": {
      "text/plain": [
       "True"
      ]
     },
     "execution_count": 55,
     "metadata": {},
     "output_type": "execute_result"
    }
   ],
   "source": [
    "3 != 5"
   ]
  },
  {
   "cell_type": "code",
   "execution_count": 56,
   "metadata": {
    "collapsed": false,
    "jupyter": {
     "outputs_hidden": false
    }
   },
   "outputs": [
    {
     "data": {
      "text/plain": [
       "True"
      ]
     },
     "execution_count": 56,
     "metadata": {},
     "output_type": "execute_result"
    }
   ],
   "source": [
    "'Eric' != 'eric'"
   ]
  },
  {
   "cell_type": "code",
   "execution_count": 57,
   "metadata": {
    "collapsed": false,
    "jupyter": {
     "outputs_hidden": false
    }
   },
   "outputs": [
    {
     "data": {
      "text/plain": [
       "True"
      ]
     },
     "execution_count": 57,
     "metadata": {},
     "output_type": "execute_result"
    }
   ],
   "source": [
    "5 > 3"
   ]
  },
  {
   "cell_type": "code",
   "execution_count": 58,
   "metadata": {
    "collapsed": false,
    "jupyter": {
     "outputs_hidden": false
    }
   },
   "outputs": [
    {
     "data": {
      "text/plain": [
       "True"
      ]
     },
     "execution_count": 58,
     "metadata": {},
     "output_type": "execute_result"
    }
   ],
   "source": [
    "3 >= 3"
   ]
  },
  {
   "cell_type": "code",
   "execution_count": 59,
   "metadata": {
    "collapsed": false,
    "jupyter": {
     "outputs_hidden": false
    }
   },
   "outputs": [
    {
     "data": {
      "text/plain": [
       "True"
      ]
     },
     "execution_count": 59,
     "metadata": {},
     "output_type": "execute_result"
    }
   ],
   "source": [
    "3 < 5"
   ]
  },
  {
   "cell_type": "code",
   "execution_count": 60,
   "metadata": {
    "collapsed": false,
    "jupyter": {
     "outputs_hidden": false
    }
   },
   "outputs": [
    {
     "data": {
      "text/plain": [
       "True"
      ]
     },
     "execution_count": 60,
     "metadata": {},
     "output_type": "execute_result"
    }
   ],
   "source": [
    "3 <= 5"
   ]
  },
  {
   "cell_type": "code",
   "execution_count": 61,
   "metadata": {
    "collapsed": false,
    "jupyter": {
     "outputs_hidden": false
    }
   },
   "outputs": [
    {
     "data": {
      "text/plain": [
       "True"
      ]
     },
     "execution_count": 61,
     "metadata": {},
     "output_type": "execute_result"
    }
   ],
   "source": [
    "vowels = ['a', 'e', 'i', 'o', 'u']\n",
    "'a' in vowels"
   ]
  },
  {
   "cell_type": "code",
   "execution_count": 62,
   "metadata": {},
   "outputs": [
    {
     "data": {
      "text/plain": [
       "False"
      ]
     },
     "execution_count": 62,
     "metadata": {},
     "output_type": "execute_result"
    }
   ],
   "source": [
    "vowels = ['a', 'e', 'i', 'o', 'u']\n",
    "'b' in vowels"
   ]
  },
  {
   "cell_type": "markdown",
   "metadata": {},
   "source": [
    "There is a [section of PEP 8](http://www.python.org/dev/peps/pep-0008/#other-recommendations) that tells us it's a good idea to put a single space on either side of all of these comparison operators."
   ]
  },
  {
   "cell_type": "markdown",
   "metadata": {},
   "source": [
    "## for loop\n",
    "The for loop in Python is used to iterate over a sequence (e.g., list, tuple, string) or other iterable objects (e.g., bytearrays, buffers). Iterating over a sequence is called traversal. **char** is the variable that takes the value of each item inside the sequence on each iteration. The iteration continues until the end of the sequence is reached. The body of for loop is separated from the rest of the code using indentation."
   ]
  },
  {
   "cell_type": "code",
   "execution_count": 63,
   "metadata": {},
   "outputs": [
    {
     "name": "stdout",
     "output_type": "stream",
     "text": [
      "p\n",
      "y\n",
      "t\n",
      "h\n",
      "o\n",
      "n\n"
     ]
    }
   ],
   "source": [
    "string = 'python'\n",
    "\n",
    "for char in string:\n",
    "    print(char)"
   ]
  },
  {
   "cell_type": "markdown",
   "metadata": {},
   "source": [
    "A for loop can have an optional **else** block as well. The else part is executed if the items in the sequence used in the for loop terminate. The **break** keyword can be used to stop a for loop. In such cases, the else part is ignored. Thus, a for loop's else part runs only if no break occurs."
   ]
  },
  {
   "cell_type": "code",
   "execution_count": 64,
   "metadata": {},
   "outputs": [
    {
     "name": "stdout",
     "output_type": "stream",
     "text": [
      "p\n",
      "y\n",
      "t\n",
      "h\n",
      "o\n",
      "n\n",
      "for terminated\n"
     ]
    }
   ],
   "source": [
    "string = 'python'\n",
    "\n",
    "for char in string:\n",
    "    if char == 'z':\n",
    "        break\n",
    "    print(char)\n",
    "else:\n",
    "    print('for terminated')"
   ]
  },
  {
   "cell_type": "markdown",
   "metadata": {},
   "source": [
    "The keyword **continue** allows for skipping the current iteration."
   ]
  },
  {
   "cell_type": "code",
   "execution_count": 65,
   "metadata": {},
   "outputs": [
    {
     "name": "stdout",
     "output_type": "stream",
     "text": [
      "p\n",
      "t\n",
      "h\n",
      "o\n",
      "n\n"
     ]
    }
   ],
   "source": [
    "string = 'python'\n",
    "\n",
    "for char in string:\n",
    "    if char == 'y':\n",
    "        continue\n",
    "    print(char)"
   ]
  },
  {
   "cell_type": "markdown",
   "metadata": {},
   "source": [
    "## while loop\n",
    "The while loop is used to iterate  as long as the test expression (condition) is true.\n",
    "Generally used when the number of times to iterate is unknown beforehand."
   ]
  },
  {
   "cell_type": "code",
   "execution_count": 66,
   "metadata": {},
   "outputs": [
    {
     "name": "stdout",
     "output_type": "stream",
     "text": [
      "55\n"
     ]
    }
   ],
   "source": [
    "i = 0\n",
    "n = 10\n",
    "sum = 0\n",
    "\n",
    "while i <= n:\n",
    "    sum = sum + i\n",
    "    i = i + 1  \n",
    "print(sum)"
   ]
  },
  {
   "cell_type": "markdown",
   "metadata": {},
   "source": [
    "While loops can also have an optional else block.\n",
    "The else part is executed if the condition in the while loop evaluates to False.\n",
    "The while loop can be terminated with a break statement. In such cases, the else part is ignored. "
   ]
  },
  {
   "cell_type": "code",
   "execution_count": 67,
   "metadata": {},
   "outputs": [
    {
     "name": "stdout",
     "output_type": "stream",
     "text": [
      "while terminated\n",
      "55\n"
     ]
    }
   ],
   "source": [
    "i = 0\n",
    "n = 10\n",
    "sum = 0\n",
    "\n",
    "while i <= n:\n",
    "    sum = sum + i\n",
    "    i = i + 1\n",
    "else:\n",
    "    print('while terminated')\n",
    "print(sum)"
   ]
  },
  {
   "cell_type": "markdown",
   "metadata": {},
   "source": [
    "## break and continue\n",
    "The break statement terminates the loop containing it. Control of the program flows to the statement immediately after the body of the loop. If the break statement is inside a nested loop (loop inside another loop), the break statement will terminate the innermost loop. The continue statement is used to skip the rest of the code inside a loop for the current iteration only. Loop does not terminate but continues on with the next iteration."
   ]
  },
  {
   "cell_type": "code",
   "execution_count": 68,
   "metadata": {},
   "outputs": [
    {
     "name": "stdout",
     "output_type": "stream",
     "text": [
      "p\n",
      "y\n",
      "t\n"
     ]
    }
   ],
   "source": [
    "string = 'python'\n",
    "for char in string:\n",
    "    if char == 'h':\n",
    "        break\n",
    "    print(char)"
   ]
  },
  {
   "cell_type": "code",
   "execution_count": 69,
   "metadata": {},
   "outputs": [
    {
     "name": "stdout",
     "output_type": "stream",
     "text": [
      "p\n",
      "y\n",
      "t\n",
      "o\n",
      "n\n"
     ]
    }
   ],
   "source": [
    "string = 'python'\n",
    "for char in string:\n",
    "    if char == 'h':\n",
    "        continue\n",
    "    print(char)"
   ]
  },
  {
   "cell_type": "markdown",
   "metadata": {},
   "source": [
    "## pass\n",
    "The pass statement is a null statement. The difference between a comment and a pass statement in Python is that while the interpreter ignores a comment entirely, pass is not ignored. However, nothing happens when the pass is executed. It results in no operation (NOP)."
   ]
  },
  {
   "cell_type": "code",
   "execution_count": 70,
   "metadata": {},
   "outputs": [],
   "source": [
    "for val in 'python':\n",
    "    pass\n",
    "\n",
    "def function(args):\n",
    "    pass\n",
    "\n",
    "class Example:\n",
    "    pass"
   ]
  },
  {
   "cell_type": "markdown",
   "metadata": {},
   "source": [
    "# Functions"
   ]
  },
  {
   "cell_type": "markdown",
   "metadata": {},
   "source": [
    "## General Syntax\n",
    "A general function looks something like this:\n",
    "```\n",
    "# Let's define a function.\n",
    "def function_name(argument_1, argument_2):\n",
    "    # Do whatever we want this function to do,\n",
    "    #  using argument_1 and argument_2\n",
    "\n",
    "# Use function_name to call the function.\n",
    "function_name(value_1, value_2)\n",
    "```"
   ]
  },
  {
   "cell_type": "markdown",
   "metadata": {},
   "source": [
    "You might be able to see some advantages of using functions, through this example:\n",
    "\n",
    "- We write a set of instructions once. We save some work in this simple example, and we save even more work in larger programs.\n",
    "- When our function works, we don't have to worry about that code anymore. Every time you repeat code in your program, you introduce an opportunity to make a mistake. Writing a function means there is one place to fix mistakes, and when those bugs are fixed, we can be confident that this function will continue to work correctly.\n",
    "- We can modify our function's behavior, and that change takes effect every time the function is called. This is much better than deciding we need some new behavior, and then having to change code in many different places in our program."
   ]
  },
  {
   "cell_type": "markdown",
   "metadata": {},
   "source": [
    "## Passing parameters\n",
    "**All parameters (arguments) in the Python language are passed by reference**. It means if you change what a parameter refers to within a function, the change also reflects back in the calling function."
   ]
  },
  {
   "cell_type": "code",
   "execution_count": 71,
   "metadata": {},
   "outputs": [
    {
     "name": "stdout",
     "output_type": "stream",
     "text": [
      "[10, 20, 30]\n",
      "[10, 20, 30, 40, 50, 60]\n"
     ]
    }
   ],
   "source": [
    "def change_list(numbers):\n",
    "    numbers.extend([40, 50, 60])\n",
    "    return\n",
    "\n",
    "numbers = [10, 20, 30]\n",
    "print(numbers)\n",
    "change_list(numbers)\n",
    "print(numbers)"
   ]
  },
  {
   "cell_type": "markdown",
   "metadata": {},
   "source": [
    "An example where argument is being passed by reference and the reference is being overwritten inside the called function. The parameter numbers is local to the function. Changing numbers within the function does not affect the caller. "
   ]
  },
  {
   "cell_type": "code",
   "execution_count": 96,
   "metadata": {},
   "outputs": [
    {
     "name": "stdout",
     "output_type": "stream",
     "text": [
      "[10, 20, 30]\n",
      "[10, 20, 30]\n"
     ]
    }
   ],
   "source": [
    "def change_list(numbers):\n",
    "    numbers = [40, 50, 60]\n",
    "    return\n",
    "\n",
    "numbers = [10, 20, 30]\n",
    "print(numbers)\n",
    "change_list(numbers)\n",
    "print(numbers)"
   ]
  },
  {
   "cell_type": "markdown",
   "metadata": {},
   "source": [
    "## Default Arguments\n",
    "Function arguments can have default values. We can provide a default value to an argument by using the assignment operator (=). Any number of arguments in a function can have a default value. Once we have a default argument, all the arguments to its right must also have default values."
   ]
  },
  {
   "cell_type": "code",
   "execution_count": 98,
   "metadata": {},
   "outputs": [
    {
     "name": "stdout",
     "output_type": "stream",
     "text": [
      "Hello Bruce, How do you do?\n",
      "Hello Kate, Good morning!\n"
     ]
    }
   ],
   "source": [
    "def greet(name, msg='Good morning!'):\n",
    "    print('Hello', name + ', ' + msg)\n",
    "\n",
    "greet('Bruce', 'How do you do?')\n",
    "greet('Kate')"
   ]
  },
  {
   "cell_type": "markdown",
   "metadata": {},
   "source": [
    "## Keyword Arguments\n",
    "Python allows functions to be called using keyword arguments. When we call functions in this way, the order (position) of the arguments can be changed. We can mix positional arguments with keyword arguments during a function call. We must keep in mind that **keyword arguments must follow positional arguments**."
   ]
  },
  {
   "cell_type": "code",
   "execution_count": 103,
   "metadata": {},
   "outputs": [
    {
     "name": "stdout",
     "output_type": "stream",
     "text": [
      "Hello Bruce, How do you do?\n",
      "Hello Bruce, How do you do?\n",
      "Hello Bruce, How do you do?\n"
     ]
    }
   ],
   "source": [
    "# 2 keyword arguments (in order)\n",
    "greet(name = 'Bruce', msg = 'How do you do?')\n",
    "\n",
    "# 2 keyword arguments (out of order)\n",
    "greet(msg = 'How do you do?', name = 'Bruce') \n",
    "\n",
    "# 1 positional, 1 keyword argument\n",
    "greet('Bruce', msg = 'How do you do?') \n",
    "\n",
    "# greet(name='Bruce', 'How do you do?')\n",
    "# SyntaxError: positional argument follows keyword argument"
   ]
  },
  {
   "cell_type": "markdown",
   "metadata": {},
   "source": [
    "## Arbitrary Arguments\n",
    "Sometimes, we do not know in advance the number of arguments that will be passed into a function. Python allows us to handle this kind of situation through function calls with an arbitrary number of arguments. In the function definition, we use an asterisk (\\*) before the parameter name to denote this kind of argument. These arguments get wrapped up into a tuple before being passed into the function. Inside the function, we use a for loop to retrieve all the arguments back."
   ]
  },
  {
   "cell_type": "code",
   "execution_count": 105,
   "metadata": {},
   "outputs": [
    {
     "name": "stdout",
     "output_type": "stream",
     "text": [
      "Hello Monica\n",
      "Hello Luke\n",
      "Hello Steve\n",
      "Hello John\n"
     ]
    }
   ],
   "source": [
    "def greet(*names):\n",
    "    # names is a tuple\n",
    "    for name in names:\n",
    "        print('Hello', name)\n",
    "\n",
    "if __name__ == '__main__':\n",
    "    greet('Monica', 'Luke', 'Steve', 'John')"
   ]
  },
  {
   "cell_type": "code",
   "execution_count": 76,
   "metadata": {},
   "outputs": [
    {
     "name": "stdout",
     "output_type": "stream",
     "text": [
      "3\n",
      "15\n"
     ]
    }
   ],
   "source": [
    "def adder(num_1, num_2, *nums):\n",
    "    sum = num_1 + num_2\n",
    "    \n",
    "    for num in nums:\n",
    "        sum = sum + num\n",
    "    return sum\n",
    "    \n",
    "print(adder(1, 2))\n",
    "print(adder(1, 2, 3, 4, 5))"
   ]
  },
  {
   "cell_type": "markdown",
   "metadata": {},
   "source": [
    "## Arbitrary keyword arguments\n",
    "Python also provides a syntax for accepting an arbitrary number of keyword arguments. The syntax looks like below. The third argument has two asterisks in front of it, which tells Python to collect all remaining key-value arguments in the calling statement. This argument is commonly named *kwargs*. We see in the output that these key-values are stored in a dictionary. We can loop through this dictionary to work with all of the values that are passed into the function:"
   ]
  },
  {
   "cell_type": "code",
   "execution_count": 77,
   "metadata": {},
   "outputs": [
    {
     "name": "stdout",
     "output_type": "stream",
     "text": [
      "\n",
      "arg_1=a\n",
      "arg_2=b\n",
      "\n",
      "arg_1=a\n",
      "arg_2=b\n",
      "key=value_3, value=c\n",
      "\n",
      "arg_1=a\n",
      "arg_2=b\n",
      "key=value_3, value=c\n",
      "key=value_4, value=d\n",
      "\n",
      "arg_1=a\n",
      "arg_2=b\n",
      "key=value_3, value=c\n",
      "key=value_4, value=d\n",
      "key=value_5, value=e\n"
     ]
    }
   ],
   "source": [
    "def example_function(arg_1, arg_2, **kwargs):\n",
    "    print()\n",
    "    print('arg_1={}'.format(arg_1))\n",
    "    print('arg_2={}'.format(arg_2))\n",
    "    for key, value in kwargs.items():\n",
    "        print('key={}, value={}'.format(key, value))\n",
    "    \n",
    "example_function('a', 'b')\n",
    "example_function('a', 'b', value_3='c')\n",
    "example_function('a', 'b', value_3='c', value_4='d')\n",
    "example_function('a', 'b', value_3='c', value_4='d', value_5='e')"
   ]
  },
  {
   "cell_type": "markdown",
   "metadata": {},
   "source": [
    "## Lambda expressions\n",
    "Small anonymous functions can be created with the lambda keyword. Lambda functions can be used wherever function objects are required. They are syntactically restricted to a single expression. Semantically, they are just syntactic sugar for a normal function definition. Like nested function definitions, lambda functions can reference variables from the containing scope."
   ]
  },
  {
   "cell_type": "code",
   "execution_count": 10,
   "metadata": {},
   "outputs": [
    {
     "name": "stdout",
     "output_type": "stream",
     "text": [
      "<class 'function'>\n"
     ]
    },
    {
     "data": {
      "text/plain": [
       "3"
      ]
     },
     "execution_count": 10,
     "metadata": {},
     "output_type": "execute_result"
    }
   ],
   "source": [
    "f = lambda x: x + 1\n",
    "print(type(f))\n",
    "f(2)"
   ]
  },
  {
   "cell_type": "code",
   "execution_count": 7,
   "metadata": {},
   "outputs": [
    {
     "data": {
      "text/plain": [
       "5"
      ]
     },
     "execution_count": 7,
     "metadata": {},
     "output_type": "execute_result"
    }
   ],
   "source": [
    "f = lambda x, y: x + y\n",
    "f(2, 3)"
   ]
  },
  {
   "cell_type": "code",
   "execution_count": 6,
   "metadata": {},
   "outputs": [
    {
     "data": {
      "text/plain": [
       "5"
      ]
     },
     "execution_count": 6,
     "metadata": {},
     "output_type": "execute_result"
    }
   ],
   "source": [
    "# direct call\n",
    "(lambda x, y: x + y)(2, 3)"
   ]
  },
  {
   "cell_type": "code",
   "execution_count": 4,
   "metadata": {},
   "outputs": [
    {
     "data": {
      "text/plain": [
       "'Full name: Anna Pannocchia'"
      ]
     },
     "execution_count": 4,
     "metadata": {},
     "output_type": "execute_result"
    }
   ],
   "source": [
    "f = lambda first, last: f'Full name: {first.title()} {last.title()}'\n",
    "f('anna', 'pannocchia')"
   ]
  },
  {
   "cell_type": "code",
   "execution_count": 1,
   "metadata": {},
   "outputs": [
    {
     "name": "stdout",
     "output_type": "stream",
     "text": [
      "[(4, 'four'), (1, 'one'), (3, 'three'), (2, 'two')]\n"
     ]
    }
   ],
   "source": [
    "pairs = [(1, 'one'), (2, 'two'), (3, 'three'), (4, 'four')]\n",
    "pairs.sort(key=lambda pair: pair[1])\n",
    "print(pairs)"
   ]
  },
  {
   "cell_type": "markdown",
   "metadata": {},
   "source": [
    "## Returning a value\n",
    "The keyword **return** is used."
   ]
  },
  {
   "cell_type": "code",
   "execution_count": 78,
   "metadata": {},
   "outputs": [
    {
     "data": {
      "text/plain": [
       "10"
      ]
     },
     "execution_count": 78,
     "metadata": {},
     "output_type": "execute_result"
    }
   ],
   "source": [
    "def sum(a, b):\n",
    "    return a + b\n",
    "\n",
    "sum(3, 7)"
   ]
  },
  {
   "cell_type": "markdown",
   "metadata": {},
   "source": [
    "## Returning multiple values\n",
    "Python allows various ways for returning multiple values."
   ]
  },
  {
   "cell_type": "code",
   "execution_count": 79,
   "metadata": {},
   "outputs": [
    {
     "data": {
      "text/plain": [
       "(5, 9, -4)"
      ]
     },
     "execution_count": 79,
     "metadata": {},
     "output_type": "execute_result"
    }
   ],
   "source": [
    "# using a tuple\n",
    "def g(x):\n",
    "  y0 = x + 2\n",
    "  y1 = x * 3\n",
    "  y2 = y0 - y1\n",
    "  return (y0, y1, y2)\n",
    "\n",
    "g(3)"
   ]
  },
  {
   "cell_type": "code",
   "execution_count": 80,
   "metadata": {},
   "outputs": [
    {
     "data": {
      "text/plain": [
       "{'y0': 5, 'y1': 9, 'y2': -4}"
      ]
     },
     "execution_count": 80,
     "metadata": {},
     "output_type": "execute_result"
    }
   ],
   "source": [
    "# using a dictonary\n",
    "def g(x):\n",
    "  y0 = x + 2\n",
    "  y1 = x * 3\n",
    "  y2 = y0 - y1\n",
    "  return {'y0': y0, 'y1': y1 ,'y2': y2}\n",
    "\n",
    "g(3)"
   ]
  },
  {
   "cell_type": "code",
   "execution_count": 81,
   "metadata": {},
   "outputs": [
    {
     "data": {
      "text/plain": [
       "<__main__.ReturnValue at 0x117a40b38>"
      ]
     },
     "execution_count": 81,
     "metadata": {},
     "output_type": "execute_result"
    }
   ],
   "source": [
    "# using a class\n",
    "class ReturnValue:\n",
    "  def __init__(self, y0, y1, y2):\n",
    "     self.y0 = y0\n",
    "     self.y1 = y1\n",
    "     self.y2 = y2\n",
    "\n",
    "def g(x):\n",
    "  y0 = x + 2\n",
    "  y1 = x * 3\n",
    "  y2 = y0 - y1\n",
    "  return ReturnValue(y0, y1, y2)\n",
    "\n",
    "g(3)"
   ]
  },
  {
   "cell_type": "code",
   "execution_count": 82,
   "metadata": {},
   "outputs": [
    {
     "ename": "NameError",
     "evalue": "name 'dataclass' is not defined",
     "output_type": "error",
     "traceback": [
      "\u001b[0;31m---------------------------------------------------------------------------\u001b[0m",
      "\u001b[0;31mNameError\u001b[0m                                 Traceback (most recent call last)",
      "\u001b[0;32m<ipython-input-82-82ea1a5952d2>\u001b[0m in \u001b[0;36m<module>\u001b[0;34m\u001b[0m\n\u001b[1;32m      1\u001b[0m \u001b[0;31m# using dataclass (only 3.7+)\u001b[0m\u001b[0;34m\u001b[0m\u001b[0;34m\u001b[0m\u001b[0;34m\u001b[0m\u001b[0m\n\u001b[0;32m----> 2\u001b[0;31m \u001b[0;34m@\u001b[0m\u001b[0mdataclass\u001b[0m\u001b[0;34m\u001b[0m\u001b[0;34m\u001b[0m\u001b[0m\n\u001b[0m\u001b[1;32m      3\u001b[0m \u001b[0;32mclass\u001b[0m \u001b[0mReturnvalue\u001b[0m\u001b[0;34m:\u001b[0m\u001b[0;34m\u001b[0m\u001b[0;34m\u001b[0m\u001b[0m\n\u001b[1;32m      4\u001b[0m     \u001b[0my0\u001b[0m\u001b[0;34m:\u001b[0m \u001b[0mint\u001b[0m\u001b[0;34m\u001b[0m\u001b[0;34m\u001b[0m\u001b[0m\n\u001b[1;32m      5\u001b[0m     \u001b[0my1\u001b[0m\u001b[0;34m:\u001b[0m \u001b[0mint\u001b[0m\u001b[0;34m\u001b[0m\u001b[0;34m\u001b[0m\u001b[0m\n",
      "\u001b[0;31mNameError\u001b[0m: name 'dataclass' is not defined"
     ]
    }
   ],
   "source": [
    "# using dataclass (only 3.7+)\n",
    "@dataclass\n",
    "class Returnvalue:\n",
    "    y0: int\n",
    "    y1: int\n",
    "    y3: int\n",
    "        \n",
    "def g(x):\n",
    "  y0 = x + 2\n",
    "  y1 = x * 3\n",
    "  y2 = y0 - y1\n",
    "  return ReturnValue(y0, y1, y2)\n",
    "\n",
    "g(3)"
   ]
  },
  {
   "cell_type": "markdown",
   "metadata": {},
   "source": [
    "# Comments\n",
    "\n",
    "As you begin to write more complicated code, you will have to spend more time thinking about how to code solutions to the problems you want to solve. Once you come up with an idea, you will spend a fair amount of time troubleshooting your code, and revising your overall approach.\n",
    "\n",
    "Comments allow you to write in English, within your program. In Python, any line that starts with a pound (#) symbol is ignored by the Python interpreter."
   ]
  },
  {
   "cell_type": "code",
   "execution_count": 106,
   "metadata": {
    "collapsed": false,
    "jupyter": {
     "outputs_hidden": false
    }
   },
   "outputs": [
    {
     "name": "stdout",
     "output_type": "stream",
     "text": [
      "This line is not a comment, it is code.\n"
     ]
    }
   ],
   "source": [
    "# This line is a comment.\n",
    "print('This line is not a comment, it is code.')"
   ]
  },
  {
   "cell_type": "markdown",
   "metadata": {},
   "source": [
    "## Docstring\n",
    "Docstring is a short for documentation string.\n",
    "Python docstrings are the string literals that appear right after the definition of a function, method, class, or module. Triple quotes are used.\n",
    "The docstring is available as the __doc__ attribute of the function.\n",
    "Although optional, documentation is a key programming practice. "
   ]
  },
  {
   "cell_type": "code",
   "execution_count": null,
   "metadata": {},
   "outputs": [],
   "source": [
    "def greet(name):\n",
    "    \"\"\"\n",
    "    This function greets to the \n",
    "    person passed in as a parameter\n",
    "    \"\"\"\n",
    "    print('Hello! ' + name)\n",
    "\n",
    "print(greet.__doc__)"
   ]
  },
  {
   "cell_type": "markdown",
   "metadata": {},
   "source": [
    "## What makes a good comment?\n",
    "\n",
    "* It is short and to the point, but a complete thought. Most comments should be written in complete sentences.\n",
    "* It explains your thinking, so that when you return to the code later you will understand how you were approaching the problem.\n",
    "* It explains your thinking, so that others who work with your code will understand your overall approach to a problem.\n",
    "* It explains particularly difficult sections of code in detail."
   ]
  },
  {
   "cell_type": "markdown",
   "metadata": {},
   "source": [
    "## When should you write comments?\n",
    "\n",
    "- When you have to think about code before writing it.\n",
    "- When you are likely to forget later exactly how you were approaching a problem.\n",
    "- When there is more than one way to solve a problem.\n",
    "- When others are unlikely to anticipate your way of thinking about a problem.\n",
    "\n",
    "Writing good comments is one of the clear signs of a good programmer. If you have any real interest in taking programming seriously, start using comments now. You will see them throughout the examples in these notebooks."
   ]
  },
  {
   "cell_type": "code",
   "execution_count": null,
   "metadata": {},
   "outputs": [],
   "source": []
  }
 ],
 "metadata": {
  "kernelspec": {
   "display_name": "Python 3",
   "language": "python",
   "name": "python3"
  },
  "language_info": {
   "codemirror_mode": {
    "name": "ipython",
    "version": 3
   },
   "file_extension": ".py",
   "mimetype": "text/x-python",
   "name": "python",
   "nbconvert_exporter": "python",
   "pygments_lexer": "ipython3",
   "version": "3.6.12"
  },
  "toc-autonumbering": true,
  "toc-showmarkdowntxt": false,
  "toc-showtags": false
 },
 "nbformat": 4,
 "nbformat_minor": 4
}

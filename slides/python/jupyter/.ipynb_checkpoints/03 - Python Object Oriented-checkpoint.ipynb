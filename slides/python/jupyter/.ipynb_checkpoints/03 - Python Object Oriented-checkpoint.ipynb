{
 "cells": [
  {
   "cell_type": "markdown",
   "metadata": {},
   "source": [
    "# Classes"
   ]
  },
  {
   "cell_type": "markdown",
   "metadata": {},
   "source": [
    "## Class concept\n",
    "![alt](images/class_plato.png)\n",
    "![alt](images/class_internals.png)"
   ]
  },
  {
   "cell_type": "markdown",
   "metadata": {},
   "source": [
    "## Objects and references\n",
    "The usual *variables as boxes* metaphor actually hinders the understanding of reference variables in OO languages. Python variables are like reference variables in Java, so it’s better to think of them as labels attached to objects. \n",
    "\n",
    "![alt](images/class_reference.png)"
   ]
  },
  {
   "cell_type": "code",
   "execution_count": 5,
   "metadata": {},
   "outputs": [
    {
     "name": "stdout",
     "output_type": "stream",
     "text": [
      "[1, 2, 3, 4]\n",
      "[1, 2, 3, 4]\n",
      "True\n"
     ]
    }
   ],
   "source": [
    "a = [1, 2, 3]\n",
    "b = a\n",
    "a.append(4)\n",
    "print(a)\n",
    "print(b)\n",
    "print(a is b)\n"
   ]
  },
  {
   "cell_type": "markdown",
   "metadata": {},
   "source": [
    "Every object has an **identity**, a **type** and an **internal state**. An object identity is unique and never changes once it has been created. The *id()* function returns an integer representing its identity. The type is given by its class. The internal state is expressed by the state of internal variables. The *==* operator compares the internal state of objects (the data they hold), while the *is* operator compares their identities."
   ]
  },
  {
   "cell_type": "code",
   "execution_count": 3,
   "metadata": {},
   "outputs": [
    {
     "name": "stdout",
     "output_type": "stream",
     "text": [
      "id(a): 4532527048\n",
      "id(b): 4533039880\n",
      "id(c): 4532527048\n",
      "a is b: False\n",
      "a is c: True\n",
      "a == b: True\n",
      "a == c: True\n"
     ]
    }
   ],
   "source": [
    "a = [1, 2, 3]\n",
    "b = [1, 2, 3]\n",
    "c = a\n",
    "print('id(a):', id(a))\n",
    "print('id(b):', id(b))\n",
    "print('id(c):', id(c))\n",
    "print('a is b:', a is b)\n",
    "print('a is c:', a is c)\n",
    "print('a == b:', a == b)\n",
    "print('a == c:', a == c)"
   ]
  },
  {
   "cell_type": "markdown",
   "metadata": {},
   "source": [
    "## Instance attributes\n",
    "Attributes are the properties defining any specific class of objects. They are defined inside the \\_\\_init\\_\\_ method of the class. It is this method that is first run as soon as the object is created. On execution, we create an instance (an object) of the Car class referenced with the m3 name. Then, we access the instance attributes using the dot notation (m3.brand). Instance attributes have specific values in each object."
   ]
  },
  {
   "cell_type": "code",
   "execution_count": 7,
   "metadata": {},
   "outputs": [
    {
     "name": "stdout",
     "output_type": "stream",
     "text": [
      "Brand=Bmw, Model=M3\n"
     ]
    }
   ],
   "source": [
    "class Car:\n",
    "    # costructor method\n",
    "    def __init__(self, brand, model):\n",
    "        # instance attributes\n",
    "        self.brand = brand\n",
    "        self.model = model\n",
    "\n",
    "if __name__ == '__main__':\n",
    "    m3 = Car('Bmw', 'M3')\n",
    "    print(\"Brand={}, Model={}\".format(m3.brand, m3.model))\n"
   ]
  },
  {
   "cell_type": "markdown",
   "metadata": {},
   "source": [
    "## Class attributes\n",
    "Outside the \\_\\_init\\_\\_ method we can define class attributes. We can access the class attributes using \\_\\_class\\_\\_.attribute. Class attributes are shared among all objects which are instances of the same class. "
   ]
  },
  {
   "cell_type": "code",
   "execution_count": 4,
   "metadata": {},
   "outputs": [
    {
     "name": "stdout",
     "output_type": "stream",
     "text": [
      "Wheels=2\n",
      "Bmw, M3\n",
      "Wheels=2\n",
      "Tesla,Models S\n"
     ]
    }
   ],
   "source": [
    "class Car:\n",
    "    # class attribute\n",
    "    wheels = 4\n",
    "\n",
    "    def __init__(self, brand, model):\n",
    "        self.brand = brand\n",
    "        self.model = model\n",
    "\n",
    "if __name__ == '__main__':\n",
    "    m3 = Car('Bmw', 'M3')\n",
    "    tsla = Car('Tesla', 'Models S')\n",
    "\n",
    "    m3.__class__.wheels = 2\n",
    "\n",
    "    print(\"Wheels={}\".format(m3.__class__.wheels))\n",
    "    print(\"{}, {}\".format(m3.brand, m3.model))\n",
    "\n",
    "    print(\"Wheels={}\".format(tsla.__class__.wheels))\n",
    "    print(\"{},{}\".format(tsla.brand, tsla.model))"
   ]
  },
  {
   "cell_type": "markdown",
   "metadata": {},
   "source": [
    "## Constructor methods\n",
    "Constructors are generally used for creating (instantiating) objects. The task of constructors is to initialize (assign values) to the data members of the class when an object of the class is created. In Python the \\_\\_init\\_\\_ method is used as constructor and it is always called when an object is created. Unlike Java, you cannot define multiple constructors. However, you can define a default values for specific parameter."
   ]
  },
  {
   "cell_type": "code",
   "execution_count": 9,
   "metadata": {},
   "outputs": [
    {
     "name": "stdout",
     "output_type": "stream",
     "text": [
      "Bmw M3\n",
      "Fiat Punto\n"
     ]
    }
   ],
   "source": [
    "class Car:\n",
    "    # constructor    \n",
    "    def __init__(self, brand='Fiat', model='Punto'):        \n",
    "        # instance attribute        \n",
    "        self.brand = brand        \n",
    "        self.model = model\n",
    "    \n",
    "if __name__ == '__main__':    \n",
    "    m3 = Car('Bmw', 'M3')\n",
    "    punto = Car()\n",
    "    print(\"{} {}\".format(m3.brand, m3.model))\n",
    "    print(\"{} {}\".format(punto.brand, punto.model))\n"
   ]
  },
  {
   "cell_type": "markdown",
   "metadata": {},
   "source": [
    "## Garbabe collector\n",
    "Whenever you create an object in Python, the underlying C object has both a Python type (such as list, dict, or function) and a reference count. At a very basic level, a Python object’s reference count is incremented whenever the object is referenced, and it’s decremented when an object is dereferenced. If an object’s reference count goes to 0, the memory for the object is deallocated. The component managing this process is called *garbage collector*."
   ]
  },
  {
   "cell_type": "code",
   "execution_count": 5,
   "metadata": {},
   "outputs": [
    {
     "data": {
      "text/plain": [
       "5"
      ]
     },
     "execution_count": 5,
     "metadata": {},
     "output_type": "execute_result"
    }
   ],
   "source": [
    "# calls garbage collection explicitely\n",
    "import gc\n",
    "gc.collect()\n",
    "\n",
    "# counts references\n",
    "import sys\n",
    "a = 'my-string'\n",
    "b = [a] \n",
    "c = { 'key': a }\n",
    "sys.getrefcount(a)\n",
    "\n"
   ]
  },
  {
   "cell_type": "markdown",
   "metadata": {},
   "source": [
    "## Destructor methods\n",
    "Destructors are called when an object gets destroyed. In Python, destructors are not needed as much needed as in C++ because Python has a garbage collector that handles memory automatically. However, the __del__() method is used as a destructor method in Python. It is called when all references to the object have been deleted i.e when an object is garbage collected."
   ]
  },
  {
   "cell_type": "code",
   "execution_count": 11,
   "metadata": {},
   "outputs": [
    {
     "name": "stdout",
     "output_type": "stream",
     "text": [
      "Object destroyed!\n"
     ]
    }
   ],
   "source": [
    "class Car:\n",
    "    # constructor\n",
    "    def __init__(self, brand, model):\n",
    "        # instance attribute\n",
    "        self.brand = brand\n",
    "        self.model = model\n",
    "\n",
    "    # destructor\n",
    "    def __del__(self):\n",
    "        print('Object destroyed!')\n",
    "\n",
    "\n",
    "if __name__ == '__main__':\n",
    "    m3 = Car('Bmw', 'M3')\n",
    "    del m3\n"
   ]
  },
  {
   "cell_type": "markdown",
   "metadata": {},
   "source": [
    "## Instance methods\n",
    "Methods are functions defined inside the body of a class. They are used to define the behaviors of an object. Instance methods are called on instances of a class (objects)."
   ]
  },
  {
   "cell_type": "code",
   "execution_count": 12,
   "metadata": {},
   "outputs": [
    {
     "name": "stdout",
     "output_type": "stream",
     "text": [
      "Bmw M3 is running at 90km/h\n",
      "Bmw M3 is braking\n"
     ]
    }
   ],
   "source": [
    "class Car:\n",
    "    # constructor\n",
    "    def __init__(self, brand, model):\n",
    "        # instance attribute\n",
    "        self.brand = brand\n",
    "        self.model = model\n",
    "\n",
    "    def run(self, speed):\n",
    "        return '{} {} is running at {}km/h'.format(self.brand, self.model, speed)\n",
    "\n",
    "    def brake(self):\n",
    "        return '{} {} is braking'.format(self.brand, self.model)\n",
    "\n",
    "\n",
    "if __name__ == '__main__':\n",
    "    m3 = Car('Bmw', 'M3')\n",
    "    print(m3.run(90))\n",
    "    print(m3.brake())\n"
   ]
  },
  {
   "cell_type": "markdown",
   "metadata": {},
   "source": [
    "## Class methods\n",
    "\n",
    "A class method is a method which is bound to the class and not the object of the class. Class methods have to be annotated with either the *@staticmethod* or *@classmethod* tags.\n",
    "\n",
    "Methods annotated with @staticmethod can’t access or modify the class state (i.e., class attributes). They are present in a class because it makes sense for these methods to be present in class. This annotation is generally used to create utility functions."
   ]
  },
  {
   "cell_type": "code",
   "execution_count": 13,
   "metadata": {},
   "outputs": [
    {
     "name": "stdout",
     "output_type": "stream",
     "text": [
      "True\n"
     ]
    }
   ],
   "source": [
    "class Car:\n",
    "    def __init__(self, brand, model):\n",
    "        # instance attribute\n",
    "        self.brand = brand\n",
    "        self.model = model\n",
    "\n",
    "    @staticmethod\n",
    "    def within_limits(speed, maxspeed):\n",
    "        return speed < maxspeed\n",
    "\n",
    "\n",
    "if __name__ == '__main__':\n",
    "    m3 = Car('Bmw', 'M3')\n",
    "    print(Car.within_limits(75, 90))\n"
   ]
  },
  {
   "cell_type": "markdown",
   "metadata": {},
   "source": [
    "Methods annotated with @classmethod have the access to the state of the class as they take a class parameter that points to the class and not the object instance. They can modify a class state that would apply across all the instances of the class. Generally used to create factory methods. Factory methods return brand new objects (similar to a constructor)."
   ]
  },
  {
   "cell_type": "code",
   "execution_count": 14,
   "metadata": {},
   "outputs": [
    {
     "name": "stdout",
     "output_type": "stream",
     "text": [
      "aaaaaa aaaaaa\n"
     ]
    }
   ],
   "source": [
    "class Car:\n",
    "    def __init__(self, brand, model):\n",
    "        # instance attribute\n",
    "        self.brand = brand\n",
    "        self.model = model\n",
    "\n",
    "    @classmethod\n",
    "    def from_chars(cls, c):\n",
    "        return cls(c * 6, c * 6)\n",
    "\n",
    "if __name__ == '__main__':\n",
    "    acar = Car.from_chars('a')\n",
    "    print(\"{} {}\".format(acar.brand, acar.model))\n"
   ]
  },
  {
   "cell_type": "markdown",
   "metadata": {},
   "source": [
    "## String representations\n",
    "\\_\\_repr\\_\\_ in interally called by the repr() standard function.\n",
    "\n",
    "\\_\\_repr\\_\\_, and \\_\\_str\\_\\_ return a string representation of the object. if \\_\\_repr\\_\\_ is defined, and \\_\\_str\\_\\_ is not, the object will behave as though \\_\\_str\\_\\_=\\_\\_repr\\_\\_. This means that almost every object you implement should have a functional \\_\\_repr\\_\\_ that’s usable for understanding the object. Implementing \\_\\_str\\_\\_ is optional: do that if you need a “pretty print” functionality (for example, used by a report generator)."
   ]
  },
  {
   "cell_type": "code",
   "execution_count": 15,
   "metadata": {},
   "outputs": [
    {
     "name": "stdout",
     "output_type": "stream",
     "text": [
      "Bmw M3\n",
      "Bmw M3\n"
     ]
    }
   ],
   "source": [
    "class Car:\n",
    "    def __init__(self, brand, model):\n",
    "        self.brand = brand\n",
    "        self.model = model\n",
    "\n",
    "    def __repr__(self):\n",
    "        return '{} {}'.format(self.brand, self.model)\n",
    "\n",
    "if __name__ == '__main__':\n",
    "    m3 = Car('Bmw', 'M3')\n",
    "    print(m3)\n",
    "    print(repr(m3))"
   ]
  },
  {
   "cell_type": "code",
   "execution_count": 16,
   "metadata": {},
   "outputs": [
    {
     "name": "stdout",
     "output_type": "stream",
     "text": [
      "This is a Bmw. Model M3.\n",
      "Bmw M3\n"
     ]
    }
   ],
   "source": [
    "class Car:\n",
    "    def __init__(self, brand, model):\n",
    "        self.brand = brand\n",
    "        self.model = model\n",
    "\n",
    "    def __repr__(self):\n",
    "        return '{} {}'.format(self.brand, self.model)\n",
    "\n",
    "    def __str__(self):\n",
    "        return 'This is a {}. Model {}.'.format(self.brand, self.model)\n",
    "\n",
    "if __name__ == '__main__':\n",
    "    m3 = Car('Bmw', 'M3')\n",
    "    print(m3)\n",
    "    print(repr(m3))\n"
   ]
  },
  {
   "cell_type": "markdown",
   "metadata": {},
   "source": [
    "## Docstrings\n",
    "Docstring is a short for documentation string. Python docstrings are the string literals that appear right after the definition of a function, method, class, or module. Triple quotes are used. The docstring is available as the \\_\\_doc\\_\\_ attribute."
   ]
  },
  {
   "cell_type": "code",
   "execution_count": 17,
   "metadata": {},
   "outputs": [
    {
     "name": "stdout",
     "output_type": "stream",
     "text": [
      "\n",
      "    A simple class for representing a car\n",
      "    with a brand and a model name\n",
      "    \n",
      "\n",
      "    A simple class for representing a car\n",
      "    with a brand and a model name\n",
      "    \n"
     ]
    }
   ],
   "source": [
    "class Car:\n",
    "    \"\"\"\n",
    "    A simple class for representing a car\n",
    "    with a brand and a model name\n",
    "    \"\"\"\n",
    "\n",
    "    def __init__(self, brand, model):\n",
    "        self.brand = brand\n",
    "        self.model = model\n",
    "\n",
    "\n",
    "if __name__ == '__main__':\n",
    "    m3 = Car('Bmw', 'M3')\n",
    "    print(m3.__doc__)\n",
    "    print(Car.__doc__)\n"
   ]
  },
  {
   "cell_type": "markdown",
   "metadata": {},
   "source": [
    "# OOP Principles"
   ]
  },
  {
   "cell_type": "markdown",
   "metadata": {},
   "source": [
    "## Encapsulation\n",
    "Encapsulation allows to restrict access to methods and variables. This prevents data from unwanted modifications. In Python, we denote private attributes using underscores as the prefix:\n",
    "\n",
    "* self.\\_varname\n",
    "* self.\\_\\_varname\n",
    "\n",
    "Getters and setters are needed for manipulating private attributes."
   ]
  },
  {
   "cell_type": "code",
   "execution_count": 18,
   "metadata": {},
   "outputs": [
    {
     "name": "stdout",
     "output_type": "stream",
     "text": [
      "FY345YT\n"
     ]
    }
   ],
   "source": [
    "class Car:\n",
    "\n",
    "    def __init__(self, brand, model, licence):\n",
    "        self.__licence = licence\n",
    "        self.brand = brand\n",
    "        self.model = model\n",
    "\n",
    "    def get_licence(self):\n",
    "        return self.__licence\n",
    "\n",
    "    def set_licence(self, licence):\n",
    "        self.__licence = licence\n",
    "\n",
    "if __name__ == '__main__':\n",
    "    m3 = Car('Bmw', 'M3', 'GY455AI')\n",
    "    m3.set_licence('FY345YT')\n",
    "    print(m3.get_licence())\n",
    "    # print(m3.__licence)\n",
    "    # AttributeError: 'Car' object has no attribute '__licence'\n"
   ]
  },
  {
   "cell_type": "markdown",
   "metadata": {},
   "source": [
    "## Inheritance\n",
    "Inheritance allows us to define a class that inherits all the methods and properties from another class. The class which get inherited is called *base class* or *parent class*. The class which inherits the other class is called *child class* or *derived class*. Derived classes inherit all attributes and methods from a base class. Furthermore they can:\n",
    "* add attributes and methods\n",
    "* redefine existing methods\n",
    "\n",
    "Python has a *super* function which allows us to access temporary object of the super class. The *super* function is usually used in constructurs of derived classes for initializing the inherited portion of the object."
   ]
  },
  {
   "cell_type": "code",
   "execution_count": 6,
   "metadata": {},
   "outputs": [
    {
     "name": "stdout",
     "output_type": "stream",
     "text": [
      "Tesla ModelX is braking\n",
      "Tesla ModelX is charging\n"
     ]
    }
   ],
   "source": [
    "# base class\n",
    "class Car:\n",
    "    def __init__(self, brand, model):\n",
    "        self.brand = brand\n",
    "        self.model = model\n",
    "\n",
    "    def brake(self):\n",
    "        return '{} {} is braking'.format(self.brand, self.model)\n",
    "\n",
    "# derived class\n",
    "class ECar(Car):\n",
    "    def __init__(self, brand, model, battery_cycles):\n",
    "        super().__init__(brand, model)\n",
    "        self.battery_cycles = battery_cycles\n",
    "\n",
    "    def charge(self):\n",
    "        return '{} {} is charging'.format(self.brand, self.model)\n",
    "\n",
    "if __name__ == '__main__':\n",
    "    tsla = ECar('Tesla', 'ModelX', 0)\n",
    "    print(tsla.brake())\n",
    "    print(tsla.charge())\n"
   ]
  },
  {
   "cell_type": "markdown",
   "metadata": {},
   "source": [
    "## Polymorphism\n",
    "Using inheritance, the child class inherits the methods from the parent class. However, it is possible to modify a method in a child class that has been inherited from the parent class. In such cases, we re-implement the method in the child class. This process of re-implementing a method in the child class is known as *method overriding*. Method overriding eventually leads to polymorphic behaviours (same method behaving in different ways)."
   ]
  },
  {
   "cell_type": "code",
   "execution_count": 7,
   "metadata": {},
   "outputs": [
    {
     "name": "stdout",
     "output_type": "stream",
     "text": [
      "Bmw M3 is braking\n",
      "Tesla ModelX is regenerating\n"
     ]
    }
   ],
   "source": [
    "class Car:\n",
    "    def __init__(self, brand, model):\n",
    "        self.brand = brand\n",
    "        self.model = model\n",
    "\n",
    "    def brake(self):\n",
    "        return '{} {} is braking'.format(self.brand, self.model)\n",
    "\n",
    "class ECar(Car):\n",
    "    def __init__(self, brand, model, battery_cycles):\n",
    "        super().__init__(brand, model)\n",
    "        self.battery_cycles = battery_cycles\n",
    "\n",
    "    def brake(self):\n",
    "        return '{} {} is regenerating'.format(self.brand, self.model)\n",
    "\n",
    "if __name__ == '__main__':\n",
    "    m3 = Car('Bmw', 'M3')\n",
    "    tsla = ECar('Tesla', 'ModelX', 10)\n",
    "    print(m3.brake())\n",
    "    print(tsla.brake())\n"
   ]
  }
 ],
 "metadata": {
  "kernelspec": {
   "display_name": "Python 3",
   "language": "python",
   "name": "python3"
  },
  "language_info": {
   "codemirror_mode": {
    "name": "ipython",
    "version": 3
   },
   "file_extension": ".py",
   "mimetype": "text/x-python",
   "name": "python",
   "nbconvert_exporter": "python",
   "pygments_lexer": "ipython3",
   "version": "3.6.7"
  }
 },
 "nbformat": 4,
 "nbformat_minor": 4
}

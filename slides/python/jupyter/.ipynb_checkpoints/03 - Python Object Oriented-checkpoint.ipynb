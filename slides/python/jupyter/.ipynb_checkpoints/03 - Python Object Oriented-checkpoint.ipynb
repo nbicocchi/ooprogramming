{
 "cells": [
  {
   "cell_type": "markdown",
   "metadata": {},
   "source": [
    "# Classes"
   ]
  },
  {
   "cell_type": "markdown",
   "metadata": {},
   "source": [
    "## General concepts\n",
    "\n",
    "![alt](images/class_plato.png)\n",
    "![alt](images/class_internals.png)\n",
    "\n",
    "A **class** is a body of code that defines the **attributes** and **behaviors** required to accurately model something you need for your program. You can model something from the real world, such as a rocket ship or a guitar string, or you can model something from a virtual world such as a rocket in a game, or a set of physical laws for a game engine.\n",
    "\n",
    "An **attribute** is a piece of information. In code, an attribute is just a variable that is part of a class.\n",
    "\n",
    "A **behavior** is an action that is defined within a class. These are made up of **methods**, which are just functions that are defined for the class.\n",
    "\n",
    "An **object** is a particular instance of a class. An object has a certain set of values for all of the attributes (variables) in the class. You can have as many objects as you want for any one class.\n"
   ]
  },
  {
   "cell_type": "markdown",
   "metadata": {},
   "source": [
    "## Object references"
   ]
  },
  {
   "cell_type": "markdown",
   "metadata": {},
   "source": [
    "\n",
    "It is worth noticing that the usual *variables as boxes* metaphor actually hinders the understanding of reference variables in OO languages. Python variables are like reference variables in Java, so it’s *better to think of them as labels attached to objects* instead of boxes containing data.\n",
    "\n",
    "![alt](images/class_reference.png)"
   ]
  },
  {
   "cell_type": "markdown",
   "metadata": {},
   "source": [
    "As an example, considering *a* and *b* as two separate boxes might ostacolate the understanding of the following example. The item *4* is apparently added only to *a*. However, given the fact the *a* and *b* are only names referring to the same object, the additional element can accessed using both *a* and *b*."
   ]
  },
  {
   "cell_type": "code",
   "execution_count": 7,
   "metadata": {},
   "outputs": [
    {
     "name": "stdout",
     "output_type": "stream",
     "text": [
      "[1, 2, 3, 4]\n",
      "[1, 2, 3, 4]\n",
      "True\n"
     ]
    }
   ],
   "source": [
    "a = [1, 2, 3]\n",
    "b = a\n",
    "a.append(4)\n",
    "print(a)\n",
    "print(b)\n",
    "print(a is b)\n"
   ]
  },
  {
   "cell_type": "markdown",
   "metadata": {},
   "source": [
    "## Object identity, type, internal state"
   ]
  },
  {
   "cell_type": "markdown",
   "metadata": {},
   "source": [
    "Every object has an *identity*, a *type* and an *internal state*. An object identity is unique and never changes once it has been created. The *id()* function returns an integer representing its identity. The type is given by its class. The internal state is expressed by the state of internal variables. The *==* operator compares the internal state of objects (the data they hold), while the *is* operator compares their identities."
   ]
  },
  {
   "cell_type": "code",
   "execution_count": 8,
   "metadata": {},
   "outputs": [
    {
     "name": "stdout",
     "output_type": "stream",
     "text": [
      "id(a): 4623744200\n",
      "id(b): 4622293640\n",
      "id(c): 4623744200\n",
      "type(a): <class 'list'>\n",
      "type(b): <class 'list'>\n",
      "type(c): <class 'list'>\n",
      "a == b: True\n",
      "a == c: True\n",
      "a is b: False\n",
      "a is c: True\n"
     ]
    }
   ],
   "source": [
    "a = [1, 2, 3]\n",
    "b = [1, 2, 3]\n",
    "c = a\n",
    "print('id(a):', id(a)) # identity\n",
    "print('id(b):', id(b))\n",
    "print('id(c):', id(c))\n",
    "\n",
    "print('type(a):', type(a)) # type\n",
    "print('type(b):', type(b))\n",
    "print('type(c):', type(c))\n",
    "\n",
    "print('a == b:', a == b) # internal state comparison\n",
    "print('a == c:', a == c)\n",
    "\n",
    "print('a is b:', a is b) # identity comparison\n",
    "print('a is c:', a is c)"
   ]
  },
  {
   "cell_type": "markdown",
   "metadata": {},
   "source": [
    "## Class definition\n",
    "Classes are a way of combining information and behavior. Attributes are the properties (the information part) defining any specific class of objects. They are defined inside the *\\_\\_init\\_\\_* method of the class. \n",
    "\n",
    "Function names that start and end with two underscores are special built-in functions that Python uses in certain ways. The *\\_\\_init\\_\\_* method is one of these special functions. It is called automatically when you create an object from your class. The *\\_\\_init\\_\\_* method lets you make sure that all relevant attributes are set to their proper values when an object is created from the class, before the object is used.\n",
    "\n",
    "The *self* keyword refers to the current object that you are working with. When you are writing a class, it lets you refer to certain attributes from any other part of the class. Basically, all methods in a class need the *self* object as their first argument, so they can access any attribute that is part of the class.\n",
    "\n",
    "To actually use a class, you create a variable such as *m3*. Then you set that equal to the name of the class, with the parameters required by the *\\_\\_init\\_\\_* method. Python creates an *object* from the *class*. An object is a single instance of the Car class; it has a copy of each of the class's variables, and it can do any action that is defined for the class. In this case, you can see that the variable m3 is a Car object from the *\\_\\_main\\_\\_* method. \n",
    "\n",
    "To access an object's variables or methods, you give the name of the object and then use *dot notation* to access the variables and methods. So to get the brand of *m3*, you use *m3.brand*.\n",
    "To modify the speed of the *m3* object, you can use *m3.speed_up()* or *m3.speed_down()*. Each object is its own instance of that class, with its own separate variables. All of the objects are capable of the same behavior, but each object's particular actions do not affect any of the other objects."
   ]
  },
  {
   "cell_type": "code",
   "execution_count": 9,
   "metadata": {},
   "outputs": [
    {
     "name": "stdout",
     "output_type": "stream",
     "text": [
      "Brand=Bmw, Model=M3, Speed=70\n",
      "Brand=Bmw, Model=M3, Speed=71\n",
      "Brand=Fiat, Model=Punto, Speed=90\n",
      "4623890864 <class '__main__.Car'>\n",
      "4623891536 <class '__main__.Car'>\n"
     ]
    }
   ],
   "source": [
    "class Car:\n",
    "    # costructor\n",
    "    def __init__(self, brand, model, speed):\n",
    "        # instance attributes\n",
    "        self.brand = brand\n",
    "        self.model = model\n",
    "        self.speed = speed\n",
    "    \n",
    "    # methods\n",
    "    def speed_up(self):\n",
    "        self.speed += 1\n",
    "        \n",
    "    def speed_down(self):\n",
    "        self.speed -= 1\n",
    "\n",
    "if __name__ == '__main__':\n",
    "    m3 = Car('Bmw', 'M3', 70)\n",
    "    print('Brand={}, Model={}, Speed={}'.format(m3.brand, m3.model, m3.speed))\n",
    "    m3.speed_up()\n",
    "    print('Brand={}, Model={}, Speed={}'.format(m3.brand, m3.model, m3.speed))\n",
    "    \n",
    "    p = Car('Fiat', 'Punto', 90)\n",
    "    print('Brand={}, Model={}, Speed={}'.format(p.brand, p.model, p.speed))\n",
    "    \n",
    "    print(id(m3), type(m3))\n",
    "    print(id(p), type(p))"
   ]
  },
  {
   "cell_type": "markdown",
   "metadata": {},
   "source": [
    "## Constructor method\n",
    "Constructors are generally used for creating (instantiating) objects. The task of constructors is to initialize (assign values) to the data members of the class when an object of the class is created. In Python the \\_\\_init\\_\\_ method is used as constructor and it is always called when an object is created. *Unlike Java, you cannot define multiple constructors. However, you can define a default values for specific parameter.*"
   ]
  },
  {
   "cell_type": "code",
   "execution_count": 10,
   "metadata": {},
   "outputs": [
    {
     "name": "stdout",
     "output_type": "stream",
     "text": [
      "Brand=Bmw, Model=M3, Speed=0\n"
     ]
    }
   ],
   "source": [
    "class Car:\n",
    "    # costructor\n",
    "    def __init__(self, brand, model, speed=0):\n",
    "        # instance attributes\n",
    "        self.brand = brand\n",
    "        self.model = model\n",
    "        self.speed = speed\n",
    "        \n",
    "    # methods\n",
    "    def speed_up(self):\n",
    "        self.speed += 1\n",
    "        \n",
    "    def speed_down(self):\n",
    "        self.speed -= 1\n",
    "\n",
    "if __name__ == '__main__':\n",
    "    m3 = Car('Bmw', 'M3')\n",
    "    print('Brand={}, Model={}, Speed={}'.format(m3.brand, m3.model, m3.speed))\n"
   ]
  },
  {
   "cell_type": "markdown",
   "metadata": {},
   "source": [
    "## Garbabe collector\n",
    "Whenever you create an object in Python, the underlying C object has both a Python type (such as list, dict, or function) and a reference count. At a very basic level, a Python object’s reference count is incremented whenever the object is referenced, and it’s decremented when an object is dereferenced. If an object’s reference count goes to 0, the memory for the object is deallocated. The component managing this process is called *garbage collector*."
   ]
  },
  {
   "cell_type": "code",
   "execution_count": 11,
   "metadata": {},
   "outputs": [
    {
     "data": {
      "text/plain": [
       "5"
      ]
     },
     "execution_count": 11,
     "metadata": {},
     "output_type": "execute_result"
    }
   ],
   "source": [
    "# calls garbage collection explicitely\n",
    "import gc\n",
    "gc.collect()\n",
    "\n",
    "# counts references\n",
    "import sys\n",
    "a = 'my-string'\n",
    "b = [a] \n",
    "c = { 'key': a }\n",
    "sys.getrefcount(a)\n",
    "\n"
   ]
  },
  {
   "cell_type": "markdown",
   "metadata": {},
   "source": [
    "## Destructor method\n",
    "Destructors are called when an object gets destroyed. In Python, destructors are not needed as much needed as in C++ because Python has a garbage collector that handles memory automatically. However, the *\\_\\_del\\_\\_* method is used as a destructor method in Python. It is called when all references to the object have been deleted i.e when an object is garbage collected."
   ]
  },
  {
   "cell_type": "code",
   "execution_count": 12,
   "metadata": {},
   "outputs": [
    {
     "name": "stdout",
     "output_type": "stream",
     "text": [
      "Object destroyed!\n"
     ]
    }
   ],
   "source": [
    "class Car:\n",
    "    # costructor\n",
    "    def __init__(self, brand, model, speed=0):\n",
    "        # instance attributes\n",
    "        self.brand = brand\n",
    "        self.model = model\n",
    "        self.speed = speed\n",
    "        \n",
    "    # methods\n",
    "    def speed_up(self):\n",
    "        self.speed += 1\n",
    "        \n",
    "    def speed_down(self):\n",
    "        self.speed -= 1\n",
    "\n",
    "    # destructor\n",
    "    def __del__(self):\n",
    "        print('Object destroyed!')\n",
    "\n",
    "\n",
    "if __name__ == '__main__':\n",
    "    m3 = Car('Bmw', 'M3')\n",
    "    del m3\n"
   ]
  },
  {
   "cell_type": "markdown",
   "metadata": {},
   "source": [
    "## Class attributes\n",
    "Outside the *\\_\\_init\\_\\_* method we can define class attributes. We can access the class attributes using *\\_\\_class\\_\\_.attribute*. Class attributes are shared among all objects which are instances of the same class. "
   ]
  },
  {
   "cell_type": "code",
   "execution_count": 13,
   "metadata": {},
   "outputs": [
    {
     "name": "stdout",
     "output_type": "stream",
     "text": [
      "Brand=Bmw, Model=M3, Wheels=2\n",
      "Brand=Tesla, Model=Models S, Wheels=2\n"
     ]
    }
   ],
   "source": [
    "class Car:\n",
    "    # class attribute\n",
    "    wheels = 4\n",
    "    \n",
    "    # costructor\n",
    "    def __init__(self, brand, model, speed=0):\n",
    "        # instance attributes\n",
    "        self.brand = brand\n",
    "        self.model = model\n",
    "        self.speed = speed\n",
    "\n",
    "if __name__ == '__main__':\n",
    "    m3 = Car('Bmw', 'M3')\n",
    "    tsla = Car('Tesla', 'Models S')\n",
    "\n",
    "    m3.__class__.wheels = 2\n",
    "    \n",
    "    print('Brand={}, Model={}, Wheels={}'.format(m3.brand, m3.model, m3.__class__.wheels))\n",
    "    print('Brand={}, Model={}, Wheels={}'.format(tsla.brand, tsla.model, tsla.__class__.wheels))"
   ]
  },
  {
   "cell_type": "markdown",
   "metadata": {},
   "source": [
    "## Class methods\n",
    "\n",
    "A class method is a method which is bound to the class and not the object of the class. Class methods have to be annotated with either the *@staticmethod* or *@classmethod* tags.\n",
    "\n",
    "Methods annotated with *@staticmethod* can’t access or modify the class state (i.e., class attributes). They are present in a class because it makes sense for these methods to be present in class. This annotation is generally used to create utility functions."
   ]
  },
  {
   "cell_type": "code",
   "execution_count": 14,
   "metadata": {},
   "outputs": [
    {
     "name": "stdout",
     "output_type": "stream",
     "text": [
      "True\n"
     ]
    }
   ],
   "source": [
    "class Car:\n",
    "    def __init__(self, brand, model, speed=0):\n",
    "        self.brand = brand\n",
    "        self.model = model\n",
    "        self.speed = speed\n",
    "\n",
    "    @staticmethod\n",
    "    def within_limits(speed, maxspeed):\n",
    "        return speed < maxspeed\n",
    "\n",
    "\n",
    "if __name__ == '__main__':\n",
    "    m3 = Car('Bmw', 'M3')\n",
    "    print(Car.within_limits(75, 90))\n"
   ]
  },
  {
   "cell_type": "markdown",
   "metadata": {},
   "source": [
    "Methods annotated with *@classmethod* have the access to the state of the class as they take a class parameter that points to the class and not the object instance. They can modify a class state that would apply across all the instances of the class. Generally used to create factory methods. Factory methods return brand new objects (similar to a constructor)."
   ]
  },
  {
   "cell_type": "code",
   "execution_count": 15,
   "metadata": {},
   "outputs": [
    {
     "name": "stdout",
     "output_type": "stream",
     "text": [
      "Brand=BMW, Model=M3, Speed=120\n"
     ]
    }
   ],
   "source": [
    "class Car:\n",
    "    def __init__(self, brand, model, speed=0):\n",
    "        self.brand = brand\n",
    "        self.model = model\n",
    "        self.speed = speed\n",
    "\n",
    "    @classmethod\n",
    "    def from_file(cls, f):\n",
    "        brand, model, speed = f.readline().split(', ')\n",
    "        return cls(brand, model, speed)\n",
    "\n",
    "if __name__ == '__main__':\n",
    "    input_file = open('resources/cars.txt', 'r')\n",
    "    c = Car.from_file(input_file)\n",
    "    print('Brand={}, Model={}, Speed={}'.format(c.brand, c.model, c.speed))\n"
   ]
  },
  {
   "cell_type": "markdown",
   "metadata": {},
   "source": [
    "## String representations\n",
    "*\\_\\_repr\\_\\_*, and *\\_\\_str\\_\\_* return a string representation of the object. If *\\_\\_repr\\_\\_* is defined, and *\\_\\_str\\_\\_* is not, the object will behave as though *\\_\\_str\\_\\_*=\\_*\\_\\_repr\\_\\_*. This means that almost every object you implement should have a functional *\\_\\_repr\\_\\_* mathod that’s usable for understanding the object. Implementing *\\_\\_str\\_\\_* is optional: do that if you need a “pretty print” functionality (for example, used by a report generator). *\\_\\_repr\\_\\_* in interally called by the *repr()* standard function."
   ]
  },
  {
   "cell_type": "code",
   "execution_count": 16,
   "metadata": {},
   "outputs": [
    {
     "name": "stdout",
     "output_type": "stream",
     "text": [
      "Brand=Bmw, Model=M3, Speed=120\n",
      "Brand=Bmw, Model=M3, Speed=120\n"
     ]
    }
   ],
   "source": [
    "class Car:\n",
    "    def __init__(self, brand, model, speed=0):\n",
    "        self.brand = brand\n",
    "        self.model = model\n",
    "        self.speed = speed\n",
    "\n",
    "    def __repr__(self):\n",
    "        return 'Brand={}, Model={}, Speed={}'.format(self.brand, self.model, self.speed)\n",
    "\n",
    "if __name__ == '__main__':\n",
    "    m3 = Car('Bmw', 'M3', 120)\n",
    "    print(m3)\n",
    "    print(repr(m3))"
   ]
  },
  {
   "cell_type": "code",
   "execution_count": 17,
   "metadata": {},
   "outputs": [
    {
     "name": "stdout",
     "output_type": "stream",
     "text": [
      "This is a Bmw model M3 going at 120km/h.\n",
      "Brand=Bmw, Model=M3, Speed=120\n"
     ]
    }
   ],
   "source": [
    "class Car:\n",
    "    def __init__(self, brand, model, speed=0):\n",
    "        self.brand = brand\n",
    "        self.model = model\n",
    "        self.speed = speed\n",
    "\n",
    "    def __repr__(self):\n",
    "        return 'Brand={}, Model={}, Speed={}'.format(self.brand, self.model, self.speed)\n",
    "\n",
    "    def __str__(self):\n",
    "        return 'This is a {} model {} going at {}km/h.'.format(self.brand, self.model, self.speed)\n",
    "\n",
    "if __name__ == '__main__':\n",
    "    m3 = Car('Bmw', 'M3', 120)\n",
    "    print(m3)\n",
    "    print(repr(m3))\n",
    "\n",
    "    "
   ]
  },
  {
   "cell_type": "markdown",
   "metadata": {},
   "source": [
    "## One class, many objects"
   ]
  },
  {
   "cell_type": "code",
   "execution_count": 18,
   "metadata": {},
   "outputs": [
    {
     "name": "stdout",
     "output_type": "stream",
     "text": [
      "Brand=BMW, Model=M3, Speed=84\n",
      "Brand=Fiat, Model=Punto, Speed=58\n",
      "Brand=Porsche, Model=GT3, Speed=26\n",
      "Brand=Lancia, Model=Beta, Speed=73\n"
     ]
    }
   ],
   "source": [
    "import random\n",
    "\n",
    "class Car:\n",
    "    def __init__(self, brand, model, speed=0):\n",
    "        self.brand = brand\n",
    "        self.model = model\n",
    "        self.speed = speed\n",
    "\n",
    "    def __repr__(self):\n",
    "        return 'Brand={}, Model={}, Speed={}'.format(self.brand, self.model, self.speed)\n",
    "    \n",
    "if __name__ == '__main__':\n",
    "    car_names = [('BMW', 'M3'), ('Fiat', 'Punto'), ('Porsche', 'GT3'), ('Lancia', 'Beta')]\n",
    "    cars = [ Car(brand, model, int(random.random() * 100)) for brand, model in car_names ]\n",
    "    \n",
    "    for car in cars:\n",
    "        print(car)"
   ]
  },
  {
   "cell_type": "markdown",
   "metadata": {},
   "source": [
    "## Docstrings\n",
    "Docstring is a short for documentation string. Python docstrings are the string literals that appear right after the definition of a function, method, class, or module. Triple quotes are used. The docstring is available as the *\\_\\_doc\\_\\_* attribute."
   ]
  },
  {
   "cell_type": "code",
   "execution_count": 19,
   "metadata": {},
   "outputs": [
    {
     "name": "stdout",
     "output_type": "stream",
     "text": [
      "\n",
      "    A simple class for representing a car\n",
      "    with a brand, a model name, and a speed\n",
      "    \n",
      "\n",
      "    A simple class for representing a car\n",
      "    with a brand, a model name, and a speed\n",
      "    \n"
     ]
    }
   ],
   "source": [
    "class Car:\n",
    "    \"\"\"\n",
    "    A simple class for representing a car\n",
    "    with a brand, a model name, and a speed\n",
    "    \"\"\"\n",
    "    def __init__(self, brand, model, speed=0):\n",
    "        self.brand = brand\n",
    "        self.model = model\n",
    "        self.speed = speed\n",
    "\n",
    "if __name__ == '__main__':\n",
    "    m3 = Car('Bmw', 'M3')\n",
    "    print(m3.__doc__)\n",
    "    print(Car.__doc__)\n"
   ]
  },
  {
   "cell_type": "markdown",
   "metadata": {},
   "source": [
    "# Encapsulation\n",
    "Encapsulation allows to restrict access to methods and variables. This prevents data from unwanted modifications. In Python, we denote private attributes using underscores as the prefix such as *self.\\_varname* or *self.\\_\\_varname*. Getters and setters methods are needed for manipulating private attributes."
   ]
  },
  {
   "cell_type": "code",
   "execution_count": 20,
   "metadata": {},
   "outputs": [
    {
     "name": "stdout",
     "output_type": "stream",
     "text": [
      "FY345YT\n"
     ]
    }
   ],
   "source": [
    "class Car:\n",
    "    def __init__(self, brand, model, licence):\n",
    "        self.brand = brand\n",
    "        self.model = model\n",
    "        self.__licence = licence\n",
    "\n",
    "    def get_licence(self):\n",
    "        return self.__licence\n",
    "\n",
    "    def set_licence(self, licence):\n",
    "        self.__licence = licence\n",
    "\n",
    "if __name__ == '__main__':\n",
    "    m3 = Car('Bmw', 'M3', 'GY455AI')\n",
    "    m3.set_licence('FY345YT')\n",
    "    print(m3.get_licence())\n",
    "    # print(m3.__licence)\n",
    "    # AttributeError: 'Car' object has no attribute '__licence'\n"
   ]
  },
  {
   "cell_type": "markdown",
   "metadata": {},
   "source": [
    "# Inheritance\n",
    "Inheritance allows us to define a class that inherits all the methods and properties from another class. The class which get inherited is called *base class* or *parent class*. The class which inherits the other class is called *child class* or *derived class*. Derived classes inherit all attributes and methods from a base class. Furthermore they can:\n",
    "* add attributes and methods\n",
    "* redefine existing methods\n",
    "\n",
    "Python has a *super* function which allows us to access temporary object of the super class. The *super* function is usually used in constructurs of derived classes for initializing the inherited portion of the object."
   ]
  },
  {
   "cell_type": "code",
   "execution_count": 21,
   "metadata": {},
   "outputs": [
    {
     "name": "stdout",
     "output_type": "stream",
     "text": [
      "Brand=Tesla, Model=ModelX, Speed=1, Battery=1\n"
     ]
    }
   ],
   "source": [
    "# base class\n",
    "class Car:\n",
    "    def __init__(self, brand, model, speed=0):\n",
    "        self.brand = brand\n",
    "        self.model = model\n",
    "        self.speed = speed\n",
    "    \n",
    "    def speed_up(self):\n",
    "        self.speed += 1\n",
    "        \n",
    "    def speed_down(self):\n",
    "        self.speed -= 1\n",
    "        \n",
    "    def __repr__(self):\n",
    "        return 'Brand={}, Model={}, Speed={}'.format(\n",
    "            self.brand, \n",
    "            self.model, \n",
    "            self.speed)\n",
    "\n",
    "# derived class\n",
    "class ECar(Car):\n",
    "    def __init__(self, brand, model, speed=0, battery_level=0):\n",
    "        super().__init__(brand, model, speed)\n",
    "        self.battery_level = battery_level\n",
    "\n",
    "    def charge(self):\n",
    "        self.battery_level += 1\n",
    "        \n",
    "    def discharge(self):\n",
    "        self.battery_level += 1\n",
    "        \n",
    "    def __repr__(self):\n",
    "        return 'Brand={}, Model={}, Speed={}, Battery={}'.format(\n",
    "            self.brand, \n",
    "            self.model, \n",
    "            self.speed,\n",
    "            self.battery_level)\n",
    "\n",
    "if __name__ == '__main__':\n",
    "    tsla = ECar('Tesla', 'ModelX')\n",
    "    tsla.charge()\n",
    "    tsla.speed_up()\n",
    "    print(tsla)\n"
   ]
  },
  {
   "cell_type": "markdown",
   "metadata": {},
   "source": [
    "# Polymorphism\n",
    "Using inheritance, the child class inherits the methods from the parent class. However, it is possible to modify a method in a child class that has been inherited from the parent class. In such cases, we re-implement the method in the child class. This process of re-implementing a method in the child class is known as *method overriding*. Method overriding eventually leads to polymorphic behaviours (same method behaving in different ways depending on the object it is actually called on)."
   ]
  },
  {
   "cell_type": "code",
   "execution_count": 22,
   "metadata": {},
   "outputs": [
    {
     "name": "stdout",
     "output_type": "stream",
     "text": [
      "Brand=BMW, Model=M3, Speed=1\n",
      "Brand=Tesla, Model=ModelX, Speed=2, Battery=0\n"
     ]
    }
   ],
   "source": [
    "# base class\n",
    "class Car:\n",
    "    def __init__(self, brand, model, speed=0):\n",
    "        self.brand = brand\n",
    "        self.model = model\n",
    "        self.speed = speed\n",
    "    \n",
    "    def speed_up(self):\n",
    "        self.speed += 1\n",
    "        \n",
    "    def speed_down(self):\n",
    "        self.speed -= 1\n",
    "        \n",
    "    def __repr__(self):\n",
    "        return 'Brand={}, Model={}, Speed={}'.format(\n",
    "            self.brand, \n",
    "            self.model, \n",
    "            self.speed)\n",
    "\n",
    "# derived class\n",
    "class ECar(Car):\n",
    "    def __init__(self, brand, model, speed=0, battery_level=0):\n",
    "        super().__init__(brand, model, speed)\n",
    "        self.battery_level = battery_level\n",
    "        \n",
    "    # overriden methods\n",
    "    def speed_up(self):\n",
    "        self.speed += 2\n",
    "        \n",
    "    def speed_down(self):\n",
    "        self.speed -= 2\n",
    "\n",
    "    # additional methods\n",
    "    def charge(self):\n",
    "        self.battery_level += 1\n",
    "        \n",
    "    def discharge(self):\n",
    "        self.battery_level += 1\n",
    "        \n",
    "    def __repr__(self):\n",
    "        return 'Brand={}, Model={}, Speed={}, Battery={}'.format(\n",
    "            self.brand, \n",
    "            self.model, \n",
    "            self.speed,\n",
    "            self.battery_level)\n",
    "\n",
    "if __name__ == '__main__':\n",
    "    m3 = Car('BMW', 'M3')\n",
    "    tsla = ECar('Tesla', 'ModelX')\n",
    "    m3.speed_up()\n",
    "    tsla.speed_up()\n",
    "    print(m3)\n",
    "    print(tsla)\n"
   ]
  },
  {
   "cell_type": "markdown",
   "metadata": {},
   "source": [
    "# Modules and classes"
   ]
  },
  {
   "cell_type": "markdown",
   "metadata": {},
   "source": [
    "## Modules\n",
    "\n",
    "Python allows you to save your classes in another file and then import them into the program you are working on. This has the advantage of isolating your classes into files that can be used in any number of different programs. As you use your classes repeatedly, the classes become more reliable and complete overall.\n",
    "\n",
    "When you save a class into a separate file, that file is called a **module**. You can have any number of classes in a single module. There are a number of ways you can then import the class you are interested in. \n",
    "\n",
    "Modules should have [short, lowercase names](http://www.python.org/dev/peps/pep-0008/#package-and-module-names). If you want to have a space in the module name, use an underscore. [Class names](http://www.python.org/dev/peps/pep-0008/#class-names) should be written in *CamelCase*, with an initial capital letter and any new word capitalized. There should be no underscores in your class names. This convention helps distinguish modules from classes, for example when you are writing import statements."
   ]
  },
  {
   "cell_type": "code",
   "execution_count": 23,
   "metadata": {
    "collapsed": false,
    "jupyter": {
     "outputs_hidden": false
    }
   },
   "outputs": [],
   "source": [
    "# Save as car.py\n",
    "class Car:\n",
    "    def __init__(self, brand, model, speed=0):\n",
    "        self.brand = brand\n",
    "        self.model = model\n",
    "        self.speed = speed\n",
    "    \n",
    "    def speed_up(self):\n",
    "        self.speed += 1\n",
    "        \n",
    "    def speed_down(self):\n",
    "        self.speed -= 1\n",
    "        \n",
    "    def __repr__(self):\n",
    "        return 'Brand={}, Model={}, Speed={}'.format(\n",
    "            self.brand, \n",
    "            self.model, \n",
    "            self.speed)\n",
    "\n",
    "class ECar(Car):\n",
    "    def __init__(self, brand, model, speed=0, battery_level=0):\n",
    "        super().__init__(brand, model, speed)\n",
    "        self.battery_level = battery_level\n",
    "        \n",
    "    # overriden methods\n",
    "    def speed_up(self):\n",
    "        self.speed += 2\n",
    "        \n",
    "    def speed_down(self):\n",
    "        self.speed -= 2\n",
    "\n",
    "    # additional methods\n",
    "    def charge(self):\n",
    "        self.battery_level += 1\n",
    "        \n",
    "    def discharge(self):\n",
    "        self.battery_level += 1\n",
    "        \n",
    "    def __repr__(self):\n",
    "        return 'Brand={}, Model={}, Speed={}, Battery={}'.format(\n",
    "            self.brand, \n",
    "            self.model, \n",
    "            self.speed,\n",
    "            self.battery_level)"
   ]
  },
  {
   "cell_type": "markdown",
   "metadata": {},
   "source": [
    "Make a separate file called *car_game.py*. Again, to use standard naming conventions, make sure you are using a lowercase_underscore name for this file."
   ]
  },
  {
   "cell_type": "code",
   "execution_count": 24,
   "metadata": {
    "collapsed": false,
    "jupyter": {
     "outputs_hidden": false
    }
   },
   "outputs": [
    {
     "name": "stdout",
     "output_type": "stream",
     "text": [
      "Brand=BMW, Model=M3, Speed=0\n",
      "Brand=Porsche, Model=GT3, Speed=0\n",
      "Brand=Lancia, Model=Beta, Speed=0\n",
      "Brand=Tesla, Model=Model X, Speed=0, Battery=100\n",
      "Brand=Rimac, Model=Concept Two, Speed=0, Battery=100\n",
      "Brand=Volvo, Model=Polestar 1, Speed=0, Battery=100\n"
     ]
    }
   ],
   "source": [
    "# Save as car_game.py\n",
    "from car import Car, ECar\n",
    "\n",
    "car_names = [('BMW', 'M3'), ('Porsche', 'GT3'), ('Lancia', 'Beta')]\n",
    "cars = [ Car(brand, model, 0) for brand, model in car_names ]\n",
    "for car in cars:\n",
    "    print(car)\n",
    "    \n",
    "car_names = [('Tesla', 'Model X'), ('Rimac', 'Concept Two'), ('Volvo', 'Polestar 1')]\n",
    "cars = [ ECar(brand, model, 0, 100) for brand, model in car_names ]\n",
    "for car in cars:\n",
    "    print(car)"
   ]
  },
  {
   "cell_type": "markdown",
   "metadata": {},
   "source": [
    "## Importing classes\n",
    "There are several ways to import modules and classes, and each has its own merits.\n",
    "\n",
    "**from module_name import ClassName** The first one is straightforward, and is used quite commonly. It allows you to use the class names directly in your program, so you have very clean and readable code. This can be a problem, however, if the names of the classes you are importing conflict with names that have already been used in the program you are working on. This is unlikely to happen in the short programs you have been seeing here, but if you were working on a larger program it is quite possible that the class you want to import from someone else's work would happen to have a name you have already used in your program.\n",
    "\n",
    "**import module_name** The second one prevents some name conflicts. \n",
    "\n",
    "**import module_name as alias** When you are importing a module into one of your projects, you are free to choose any name you want for the module in your project. This approach is often used to shorten the name of the module, so you don't have to type a long module name before each class name that you want to use. But it is easy to shorten a name so much that you force people reading your code to scroll to the top of your file and see what the shortened name stands for.\n",
    "\n",
    "**from module_name import \\*** This is not recommended, for a couple reasons. First of all, you may have no idea what all the names of the classes and functions in a module are. If you accidentally give one of your variables the same name as a name from the module, you will have naming conflicts. Also, you may be importing way more code into your program than you need. If you really need all the functions and classes from a module, just import the module and use the `module_name.ClassName` syntax in your program."
   ]
  },
  {
   "cell_type": "code",
   "execution_count": 28,
   "metadata": {},
   "outputs": [
    {
     "name": "stdout",
     "output_type": "stream",
     "text": [
      "Brand=BMW, Model=M2, Speed=0\n",
      "Brand=Rimac, Model=Concept One, Speed=0, Battery=0\n"
     ]
    }
   ],
   "source": [
    "from car import Car, ECar\n",
    "\n",
    "c0 = car.Car('BMW', 'M2')\n",
    "print(c0)\n",
    "\n",
    "c1 = car.ECar('Rimac', 'Concept One')\n",
    "print(c1)"
   ]
  },
  {
   "cell_type": "code",
   "execution_count": 29,
   "metadata": {
    "collapsed": false,
    "jupyter": {
     "outputs_hidden": false
    }
   },
   "outputs": [
    {
     "name": "stdout",
     "output_type": "stream",
     "text": [
      "Brand=BMW, Model=M2, Speed=0\n",
      "Brand=Rimac, Model=Concept One, Speed=0, Battery=0\n"
     ]
    }
   ],
   "source": [
    "import car\n",
    "\n",
    "c0 = car.Car('BMW', 'M2')\n",
    "print(c0)\n",
    "\n",
    "c1 = car.ECar('Rimac', 'Concept One')\n",
    "print(c1)"
   ]
  },
  {
   "cell_type": "code",
   "execution_count": 30,
   "metadata": {
    "collapsed": false,
    "jupyter": {
     "outputs_hidden": false
    }
   },
   "outputs": [
    {
     "name": "stdout",
     "output_type": "stream",
     "text": [
      "Brand=BMW, Model=M2, Speed=0\n",
      "Brand=Rimac, Model=Concept One, Speed=0, Battery=0\n"
     ]
    }
   ],
   "source": [
    "import car as c\n",
    "\n",
    "c0 = c.Car('BMW', 'M2')\n",
    "print(c0)\n",
    "\n",
    "c1 = c.ECar('Rimac', 'Concept One')\n",
    "print(c1)"
   ]
  },
  {
   "cell_type": "markdown",
   "metadata": {},
   "source": [
    "## Importing functions\n",
    "\n",
    "You can use modules to store a set of functions you want available in different programs as well, even if those functions are not attached to any one class. To do this, you save the functions into a file, and then import that file just as you saw in the last section. Here is a really simple example; save this is *multiplying.py*:"
   ]
  },
  {
   "cell_type": "code",
   "execution_count": null,
   "metadata": {
    "collapsed": false,
    "jupyter": {
     "outputs_hidden": false
    }
   },
   "outputs": [],
   "source": [
    "def double(x):\n",
    "    return 2*x\n",
    "\n",
    "def triple(x):\n",
    "    return 3*x\n",
    "\n",
    "def quadruple(x):\n",
    "    return 4*x"
   ]
  },
  {
   "cell_type": "code",
   "execution_count": 31,
   "metadata": {
    "collapsed": false,
    "jupyter": {
     "outputs_hidden": false
    }
   },
   "outputs": [
    {
     "name": "stdout",
     "output_type": "stream",
     "text": [
      "10\n",
      "15\n",
      "20\n"
     ]
    }
   ],
   "source": [
    "from multiplying import double, triple, quadruple\n",
    "\n",
    "print(double(5))\n",
    "print(triple(5))\n",
    "print(quadruple(5))"
   ]
  },
  {
   "cell_type": "code",
   "execution_count": 32,
   "metadata": {
    "collapsed": false,
    "jupyter": {
     "outputs_hidden": false
    }
   },
   "outputs": [
    {
     "name": "stdout",
     "output_type": "stream",
     "text": [
      "10\n",
      "15\n",
      "20\n"
     ]
    }
   ],
   "source": [
    "import multiplying\n",
    "\n",
    "print(multiplying.double(5))\n",
    "print(multiplying.triple(5))\n",
    "print(multiplying.quadruple(5))"
   ]
  },
  {
   "cell_type": "code",
   "execution_count": 33,
   "metadata": {
    "collapsed": false,
    "jupyter": {
     "outputs_hidden": false
    }
   },
   "outputs": [
    {
     "name": "stdout",
     "output_type": "stream",
     "text": [
      "10\n",
      "15\n",
      "20\n"
     ]
    }
   ],
   "source": [
    "import multiplying as m\n",
    "\n",
    "print(m.double(5))\n",
    "print(m.triple(5))\n",
    "print(m.quadruple(5))"
   ]
  },
  {
   "cell_type": "code",
   "execution_count": 34,
   "metadata": {
    "collapsed": false,
    "jupyter": {
     "outputs_hidden": false
    }
   },
   "outputs": [
    {
     "name": "stdout",
     "output_type": "stream",
     "text": [
      "10\n",
      "15\n",
      "20\n"
     ]
    }
   ],
   "source": [
    "from multiplying import *\n",
    "\n",
    "print(double(5))\n",
    "print(triple(5))\n",
    "print(quadruple(5))"
   ]
  },
  {
   "cell_type": "markdown",
   "metadata": {},
   "source": [
    "## PEP8 guidelines\n",
    "\n",
    "The names of modules should be on separate lines:"
   ]
  },
  {
   "cell_type": "code",
   "execution_count": 36,
   "metadata": {
    "collapsed": false,
    "jupyter": {
     "outputs_hidden": false
    }
   },
   "outputs": [],
   "source": [
    "# ok\n",
    "import sys\n",
    "import os\n",
    "\n",
    "# not ok\n",
    "import sys, os"
   ]
  },
  {
   "cell_type": "markdown",
   "metadata": {},
   "source": [
    "The names of classes can be on the same line:"
   ]
  },
  {
   "cell_type": "code",
   "execution_count": 37,
   "metadata": {
    "collapsed": false,
    "jupyter": {
     "outputs_hidden": false
    }
   },
   "outputs": [],
   "source": [
    "from car import Car, ECar"
   ]
  },
  {
   "cell_type": "markdown",
   "metadata": {},
   "source": [
    "Imports should always be placed at the top of the file. When you are working on a longer program, you might have an idea that requires an import statement. You might write the import statement in the code block you are working on to see if your idea works. If you end up keeping the import, make sure you move the import statement to the top of the file. This lets anyone who works with your program see what modules are required for the program to work.\n",
    "\n",
    "Your import statements should be in a predictable order:\n",
    "\n",
    "- The first imports should be standard Python modules such as *sys*, *os*, and *math*.\n",
    "- The second set of imports should be \"third-party\" libraries. These are libraries that are written and maintained by independent programmers, which are not part of the official Python language. Examples of this are [pygame](http://pygame.org/news.html) and [requests](http://docs.python-requests.org/en/latest/)."
   ]
  }
 ],
 "metadata": {
  "kernelspec": {
   "display_name": "Python 3",
   "language": "python",
   "name": "python3"
  },
  "language_info": {
   "codemirror_mode": {
    "name": "ipython",
    "version": 3
   },
   "file_extension": ".py",
   "mimetype": "text/x-python",
   "name": "python",
   "nbconvert_exporter": "python",
   "pygments_lexer": "ipython3",
   "version": "3.6.7"
  },
  "toc-autonumbering": true
 },
 "nbformat": 4,
 "nbformat_minor": 4
}

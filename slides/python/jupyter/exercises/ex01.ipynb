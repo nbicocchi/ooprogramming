{
 "cells": [
  {
   "cell_type": "markdown",
   "metadata": {},
   "source": [
    "# Exercises for Python 3"
   ]
  },
  {
   "cell_type": "markdown",
   "metadata": {},
   "source": [
    "### Question\n",
    "Write a program which will find all such numbers which are divisible by 7 but are not a multiple of 5, between 2000 and 3200 (both included).\n",
    "The numbers obtained should be printed in a comma-separated sequence on a single line.\n",
    "\n",
    "Hints: \n",
    "Consider use range(#begin, #end) method"
   ]
  },
  {
   "cell_type": "code",
   "execution_count": 1,
   "metadata": {},
   "outputs": [
    {
     "name": "stdout",
     "output_type": "stream",
     "text": [
      "2002,2009,2016,2023,2037,2044,2051,2058,2072,2079,2086,2093,2107,2114,2121,2128,2142,2149,2156,2163,2177,2184,2191,2198,2212,2219,2226,2233,2247,2254,2261,2268,2282,2289,2296,2303,2317,2324,2331,2338,2352,2359,2366,2373,2387,2394,2401,2408,2422,2429,2436,2443,2457,2464,2471,2478,2492,2499,2506,2513,2527,2534,2541,2548,2562,2569,2576,2583,2597,2604,2611,2618,2632,2639,2646,2653,2667,2674,2681,2688,2702,2709,2716,2723,2737,2744,2751,2758,2772,2779,2786,2793,2807,2814,2821,2828,2842,2849,2856,2863,2877,2884,2891,2898,2912,2919,2926,2933,2947,2954,2961,2968,2982,2989,2996,3003,3017,3024,3031,3038,3052,3059,3066,3073,3087,3094,3101,3108,3122,3129,3136,3143,3157,3164,3171,3178,3192,3199\n"
     ]
    }
   ],
   "source": [
    "l=[]\n",
    "for i in range(2000, 3201):\n",
    "    if (i%7 == 0) and (i%5 != 0):\n",
    "        l.append(str(i))\n",
    "\n",
    "print(','.join(l))"
   ]
  },
  {
   "cell_type": "markdown",
   "metadata": {},
   "source": [
    "### Question\n",
    "Write a program which can compute the factorial of a given number."
   ]
  },
  {
   "cell_type": "code",
   "execution_count": 2,
   "metadata": {},
   "outputs": [
    {
     "name": "stdout",
     "output_type": "stream",
     "text": [
      "3628800\n"
     ]
    }
   ],
   "source": [
    "def fact(x):\n",
    "    if x == 0:\n",
    "        return 1\n",
    "    return x * fact(x - 1)\n",
    "\n",
    "print(fact(10))"
   ]
  },
  {
   "cell_type": "code",
   "execution_count": 3,
   "metadata": {},
   "outputs": [],
   "source": [
    "assert fact(7) == 5040\n",
    "assert fact(10) == 3628800"
   ]
  },
  {
   "cell_type": "markdown",
   "metadata": {},
   "source": [
    "### Question\n",
    "With a given integer number n, write a program to generate a dictionary that contains (i, i*i) for any 0 < integer < n. For 8, the output should be:\n",
    "{1: 1, 2: 4, 3: 9, 4: 16, 5: 25, 6: 36, 7: 49, 8: 64}"
   ]
  },
  {
   "cell_type": "code",
   "execution_count": 4,
   "metadata": {},
   "outputs": [
    {
     "name": "stdout",
     "output_type": "stream",
     "text": [
      "{1: 1, 2: 4, 3: 9, 4: 16, 5: 25, 6: 36, 7: 49}\n"
     ]
    }
   ],
   "source": [
    "def gen_dict(n):\n",
    "    d = {}\n",
    "    for i in range(1, n):\n",
    "        d[i] = i**2\n",
    "    return d\n",
    "\n",
    "print(gen_dict(8))"
   ]
  },
  {
   "cell_type": "code",
   "execution_count": 5,
   "metadata": {},
   "outputs": [],
   "source": [
    "assert gen_dict(8) == {1: 1, 2: 4, 3: 9, 4: 16, 5: 25, 6: 36, 7: 49}"
   ]
  },
  {
   "cell_type": "markdown",
   "metadata": {},
   "source": [
    "### Question\n",
    "Write a program which accepts a sequence of comma-separated numbers and generate a list and a tuple which contains every number.\n",
    "Suppose the following input is supplied to the program:\n",
    "34,67,55,33,12,98\n",
    "Then, the output should be:\n",
    "['34', '67', '55', '33', '12', '98']\n",
    "('34', '67', '55', '33', '12', '98')"
   ]
  },
  {
   "cell_type": "code",
   "execution_count": 6,
   "metadata": {},
   "outputs": [
    {
     "name": "stdout",
     "output_type": "stream",
     "text": [
      "['8', '4', '2', '3']\n",
      "('8', '4', '2', '3')\n"
     ]
    }
   ],
   "source": [
    "values = '8,4,2,3'\n",
    "l = values.split(',')\n",
    "t = tuple(l)\n",
    "print(l)\n",
    "print(t)"
   ]
  },
  {
   "cell_type": "markdown",
   "metadata": {},
   "source": [
    "### Question\n",
    "Define a class which has at least two methods:\n",
    "get_string: to get a string from console input\n",
    "return_string: return the string in upper case.\n",
    "Also please include simple test function to test the class methods."
   ]
  },
  {
   "cell_type": "code",
   "execution_count": 7,
   "metadata": {},
   "outputs": [
    {
     "data": {
      "text/plain": [
       "'NICOLA'"
      ]
     },
     "execution_count": 7,
     "metadata": {},
     "output_type": "execute_result"
    }
   ],
   "source": [
    "class InputOutString:\n",
    "    def __init__(self, s):\n",
    "        self.s = s\n",
    "\n",
    "    def get_string(self):\n",
    "        self.s = input()\n",
    "    \n",
    "    def return_string(self):\n",
    "        return self.s.upper()\n",
    "\n",
    "strObj = InputOutString('nicola')\n",
    "strObj.return_string()"
   ]
  },
  {
   "cell_type": "markdown",
   "metadata": {},
   "source": [
    "### Question\n",
    "\n",
    "Write a program that calculates and prints the value according to the given formula:\n",
    "Q = round(sqrt([(2 * C * D)/H]). C = 50, H = 30, D is the variable whose values should be input to your program in a comma-separated sequence."
   ]
  },
  {
   "cell_type": "code",
   "execution_count": 8,
   "metadata": {},
   "outputs": [
    {
     "data": {
      "text/plain": [
       "'18,22,24'"
      ]
     },
     "execution_count": 8,
     "metadata": {},
     "output_type": "execute_result"
    }
   ],
   "source": [
    "import math\n",
    "\n",
    "def compute_q(values):\n",
    "    c = 50\n",
    "    h = 30\n",
    "    items=[str(round(math.sqrt(2 * c * float(d) / h))) for d in values.split(',')]\n",
    "    return ','.join(items)\n",
    "compute_q('100,150,180')"
   ]
  },
  {
   "cell_type": "code",
   "execution_count": 9,
   "metadata": {},
   "outputs": [],
   "source": [
    "assert compute_q('100,150,180') == '18,22,24'"
   ]
  },
  {
   "cell_type": "markdown",
   "metadata": {},
   "source": [
    "### Question\n",
    "Write a program that accepts a comma separated sequence of words as input and prints the words in a comma-separated sequence after sorting them alphabetically.\n",
    "Suppose the following input is supplied to the program:\n",
    "without,hello,bag,world\n",
    "Then, the output should be:\n",
    "bag,hello,without,world"
   ]
  },
  {
   "cell_type": "code",
   "execution_count": 10,
   "metadata": {},
   "outputs": [
    {
     "data": {
      "text/plain": [
       "'bag,hello,without,world'"
      ]
     },
     "execution_count": 10,
     "metadata": {},
     "output_type": "execute_result"
    }
   ],
   "source": [
    "def sort_list(l):\n",
    "    items=sorted([x for x in l.split(',')])\n",
    "    return ','.join(items)\n",
    "sort_list('without,hello,bag,world')"
   ]
  },
  {
   "cell_type": "markdown",
   "metadata": {},
   "source": [
    "### Question\n",
    "Write a program that accepts a sequence of white space separated words as input and prints the words after removing all duplicate words and sorting them alphanumerically.\n",
    "Suppose the following input is supplied to the program:\n",
    "hello world and practice makes perfect and hello world again\n",
    "Then, the output should be:\n",
    "again and hello makes perfect practice world"
   ]
  },
  {
   "cell_type": "code",
   "execution_count": 11,
   "metadata": {},
   "outputs": [
    {
     "name": "stdout",
     "output_type": "stream",
     "text": [
      "again and hello makes perfect practice world\n"
     ]
    }
   ],
   "source": [
    "s = 'hello world and practice makes perfect and hello world again'\n",
    "words = [word for word in s.split(' ')]\n",
    "print(' '.join(sorted(list(set(words)))))"
   ]
  },
  {
   "cell_type": "markdown",
   "metadata": {},
   "source": [
    "### Question 11\n",
    "Level 2\n",
    "\n",
    "Question:\n",
    "Write a program which accepts a sequence of comma separated 4 digit binary numbers as its input and then check whether they are divisible by 5 or not. The numbers that are divisible by 5 are to be printed in a comma separated sequence.\n",
    "Example:\n",
    "0100,0011,1010,1001\n",
    "Then the output should be:\n",
    "1010\n",
    "Notes: Assume the data is input by console.\n",
    "\n",
    "Hints:\n",
    "In case of input data being supplied to the question, it should be assumed to be a console input.\n",
    "\n",
    "Solution:"
   ]
  },
  {
   "cell_type": "code",
   "execution_count": null,
   "metadata": {},
   "outputs": [],
   "source": [
    "value = []\n",
    "items=[x for x in input().split(',')]\n",
    "for p in items:\n",
    "    intp = int(p, 2)\n",
    "    if not intp%5:\n",
    "        value.append(p)\n",
    "\n",
    "print(','.join(value))"
   ]
  },
  {
   "cell_type": "markdown",
   "metadata": {},
   "source": [
    "### Question 12\n",
    "Level 2\n",
    "\n",
    "Question:\n",
    "Write a program, which will find all such numbers between 1000 and 3000 (both included) such that each digit of the number is an even number.\n",
    "The numbers obtained should be printed in a comma-separated sequence on a single line.\n",
    "\n",
    "Hints:\n",
    "In case of input data being supplied to the question, it should be assumed to be a console input.\n",
    "\n",
    "Solution:"
   ]
  },
  {
   "cell_type": "code",
   "execution_count": null,
   "metadata": {},
   "outputs": [],
   "source": [
    "values = []\n",
    "for i in range(1000, 3001):\n",
    "    s = str(i)\n",
    "    if (int(s[0])%2==0) and (int(s[1])%2==0) and (int(s[2])%2==0) and (int(s[3])%2==0):\n",
    "        values.append(s)\n",
    "print(\",\".join(values))"
   ]
  },
  {
   "cell_type": "markdown",
   "metadata": {},
   "source": [
    "### Question 13\n",
    "Level 2\n",
    "\n",
    "Question:\n",
    "Write a program that accepts a sentence and calculate the number of letters and digits.\n",
    "Suppose the following input is supplied to the program:\n",
    "hello world! 123\n",
    "Then, the output should be:\n",
    "LETTERS 10\n",
    "DIGITS 3\n",
    "\n",
    "Hints:\n",
    "In case of input data being supplied to the question, it should be assumed to be a console input.\n",
    "\n",
    "Solution:"
   ]
  },
  {
   "cell_type": "code",
   "execution_count": null,
   "metadata": {},
   "outputs": [],
   "source": [
    "s = input()\n",
    "d={\"DIGITS\":0, \"LETTERS\":0}\n",
    "for c in s:\n",
    "    if c.isdigit():\n",
    "        d[\"DIGITS\"]+=1\n",
    "    elif c.isalpha():\n",
    "        d[\"LETTERS\"]+=1\n",
    "    else:\n",
    "        pass\n",
    "print(\"LETTERS\", d[\"LETTERS\"])\n",
    "print(\"DIGITS\", d[\"DIGITS\"])"
   ]
  },
  {
   "cell_type": "markdown",
   "metadata": {},
   "source": [
    "### Question 14\n",
    "Level 2\n",
    "\n",
    "Question:\n",
    "Write a program that accepts a sentence and calculate the number of upper case letters and lower case letters.\n",
    "Suppose the following input is supplied to the program:\n",
    "Hello world!\n",
    "Then, the output should be:\n",
    "UPPER CASE 1\n",
    "LOWER CASE 9\n",
    "\n",
    "Hints:\n",
    "In case of input data being supplied to the question, it should be assumed to be a console input.\n",
    "\n",
    "Solution:"
   ]
  },
  {
   "cell_type": "code",
   "execution_count": null,
   "metadata": {},
   "outputs": [],
   "source": [
    "s = input()\n",
    "d={\"UPPER CASE\":0, \"LOWER CASE\":0}\n",
    "for c in s:\n",
    "    if c.isupper():\n",
    "        d[\"UPPER CASE\"]+=1\n",
    "    elif c.islower():\n",
    "        d[\"LOWER CASE\"]+=1\n",
    "    else:\n",
    "        pass\n",
    "print(\"UPPER CASE\", d[\"UPPER CASE\"])\n",
    "print(\"LOWER CASE\", d[\"LOWER CASE\"])"
   ]
  },
  {
   "cell_type": "markdown",
   "metadata": {},
   "source": [
    "### Question 15\n",
    "Level 2\n",
    "\n",
    "Question:\n",
    "Write a program that computes the value of a+aa+aaa+aaaa with a given digit as the value of a.\n",
    "Suppose the following input is supplied to the program:\n",
    "9\n",
    "Then, the output should be:\n",
    "11106\n",
    "\n",
    "Hints:\n",
    "In case of input data being supplied to the question, it should be assumed to be a console input.\n",
    "\n",
    "Solution:"
   ]
  },
  {
   "cell_type": "code",
   "execution_count": null,
   "metadata": {},
   "outputs": [],
   "source": [
    "a = input()\n",
    "n1 = int( \"%s\" % a )\n",
    "n2 = int( \"%s%s\" % (a,a) )\n",
    "n3 = int( \"%s%s%s\" % (a,a,a) )\n",
    "n4 = int( \"%s%s%s%s\" % (a,a,a,a) )\n",
    "print(n1+n2+n3+n4)"
   ]
  },
  {
   "cell_type": "markdown",
   "metadata": {},
   "source": [
    "### Question 16\n",
    "Level 2\n",
    "\n",
    "Question:\n",
    "Use a list comprehension to square each odd number in a list. The list is input by a sequence of comma-separated numbers.\n",
    "Suppose the following input is supplied to the program:\n",
    "1,2,3,4,5,6,7,8,9\n",
    "Then, the output should be:\n",
    "1,3,5,7,9\n",
    "\n",
    "Hints:\n",
    "In case of input data being supplied to the question, it should be assumed to be a console input.\n",
    "\n",
    "Solution:"
   ]
  },
  {
   "cell_type": "code",
   "execution_count": null,
   "metadata": {},
   "outputs": [],
   "source": [
    "values = input()\n",
    "numbers = [x for x in values.split(\",\") if int(x)%2!=0]\n",
    "print(\",\".join(numbers))"
   ]
  },
  {
   "cell_type": "markdown",
   "metadata": {},
   "source": [
    "### Question 17\n",
    "Level 2\n",
    "\n",
    "Question:\n",
    "Write a program that computes the net amount of a bank account based a transaction log from console input. The transaction log format is shown as following:\n",
    "D 100\n",
    "W 200\n",
    "\n",
    "D means deposit while W means withdrawal.\n",
    "Suppose the following input is supplied to the program:\n",
    "D 300\n",
    "D 300\n",
    "W 200\n",
    "D 100\n",
    "Then, the output should be:\n",
    "500\n",
    "\n",
    "Hints:\n",
    "In case of input data being supplied to the question, it should be assumed to be a console input.\n",
    "\n",
    "Solution:"
   ]
  },
  {
   "cell_type": "code",
   "execution_count": null,
   "metadata": {},
   "outputs": [],
   "source": [
    "netAmount = 0\n",
    "while True:\n",
    "    s = input()\n",
    "    if not s:\n",
    "        break\n",
    "    values = s.split(\" \")\n",
    "    operation = values[0]\n",
    "    amount = int(values[1])\n",
    "    if operation==\"D\":\n",
    "        netAmount+=amount\n",
    "    elif operation==\"W\":\n",
    "        netAmount-=amount\n",
    "    else:\n",
    "        pass\n",
    "print(netAmount)"
   ]
  },
  {
   "cell_type": "markdown",
   "metadata": {},
   "source": [
    "### Question 18\n",
    "Level 3\n",
    "\n",
    "Question:\n",
    "A website requires the users to input username and password to register. Write a program to check the validity of password input by users.\n",
    "Following are the criteria for checking the password:\n",
    "1. At least 1 letter between [a-z]\n",
    "2. At least 1 number between [0-9]\n",
    "1. At least 1 letter between [A-Z]\n",
    "3. At least 1 character from [$#@]\n",
    "4. Minimum length of transaction password: 6\n",
    "5. Maximum length of transaction password: 12\n",
    "Your program should accept a sequence of comma separated passwords and will check them according to the above criteria. Passwords that match the criteria are to be printed, each separated by a comma.\n",
    "Example\n",
    "If the following passwords are given as input to the program:\n",
    "ABd1234@1,a F1#,2w3E*,2We3345\n",
    "Then, the output of the program should be:\n",
    "ABd1234@1\n",
    "\n",
    "Hints:\n",
    "In case of input data being supplied to the question, it should be assumed to be a console input.\n",
    "\n",
    "Solutions:"
   ]
  },
  {
   "cell_type": "code",
   "execution_count": null,
   "metadata": {},
   "outputs": [],
   "source": [
    "import re\n",
    "value = []\n",
    "items=[x for x in input().split(',')]\n",
    "for p in items:\n",
    "    if len(p)<6 or len(p)>12:\n",
    "        continue\n",
    "    else:\n",
    "        pass\n",
    "    if not re.search(\"[a-z]\",p):\n",
    "        continue\n",
    "    elif not re.search(\"[0-9]\",p):\n",
    "        continue\n",
    "    elif not re.search(\"[A-Z]\",p):\n",
    "        continue\n",
    "    elif not re.search(\"[$#@]\",p):\n",
    "        continue\n",
    "    elif re.search(\"\\s\",p):\n",
    "        continue\n",
    "    else:\n",
    "        pass\n",
    "    value.append(p)\n",
    "print(\",\".join(value))"
   ]
  },
  {
   "cell_type": "markdown",
   "metadata": {},
   "source": [
    "### Question 19\n",
    "Level 3\n",
    "\n",
    "Question:\n",
    "You are required to write a program to sort the (name, age, height) tuples by ascending order where name is string, age and height are numbers. The tuples are input by console. The sort criteria is:\n",
    "1: Sort based on name;\n",
    "2: Then sort based on age;\n",
    "3: Then sort by score.\n",
    "The priority is that name > age > score.\n",
    "If the following tuples are given as input to the program:\n",
    "Tom,19,80\n",
    "John,20,90\n",
    "Jony,17,91\n",
    "Jony,17,93\n",
    "Json,21,85\n",
    "Then, the output of the program should be:\n",
    "[('John', '20', '90'), ('Jony', '17', '91'), ('Jony', '17', '93'), ('Json', '21', '85'), ('Tom', '19', '80')]\n",
    "\n",
    "Hints:\n",
    "In case of input data being supplied to the question, it should be assumed to be a console input.\n",
    "We use itemgetter to enable multiple sort keys.\n",
    "\n",
    "Solutions:\n",
    "from operator import itemgetter, attrgetter"
   ]
  },
  {
   "cell_type": "code",
   "execution_count": null,
   "metadata": {},
   "outputs": [],
   "source": [
    "l = []\n",
    "while True:\n",
    "    s = input()\n",
    "    if not s:\n",
    "        break\n",
    "    l.append(tuple(s.split(\",\")))\n",
    "\n",
    "print(sorted(l, key=itemgetter(0,1,2)))"
   ]
  },
  {
   "cell_type": "markdown",
   "metadata": {},
   "source": [
    "### Question 20\n",
    "Level 3\n",
    "\n",
    "Question:\n",
    "Define a class with a generator which can iterate the numbers, which are divisible by 7, between a given range 0 and n.\n",
    "\n",
    "Hints:\n",
    "Consider use yield\n",
    "\n",
    "Solution:"
   ]
  },
  {
   "cell_type": "code",
   "execution_count": null,
   "metadata": {},
   "outputs": [],
   "source": [
    "def putNumbers(n):\n",
    "    i = 0\n",
    "    while i<n:\n",
    "        j=i\n",
    "        i=i+1\n",
    "        if j%7==0:\n",
    "            yield j\n",
    "\n",
    "for i in reverse(100):\n",
    "    print(i)"
   ]
  },
  {
   "cell_type": "markdown",
   "metadata": {},
   "source": [
    "### Question 21\n",
    "Level 3\n",
    "\n",
    "Question\n",
    "A robot moves in a plane starting from the original point (0,0). The robot can move toward UP, DOWN, LEFT and RIGHT with a given steps. The trace of robot movement is shown as the following:\n",
    "UP 5\n",
    "DOWN 3\n",
    "LEFT 3\n",
    "RIGHT 2\n",
    "¡­\n",
    "The numbers after the direction are steps. Please write a program to compute the distance from current position after a sequence of movement and original point. If the distance is a float, then just print the nearest integer.\n",
    "Example:\n",
    "If the following tuples are given as input to the program:\n",
    "UP 5\n",
    "DOWN 3\n",
    "LEFT 3\n",
    "RIGHT 2\n",
    "Then, the output of the program should be:\n",
    "2\n",
    "\n",
    "Hints:\n",
    "In case of input data being supplied to the question, it should be assumed to be a console input.\n",
    "\n",
    "Solution:"
   ]
  },
  {
   "cell_type": "code",
   "execution_count": null,
   "metadata": {},
   "outputs": [],
   "source": [
    "import math\n",
    "pos = [0,0]\n",
    "while True:\n",
    "    s = input()\n",
    "    if not s:\n",
    "        break\n",
    "    movement = s.split(\" \")\n",
    "    direction = movement[0]\n",
    "    steps = int(movement[1])\n",
    "    if direction==\"UP\":\n",
    "        pos[0]+=steps\n",
    "    elif direction==\"DOWN\":\n",
    "        pos[0]-=steps\n",
    "    elif direction==\"LEFT\":\n",
    "        pos[1]-=steps\n",
    "    elif direction==\"RIGHT\":\n",
    "        pos[1]+=steps\n",
    "    else:\n",
    "        pass\n",
    "\n",
    "print(int(round(math.sqrt(pos[1]**2+pos[0]**2))))"
   ]
  },
  {
   "cell_type": "markdown",
   "metadata": {},
   "source": [
    "### Question 22\n",
    "Level 3\n",
    "\n",
    "Question:\n",
    "Write a program to compute the frequency of the words from the input. The output should output after sorting the key alphanumerically. \n",
    "Suppose the following input is supplied to the program:\n",
    "New to Python or choosing between Python 2 and Python 3? Read Python 2 or Python 3.\n",
    "Then, the output should be:\n",
    "2:2\n",
    "3.:1\n",
    "3?:1\n",
    "New:1\n",
    "Python:5\n",
    "Read:1\n",
    "and:1\n",
    "between:1\n",
    "choosing:1\n",
    "or:2\n",
    "to:1\n",
    "\n",
    "Hints\n",
    "In case of input data being supplied to the question, it should be assumed to be a console input.\n",
    "\n",
    "Solution:"
   ]
  },
  {
   "cell_type": "code",
   "execution_count": null,
   "metadata": {},
   "outputs": [],
   "source": [
    "freq = {}   # frequency of words in text\n",
    "line = input()\n",
    "for word in line.split():\n",
    "    freq[word] = freq.get(word,0)+1\n",
    "\n",
    "words = freq.keys()\n",
    "words.sort()\n",
    "\n",
    "for w in words:\n",
    "    print(\"%s:%d\" % (w,freq[w]))"
   ]
  },
  {
   "cell_type": "markdown",
   "metadata": {},
   "source": [
    "### Question 23\n",
    "level 1\n",
    "\n",
    "Question:\n",
    "Write a method which can calculate square value of number\n",
    "\n",
    "Hints:\n",
    "Using the ** operator\n",
    "\n",
    "Solution:"
   ]
  },
  {
   "cell_type": "code",
   "execution_count": null,
   "metadata": {},
   "outputs": [],
   "source": [
    "def square(num):\n",
    "    return num ** 2\n",
    "\n",
    "print(square(2))\n",
    "print(square(3))"
   ]
  },
  {
   "cell_type": "markdown",
   "metadata": {},
   "source": [
    "### Question 24\n",
    "Level 1\n",
    "\n",
    "Question:\n",
    "\n",
    "Python has many built-in functions, and if you do not know how to use it, you can read document online or find some books. But Python has a built-in document function for every built-in functions.\n",
    "\n",
    "Please write a program to print some Python built-in functions documents, such as abs(), int(), raw_input()\n",
    "\n",
    "And add document for your own function\n",
    "Hints:\n",
    "The built-in document method is __doc__\n",
    "\n",
    "Solution:"
   ]
  },
  {
   "cell_type": "code",
   "execution_count": null,
   "metadata": {},
   "outputs": [],
   "source": [
    "print(abs.__doc__)\n",
    "print(int.__doc__)\n",
    "print(input.__doc__)\n",
    "\n",
    "def square(num):\n",
    "    '''Return the square value of the input number.\n",
    "    \n",
    "    The input number must be integer.\n",
    "    '''\n",
    "    return num ** 2\n",
    "\n",
    "print(square(2))\n",
    "print(square.__doc__)"
   ]
  },
  {
   "cell_type": "markdown",
   "metadata": {},
   "source": [
    "### Question 25\n",
    "Level 1\n",
    "\n",
    "Question:\n",
    "Define a class, which have a class parameter and have a same instance parameter.\n",
    "\n",
    "Hints:\n",
    "Define a instance parameter, need add it in __init__ method\n",
    "You can init a object with construct parameter or set the value later\n",
    "\n",
    "Solution:"
   ]
  },
  {
   "cell_type": "code",
   "execution_count": null,
   "metadata": {},
   "outputs": [],
   "source": [
    "class Person:\n",
    "    # Define the class parameter \"name\"\n",
    "    name = \"Person\"\n",
    "    \n",
    "    def __init__(self, name = None):\n",
    "        # self.name is the instance parameter\n",
    "        self.name = name\n",
    "\n",
    "jeffrey = Person(\"Jeffrey\")\n",
    "print(\"%s name is %s\" % (Person.name, jeffrey.name))\n",
    "\n",
    "nico = Person()\n",
    "nico.name = \"Nico\"\n",
    "print(\"%s name is %s\" % (Person.name, nico.name))"
   ]
  },
  {
   "cell_type": "markdown",
   "metadata": {},
   "source": [
    "### Question 26:\n",
    "Define a function which can compute the sum of two numbers.\n",
    "\n",
    "Hints:\n",
    "Define a function with two numbers as arguments. You can compute the sum in the function and return the value.\n",
    "\n",
    "Solution"
   ]
  },
  {
   "cell_type": "code",
   "execution_count": null,
   "metadata": {},
   "outputs": [],
   "source": [
    "def SumFunction(number1, number2):\n",
    "\treturn number1+number2\n",
    "\n",
    "print(SumFunction(1,2))"
   ]
  },
  {
   "cell_type": "markdown",
   "metadata": {},
   "source": [
    "### Question 27\n",
    "Define a function that can convert a integer into a string and print it in console.\n",
    "\n",
    "Hints:\n",
    "\n",
    "Use str() to convert a number to string.\n",
    "\n",
    "Solution"
   ]
  },
  {
   "cell_type": "code",
   "execution_count": null,
   "metadata": {},
   "outputs": [],
   "source": [
    "def printValue(n):\n",
    "    print(str(n))\n",
    "\n",
    "printValue(3)"
   ]
  },
  {
   "cell_type": "markdown",
   "metadata": {},
   "source": [
    "### Question 28\n",
    "Define a function that can convert a integer into a string and print it in console.\n",
    "\n",
    "Hints:\n",
    "\n",
    "Use str() to convert a number to string.\n",
    "\n",
    "Solution"
   ]
  },
  {
   "cell_type": "code",
   "execution_count": null,
   "metadata": {},
   "outputs": [],
   "source": [
    "def printValue(n):\n",
    "    print(str(n))\n",
    "\n",
    "printValue(3)"
   ]
  },
  {
   "cell_type": "markdown",
   "metadata": {},
   "source": [
    "### Question 29\n",
    "Define a function that can receive two integral numbers in string form and compute their sum and then print it in console.\n",
    "\n",
    "Hints:\n",
    "\n",
    "Use int() to convert a string to integer.\n",
    "\n",
    "Solution"
   ]
  },
  {
   "cell_type": "code",
   "execution_count": null,
   "metadata": {},
   "outputs": [],
   "source": [
    "def printValue(s1,s2):\n",
    "    print(int(s1)+int(s2))\n",
    "\n",
    "printValue(\"3\",\"4\")"
   ]
  },
  {
   "cell_type": "markdown",
   "metadata": {},
   "source": [
    "### Question 30\n",
    "Define a function that can accept two strings as input and concatenate them and then print it in console.\n",
    "\n",
    "Hints:\n",
    "\n",
    "Use + to concatenate the strings\n",
    "\n",
    "Solution"
   ]
  },
  {
   "cell_type": "code",
   "execution_count": null,
   "metadata": {},
   "outputs": [],
   "source": [
    "def printValue(s1,s2):\n",
    "    print(s1+s2)\n",
    "\n",
    "printValue(\"3\",\"4\") #34"
   ]
  },
  {
   "cell_type": "markdown",
   "metadata": {},
   "source": [
    "### Question 31\n",
    "Define a function that can accept two strings as input and print the string with maximum length in console. If two strings have the same length, then the function should print al l strings line by line.\n",
    "\n",
    "Hints:\n",
    "\n",
    "Use len() function to get the length of a string\n",
    "\n",
    "Solution"
   ]
  },
  {
   "cell_type": "code",
   "execution_count": null,
   "metadata": {},
   "outputs": [],
   "source": [
    "def printValue(s1,s2):\n",
    "    len1 = len(s1)\n",
    "    len2 = len(s2)\n",
    "    if len1>len2:\n",
    "        print(s1)\n",
    "    elif len2>len1:\n",
    "        print(s2)\n",
    "    else:\n",
    "        print(s1)\n",
    "        print(s2)\n",
    "        \n",
    "printValue(\"one\",\"three\")\n"
   ]
  },
  {
   "cell_type": "markdown",
   "metadata": {},
   "source": [
    "### Question 32\n",
    "Define a function that can accept an integer number as input and print the \"It is an even number\" if the number is even, otherwise print \"It is an odd number\".\n",
    "\n",
    "Hints:\n",
    "\n",
    "Use % operator to check if a number is even or odd.\n",
    "\n",
    "Solution"
   ]
  },
  {
   "cell_type": "code",
   "execution_count": null,
   "metadata": {},
   "outputs": [],
   "source": [
    "def checkValue(n):\n",
    "    if n%2 == 0:\n",
    "        print(\"It is an even number\")\n",
    "    else:\n",
    "        print(\"It is an odd number\")\n",
    "        \n",
    "checkValue(7)\n",
    "\n",
    "### Question 33\n",
    "Define a function which can print a dictionary where the keys are numbers between 1 and 3 (both included) and the values are square of keys.\n",
    "\n",
    "Hints:\n",
    "\n",
    "Use dict[key]=value pattern to put entry into a dictionary.\n",
    "Use ** operator to get power of a number.\n",
    "\n",
    "Solution\n",
    "​```python\n",
    "def printDict():\n",
    "    d=dict()\n",
    "    d[1]=1\n",
    "    d[2]=2**2\n",
    "    d[3]=3**2\n",
    "    print(d)\n",
    "        \n",
    "printDict()"
   ]
  },
  {
   "cell_type": "markdown",
   "metadata": {},
   "source": [
    "### Q35\n",
    "Define a function which can generate a dictionary where the keys are numbers between 1 and 20 (both included) and the values are square of keys. The function should return the values only."
   ]
  },
  {
   "cell_type": "code",
   "execution_count": null,
   "metadata": {},
   "outputs": [],
   "source": [
    "def values():\n",
    "    d=dict()\n",
    "    for i in range(1,21):\n",
    "        d[i]=i**2\n",
    "    return d.values()\n",
    "\n",
    "values()"
   ]
  },
  {
   "cell_type": "markdown",
   "metadata": {},
   "source": [
    "### Question 36\n",
    "Define a function which can generate a dictionary where the keys are numbers between 1 and 20 (both included) and the values are square of keys. The function should just print the keys only.\n",
    "\n",
    "Hints:\n",
    "\n",
    "Use dict[key]=value pattern to put entry into a dictionary.\n",
    "Use ** operator to get power of a number.\n",
    "Use range() for loops.\n",
    "Use keys() to iterate keys in the dictionary. Also we can use item() to get key/value pairs.\n",
    "\n",
    "Solution"
   ]
  },
  {
   "cell_type": "code",
   "execution_count": null,
   "metadata": {},
   "outputs": [],
   "source": [
    "def printDict():\n",
    "\td=dict()\n",
    "\tfor i in range(1,21):\n",
    "\t\td[i]=i**2\n",
    "\tfor k in d.keys():\t\n",
    "\t\tprint(k)\n",
    "\n",
    "printDict()"
   ]
  },
  {
   "cell_type": "markdown",
   "metadata": {},
   "source": [
    "### Question 37\n",
    "Define a function which can generate and print a list where the values are square of numbers between 1 and 20 (both included).\n",
    "\n",
    "Hints:\n",
    "\n",
    "Use ** operator to get power of a number.\n",
    "Use range() for loops.\n",
    "Use list.append() to add values into a list.\n",
    "\n",
    "Solution"
   ]
  },
  {
   "cell_type": "code",
   "execution_count": null,
   "metadata": {},
   "outputs": [],
   "source": [
    "def printList():\n",
    "\tli=list()\n",
    "\tfor i in range(1,21):\n",
    "\t\tli.append(i**2)\n",
    "\tprint(li)\n",
    "\n",
    "printList()"
   ]
  },
  {
   "cell_type": "markdown",
   "metadata": {},
   "source": [
    "### Question 38\n",
    "Define a function which can generate a list where the values are square of numbers between 1 and 20 (both included). Then the function needs to print the first 5 elements in the list.\n",
    "\n",
    "Hints:\n",
    "\n",
    "Use ** operator to get power of a number.\n",
    "Use range() for loops.\n",
    "Use list.append() to add values into a list.\n",
    "Use [n1:n2] to slice a list\n",
    "\n",
    "Solution"
   ]
  },
  {
   "cell_type": "code",
   "execution_count": null,
   "metadata": {},
   "outputs": [],
   "source": [
    "def printList():\n",
    "\tli=list()\n",
    "\tfor i in range(1,21):\n",
    "\t\tli.append(i**2)\n",
    "\tprint(li[:5])\n",
    "\n",
    "printList()"
   ]
  },
  {
   "cell_type": "markdown",
   "metadata": {},
   "source": [
    "### Question 39\n",
    "Define a function which can generate a list where the values are square of numbers between 1 and 20 (both included). Then the function needs to print the last 5 elements in the list.\n",
    "\n",
    "Hints:\n",
    "\n",
    "Use ** operator to get power of a number.\n",
    "Use range() for loops.\n",
    "Use list.append() to add values into a list.\n",
    "Use [n1:n2] to slice a list\n",
    "\n",
    "Solution"
   ]
  },
  {
   "cell_type": "code",
   "execution_count": null,
   "metadata": {},
   "outputs": [],
   "source": [
    "def printList():\n",
    "\tli=list()\n",
    "\tfor i in range(1,21):\n",
    "\t\tli.append(i**2)\n",
    "\tprint(li[-5:])\n",
    "\n",
    "printList()"
   ]
  },
  {
   "cell_type": "markdown",
   "metadata": {},
   "source": [
    "### Question 40\n",
    "Define a function which can generate a list where the values are square of numbers between 1 and 20 (both included). Then the function needs to print all values except the first 5 elements in the list.\n",
    "\n",
    "Hints:\n",
    "\n",
    "Use ** operator to get power of a number.\n",
    "Use range() for loops.\n",
    "Use list.append() to add values into a list.\n",
    "Use [n1:n2] to slice a list\n",
    "\n",
    "Solution"
   ]
  },
  {
   "cell_type": "code",
   "execution_count": null,
   "metadata": {},
   "outputs": [],
   "source": [
    "def printList():\n",
    "\tli=list()\n",
    "\tfor i in range(1,21):\n",
    "\t\tli.append(i**2)\n",
    "\tprint li[5:]\n",
    "\n",
    "printList()"
   ]
  },
  {
   "cell_type": "markdown",
   "metadata": {},
   "source": [
    "### Question 41\n",
    "Define a function which can generate and print a tuple where the value are square of numbers between 1 and 20 (both included). \n",
    "\n",
    "Hints:\n",
    "\n",
    "Use ** operator to get power of a number.\n",
    "Use range() for loops.\n",
    "Use list.append() to add values into a list.\n",
    "Use tuple() to get a tuple from a list.\n",
    "\n",
    "Solution"
   ]
  },
  {
   "cell_type": "code",
   "execution_count": null,
   "metadata": {},
   "outputs": [],
   "source": [
    "def printTuple():\n",
    "\tli=list()\n",
    "\tfor i in range(1,21):\n",
    "\t\tli.append(i**2)\n",
    "\tprint(tuple(li))\n",
    "\t\t\n",
    "printTuple()"
   ]
  },
  {
   "cell_type": "markdown",
   "metadata": {},
   "source": [
    "### Question 42\n",
    "With a given tuple (1,2,3,4,5,6,7,8,9,10), write a program to print the first half values in one line and the last half values in one line. \n",
    "\n",
    "Hints:\n",
    "\n",
    "Use [n1:n2] notation to get a slice from a tuple.\n",
    "\n",
    "Solution"
   ]
  },
  {
   "cell_type": "code",
   "execution_count": null,
   "metadata": {},
   "outputs": [],
   "source": [
    "tp=(1,2,3,4,5,6,7,8,9,10)\n",
    "tp1=tp[:5]\n",
    "tp2=tp[5:]\n",
    "print(tp1)\n",
    "print(tp2)"
   ]
  },
  {
   "cell_type": "markdown",
   "metadata": {},
   "source": [
    "### Question 43\n",
    "Write a program to generate and print another tuple whose values are even numbers in the given tuple (1,2,3,4,5,6,7,8,9,10). \n",
    "\n",
    "Hints:\n",
    "\n",
    "Use \"for\" to iterate the tuple\n",
    "Use tuple() to generate a tuple from a list.\n",
    "\n",
    "Solution"
   ]
  },
  {
   "cell_type": "code",
   "execution_count": null,
   "metadata": {},
   "outputs": [],
   "source": [
    "tp=(1,2,3,4,5,6,7,8,9,10)\n",
    "li=list()\n",
    "for i in tp:\n",
    "\tif tp[i]%2==0:\n",
    "\t\tli.append(tp[i])\n",
    "\n",
    "tp2=tuple(li)\n",
    "print(tp2)"
   ]
  },
  {
   "cell_type": "markdown",
   "metadata": {},
   "source": [
    "### Question 44\n",
    "Write a program which accepts a string as input to print \"Yes\" if the string is \"yes\" or \"YES\" or \"Yes\", otherwise print \"No\". \n",
    "\n",
    "Hints:\n",
    "\n",
    "Use if statement to judge condition.\n",
    "\n",
    "Solution"
   ]
  },
  {
   "cell_type": "code",
   "execution_count": null,
   "metadata": {},
   "outputs": [],
   "source": [
    "s= raw_input()\n",
    "if s==\"yes\" or s==\"YES\" or s==\"Yes\":\n",
    "    print \"Yes\"\n",
    "else:\n",
    "    print \"No\""
   ]
  },
  {
   "cell_type": "markdown",
   "metadata": {},
   "source": [
    "### Question 45\n",
    "Write a program which can filter even numbers in a list by using filter function. The list is: [1,2,3,4,5,6,7,8,9,10].\n",
    "\n",
    "Hints:\n",
    "\n",
    "Use filter() to filter some elements in a list.\n",
    "Use lambda to define anonymous functions.\n",
    "\n",
    "Solution"
   ]
  },
  {
   "cell_type": "code",
   "execution_count": null,
   "metadata": {},
   "outputs": [],
   "source": [
    "li = [1,2,3,4,5,6,7,8,9,10]\n",
    "evenNumbers = filter(lambda x: x%2==0, li)\n",
    "print(evenNumbers)"
   ]
  },
  {
   "cell_type": "markdown",
   "metadata": {},
   "source": [
    "### Question 46\n",
    "Write a program which can map() to make a list whose elements are square of elements in [1,2,3,4,5,6,7,8,9,10].\n",
    "\n",
    "Hints\n",
    "Use map() to generate a list.\n",
    "Use lambda to define anonymous functions.\n",
    "\n",
    "Solution"
   ]
  },
  {
   "cell_type": "code",
   "execution_count": null,
   "metadata": {},
   "outputs": [],
   "source": [
    "li = [1,2,3,4,5,6,7,8,9,10]\n",
    "squaredNumbers = map(lambda x: x**2, li)\n",
    "print(squaredNumbers)"
   ]
  },
  {
   "cell_type": "markdown",
   "metadata": {},
   "source": [
    "### Question 47\n",
    "Write a program which can map() and filter() to make a list whose elements are square of even number in [1,2,3,4,5,6,7,8,9,10].\n",
    "\n",
    "Hints\n",
    "Use map() to generate a list.\n",
    "Use filter() to filter elements of a list.\n",
    "Use lambda to define anonymous functions.\n",
    "\n",
    "Solution"
   ]
  },
  {
   "cell_type": "code",
   "execution_count": null,
   "metadata": {},
   "outputs": [],
   "source": [
    "li = [1,2,3,4,5,6,7,8,9,10]\n",
    "evenNumbers = map(lambda x: x**2, filter(lambda x: x%2==0, li))\n",
    "print(evenNumbers)"
   ]
  },
  {
   "cell_type": "markdown",
   "metadata": {},
   "source": [
    "### Question 48\n",
    "Write a program which can filter() to make a list whose elements are even number between 1 and 20 (both included).\n",
    "\n",
    "Hints:\n",
    "\n",
    "Use filter() to filter elements of a list.\n",
    "Use lambda to define anonymous functions.\n",
    "\n",
    "Solution"
   ]
  },
  {
   "cell_type": "code",
   "execution_count": null,
   "metadata": {},
   "outputs": [],
   "source": [
    "evenNumbers = filter(lambda x: x%2==0, range(1,21))\n",
    "print(evenNumbers)"
   ]
  },
  {
   "cell_type": "markdown",
   "metadata": {},
   "source": [
    "### Question 49\n",
    "Write a program which can map() to make a list whose elements are square of numbers between 1 and 20 (both included).\n",
    "\n",
    "Hints\n",
    "Use map() to generate a list.\n",
    "Use lambda to define anonymous functions.\n",
    "\n",
    "Solution"
   ]
  },
  {
   "cell_type": "code",
   "execution_count": null,
   "metadata": {},
   "outputs": [],
   "source": [
    "squaredNumbers = map(lambda x: x**2, range(1,21))\n",
    "print(squaredNumbers)"
   ]
  },
  {
   "cell_type": "markdown",
   "metadata": {},
   "source": [
    "### Question 50\n",
    "Define a class named American which has a static method called printNationality.\n",
    "\n",
    "Hints:\n",
    "Use @staticmethod decorator to define class static method.\n",
    "\n",
    "Solution"
   ]
  },
  {
   "cell_type": "code",
   "execution_count": null,
   "metadata": {},
   "outputs": [],
   "source": [
    "class American(object):\n",
    "    @staticmethod\n",
    "    def printNationality():\n",
    "        print(\"America\")\n",
    "\n",
    "anAmerican = American()\n",
    "anAmerican.printNationality()\n",
    "American.printNationality()"
   ]
  },
  {
   "cell_type": "markdown",
   "metadata": {},
   "source": [
    "### Question 51\n",
    "Define a class named American and its subclass NewYorker. \n",
    "\n",
    "Hints:\n",
    "\n",
    "Use class Subclass(ParentClass) to define a subclass.\n",
    "\n",
    "Solution:"
   ]
  },
  {
   "cell_type": "code",
   "execution_count": null,
   "metadata": {},
   "outputs": [],
   "source": [
    "class American(object):\n",
    "    pass\n",
    "\n",
    "class NewYorker(American):\n",
    "    pass\n",
    "\n",
    "anAmerican = American()\n",
    "aNewYorker = NewYorker()\n",
    "print(anAmerican)\n",
    "print(aNewYorker)"
   ]
  },
  {
   "cell_type": "markdown",
   "metadata": {},
   "source": [
    "### Question 52\n",
    "Define a class named Circle which can be constructed by a radius. The Circle class has a method which can compute the area. \n",
    "\n",
    "Hints:\n",
    "\n",
    "Use def methodName(self) to define a method.\n",
    "\n",
    "Solution:"
   ]
  },
  {
   "cell_type": "code",
   "execution_count": null,
   "metadata": {},
   "outputs": [],
   "source": [
    "class Circle(object):\n",
    "    def __init__(self, r):\n",
    "        self.radius = r\n",
    "\n",
    "    def area(self):\n",
    "        return self.radius**2*3.14\n",
    "\n",
    "aCircle = Circle(2)\n",
    "print aCircle.area()"
   ]
  },
  {
   "cell_type": "markdown",
   "metadata": {},
   "source": [
    "### Question 53\n",
    "Define a class named Rectangle which can be constructed by a length and width. The Rectangle class has a method which can compute the area. \n",
    "\n",
    "Hints:\n",
    "\n",
    "Use def methodName(self) to define a method.\n",
    "\n",
    "Solution:"
   ]
  },
  {
   "cell_type": "code",
   "execution_count": null,
   "metadata": {},
   "outputs": [],
   "source": [
    "class Rectangle(object):\n",
    "    def __init__(self, l, w):\n",
    "        self.length = l\n",
    "        self.width  = w\n",
    "\n",
    "    def area(self):\n",
    "        return self.length*self.width\n",
    "\n",
    "aRectangle = Rectangle(2,10)\n",
    "print(aRectangle.area())"
   ]
  },
  {
   "cell_type": "markdown",
   "metadata": {},
   "source": [
    "### Question 54\n",
    "Define a class named Shape and its subclass Square. The Square class has an init function which takes a length as argument. Both classes have a area function which can print the area of the shape where Shape's area is 0 by default.\n",
    "\n",
    "Hints:\n",
    "\n",
    "To override a method in super class, we can define a method with the same name in the super class.\n",
    "\n",
    "Solution:"
   ]
  },
  {
   "cell_type": "code",
   "execution_count": null,
   "metadata": {},
   "outputs": [],
   "source": [
    "class Shape(object):\n",
    "    def __init__(self):\n",
    "        pass\n",
    "\n",
    "    def area(self):\n",
    "        return 0\n",
    "\n",
    "class Square(Shape):\n",
    "    def __init__(self, l):\n",
    "        Shape.__init__(self)\n",
    "        self.length = l\n",
    "\n",
    "    def area(self):\n",
    "        return self.length*self.length\n",
    "\n",
    "aSquare= Square(3)\n",
    "print(aSquare.area())"
   ]
  },
  {
   "cell_type": "markdown",
   "metadata": {},
   "source": [
    "### Question 55\n",
    "Please raise a RuntimeError exception.\n",
    "\n",
    "Hints:\n",
    "\n",
    "Use raise() to raise an exception.\n",
    "\n",
    "Solution:"
   ]
  },
  {
   "cell_type": "code",
   "execution_count": null,
   "metadata": {},
   "outputs": [],
   "source": [
    "raise RuntimeError('something wrong')"
   ]
  },
  {
   "cell_type": "markdown",
   "metadata": {},
   "source": [
    "### Question 56\n",
    "Write a function to compute 5/0 and use try/except to catch the exceptions.\n",
    "\n",
    "Hints:\n",
    "\n",
    "Use try/except to catch exceptions.\n",
    "\n",
    "Solution:"
   ]
  },
  {
   "cell_type": "code",
   "execution_count": null,
   "metadata": {},
   "outputs": [],
   "source": [
    "def throws():\n",
    "    return 5/0\n",
    "\n",
    "try:\n",
    "    throws()\n",
    "except ZeroDivisionError:\n",
    "    print(\"division by zero!\")\n",
    "except Exception, err:\n",
    "    print('Caught an exception')\n",
    "finally:\n",
    "    print('In finally block for cleanup')"
   ]
  },
  {
   "cell_type": "markdown",
   "metadata": {},
   "source": [
    "### Question 57\n",
    "Define a custom exception class which takes a string message as attribute.\n",
    "\n",
    "Hints:\n",
    "\n",
    "To define a custom exception, we need to define a class inherited from Exception.\n",
    "\n",
    "Solution:"
   ]
  },
  {
   "cell_type": "code",
   "execution_count": null,
   "metadata": {},
   "outputs": [],
   "source": [
    "class MyError(Exception):\n",
    "    \"\"\"My own exception class\n",
    "\n",
    "    Attributes:\n",
    "        msg  -- explanation of the error\n",
    "    \"\"\"\n",
    "    \n",
    "    def __init__(self, msg):\n",
    "        self.msg = msg\n",
    "\n",
    "error = MyError(\"something wrong\")"
   ]
  },
  {
   "cell_type": "markdown",
   "metadata": {},
   "source": [
    "### Question 58\n",
    "Assuming that we have some email addresses in the \"username@companyname.com\" format, please write program to print the user name of a given email address. Both user names and company names are composed of letters only.\n",
    "\n",
    "Example:\n",
    "If the following email address is given as input to the program:\n",
    "\n",
    "john@google.com\n",
    "\n",
    "Then, the output of the program should be:\n",
    "\n",
    "john\n",
    "\n",
    "In case of input data being supplied to the question, it should be assumed to be a console input.\n",
    "\n",
    "Hints:\n",
    "\n",
    "Use \\w to match letters.\n",
    "\n",
    "Solution:"
   ]
  },
  {
   "cell_type": "code",
   "execution_count": null,
   "metadata": {},
   "outputs": [],
   "source": [
    "import re\n",
    "emailAddress = raw_input()\n",
    "pat2 = \"(\\w+)@((\\w+\\.)+(com))\"\n",
    "r2 = re.match(pat2,emailAddress)\n",
    "print(r2.group(1))"
   ]
  },
  {
   "cell_type": "markdown",
   "metadata": {},
   "source": [
    "### Question 59\n",
    "Assuming that we have some email addresses in the \"username@companyname.com\" format, please write program to print the company name of a given email address. Both user names and company names are composed of letters only.\n",
    "\n",
    "Example:\n",
    "If the following email address is given as input to the program:\n",
    "\n",
    "john@google.com\n",
    "\n",
    "Then, the output of the program should be:\n",
    "\n",
    "google\n",
    "\n",
    "In case of input data being supplied to the question, it should be assumed to be a console input.\n",
    "\n",
    "Hints:\n",
    "\n",
    "Use \\w to match letters.\n",
    "\n",
    "Solution:"
   ]
  },
  {
   "cell_type": "code",
   "execution_count": null,
   "metadata": {},
   "outputs": [],
   "source": [
    "import re\n",
    "emailAddress = raw_input()\n",
    "pat2 = \"(\\w+)@(\\w+)\\.(com)\"\n",
    "r2 = re.match(pat2,emailAddress)\n",
    "print(r2.group(2))"
   ]
  },
  {
   "cell_type": "markdown",
   "metadata": {},
   "source": [
    "### Question 60\n",
    "Write a program which accepts a sequence of words separated by whitespace as input to print the words composed of digits only.\n",
    "\n",
    "Example:\n",
    "If the following words is given as input to the program:\n",
    "\n",
    "2 cats and 3 dogs.\n",
    "\n",
    "Then, the output of the program should be:\n",
    "\n",
    "['2', '3']\n",
    "\n",
    "In case of input data being supplied to the question, it should be assumed to be a console input.\n",
    "\n",
    "Hints:\n",
    "\n",
    "Use re.findall() to find all substring using regex.\n",
    "\n",
    "Solution:"
   ]
  },
  {
   "cell_type": "code",
   "execution_count": null,
   "metadata": {},
   "outputs": [],
   "source": [
    "import re\n",
    "s = raw_input()\n",
    "print(re.findall(\"\\d+\",s))"
   ]
  },
  {
   "cell_type": "markdown",
   "metadata": {},
   "source": [
    "### Question 61\n",
    "Print a unicode string \"hello world\".\n",
    "\n",
    "Hints:\n",
    "\n",
    "Use u'strings' format to define unicode string.\n",
    "\n",
    "Solution:"
   ]
  },
  {
   "cell_type": "code",
   "execution_count": null,
   "metadata": {},
   "outputs": [],
   "source": [
    "unicodeString = u\"hello world!\"\n",
    "print(unicodeString)"
   ]
  },
  {
   "cell_type": "markdown",
   "metadata": {},
   "source": [
    "### Question 62\n",
    "Write a program to read an ASCII string and to convert it to a unicode string encoded by utf-8.\n",
    "\n",
    "Hints:\n",
    "\n",
    "Use unicode() function to convert.\n",
    "\n",
    "Solution:"
   ]
  },
  {
   "cell_type": "code",
   "execution_count": null,
   "metadata": {},
   "outputs": [],
   "source": [
    "s = input()\n",
    "u = unicode( s ,\"utf-8\")\n",
    "print(u)"
   ]
  },
  {
   "cell_type": "markdown",
   "metadata": {},
   "source": [
    "### Question 63\n",
    "\n",
    "Write a special comment to indicate a Python source code file is in unicode.\n",
    "\n",
    "Hints:\n",
    "\n",
    "Solution:"
   ]
  },
  {
   "cell_type": "code",
   "execution_count": null,
   "metadata": {},
   "outputs": [],
   "source": [
    "\n",
    "# -*- coding: utf-8 -*-\n",
    "\n",
    "#----------------------------------------#"
   ]
  },
  {
   "cell_type": "markdown",
   "metadata": {},
   "source": [
    "### Question 64\n",
    "\n",
    "Write a program to compute 1/2+2/3+3/4+...+n/n+1 with a given n input by console (n>0).\n",
    "\n",
    "Example:\n",
    "If the following n is given as input to the program:\n",
    "\n",
    "5\n",
    "\n",
    "Then, the output of the program should be:\n",
    "\n",
    "3.55\n",
    "\n",
    "In case of input data being supplied to the question, it should be assumed to be a console input.\n",
    "\n",
    "Hints:\n",
    "Use float() to convert an integer to a float\n",
    "\n",
    "Solution:"
   ]
  },
  {
   "cell_type": "code",
   "execution_count": null,
   "metadata": {},
   "outputs": [],
   "source": [
    "n=int(input())\n",
    "sum=0.0\n",
    "for i in range(1,n+1):\n",
    "    sum += float(float(i)/(i+1))\n",
    "print(sum)"
   ]
  },
  {
   "cell_type": "markdown",
   "metadata": {},
   "source": [
    "### Question 65\n",
    "\n",
    "Write a program to compute:\n",
    "\n",
    "f(n)=f(n-1)+100 when n>0\n",
    "and f(0)=1\n",
    "\n",
    "with a given n input by console (n>0).\n",
    "\n",
    "Example:\n",
    "If the following n is given as input to the program:\n",
    "\n",
    "5\n",
    "\n",
    "Then, the output of the program should be:\n",
    "\n",
    "500\n",
    "\n",
    "In case of input data being supplied to the question, it should be assumed to be a console input.\n",
    "\n",
    "Hints:\n",
    "We can define recursive function in Python.\n",
    "\n",
    "Solution:"
   ]
  },
  {
   "cell_type": "code",
   "execution_count": null,
   "metadata": {},
   "outputs": [],
   "source": [
    "def f(n):\n",
    "    if n==0:\n",
    "        return 0\n",
    "    else:\n",
    "        return f(n-1)+100\n",
    "\n",
    "n=int(input())\n",
    "print(f(n))"
   ]
  },
  {
   "cell_type": "markdown",
   "metadata": {},
   "source": [
    "### Question 66\n",
    "The Fibonacci Sequence is computed based on the following formula:\n",
    "\n",
    "f(n)=0 if n=0\n",
    "f(n)=1 if n=1\n",
    "f(n)=f(n-1)+f(n-2) if n>1\n",
    "\n",
    "Please write a program to compute the value of f(n) with a given n input by console.\n",
    "\n",
    "Example:\n",
    "If the following n is given as input to the program:\n",
    "\n",
    "7\n",
    "\n",
    "Then, the output of the program should be:\n",
    "\n",
    "13\n",
    "\n",
    "In case of input data being supplied to the question, it should be assumed to be a console input.\n",
    "\n",
    "Hints:\n",
    "We can define recursive function in Python.\n",
    "\n",
    "\n",
    "Solution:"
   ]
  },
  {
   "cell_type": "code",
   "execution_count": null,
   "metadata": {},
   "outputs": [],
   "source": [
    "def f(n):\n",
    "    if n == 0: return 0\n",
    "    elif n == 1: return 1\n",
    "    else: return f(n-1)+f(n-2)\n",
    "\n",
    "n=int(input())\n",
    "print(f(n))"
   ]
  },
  {
   "cell_type": "markdown",
   "metadata": {},
   "source": [
    "### Question 67\n",
    "The Fibonacci Sequence is computed based on the following formula:\n",
    "\n",
    "f(n)=0 if n=0\n",
    "f(n)=1 if n=1\n",
    "f(n)=f(n-1)+f(n-2) if n>1\n",
    "\n",
    "Please write a program using list comprehension to print the Fibonacci Sequence in comma separated form with a given n input by console.\n",
    "\n",
    "Example:\n",
    "If the following n is given as input to the program:\n",
    "\n",
    "7\n",
    "\n",
    "Then, the output of the program should be:\n",
    "\n",
    "0,1,1,2,3,5,8,13\n",
    "\n",
    "\n",
    "Hints:\n",
    "We can define recursive function in Python.\n",
    "Use list comprehension to generate a list from an existing list.\n",
    "Use string.join() to join a list of strings.\n",
    "\n",
    "In case of input data being supplied to the question, it should be assumed to be a console input.\n",
    "\n",
    "Solution:"
   ]
  },
  {
   "cell_type": "code",
   "execution_count": null,
   "metadata": {},
   "outputs": [],
   "source": [
    "def f(n):\n",
    "    if n == 0: return 0\n",
    "    elif n == 1: return 1\n",
    "    else: return f(n-1)+f(n-2)\n",
    "\n",
    "n=int(input())\n",
    "values = [str(f(x)) for x in range(0, n+1)]\n",
    "print(\",\".join(values))"
   ]
  },
  {
   "cell_type": "markdown",
   "metadata": {},
   "source": [
    "### Question 68\n",
    "\n",
    "Please write a program using generator to print the even numbers between 0 and n in comma separated form while n is input by console.\n",
    "\n",
    "Example:\n",
    "If the following n is given as input to the program:\n",
    "\n",
    "10\n",
    "\n",
    "Then, the output of the program should be:\n",
    "\n",
    "0,2,4,6,8,10\n",
    "\n",
    "Hints:\n",
    "Use yield to produce the next value in generator.\n",
    "\n",
    "In case of input data being supplied to the question, it should be assumed to be a console input.\n",
    "\n",
    "Solution:"
   ]
  },
  {
   "cell_type": "code",
   "execution_count": null,
   "metadata": {},
   "outputs": [],
   "source": [
    "def EvenGenerator(n):\n",
    "    i=0\n",
    "    while i<=n:\n",
    "        if i%2==0:\n",
    "            yield i\n",
    "        i+=1\n",
    "\n",
    "\n",
    "n=int(input())\n",
    "values = []\n",
    "for i in EvenGenerator(n):\n",
    "    values.append(str(i))\n",
    "\n",
    "print(\",\".join(values))"
   ]
  },
  {
   "cell_type": "markdown",
   "metadata": {},
   "source": [
    "### Question 69\n",
    "Please write a program using generator to print the numbers which can be divisible by 5 and 7 between 0 and n in comma separated form while n is input by console.\n",
    "\n",
    "Example:\n",
    "If the following n is given as input to the program:\n",
    "\n",
    "100\n",
    "\n",
    "Then, the output of the program should be:\n",
    "\n",
    "0,35,70\n",
    "\n",
    "Hints:\n",
    "Use yield to produce the next value in generator.\n",
    "\n",
    "In case of input data being supplied to the question, it should be assumed to be a console input.\n",
    "\n",
    "Solution:"
   ]
  },
  {
   "cell_type": "code",
   "execution_count": null,
   "metadata": {},
   "outputs": [],
   "source": [
    "def NumGenerator(n):\n",
    "    for i in range(n+1):\n",
    "        if i%5==0 and i%7==0:\n",
    "            yield i\n",
    "\n",
    "n=int(input())\n",
    "values = []\n",
    "for i in NumGenerator(n):\n",
    "    values.append(str(i))\n",
    "\n",
    "print(\",\".join(values))"
   ]
  },
  {
   "cell_type": "markdown",
   "metadata": {},
   "source": [
    "### Question 70\n",
    "Please write assert statements to verify that every number in the list [2,4,6,8] is even.\n",
    "\n",
    "Hints:\n",
    "Use \"assert expression\" to make assertion.\n",
    "\n",
    "Solution:"
   ]
  },
  {
   "cell_type": "code",
   "execution_count": null,
   "metadata": {},
   "outputs": [],
   "source": [
    "li = [2,4,6,8]\n",
    "for i in li:\n",
    "    assert i%2==0"
   ]
  },
  {
   "cell_type": "markdown",
   "metadata": {},
   "source": [
    "### Question 71\n",
    "Please write a program which accepts basic mathematic expression from console and print the evaluation result.\n",
    "\n",
    "Example:\n",
    "If the following string is given as input to the program:\n",
    "\n",
    "35+3\n",
    "\n",
    "Then, the output of the program should be:\n",
    "\n",
    "38\n",
    "\n",
    "Hints:\n",
    "Use eval() to evaluate an expression.\n",
    "\n",
    "\n",
    "Solution:"
   ]
  },
  {
   "cell_type": "code",
   "execution_count": null,
   "metadata": {},
   "outputs": [],
   "source": [
    "expression = raw_input()\n",
    "print(eval(expression))"
   ]
  },
  {
   "cell_type": "markdown",
   "metadata": {},
   "source": [
    "### Question 72\n",
    "Please write a binary search function which searches an item in a sorted list. The function should return the index of element to be searched in the list.\n",
    "\n",
    "Hints:\n",
    "Use if/elif to deal with conditions.\n",
    "\n",
    "Solution:"
   ]
  },
  {
   "cell_type": "code",
   "execution_count": null,
   "metadata": {},
   "outputs": [],
   "source": [
    "import math\n",
    "def bin_search(li, element):\n",
    "    bottom = 0\n",
    "    top = len(li)-1\n",
    "    index = -1\n",
    "    while top>=bottom and index==-1:\n",
    "        mid = int(math.floor((top+bottom)/2.0))\n",
    "        if li[mid]==element:\n",
    "            index = mid\n",
    "        elif li[mid]>element:\n",
    "            top = mid-1\n",
    "        else:\n",
    "            bottom = mid+1\n",
    "\n",
    "    return index\n",
    "\n",
    "li=[2,5,7,9,11,17,222]\n",
    "print(bin_search(li,11))\n",
    "print(bin_search(li,12))"
   ]
  },
  {
   "cell_type": "markdown",
   "metadata": {},
   "source": [
    "### Question 73\n",
    "Please write a binary search function which searches an item in a sorted list. The function should return the index of element to be searched in the list.\n",
    "\n",
    "Hints:\n",
    "Use if/elif to deal with conditions.\n",
    "\n",
    "Solution:"
   ]
  },
  {
   "cell_type": "code",
   "execution_count": null,
   "metadata": {},
   "outputs": [],
   "source": [
    "import math\n",
    "def bin_search(li, element):\n",
    "    bottom = 0\n",
    "    top = len(li)-1\n",
    "    index = -1\n",
    "    while top>=bottom and index==-1:\n",
    "        mid = int(math.floor((top+bottom)/2.0))\n",
    "        if li[mid]==element:\n",
    "            index = mid\n",
    "        elif li[mid]>element:\n",
    "            top = mid-1\n",
    "        else:\n",
    "            bottom = mid+1\n",
    "\n",
    "    return index\n",
    "\n",
    "li=[2,5,7,9,11,17,222]\n",
    "print(bin_search(li,11))\n",
    "print(bin_search(li,12))"
   ]
  },
  {
   "cell_type": "markdown",
   "metadata": {},
   "source": [
    "### Question 74\n",
    "Please generate a random float where the value is between 10 and 100 using Python math module.\n",
    "\n",
    "Hints:\n",
    "Use random.random() to generate a random float in [0,1].\n",
    "\n",
    "Solution:"
   ]
  },
  {
   "cell_type": "code",
   "execution_count": null,
   "metadata": {},
   "outputs": [],
   "source": [
    "import random\n",
    "print(random.random()*100)"
   ]
  },
  {
   "cell_type": "markdown",
   "metadata": {},
   "source": [
    "### Question 75\n",
    "Please generate a random float where the value is between 5 and 95 using Python math module.\n",
    "\n",
    "Hints:\n",
    "Use random.random() to generate a random float in [0,1].\n",
    "\n",
    "Solution:"
   ]
  },
  {
   "cell_type": "code",
   "execution_count": null,
   "metadata": {},
   "outputs": [],
   "source": [
    "import random\n",
    "print(random.random()*100-5)"
   ]
  },
  {
   "cell_type": "markdown",
   "metadata": {},
   "source": [
    "### Question 76\n",
    "Please write a program to output a random even number between 0 and 10 inclusive using random module and list comprehension.\n",
    "\n",
    "Hints:\n",
    "Use random.choice() to a random element from a list.\n",
    "\n",
    "Solution:"
   ]
  },
  {
   "cell_type": "code",
   "execution_count": null,
   "metadata": {},
   "outputs": [],
   "source": [
    "import random\n",
    "print(random.choice([i for i in range(11) if i%2==0]))"
   ]
  },
  {
   "cell_type": "markdown",
   "metadata": {},
   "source": [
    "### Question 77\n",
    "Please write a program to output a random number, which is divisible by 5 and 7, between 0 and 10 inclusive using random module and list comprehension.\n",
    "\n",
    "Hints:\n",
    "Use random.choice() to a random element from a list.\n",
    "\n",
    "Solution:"
   ]
  },
  {
   "cell_type": "code",
   "execution_count": null,
   "metadata": {},
   "outputs": [],
   "source": [
    "import random\n",
    "print(random.choice([i for i in range(201) if i%5==0 and i%7==0]))"
   ]
  },
  {
   "cell_type": "markdown",
   "metadata": {},
   "source": [
    "### Question 78\n",
    "Please write a program to generate a list with 5 random numbers between 100 and 200 inclusive.\n",
    "\n",
    "Hints:\n",
    "Use random.sample() to generate a list of random values.\n",
    "\n",
    "Solution:"
   ]
  },
  {
   "cell_type": "code",
   "execution_count": null,
   "metadata": {},
   "outputs": [],
   "source": [
    "import random\n",
    "print(random.sample(range(100), 5))"
   ]
  },
  {
   "cell_type": "markdown",
   "metadata": {},
   "source": [
    "### Question 79\n",
    "Please write a program to randomly generate a list with 5 even numbers between 100 and 200 inclusive.\n",
    "\n",
    "Hints:\n",
    "Use random.sample() to generate a list of random values.\n",
    "\n",
    "Solution:"
   ]
  },
  {
   "cell_type": "code",
   "execution_count": null,
   "metadata": {},
   "outputs": [],
   "source": [
    "import random\n",
    "print(random.sample([i for i in range(100,201) if i%2==0], 5))"
   ]
  },
  {
   "cell_type": "markdown",
   "metadata": {},
   "source": [
    "### Question 80\n",
    "Please write a program to randomly generate a list with 5 numbers, which are divisible by 5 and 7 , between 1 and 1000 inclusive.\n",
    "\n",
    "Hints:\n",
    "Use random.sample() to generate a list of random values.\n",
    "\n",
    "Solution:"
   ]
  },
  {
   "cell_type": "code",
   "execution_count": null,
   "metadata": {},
   "outputs": [],
   "source": [
    "import random\n",
    "print(random.sample([i for i in range(1,1001) if i%5==0 and i%7==0], 5))"
   ]
  },
  {
   "cell_type": "markdown",
   "metadata": {},
   "source": [
    "### Question 81\n",
    "Please write a program to randomly print a integer number between 7 and 15 inclusive.\n",
    "\n",
    "Hints:\n",
    "Use random.randrange() to a random integer in a given range.\n",
    "\n",
    "Solution:"
   ]
  },
  {
   "cell_type": "code",
   "execution_count": null,
   "metadata": {},
   "outputs": [],
   "source": [
    "import random\n",
    "print(random.randrange(7,16))"
   ]
  },
  {
   "cell_type": "markdown",
   "metadata": {},
   "source": [
    "### Question 82\n",
    "Please write a program to compress and decompress the string \"hello world!hello world!hello world!hello world!\".\n",
    "\n",
    "Hints:\n",
    "Use zlib.compress() and zlib.decompress() to compress and decompress a string.\n",
    "\n",
    "Solution:"
   ]
  },
  {
   "cell_type": "code",
   "execution_count": null,
   "metadata": {},
   "outputs": [],
   "source": [
    "import zlib\n",
    "s = b'hello world!hello world!hello world!hello world!'\n",
    "t = zlib.compress(s)\n",
    "print(t)\n",
    "print(zlib.decompress(t))"
   ]
  },
  {
   "cell_type": "markdown",
   "metadata": {},
   "source": [
    "### Question 83\n",
    "Please write a program to print the running time of execution of \"1+1\" for 100 times.\n",
    "\n",
    "Hints:\n",
    "Use timeit() function to measure the running time.\n",
    "\n",
    "Solution:"
   ]
  },
  {
   "cell_type": "code",
   "execution_count": null,
   "metadata": {},
   "outputs": [],
   "source": [
    "from timeit import Timer\n",
    "t = Timer(\"for i in range(100):1+1\")\n",
    "print(t.timeit())"
   ]
  },
  {
   "cell_type": "markdown",
   "metadata": {},
   "source": [
    "### Question 84\n",
    "Please write a program to shuffle and print the list [3,6,7,8].\n",
    "\n",
    "Hints:\n",
    "Use shuffle() function to shuffle a list.\n",
    "\n",
    "Solution:"
   ]
  },
  {
   "cell_type": "code",
   "execution_count": null,
   "metadata": {},
   "outputs": [],
   "source": [
    "from random import shuffle\n",
    "li = [3,6,7,8]\n",
    "shuffle(li)\n",
    "print(li)"
   ]
  },
  {
   "cell_type": "markdown",
   "metadata": {},
   "source": [
    "### Question 85\n",
    "Please write a program to shuffle and print the list [3,6,7,8].\n",
    "\n",
    "Hints:\n",
    "Use shuffle() function to shuffle a list.\n",
    "\n",
    "Solution:"
   ]
  },
  {
   "cell_type": "code",
   "execution_count": null,
   "metadata": {},
   "outputs": [],
   "source": [
    "from random import shuffle\n",
    "li = [3,6,7,8]\n",
    "shuffle(li)\n",
    "print(li)"
   ]
  },
  {
   "cell_type": "markdown",
   "metadata": {},
   "source": [
    "### Question 86\n",
    "Please write a program to generate all sentences where subject is in [\"I\", \"You\"] and verb is in [\"Play\", \"Love\"] and the object is in [\"Hockey\",\"Football\"].\n",
    "\n",
    "Hints:\n",
    "Use list[index] notation to get a element from a list.\n",
    "\n",
    "Solution:"
   ]
  },
  {
   "cell_type": "code",
   "execution_count": null,
   "metadata": {},
   "outputs": [],
   "source": [
    "subjects=[\"I\", \"You\"]\n",
    "verbs=[\"Play\", \"Love\"]\n",
    "objects=[\"Hockey\",\"Football\"]\n",
    "for i in range(len(subjects)):\n",
    "    for j in range(len(verbs)):\n",
    "        for k in range(len(objects)):\n",
    "            sentence = \"%s %s %s.\" % (subjects[i], verbs[j], objects[k])\n",
    "            print(sentence)"
   ]
  },
  {
   "cell_type": "markdown",
   "metadata": {},
   "source": [
    "### Question 87\n",
    "Please write a program to print the list after removing delete even numbers in [5,6,77,45,22,12,24].\n",
    "\n",
    "Hints:\n",
    "Use list comprehension to delete a bunch of element from a list.\n",
    "\n",
    "Solution:"
   ]
  },
  {
   "cell_type": "code",
   "execution_count": null,
   "metadata": {},
   "outputs": [],
   "source": [
    "li = [5,6,77,45,22,12,24]\n",
    "li = [x for x in li if x%2!=0]\n",
    "print(li)"
   ]
  },
  {
   "cell_type": "markdown",
   "metadata": {},
   "source": [
    "### Question 88\n",
    "By using list comprehension, please write a program to print the list after removing delete numbers which are divisible by 5 and 7 in [12,24,35,70,88,120,155].\n",
    "\n",
    "Hints:\n",
    "Use list comprehension to delete a bunch of element from a list.\n",
    "\n",
    "Solution:"
   ]
  },
  {
   "cell_type": "code",
   "execution_count": null,
   "metadata": {},
   "outputs": [],
   "source": [
    "li = [12,24,35,70,88,120,155]\n",
    "li = [x for x in li if x%5!=0 and x%7!=0]\n",
    "print(li)"
   ]
  },
  {
   "cell_type": "markdown",
   "metadata": {},
   "source": [
    "### Question 89\n",
    "By using list comprehension, please write a program to print the list after removing the 0th, 2nd, 4th,6th numbers in [12,24,35,70,88,120,155].\n",
    "\n",
    "Hints:\n",
    "Use list comprehension to delete a bunch of element from a list.\n",
    "Use enumerate() to get (index, value) tuple.\n",
    "\n",
    "Solution:"
   ]
  },
  {
   "cell_type": "code",
   "execution_count": null,
   "metadata": {},
   "outputs": [],
   "source": [
    "li = [12,24,35,70,88,120,155]\n",
    "li = [x for (i,x) in enumerate(li) if i%2!=0]\n",
    "print(li)"
   ]
  },
  {
   "cell_type": "markdown",
   "metadata": {},
   "source": [
    "### Question 90\n",
    "By using list comprehension, please write a program generate a 3*5*8 3D array whose each element is 0.\n",
    "\n",
    "Hints:\n",
    "Use list comprehension to make an array.\n",
    "\n",
    "Solution:"
   ]
  },
  {
   "cell_type": "code",
   "execution_count": null,
   "metadata": {},
   "outputs": [],
   "source": [
    "array = [[ [0 for col in range(8)] for col in range(5)] for row in range(3)]\n",
    "print(array)"
   ]
  },
  {
   "cell_type": "markdown",
   "metadata": {},
   "source": [
    "### Question 91\n",
    "By using list comprehension, please write a program to print the list after removing the 0th,4th,5th numbers in [12,24,35,70,88,120,155].\n",
    "\n",
    "Hints:\n",
    "Use list comprehension to delete a bunch of element from a list.\n",
    "Use enumerate() to get (index, value) tuple.\n",
    "\n",
    "Solution:"
   ]
  },
  {
   "cell_type": "code",
   "execution_count": null,
   "metadata": {},
   "outputs": [],
   "source": [
    "li = [12,24,35,70,88,120,155]\n",
    "li = [x for (i,x) in enumerate(li) if i not in (0,4,5)]\n",
    "print(li)"
   ]
  },
  {
   "cell_type": "markdown",
   "metadata": {},
   "source": [
    "### Question 92\n",
    "By using list comprehension, please write a program to print the list after removing the value 24 in [12,24,35,24,88,120,155].\n",
    "\n",
    "Hints:\n",
    "Use list's remove method to delete a value.\n",
    "\n",
    "Solution:"
   ]
  },
  {
   "cell_type": "code",
   "execution_count": null,
   "metadata": {},
   "outputs": [],
   "source": [
    "li = [12,24,35,24,88,120,155]\n",
    "li = [x for x in li if x!=24]\n",
    "print(li)"
   ]
  },
  {
   "cell_type": "markdown",
   "metadata": {},
   "source": [
    "### Question 93\n",
    "With two given lists [1,3,6,78,35,55] and [12,24,35,24,88,120,155], write a program to make a list whose elements are intersection of the above given lists.\n",
    "\n",
    "Hints:\n",
    "Use set() and \"&=\" to do set intersection operation.\n",
    "\n",
    "Solution:"
   ]
  },
  {
   "cell_type": "code",
   "execution_count": null,
   "metadata": {},
   "outputs": [],
   "source": [
    "set1=set([1,3,6,78,35,55])\n",
    "set2=set([12,24,35,24,88,120,155])\n",
    "set1 &= set2\n",
    "li=list(set1)\n",
    "print(li)"
   ]
  },
  {
   "cell_type": "markdown",
   "metadata": {},
   "source": [
    "### Question 94\n",
    "With a given list [12,24,35,24,88,120,155,88,120,155], write a program to print this list after removing all duplicate values with original order reserved.\n",
    "\n",
    "Hints:\n",
    "Use set() to store a number of values without duplicate.\n",
    "\n",
    "Solution:"
   ]
  },
  {
   "cell_type": "code",
   "execution_count": null,
   "metadata": {},
   "outputs": [],
   "source": [
    "def removeDuplicate( li ):\n",
    "    newli=[]\n",
    "    seen = set()\n",
    "    for item in li:\n",
    "        if item not in seen:\n",
    "            seen.add( item )\n",
    "            newli.append(item)\n",
    "\n",
    "    return newli\n",
    "\n",
    "li=[12,24,35,24,88,120,155,88,120,155]\n",
    "print(removeDuplicate(li))"
   ]
  },
  {
   "cell_type": "markdown",
   "metadata": {},
   "source": [
    "### Question 95\n",
    "Define a class Person and its two child classes: Male and Female. All classes have a method \"getGender\" which can print \"Male\" for Male class and \"Female\" for Female class.\n",
    "\n",
    "Hints:\n",
    "Use Subclass(Parentclass) to define a child class.\n",
    "\n",
    "Solution:"
   ]
  },
  {
   "cell_type": "code",
   "execution_count": null,
   "metadata": {},
   "outputs": [],
   "source": [
    "class Person(object):\n",
    "    def getGender( self ):\n",
    "        return \"Unknown\"\n",
    "\n",
    "class Male( Person ):\n",
    "    def getGender( self ):\n",
    "        return \"Male\"\n",
    "\n",
    "class Female( Person ):\n",
    "    def getGender( self ):\n",
    "        return \"Female\"\n",
    "\n",
    "aMale = Male()\n",
    "aFemale= Female()\n",
    "print(aMale.getGender())\n",
    "print(aFemale.getGender())"
   ]
  },
  {
   "cell_type": "markdown",
   "metadata": {},
   "source": [
    "### Question 96\n",
    "Please write a program which count and print the numbers of each character in a string input by console.\n",
    "\n",
    "Example:\n",
    "If the following string is given as input to the program:\n",
    "\n",
    "abcdefgabc\n",
    "\n",
    "Then, the output of the program should be:\n",
    "\n",
    "a,2\n",
    "c,2\n",
    "b,2\n",
    "e,1\n",
    "d,1\n",
    "g,1\n",
    "f,1\n",
    "\n",
    "Hints:\n",
    "Use dict to store key/value pairs.\n",
    "Use dict.get() method to lookup a key with default value.\n",
    "\n",
    "Solution:"
   ]
  },
  {
   "cell_type": "code",
   "execution_count": null,
   "metadata": {},
   "outputs": [],
   "source": [
    "dic = {}\n",
    "s=raw_input()\n",
    "for s in s:\n",
    "    dic[s] = dic.get(s,0)+1\n",
    "print('\\n'.join(['%s,%s' % (k, v) for k, v in dic.items()]))"
   ]
  },
  {
   "cell_type": "markdown",
   "metadata": {},
   "source": [
    "### Question 97\n",
    "Please write a program which accepts a string from console and print it in reverse order.\n",
    "\n",
    "Example:\n",
    "If the following string is given as input to the program:\n",
    "\n",
    "rise to vote sir\n",
    "\n",
    "Then, the output of the program should be:\n",
    "\n",
    "ris etov ot esir\n",
    "\n",
    "Hints:\n",
    "Use list[::-1] to iterate a list in a reverse order.\n",
    "\n",
    "Solution:"
   ]
  },
  {
   "cell_type": "code",
   "execution_count": null,
   "metadata": {},
   "outputs": [],
   "source": [
    "s=raw_input()\n",
    "s = s[::-1]\n",
    "print(s)"
   ]
  },
  {
   "cell_type": "markdown",
   "metadata": {},
   "source": [
    "### Question 98\n",
    "Please write a program which accepts a string from console and print the characters that have even indexes.\n",
    "\n",
    "Example:\n",
    "If the following string is given as input to the program:\n",
    "\n",
    "H1e2l3l4o5w6o7r8l9d\n",
    "\n",
    "Then, the output of the program should be:\n",
    "\n",
    "Helloworld\n",
    "\n",
    "Hints:\n",
    "Use list[::2] to iterate a list by step 2.\n",
    "\n",
    "Solution:"
   ]
  },
  {
   "cell_type": "code",
   "execution_count": null,
   "metadata": {},
   "outputs": [],
   "source": [
    "s=raw_input()\n",
    "s = s[::2]\n",
    "print(s)"
   ]
  },
  {
   "cell_type": "markdown",
   "metadata": {},
   "source": [
    "### Question 99\n",
    "Please write a program which prints all permutations of [1,2,3]\n",
    "\n",
    "Hints:\n",
    "Use itertools.permutations() to get permutations of list.\n",
    "\n",
    "Solution:"
   ]
  },
  {
   "cell_type": "code",
   "execution_count": null,
   "metadata": {},
   "outputs": [],
   "source": [
    "import itertools\n",
    "print(list(itertools.permutations([1,2,3])))"
   ]
  },
  {
   "cell_type": "markdown",
   "metadata": {},
   "source": [
    "### Question 100\n",
    "Write a program to solve a classic ancient Chinese puzzle: \n",
    "We count 35 heads and 94 legs among the chickens and rabbits in a farm. How many rabbits and how many chickens do we have?\n",
    "\n",
    "Hint:\n",
    "Use for loop to iterate all possible solutions.\n",
    "\n",
    "Solution:"
   ]
  },
  {
   "cell_type": "code",
   "execution_count": null,
   "metadata": {},
   "outputs": [],
   "source": [
    "def solve(numheads,numlegs):\n",
    "    ns='No solutions!'\n",
    "    for i in range(numheads+1):\n",
    "        j=numheads-i\n",
    "        if 2*i+4*j==numlegs:\n",
    "            return i,j\n",
    "    return ns,ns\n",
    "\n",
    "numheads=35\n",
    "numlegs=94\n",
    "solutions=solve(numheads,numlegs)\n",
    "print(solutions)"
   ]
  },
  {
   "cell_type": "code",
   "execution_count": null,
   "metadata": {},
   "outputs": [],
   "source": []
  }
 ],
 "metadata": {
  "kernelspec": {
   "display_name": "Python 3",
   "language": "python",
   "name": "python3"
  },
  "language_info": {
   "codemirror_mode": {
    "name": "ipython",
    "version": 3
   },
   "file_extension": ".py",
   "mimetype": "text/x-python",
   "name": "python",
   "nbconvert_exporter": "python",
   "pygments_lexer": "ipython3",
   "version": "3.6.12"
  }
 },
 "nbformat": 4,
 "nbformat_minor": 4
}

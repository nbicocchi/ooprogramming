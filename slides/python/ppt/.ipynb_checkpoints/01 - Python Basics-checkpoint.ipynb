{
 "cells": [
  {
   "attachments": {},
   "cell_type": "markdown",
   "metadata": {},
   "source": [
    "* 1989: Python started as a hobby project\n",
    "* 1991: Python 0.9.0 released on the Internet (alt.sources)\n",
    "* 1994: Python 1 released\n",
    "* 2000: Python 2 released\n",
    "* 2008: Python 3 released (no more backward compatibility)\n",
    "* 2020: Python 3.9 released\n",
    "\n",
    "«Python is an experiment in how much freedom programmers need. Too much freedom and nobody can read another's code; too little and expressiveness is endangered.» Guido van Rossum, August 1996\n",
    "\n",
    "[https://en.wikipedia.org/wiki/History_of_Python](https://en.wikipedia.org/wiki/History_of_Python)"
   ]
  }
 ],
 "metadata": {
  "kernelspec": {
   "display_name": "Python 3",
   "language": "python",
   "name": "python3"
  },
  "language_info": {
   "codemirror_mode": {
    "name": "ipython",
    "version": 3
   },
   "file_extension": ".py",
   "mimetype": "text/x-python",
   "name": "python",
   "nbconvert_exporter": "python",
   "pygments_lexer": "ipython3",
   "version": "3.6.7"
  }
 },
 "nbformat": 4,
 "nbformat_minor": 2
}

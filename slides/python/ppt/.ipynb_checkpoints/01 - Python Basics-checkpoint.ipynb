{
 "cells": [
  {
   "cell_type": "markdown",
   "metadata": {},
   "source": [
    "# Python Basics"
   ]
  },
  {
   "cell_type": "markdown",
   "metadata": {},
   "source": [
    "## Introduction"
   ]
  },
  {
   "attachments": {},
   "cell_type": "markdown",
   "metadata": {},
   "source": [
    "### Timeline\n",
    "\n",
    "* 1989: Python started as a hobby project\n",
    "* 1991: Python 0.9.0 released on the Internet (alt.sources)\n",
    "* 1994: Python 1 released\n",
    "* 2000: Python 2 released\n",
    "* 2008: Python 3 released (no more backward compatibility)\n",
    "* 2020: Python 3.9 released\n",
    "\n",
    "«Python is an experiment in how much freedom programmers need. Too much freedom and nobody can read another's code; too little and expressiveness is endangered.» Guido van Rossum, August 1996\n",
    "\n",
    "\n",
    "[https://en.wikipedia.org/wiki/History_of_Python](https://en.wikipedia.org/wiki/History_of_Python)"
   ]
  },
  {
   "attachments": {},
   "cell_type": "markdown",
   "metadata": {},
   "source": [
    "### Advantages and disadvantes\n",
    "\n",
    "Advantages\n",
    "* Portable\n",
    "* User-Friendly\n",
    "* Open-Source and Community\n",
    "* Fast Prototyping\n",
    "* High-level (no need to manage system architecture or memory)\n",
    "* Interpreted\n",
    "* Object-Oriented\n",
    "* Dynamic Typing (no need to declare data types)\n",
    "* Large Standard Library\n",
    "\n",
    "Disvantages\n",
    "* Slow Speed\n",
    "* Not Memory Efficient\n",
    "* Weak in Mobile Computing\n",
    "* Database Access (way more primitive than JDBC)\n",
    "* Runtime Errors (dynamically typed languages need more testing)\n"
   ]
  },
  {
   "cell_type": "markdown",
   "metadata": {},
   "source": [
    "### The Zen of Python\n",
    "\n",
    "Experienced Python programmers will encourage you to **avoid complexity** and aim for simplicity whenever possible. \n",
    "The Python community’s philosophy is contained in “The Zen of Python” by Tim Peters. You can access this brief set of principles for writing good code by entering **import this** into your interpreter. "
   ]
  },
  {
   "cell_type": "code",
   "execution_count": 1,
   "metadata": {},
   "outputs": [
    {
     "name": "stdout",
     "output_type": "stream",
     "text": [
      "The Zen of Python, by Tim Peters\n",
      "\n",
      "Beautiful is better than ugly.\n",
      "Explicit is better than implicit.\n",
      "Simple is better than complex.\n",
      "Complex is better than complicated.\n",
      "Flat is better than nested.\n",
      "Sparse is better than dense.\n",
      "Readability counts.\n",
      "Special cases aren't special enough to break the rules.\n",
      "Although practicality beats purity.\n",
      "Errors should never pass silently.\n",
      "Unless explicitly silenced.\n",
      "In the face of ambiguity, refuse the temptation to guess.\n",
      "There should be one-- and preferably only one --obvious way to do it.\n",
      "Although that way may not be obvious at first unless you're Dutch.\n",
      "Now is better than never.\n",
      "Although never is often better than *right* now.\n",
      "If the implementation is hard to explain, it's a bad idea.\n",
      "If the implementation is easy to explain, it may be a good idea.\n",
      "Namespaces are one honking great idea -- let's do more of those!\n"
     ]
    }
   ],
   "source": [
    "import this"
   ]
  },
  {
   "cell_type": "markdown",
   "metadata": {},
   "source": [
    "### Python Enhancement Proposals\n",
    "\n",
    "PEP stands for Python Enhancement Proposal.  A PEP is a design document providing information, or describing a new feature for Python or its processes or environment.  The PEP should provide a concise technical specification of the feature and a rationale for the feature.\n",
    "\n",
    "[PEP 0 -- Index of Python Enhancement Proposals (PEPs)](https://www.python.org/dev/peps/)\n",
    "\n",
    "[PEP 8 -- Style Guide for Python Code](\n",
    "https://www.python.org/dev/peps/pep-0008/)"
   ]
  },
  {
   "cell_type": "markdown",
   "metadata": {},
   "source": [
    "## Building and Running"
   ]
  },
  {
   "cell_type": "markdown",
   "metadata": {},
   "source": [
    "### Using Python\n",
    "\n",
    "* The Python shell is an interface for typing Python code and executing it directly in your computer’s terminal.\n",
    "* The IPython shell is a much nicer version of the Python shell. It provides syntax highlighting, autocompletion, and other features.\n",
    "* An IDE is a sophisticated text editor that allows you edit, run, and debug code. The most used is PyCharm. The default one is IDLE.\n",
    "* Python scripts can be run from command line.\n",
    "* The Jupyter Notebook is a powerful tool for prototyping and experimenting with code, as well as visualizing data and writing nicely-formatted text. We will be using this throughout the course."
   ]
  },
  {
   "cell_type": "markdown",
   "metadata": {},
   "source": [
    "### Executing scripts\n",
    "\n",
    "```\n",
    "#!/usr/bin/env python\n",
    "def main():\n",
    "  print(‘Hello world!’)\n",
    "\n",
    "if __name__ == \"__main__\":\n",
    "    main()\n",
    "\n",
    "\n",
    "$ python script.py\n",
    "OR\n",
    "$ chmod 755 script.sh\n",
    "$ ./script.sh\n",
    "```"
   ]
  },
  {
   "cell_type": "markdown",
   "metadata": {},
   "source": [
    "### Libraries\n",
    "\n",
    "The Python Package Index (aka PyPI) is the official third-party software repository for the Python. \n",
    "\n",
    "[https://pypi.org/](https://pypi.org/)\n",
    "\n",
    "pip is a is a command-line program used to {install, remove, update, …} software packages written in Python. \n",
    "\n",
    "[https://pypi.python.org/pypi/pip](https://pypi.python.org/pypi/pip)"
   ]
  },
  {
   "cell_type": "markdown",
   "metadata": {},
   "source": [
    "### Virtual environments\n",
    "\n",
    "**Virtual Environments** allow Python packages to be installed in an isolated location for a particular application, rather than being installed globally. \n",
    "\n",
    "For example, what if you want to install an application and leave it be? If an application works, any change in its libraries or the versions of those libraries can break the application.\n",
    "\n",
    "Virtual Environments have their own installation directories and they don’t share libraries with other virtual environments. venv is available by default in Python 3.3 and later, and installs pip and setuptools into created virtual environments."
   ]
  },
  {
   "cell_type": "code",
   "execution_count": null,
   "metadata": {},
   "outputs": [],
   "source": []
  }
 ],
 "metadata": {
  "kernelspec": {
   "display_name": "Python 3",
   "language": "python",
   "name": "python3"
  },
  "language_info": {
   "codemirror_mode": {
    "name": "ipython",
    "version": 3
   },
   "file_extension": ".py",
   "mimetype": "text/x-python",
   "name": "python",
   "nbconvert_exporter": "python",
   "pygments_lexer": "ipython3",
   "version": "3.6.7"
  }
 },
 "nbformat": 4,
 "nbformat_minor": 2
}

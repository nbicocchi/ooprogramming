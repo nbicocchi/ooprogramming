{
 "cells": [
  {
   "cell_type": "markdown",
   "metadata": {},
   "source": [
    "# Python Basics\n",
    "Author: Dr. Nicola Bicocchi - UNIMORE"
   ]
  },
  {
   "cell_type": "markdown",
   "metadata": {},
   "source": [
    "## Introduction"
   ]
  },
  {
   "cell_type": "markdown",
   "metadata": {},
   "source": [
    "#### Timeline\n",
    "\n",
    "* 1989: Python started as a hobby project\n",
    "* 1991: Python 0.9.0 released on the Internet (alt.sources)\n",
    "* 1994: Python 1 released\n",
    "* 2000: Python 2 released\n",
    "* 2008: Python 3 released (no more backward compatibility)\n",
    "* 2020: Python 3.9 released\n",
    "\n",
    "*Python is an experiment in how much freedom programmers need. Too much freedom and nobody can read another's code; too little and expressiveness is endangered.* - Guido van Rossum, August 1996\n",
    "\n",
    "\n",
    "[https://en.wikipedia.org/wiki/History_of_Python](https://en.wikipedia.org/wiki/History_of_Python)"
   ]
  },
  {
   "cell_type": "code",
   "execution_count": 1,
   "metadata": {},
   "outputs": [
    {
     "data": {
      "text/plain": [
       "'3.6.7 |Anaconda, Inc.| (default, Oct 23 2018, 14:01:38) \\n[GCC 4.2.1 Compatible Clang 4.0.1 (tags/RELEASE_401/final)]'"
      ]
     },
     "execution_count": 1,
     "metadata": {},
     "output_type": "execute_result"
    }
   ],
   "source": [
    "import sys\n",
    "sys.version"
   ]
  },
  {
   "cell_type": "markdown",
   "metadata": {},
   "source": [
    "#### Advantages and disadvantes\n",
    "\n",
    "Advantages\n",
    "\n",
    "* Portable\n",
    "* User-Friendly\n",
    "* Open-Source and Community\n",
    "* Fast Prototyping\n",
    "* High-level (no need to manage system architecture or memory)\n",
    "* Interpreted\n",
    "* Object-Oriented\n",
    "* Dynamic Typing (no need to declare data types)\n",
    "* Large Standard Library\n",
    "\n",
    "Disvantages\n",
    "\n",
    "* Slow Speed\n",
    "* Not Memory Efficient\n",
    "* Weak in Mobile Computing\n",
    "* Database Access (way more primitive than JDBC)\n",
    "* Runtime Errors (dynamically typed languages need more testing)\n"
   ]
  },
  {
   "cell_type": "markdown",
   "metadata": {},
   "source": [
    "#### The Zen of Python\n",
    "\n",
    "Experienced Python programmers will encourage you to **avoid complexity** and aim for simplicity whenever possible. \n",
    "The Python community’s philosophy is contained in “The Zen of Python” by Tim Peters. You can access this brief set of principles for writing good code by entering **import this** into your interpreter. "
   ]
  },
  {
   "cell_type": "code",
   "execution_count": 2,
   "metadata": {},
   "outputs": [
    {
     "name": "stdout",
     "output_type": "stream",
     "text": [
      "The Zen of Python, by Tim Peters\n",
      "\n",
      "Beautiful is better than ugly.\n",
      "Explicit is better than implicit.\n",
      "Simple is better than complex.\n",
      "Complex is better than complicated.\n",
      "Flat is better than nested.\n",
      "Sparse is better than dense.\n",
      "Readability counts.\n",
      "Special cases aren't special enough to break the rules.\n",
      "Although practicality beats purity.\n",
      "Errors should never pass silently.\n",
      "Unless explicitly silenced.\n",
      "In the face of ambiguity, refuse the temptation to guess.\n",
      "There should be one-- and preferably only one --obvious way to do it.\n",
      "Although that way may not be obvious at first unless you're Dutch.\n",
      "Now is better than never.\n",
      "Although never is often better than *right* now.\n",
      "If the implementation is hard to explain, it's a bad idea.\n",
      "If the implementation is easy to explain, it may be a good idea.\n",
      "Namespaces are one honking great idea -- let's do more of those!\n"
     ]
    }
   ],
   "source": [
    "import this"
   ]
  },
  {
   "cell_type": "markdown",
   "metadata": {},
   "source": [
    "#### Python Enhancement Proposals\n",
    "\n",
    "PEP stands for Python Enhancement Proposal.  A PEP is a design document providing information, or describing a new feature for Python or its processes or environment.  The PEP should provide a concise technical specification of the feature and a rationale for the feature.\n",
    "\n",
    "[PEP 0 -- Index of Python Enhancement Proposals (PEPs)](https://www.python.org/dev/peps/)\n",
    "\n",
    "[PEP 8 -- Style Guide for Python Code](\n",
    "https://www.python.org/dev/peps/pep-0008/)"
   ]
  },
  {
   "cell_type": "markdown",
   "metadata": {},
   "source": [
    "## Building and Running"
   ]
  },
  {
   "cell_type": "markdown",
   "metadata": {},
   "source": [
    "#### Using Python\n",
    "* The Python shell is an interface for typing Python code and executing it directly in your computer’s terminal.\n",
    "* The IPython shell is a much nicer version of the Python shell. It provides syntax highlighting, autocompletion, and other features.\n",
    "* An IDE is a sophisticated text editor that allows you edit, run, and debug code. The most used is PyCharm. The default one is IDLE.\n",
    "* Python scripts can be run from command line.\n",
    "* The Jupyter Notebook is a powerful tool for prototyping and experimenting with code, as well as visualizing data and writing nicely-formatted text. We will be using this throughout the course."
   ]
  },
  {
   "cell_type": "markdown",
   "metadata": {},
   "source": [
    "#### Executing scripts\n",
    "\n",
    "```\n",
    "#!/usr/bin/env python\n",
    "def main():\n",
    "  print(‘Hello world!’)\n",
    "\n",
    "if __name__ == \"__main__\":\n",
    "    main()\n",
    "\n",
    "\n",
    "$ python script.py\n",
    "OR\n",
    "$ chmod 755 script.sh\n",
    "$ ./script.sh\n",
    "```"
   ]
  },
  {
   "cell_type": "markdown",
   "metadata": {},
   "source": [
    "#### Libraries\n",
    "\n",
    "The Python Package Index (aka PyPI) is the official third-party software repository for the Python. \n",
    "\n",
    "[https://pypi.org/](https://pypi.org/)\n",
    "\n",
    "pip is a is a command-line program used to {install, remove, update, …} software packages written in Python. \n",
    "\n",
    "[https://pypi.python.org/pypi/pip](https://pypi.python.org/pypi/pip)"
   ]
  },
  {
   "cell_type": "markdown",
   "metadata": {},
   "source": [
    "#### Virtual environments\n",
    "\n",
    "**Virtual Environments** allow Python packages to be installed in an isolated location for a particular application, rather than being installed globally. \n",
    "\n",
    "For example, what if you want to install an application and leave it be? If an application works, any change in its libraries or the versions of those libraries can break the application.\n",
    "\n",
    "Virtual Environments have their own installation directories and they don’t share libraries with other virtual environments. venv is available by default in Python 3.3 and later, and installs pip and setuptools into created virtual environments."
   ]
  },
  {
   "cell_type": "markdown",
   "metadata": {},
   "source": [
    "## Basic concepts"
   ]
  },
  {
   "cell_type": "markdown",
   "metadata": {},
   "source": [
    "#### \\_\\_name\\_\\_\n",
    "\n",
    "Python is not designed to start execution of the code from a main function explicitly. A special variable called __name__ provides the functionality of the main function. \n",
    "\n",
    "When you run a stand-alone python script which is not referring to any other script, the value of __name__ variable is equal to __main__."
   ]
  },
  {
   "cell_type": "code",
   "execution_count": 3,
   "metadata": {},
   "outputs": [
    {
     "name": "stdout",
     "output_type": "stream",
     "text": [
      "Hello world!\n",
      "2\n"
     ]
    }
   ],
   "source": [
    "def main():\n",
    "  print('Hello world!')\n",
    "  a = 2\n",
    "  print(a)\n",
    "\n",
    "if __name__ == \"__main__\":\n",
    "    main()"
   ]
  },
  {
   "cell_type": "markdown",
   "metadata": {},
   "source": [
    "#### Multi-line statements\n",
    "\n",
    "The end of a statement is marked by a newline character. \n",
    "We can make a statement extend over multiple lines with the line continuation character \\\\. \n",
    "\n",
    "Line continuation is implied inside parentheses **( )**, brackets **[ ]**, and braces **{ }**. "
   ]
  },
  {
   "cell_type": "code",
   "execution_count": 4,
   "metadata": {},
   "outputs": [],
   "source": [
    "a = 1 + 2 + 3 + \\\n",
    "    4 + 5 + 6 + \\\n",
    "    7 + 8 + 9\n",
    "\n",
    "a = (1 + 2 + 3 + \n",
    "     4 + 5 + 6 +\n",
    "     7 + 8 + 9)"
   ]
  },
  {
   "cell_type": "markdown",
   "metadata": {},
   "source": [
    "#### Indentation\n",
    "\n",
    "Other languages like C/C++ and Java use curly braces **{}** to indicate the beginning and the end of blocks of code. \n",
    "Python uses white spaces (space or tabs) to define the block of functions. \n",
    "\n",
    "It is mandatory to use a consistent amount of spaces (usually 4) for blocks throughout the code."
   ]
  },
  {
   "cell_type": "code",
   "execution_count": 5,
   "metadata": {},
   "outputs": [
    {
     "name": "stdout",
     "output_type": "stream",
     "text": [
      "Hi man!\n",
      "Who are you?\n"
     ]
    }
   ],
   "source": [
    "def test_name(name):\n",
    "    \"\"\"\n",
    "    This is a multi-line comment\n",
    "    Used for explaining functions, methods\n",
    "    \"\"\"\n",
    "    \n",
    "    # single line comment\n",
    "    if name == 'Nicola':\n",
    "        print('Hi man!')\n",
    "    else:\n",
    "        print('Who are you?')\n",
    "        \n",
    "test_name('Nicola')\n",
    "test_name('Marzia')\n",
    "        \n"
   ]
  },
  {
   "cell_type": "markdown",
   "metadata": {},
   "source": [
    "#### Docstring\n",
    "\n",
    "docstring is a short for documentation string.\n",
    "Python docstrings are the string literals that appear right after the definition of a function, method, class, or module. Triple quotes are used.\n",
    "The docstring is available as the __doc__ attribute of the function.\n",
    "Although optional, documentation is a key programming practice. "
   ]
  },
  {
   "cell_type": "code",
   "execution_count": 6,
   "metadata": {},
   "outputs": [
    {
     "name": "stdout",
     "output_type": "stream",
     "text": [
      "\n",
      "    This function greets to\n",
      "    the person passed in as\n",
      "    a parameter\n",
      "    \n"
     ]
    }
   ],
   "source": [
    "def greet(name):\n",
    "    \"\"\"\n",
    "    This function greets to\n",
    "    the person passed in as\n",
    "    a parameter\n",
    "    \"\"\"\n",
    "    print('Hello! ' + name)\n",
    "\n",
    "print(greet.__doc__)"
   ]
  },
  {
   "cell_type": "markdown",
   "metadata": {},
   "source": [
    "#### Variable Assignment"
   ]
  },
  {
   "cell_type": "code",
   "execution_count": 7,
   "metadata": {},
   "outputs": [],
   "source": [
    " # one variable, one value\n",
    " v = 'apple.com'\n",
    "\n",
    " # same variable, a new value\n",
    " v = 1\n",
    "\n",
    " # multiple variables, multiple values\n",
    " a, b, c = 5, 3.2, 'Hello'\n",
    "\n",
    " # multiple variables, one value\n",
    " x = y = z = 'same value'"
   ]
  },
  {
   "cell_type": "markdown",
   "metadata": {},
   "source": [
    "#### Constants\n",
    "Constants are written in capital letters with underscores separating words.\n",
    "\n",
    "**Constats are only a convention and can be modified.** No compiler checks. \n",
    "\n",
    "Constants are usually declared and assigned in a separate module imported from the main file. "
   ]
  },
  {
   "cell_type": "code",
   "execution_count": 8,
   "metadata": {},
   "outputs": [
    {
     "name": "stdout",
     "output_type": "stream",
     "text": [
      "3.14\n",
      "9.81\n",
      "3.141592653589793\n",
      "2.718281828459045\n"
     ]
    }
   ],
   "source": [
    "PI = 3.14 \n",
    "GRAVITY = 9.81\n",
    "\n",
    "import math\n",
    "print(PI)\n",
    "print(GRAVITY)\n",
    "\n",
    "print(math.pi)\n",
    "print(math.e)"
   ]
  },
  {
   "cell_type": "markdown",
   "metadata": {},
   "source": [
    "#### Naming variables\n",
    "Variable names can contain only letters, numbers, and underscores.\n",
    "\n",
    "* They can start with a letter or an underscore, but not with a number. For instance, you can call a variable *message_1* but not *1_message*. \n",
    "* Avoid using Python keywords and function names as variable names.\n",
    "* Variable names should be short but descriptive. For example, *name* is better than *n*, *student_name* is better than *s_n*, and *name_length* is better than *length_of_persons_name*. "
   ]
  },
  {
   "cell_type": "markdown",
   "metadata": {},
   "source": [
    "#### Reserved Words\n",
    "\n",
    "* **and** A logical operator\n",
    "* **as** To create an alias\n",
    "* **assert** For debugging\n",
    "* **break**\tTo break out of a loop\n",
    "* **class**\tTo define a class\n",
    "* **continue** To continue to the next iteration of a loop\n",
    "* **def** To define a function\n",
    "* **del** To delete an object\n",
    "* **elif** Used in conditional statements\n",
    "* **else** Used in conditional statements\n",
    "* **except** Used with try for exceptions\n",
    "* **False**\tBoolean value\n",
    "* **finally** Used with exceptions\n",
    "* **for** To create a for loop\n",
    "* **from** To import specific parts of a module\n",
    "* **global** To declare a global variable\n",
    "* **if** To make a conditional statement\n",
    "* **import** To import a module\n",
    "* **in** To check if a value is present in a list, tuple\n",
    "* **is** Test if two variables are equal\n",
    "* **lambda** To create an anon. function\n",
    "* **None** Represents a null value\n",
    "* **nonlocal**\tTo declare a non-local variable\n",
    "* **not** A logical operator\n",
    "* **or** A logical operator\n",
    "* **pass** A statement that will do nothing\n",
    "* **raise**\tTo raise an exception\n",
    "* **return** To exit a function and return a value\n",
    "* **True** Boolean value\n",
    "* **try** To make a try...except statement\n",
    "* **while**\tTo create a while loop\n",
    "* **with** Used to simplify exception handling\n",
    "* **yield**\tTo end a function, returns a generator"
   ]
  },
  {
   "cell_type": "code",
   "execution_count": 9,
   "metadata": {},
   "outputs": [
    {
     "data": {
      "text/plain": [
       "True"
      ]
     },
     "execution_count": 9,
     "metadata": {},
     "output_type": "execute_result"
    }
   ],
   "source": [
    "import keyword\n",
    "keyword.iskeyword('while')"
   ]
  },
  {
   "cell_type": "markdown",
   "metadata": {},
   "source": [
    "#### Everything Is an Object\n",
    "\n",
    "Python is an object-oriented programming language, and in Python everything is an object.\n",
    "\n",
    "Some claim erroneously that Python is a type-free language. But this is not the case! Python has types; however, the types are linked not to the variable names but to the objects themselves.\n",
    "\n",
    "Variable names are only names, references to actual objects."
   ]
  },
  {
   "cell_type": "code",
   "execution_count": 10,
   "metadata": {},
   "outputs": [
    {
     "name": "stdout",
     "output_type": "stream",
     "text": [
      "<class 'int'>\n",
      "<class 'float'>\n",
      "<class 'complex'>\n",
      "<class 'str'>\n"
     ]
    }
   ],
   "source": [
    "x = 4 \n",
    "print(type(x))\n",
    "\n",
    "x = 3.14159 \n",
    "print(type(x))\n",
    "\n",
    "x = 3+4j\n",
    "print(type(x))\n",
    "\n",
    "x = 'hello' \n",
    "print(type(x))"
   ]
  },
  {
   "cell_type": "markdown",
   "metadata": {},
   "source": [
    "In object-oriented programming languages, an object is an entity that contains data along with associated functionalities. \n",
    "\n",
    "Every entity has data (called attributes) and associated functionalities (called methods). These attributes and methods are accessed via the dot syntax.\n",
    "\n",
    "What is sometimes unexpected is that in Python even simple types have attached attributes and methods."
   ]
  },
  {
   "cell_type": "code",
   "execution_count": 11,
   "metadata": {},
   "outputs": [
    {
     "name": "stdout",
     "output_type": "stream",
     "text": [
      "4.0 + 3.0 i\n",
      "False\n",
      "True\n"
     ]
    }
   ],
   "source": [
    "x = 4+3j\n",
    "print(x.real, \"+\", x.imag, 'i')\n",
    "\n",
    "x = 4.5\n",
    "print(x.is_integer())\n",
    "\n",
    "x = 4.0\n",
    "print(x.is_integer())"
   ]
  },
  {
   "cell_type": "markdown",
   "metadata": {},
   "source": [
    "## Literals"
   ]
  },
  {
   "cell_type": "markdown",
   "metadata": {},
   "source": [
    "#### Numeric literals\n",
    "\n",
    "Numeric Literals are immutable (unchangeable). Can be only redefined (discarding the old value). Numeric literals can belong to 3 different numerical types: Integer, Float, Complex. \n",
    "\n",
    "The **math** module contains mathematical functions.\n",
    "\n",
    "The **random** module provides functions for random numbers."
   ]
  },
  {
   "cell_type": "code",
   "execution_count": 12,
   "metadata": {},
   "outputs": [
    {
     "name": "stdout",
     "output_type": "stream",
     "text": [
      "3.0\n",
      "2.9999999999999996\n",
      "7.38905609893065\n",
      "0.9977992786806003\n",
      "random = 0.5746247641662114\n"
     ]
    }
   ],
   "source": [
    "i = 0b1010 # Integer (Binary)\n",
    "i = 100    # Integer (Decimal)\n",
    "i = 0x12c  # Integer (Hex)\n",
    "\n",
    "f = 10.5   # Float \n",
    "f = 1.5e2  # Float\n",
    "\n",
    "c = 3.14j   # Complex \n",
    "\n",
    "import math\n",
    "print(math.fabs(-3))\n",
    "print(math.log(1000, 10))\n",
    "print(math.exp(2));\n",
    "print(math.sin(190));\n",
    "\n",
    "import random\n",
    "print('random =', random.random())"
   ]
  },
  {
   "cell_type": "markdown",
   "metadata": {},
   "source": [
    "#### Boolean literals\n",
    "\n",
    "Boolean values are the two constant objects **False** and **True**.\n",
    "They are used to represent truth values (other values can also be considered ",
    "false or true).\n",
    "In numeric contexts, they behave like integers.\n",
    "True = 1, False = 0."
   ]
  },
  {
   "cell_type": "code",
   "execution_count": 13,
   "metadata": {},
   "outputs": [
    {
     "name": "stdout",
     "output_type": "stream",
     "text": [
      "x = True\n",
      "y = False\n",
      "z = 6\n",
      "k = 5\n"
     ]
    }
   ],
   "source": [
    "x = (1 == True)\n",
    "y = (1 == False)\n",
    "z = True + 5\n",
    "k = False + 5\n",
    "\n",
    "print('x =', x)\n",
    "print('y =', y)\n",
    "print('z =', z)\n",
    "print('k =', k)"
   ]
  },
  {
   "cell_type": "markdown",
   "metadata": {},
   "source": [
    "#### String literals\n",
    "Strings are arrays of bytes representing Unicode characters (16bit encoding).\n",
    "Python does not have a character data type, a single character is a string with a length of 1."
   ]
  },
  {
   "cell_type": "code",
   "execution_count": 14,
   "metadata": {},
   "outputs": [],
   "source": [
    "a = 'This is Python'\n",
    "b = 'C'\n",
    "c = \\\n",
    "\"\"\"\n",
    "This is a multiline string with more than one line code.\n",
    "\"\"\""
   ]
  },
  {
   "cell_type": "markdown",
   "metadata": {},
   "source": [
    "#### type()\n",
    "If a single object is passed to type(), the function returns its type.\n",
    "We can use the type() function to know which class a variable or a value belongs to and the isinstance() function to check if it belongs to a particular class."
   ]
  },
  {
   "cell_type": "code",
   "execution_count": 15,
   "metadata": {},
   "outputs": [
    {
     "name": "stdout",
     "output_type": "stream",
     "text": [
      "<class 'int'>\n",
      "<class 'float'>\n",
      "<class 'complex'>\n",
      "True\n"
     ]
    }
   ],
   "source": [
    "a = 5\n",
    "b = 2.3 \n",
    "c = 5 + 3j\n",
    "\n",
    "print(type(a))\n",
    "print(type(b))\n",
    "print(type(c))\n",
    "print(isinstance(c, complex))"
   ]
  },
  {
   "cell_type": "markdown",
   "metadata": {},
   "source": [
    "#### Implicit Casting\n",
    "In Implicit type conversion, Python automatically converts one data type to another data type. This process doesn't need any user involvement.\n",
    "Python promotes the conversion of the lower data type (integer) to the higher data type (float) to avoid data loss."
   ]
  },
  {
   "cell_type": "code",
   "execution_count": 16,
   "metadata": {},
   "outputs": [
    {
     "name": "stdout",
     "output_type": "stream",
     "text": [
      "<class 'int'>\n",
      "<class 'float'>\n",
      "<class 'float'>\n"
     ]
    }
   ],
   "source": [
    "a = 123\n",
    "b = 1.23\n",
    "c = a + b\n",
    "\n",
    "print(type(a))\n",
    "print(type(b))\n",
    "print(type(c))"
   ]
  },
  {
   "cell_type": "markdown",
   "metadata": {},
   "source": [
    "#### Explicit Casting\n",
    "* int() - constructs an integer number from an integer literal, a float literal, or a string literal (providing the string represents a whole number)\n",
    "* float() - constructs a float number from an integer literal, a float literal or a string literal (providing the string represents a float or an integer)\n",
    "* str() - constructs a string from a wide variety of data types, including strings, integer literals and float literals\n",
    "* bool() - constructs a boolean from a numeric literals."
   ]
  },
  {
   "cell_type": "code",
   "execution_count": 17,
   "metadata": {},
   "outputs": [
    {
     "name": "stdout",
     "output_type": "stream",
     "text": [
      "<class 'int'> 1\n",
      "<class 'int'> 2\n",
      "<class 'int'> 2\n",
      "<class 'float'> 1.0\n",
      "<class 'float'> 4.2\n",
      "<class 'float'> 2.0\n",
      "<class 'str'> abc\n",
      "<class 'str'> 4.2\n",
      "<class 'str'> 2\n",
      "<class 'bool'> True\n",
      "<class 'bool'> False\n",
      "<class 'bool'> True\n"
     ]
    }
   ],
   "source": [
    "def show(n):\n",
    "    print(type(n), n)\n",
    "\n",
    "show(int(1))\n",
    "show(int(2.8))\n",
    "show(int('2'))\n",
    "\n",
    "show(float(1))\n",
    "show(float('4.2'))\n",
    "show(float('2'))\n",
    "\n",
    "show(str('abc'))\n",
    "show(str('4.2'))\n",
    "show(str('2'))\n",
    "\n",
    "show(bool(1))\n",
    "show(bool(0))\n",
    "show(bool(0.2))"
   ]
  },
  {
   "cell_type": "markdown",
   "metadata": {},
   "source": [
    "## String Literals"
   ]
  },
  {
   "cell_type": "markdown",
   "metadata": {},
   "source": [
    "#### String\n",
    "A string is a sequence of UNICODE characters (16bit encoding). Sequences allow you to store multiple values in an organized and efficient fashion. There are seven sequence types: strings, Unicode strings, lists, tuples, bytearrays, buffers, and xrange objects.\n",
    "Anything inside quotes is considered a string. It is possible to use single or double quotes around strings. Syntax highlighting is helpful!"
   ]
  },
  {
   "cell_type": "code",
   "execution_count": 18,
   "metadata": {},
   "outputs": [
    {
     "name": "stdout",
     "output_type": "stream",
     "text": [
      "This is a string.\n",
      "This is also a string.\n",
      "I told my friend, \"Python is my favorite language!\"\n",
      "The language 'Python' is named after Monty Python, not the snake.\n"
     ]
    }
   ],
   "source": [
    "print(\"This is a string.\")\n",
    "print('This is also a string.')\n",
    "print('I told my friend, \"Python is my favorite language!\"')\n",
    "print(\"The language 'Python' is named after Monty Python, not the snake.\")"
   ]
  },
  {
   "cell_type": "markdown",
   "metadata": {},
   "source": [
    "#### len()\n",
    "The len() bultin function returns the number of items in an object.\n",
    "When the object is a string, the len() function returns the number of characters in the string. Internally, len() calls object's __len__ method. \n",
    "\n",
    "```\n",
    "def len(s): \n",
    "    return s.__len__()\n",
    "```"
   ]
  },
  {
   "cell_type": "code",
   "execution_count": 19,
   "metadata": {},
   "outputs": [
    {
     "name": "stdout",
     "output_type": "stream",
     "text": [
      "6\n",
      "6\n",
      "4\n"
     ]
    }
   ],
   "source": [
    "# string object\n",
    "obj = 'Python'\n",
    "print(len(obj))\n",
    "\n",
    "# byte object\n",
    "obj = b'Python'\n",
    "print(len(obj))\n",
    "\n",
    "# list object\n",
    "obj = [1, 2, 3, 4]\n",
    "print(len(obj))"
   ]
  },
  {
   "cell_type": "markdown",
   "metadata": {},
   "source": [
    "#### Accessing characters\n",
    "Individual characters can be accessed using **indexing**, **negative indexing**, and **slicing**. Index starts both from 0 and -1.\n",
    "\n",
    "Access a character out of index range raises IndexError. Using not-integer index raises TypeError.\n",
    "\n",
    "Concerning negative indexing, the index of -1 refers to the last item, -2 to the second last item and so on. \n",
    "\n",
    "We can access a range of items in a string by using the slicing operator :(colon)."
   ]
  },
  {
   "cell_type": "code",
   "execution_count": 20,
   "metadata": {},
   "outputs": [
    {
     "name": "stdout",
     "output_type": "stream",
     "text": [
      "o\n",
      "g\n",
      "opro\n",
      "grammi\n"
     ]
    }
   ],
   "source": [
    "name = 'ooprogramming'\n",
    "# indexing\n",
    "print(name[0])\n",
    "\n",
    "# negative indexing\n",
    "print(name[-1])\n",
    "\n",
    "# slicing\n",
    "print(name[1:5])\n",
    "print(name[5:-2])"
   ]
  },
  {
   "cell_type": "markdown",
   "metadata": {},
   "source": [
    "#### Changing Strings\n",
    "Strings are immutable. This means that elements of a string cannot be changed once they have been assigned. \n",
    "We can only assign different values to the same reference (i.e., the old object is discarded).\n",
    "We cannot delete or remove characters from a string. But deleting the string entirely is possible using the del keyword."
   ]
  },
  {
   "cell_type": "code",
   "execution_count": 21,
   "metadata": {},
   "outputs": [],
   "source": [
    "name = 'python'\n",
    "# name[2] = 'a'\n",
    "# TypeError: 'str' object does not support item assignment\n",
    "\n",
    "# del name\n",
    "# print(name)\n",
    "# UnboundLocalError: local variable 'str' referenced before assignment"
   ]
  },
  {
   "cell_type": "markdown",
   "metadata": {},
   "source": [
    "#### Combining Strings"
   ]
  },
  {
   "cell_type": "code",
   "execution_count": 22,
   "metadata": {},
   "outputs": [
    {
     "name": "stdout",
     "output_type": "stream",
     "text": [
      "ada lovelace\n",
      "ada lovelace\n"
     ]
    }
   ],
   "source": [
    "a = 'ada'\n",
    "b = 'lovelace'\n",
    "\n",
    "name = a + \" \" + b \n",
    "print(name) \n",
    "name = '{} {}'.format(a, b) \n",
    "print(name) "
   ]
  },
  {
   "cell_type": "markdown",
   "metadata": {},
   "source": [
    "Explicit casting is required when mixing numeric literals and string literals.\n",
    "Alternatively, use string formatting techniques."
   ]
  },
  {
   "cell_type": "code",
   "execution_count": 23,
   "metadata": {},
   "outputs": [
    {
     "name": "stdout",
     "output_type": "stream",
     "text": [
      "Happy 23rd Birthday!\n",
      "Happy 23rd Birthday!\n"
     ]
    }
   ],
   "source": [
    "age = 23 \n",
    "# print('Happy ' + age + 'rd Birthday!') \n",
    "# TypeError: must be str, not int\n",
    "print('Happy ' + str(age) + 'rd Birthday!')\n",
    "print('Happy {}rd Birthday!'.format(age))"
   ]
  },
  {
   "cell_type": "markdown",
   "metadata": {},
   "source": [
    "#### Formatting Strings"
   ]
  },
  {
   "cell_type": "code",
   "execution_count": 24,
   "metadata": {},
   "outputs": [
    {
     "name": "stdout",
     "output_type": "stream",
     "text": [
      "bicocchi nicola\n",
      "nicola    * bicocchi  *\n",
      "0.3333 0.6667\n",
      "0000.3 0000.7\n"
     ]
    }
   ],
   "source": [
    "# re-arranging the order of arguments\n",
    "print('{1} {0}'.format('nicola', 'bicocchi'))\n",
    "\n",
    "# padding up to 10 spaces\n",
    "print('{:10}* {:10}*'.format('nicola', 'bicocchi'))\n",
    "\n",
    "# padding up to 6 spaces, 2 digits precision\n",
    "print('{:06.4f} {:06.4f}'.format(1 / 3, 2 / 3))\n",
    "\n",
    "# padding up to 4 spaces, 1 digit precision\n",
    "print('{:06.1f} {:06.1f}'.format(1 / 3, 2 / 3))"
   ]
  },
  {
   "cell_type": "markdown",
   "metadata": {},
   "source": [
    "#### Dealing with whitespaces"
   ]
  },
  {
   "cell_type": "code",
   "execution_count": 25,
   "metadata": {},
   "outputs": [
    {
     "name": "stdout",
     "output_type": "stream",
     "text": [
      "' python'\n",
      "'python '\n",
      "'python'\n",
      "'    python'\n",
      "'python    '\n",
      "'  python  '\n"
     ]
    }
   ],
   "source": [
    "name = ' python '\n",
    "print('\\'{}\\''.format(name.rstrip()))\n",
    "print('\\'{}\\''.format(name.lstrip()))\n",
    "print('\\'{}\\''.format(name.strip()))\n",
    "\n",
    "name = 'python'\n",
    "print('\\'{}\\''.format(name.rjust(10)))\n",
    "print('\\'{}\\''.format(name.ljust(10)))\n",
    "print('\\'{}\\''.format(name.center(10)))"
   ]
  },
  {
   "cell_type": "markdown",
   "metadata": {},
   "source": [
    "#### Dealing with cases"
   ]
  },
  {
   "cell_type": "code",
   "execution_count": 27,
   "metadata": {},
   "outputs": [
    {
     "name": "stdout",
     "output_type": "stream",
     "text": [
      "ADA LOVELACE\n",
      "ada lovelace\n",
      "Ada lovelace\n",
      "Ada Lovelace\n",
      "False\n",
      "False\n",
      "True\n"
     ]
    }
   ],
   "source": [
    "name = 'Ada Lovelace'\n",
    "print(name.upper())\n",
    "print(name.lower())\n",
    "print(name.capitalize())\n",
    "print(name.title())\n",
    "print(name.islower())\n",
    "print(name.isupper())\n",
    "print(name.istitle())"
   ]
  },
  {
   "cell_type": "markdown",
   "metadata": {},
   "source": [
    "#### String membership\n",
    "We can test if a substring exists within a string or not, using the keyword in."
   ]
  },
  {
   "cell_type": "code",
   "execution_count": 29,
   "metadata": {},
   "outputs": [
    {
     "data": {
      "text/plain": [
       "True"
      ]
     },
     "execution_count": 29,
     "metadata": {},
     "output_type": "execute_result"
    }
   ],
   "source": [
    "'a' in 'program'\n",
    "True"
   ]
  },
  {
   "cell_type": "code",
   "execution_count": 30,
   "metadata": {},
   "outputs": [
    {
     "data": {
      "text/plain": [
       "False"
      ]
     },
     "execution_count": 30,
     "metadata": {},
     "output_type": "execute_result"
    }
   ],
   "source": [
    "'at' not in 'battle'\n",
    "False"
   ]
  },
  {
   "cell_type": "code",
   "execution_count": null,
   "metadata": {},
   "outputs": [],
   "source": []
  }
 ],
 "metadata": {
  "kernelspec": {
   "display_name": "Python 3",
   "language": "python",
   "name": "python3"
  },
  "language_info": {
   "codemirror_mode": {
    "name": "ipython",
    "version": 3
   },
   "file_extension": ".py",
   "mimetype": "text/x-python",
   "name": "python",
   "nbconvert_exporter": "python",
   "pygments_lexer": "ipython3",
   "version": "3.6.7"
  }
 },
 "nbformat": 4,
 "nbformat_minor": 2
}

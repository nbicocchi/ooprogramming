{
 "cells": [
  {
   "cell_type": "markdown",
   "metadata": {},
   "source": [
    "# Python Data Structures\n",
    "Author: Dr. Nicola Bicocchi - UNIMORE"
   ]
  },
  {
   "attachments": {},
   "cell_type": "markdown",
   "metadata": {},
   "source": [
    "## Background"
   ]
  },
  {
   "attachments": {},
   "cell_type": "markdown",
   "metadata": {},
   "source": [
    "#### Resizable Array ~O(n)\n",
    "<table>\n",
    "    <tr>\n",
    "        <td> <img src=\"img/collections_resizable_array.png\" alt=\"Drawing\" style=\"width: 600px;\"/> </td>\n",
    "    </tr>\n",
    "</table>\n",
    "\n",
    "#### Linked List ~O(n)\n",
    "<table>\n",
    "    <tr>\n",
    "        <td> <img src=\"img/collections_linked_list.png\" alt=\"Drawing\" style=\"width: 600px;\"/> </td>\n",
    "    </tr>\n",
    "</table>\n",
    "\n",
    "#### Hash Table ~O(1)\n",
    "<table>\n",
    "    <tr>\n",
    "        <td> <img src=\"img/collections_hash_table.png\" alt=\"Drawing\" style=\"width: 600px;\"/> </td>\n",
    "    </tr>\n",
    "</table>"
   ]
  },
  {
   "cell_type": "markdown",
   "metadata": {},
   "source": [
    "## Iterables"
   ]
  },
  {
   "cell_type": "markdown",
   "metadata": {},
   "source": [
    "<table>\n",
    "    <tr>\n",
    "        <td> <img src=\"img/collections_hierarchy.png\" alt=\"Drawing\" style=\"width: 700px;\"/> </td>\n",
    "    </tr>\n",
    "</table>\n",
    "\n",
    "Iterable, Container, and Sized: Every collection should either inherit from these classes (collections.abc package) or at least implement compatible protocols. Iterable supports iteration with \\_\\_iter\\_\\_, Container supports the in operator with \\_\\_contains\\_\\_, and Sized supports len() with \\_\\_len\\_\\_.\n",
    "\n",
    "Iterator: Iterator subclasses Iterable. An iterator object must implement two special methods, \\_\\_iter\\_\\_() and \\_\\_next\\_\\_(), collectively called the iterator protocol.\n",
    "\n",
    "Sequence, Mapping, and Set: These are the main immutable collection types, and each has a mutable subclass. \n",
    "\n",
    "MappingView: Objects returned from the mapping methods .items(), .keys(), and .values() inherit from ItemsView, \n",
    "ValuesView, and ValuesView, respectively. The first two also inherit the rich interface of Set.\n",
    "\n",
    "Callable and Hashable: These ABCs are not so closely related to collections, but collections.abc was the first package to define ABCs in the standard library, and these two were deemed important enough to be included. Their main use is to support the insinstance built-in as a safe way of determining whether an object is callable or hashable."
   ]
  },
  {
   "cell_type": "markdown",
   "metadata": {},
   "source": [
    "#### Iterable\n",
    "An iterable object is any object capable of returning its members one at a time, permitting it to be iterated over in a for-loop. Familiar examples of iterables include lists, tuples, dictionaries, sets, and strings. Indeed, any such sequence can be iterated over in a for-loop. It is also possible to have an iterable that “generates” each one of its members upon iteration without storing all of its members in memory at once."
   ]
  },
  {
   "cell_type": "code",
   "execution_count": 607,
   "metadata": {},
   "outputs": [
    {
     "name": "stdout",
     "output_type": "stream",
     "text": [
      "1\n",
      "2\n",
      "3\n",
      "1\n",
      "2\n",
      "3\n",
      "1 a\n",
      "2 b\n",
      "3 c\n",
      "H\n",
      "e\n",
      "l\n",
      "l\n",
      "o\n",
      "!\n"
     ]
    }
   ],
   "source": [
    "numbers = [1, 2, 3]\n",
    "for n in numbers:\n",
    "    print(n)\n",
    "\n",
    "numbers = (1, 2, 3)\n",
    "for n in numbers:\n",
    "    print(n)\n",
    "\n",
    "map = {1 : 'a', 2 : 'b', 3 : 'c'}\n",
    "for k, v in map.items():\n",
    "       print(k, v)\n",
    "\n",
    "string = 'Hello!'\n",
    "for c in string:\n",
    "       print(c)\n"
   ]
  },
  {
   "attachments": {},
   "cell_type": "markdown",
   "metadata": {},
   "source": [
    "#### Functions acting on iterables\n",
    "\n",
    "* list, tuple, dict, set: construct a list, tuple, dictionary, or set, respectively, from the contents of an iterable\n",
    "* sum: sum the contents of an iterable.\n",
    "* sorted: return a list of the sorted contents of an iterable\n",
    "* any: returns True and ends the iteration immediately if bool(item) was True for any item in the iterable.\n",
    "* all: returns True only if bool(item) was True for all items in the iterable.\n",
    "* max: return the largest value in an iterable.\n",
    "* min: return the smallest value in an iterable.\n"
   ]
  },
  {
   "cell_type": "code",
   "execution_count": 608,
   "metadata": {},
   "outputs": [
    {
     "name": "stdout",
     "output_type": "stream",
     "text": [
      "['I', ' ', 'a', 'm', ' ', 'a', ' ', 'c', 'o', 'w']\n",
      "6\n",
      "['a', 'b', 'c', 'e', 'g', 'h', 'i', 'i', 'l', 'o', 'u']\n",
      "False\n",
      "True\n",
      "9\n",
      "e\n"
     ]
    }
   ],
   "source": [
    "print(list(\"I am a cow\"))\n",
    "print(sum([1, 2, 3]))\n",
    "print(sorted(\"gheliabciou\"))\n",
    "print(any((0, None, [], 0)))\n",
    "print(all([1, (0, 1), True, \"hi\"]))\n",
    "print(max((5, 8, 9, 0)))\n",
    "print(min(\"hello\"))\n"
   ]
  },
  {
   "cell_type": "markdown",
   "metadata": {},
   "source": [
    "#### Iterable and Iterator\n",
    "Every iterator is an iterable, but not every iterable is an iterator.\n",
    "An iterable is an object that can be iterated over but does not necessarily have all the machinery of an iterator. For example, sequences (e.g lists, tuples, and strings) and other containers (e.g. dictionaries and sets) do not keep track of their own state of iteration. Thus you cannot call next on one of these outright.\n",
    "An iterator object stores its current state of iteration and “yields” each of its members in order, on demand via next, until it is exhausted. As we’ve seen, a generator is an example of an iterator.\n"
   ]
  },
  {
   "cell_type": "code",
   "execution_count": 609,
   "metadata": {},
   "outputs": [
    {
     "name": "stdout",
     "output_type": "stream",
     "text": [
      "4\n",
      "7\n"
     ]
    }
   ],
   "source": [
    "my_list = [4, 7, 0, 3]\n",
    "my_iter = iter(my_list)\n",
    "\n",
    "print(next(my_iter))\n",
    "print(my_iter.__next__())\n",
    "\n",
    "# print(next(my_list))\n",
    "# TypeError: 'list' object is not an iterator"
   ]
  },
  {
   "attachments": {},
   "cell_type": "markdown",
   "metadata": {},
   "source": [
    "#### Data Structures\n",
    "\n",
    "* **List** (resizable array, mutable, keeps insertion order, allows duplicates)\n",
    "* **Tuple** (record immutable, mutable items, keeps insertion order allows duplicates)\n",
    "* **Set** (hash table, mutable, immutable items, unordered, no duplicates)\n",
    "* **Dictionary** (hash table, mutable, unordered, no duplicates in keys)"
   ]
  },
  {
   "cell_type": "markdown",
   "metadata": {},
   "source": [
    "## Lists"
   ]
  },
  {
   "attachments": {},
   "cell_type": "markdown",
   "metadata": {},
   "source": [
    "Lists are mutable. They can grow and shrink by adding and removing objects as needed. It’s also possible to change any object stored in any slot.\n",
    "\n",
    "Lists do not need be homogeneous. A single list may contain data types like Integers, Strings, as well as Objects.\n",
    "\n",
    "Lists are mutable, and hence, they can be altered even after their creation.\n",
    "\n",
    "List are ordered and have a definite count. The elements in a list are indexed according to a definite sequence and the indexing of a list is done with 0 being the first index. \n",
    "\n",
    "<table>\n",
    "    <tr>\n",
    "        <td> <img src=\"img/collections_list.png\" alt=\"Drawing\" style=\"width: 500px;\"/> </td>\n",
    "    </tr>\n",
    "</table>\n",
    "\n",
    "A list is created by placing all the items (elements) inside square brackets [], separated by commas. \n",
    "\n",
    "It can have any number of items and they may be of different types (integer, float, string etc.). \n",
    "\n",
    "A list can also have another list as an item. "
   ]
  },
  {
   "cell_type": "code",
   "execution_count": 610,
   "metadata": {},
   "outputs": [],
   "source": [
    "# empty list\n",
    "my_list = []\n",
    "\n",
    "# list of integers\n",
    "my_list = [1, 2, 3]\n",
    "\n",
    "# list with mixed data types\n",
    "my_list = [1, \"Hello\", 3.4]\n",
    "\n",
    "# nested list \n",
    "my_list = [\"mouse\", [8, 4, 6], ['a']]"
   ]
  },
  {
   "attachments": {},
   "cell_type": "markdown",
   "metadata": {},
   "source": [
    "#### Indexing\n",
    "We can use the index operator [] to access an item in a list. \n",
    "\n",
    "Indices start at 0. So, a list having 5 elements will have an index from 0 to 4.\n",
    "\n",
    "Trying to access indexes other than these will raise an IndexError. \n",
    "\n",
    "The index must be an integer. "
   ]
  },
  {
   "cell_type": "code",
   "execution_count": 611,
   "metadata": {},
   "outputs": [
    {
     "name": "stdout",
     "output_type": "stream",
     "text": [
      "s\n",
      "c\n",
      "a\n",
      "5\n"
     ]
    }
   ],
   "source": [
    "my_list = list('source code')\n",
    "\n",
    "print(my_list[0])\n",
    "print(my_list[4])\n",
    "\n",
    "# Nested indexing\n",
    "my_list = [\"Happy\", [2, 0, 1, 5]]\n",
    "print(my_list[0][1])\n",
    "print(my_list[1][3])\n",
    "\n",
    "# print(my_list[4.0])\n",
    "# TypeError: list indices must be integers or slices, not float"
   ]
  },
  {
   "cell_type": "markdown",
   "metadata": {},
   "source": [
    "#### Negative indexing\n",
    "\n",
    "The index of -1 refers to the last item, -2 to the second last item and so on.\n"
   ]
  },
  {
   "cell_type": "code",
   "execution_count": 612,
   "metadata": {},
   "outputs": [
    {
     "name": "stdout",
     "output_type": "stream",
     "text": [
      "e\n",
      "o\n"
     ]
    }
   ],
   "source": [
    "# Negative indexing\n",
    "my_list = list('source code')\n",
    "print(my_list[-1])\n",
    "print(my_list[-3])"
   ]
  },
  {
   "cell_type": "markdown",
   "metadata": {},
   "source": [
    "#### Slicing\n",
    "We can access a range of items in a list by using the slicing operator :(colon).\n",
    "\n",
    "Slices are partial copies of the original list "
   ]
  },
  {
   "cell_type": "code",
   "execution_count": 613,
   "metadata": {},
   "outputs": [
    {
     "name": "stdout",
     "output_type": "stream",
     "text": [
      "['u', 'r', 'c']\n",
      "['s', 'o', 'u', 'r', 'c', 'e']\n",
      "['e', ' ', 'c', 'o', 'd', 'e']\n",
      "['s', 'o', 'u', 'r', 'c', 'e', ' ', 'c', 'o', 'd', 'e']\n"
     ]
    }
   ],
   "source": [
    "my_list = my_list = list('source code')\n",
    "\n",
    "# elements 3rd to 5th\n",
    "print(my_list[2:5])\n",
    "\n",
    "# elements beginning to 4th\n",
    "print(my_list[:-5])\n",
    "\n",
    "# elements 6th to end\n",
    "print(my_list[5:])\n",
    "\n",
    "# elements beginning to end\n",
    "print(my_list[:])\n"
   ]
  },
  {
   "attachments": {},
   "cell_type": "markdown",
   "metadata": {},
   "source": [
    "#### Changing elements\n",
    "Lists are mutable, meaning their elements can be changed unlike string or tuple.\n",
    "\n",
    "We can use the assignment operator (=) to change an item or a range of items.\n",
    "\n",
    "It is possible to change entire slices eventually."
   ]
  },
  {
   "cell_type": "code",
   "execution_count": 614,
   "metadata": {},
   "outputs": [
    {
     "name": "stdout",
     "output_type": "stream",
     "text": [
      "[1, 4, 6, 8]\n",
      "[1, 3, 5, 7]\n"
     ]
    }
   ],
   "source": [
    "my_list = [2, 4, 6, 8]\n",
    "\n",
    "# change the 1st item    \n",
    "my_list[0] = 1            \n",
    "print(my_list)\n",
    "\n",
    "# change 2nd to 4th items\n",
    "my_list[1:4] = [3, 5, 7]  \n",
    "print(my_list) "
   ]
  },
  {
   "cell_type": "markdown",
   "metadata": {},
   "source": [
    "#### Adding elements\n",
    "We can add one item at the end of a list using the append() method \n",
    "\n",
    "We can add one item in a specific position using the insert() method\n",
    "\n",
    "We can add a (flat) group of items using the extend() method"
   ]
  },
  {
   "cell_type": "code",
   "execution_count": 615,
   "metadata": {},
   "outputs": [
    {
     "name": "stdout",
     "output_type": "stream",
     "text": [
      "[3, 5, 7]\n",
      "[1, 3, 5, 7]\n",
      "[1, 3, 5, 7, [9, 11, 13]]\n",
      "[1, 3, 5, 7, [9, 11, 13], 17, 19, 23]\n"
     ]
    }
   ],
   "source": [
    "# Appending and Extending lists\n",
    "my_list = [3, 5]\n",
    "my_list.append(7)\n",
    "print(my_list)\n",
    "my_list.insert(0, 1)\n",
    "print(my_list)\n",
    "my_list.append([9, 11, 13])\n",
    "print(my_list)\n",
    "my_list.extend([17, 19, 23])\n",
    "print(my_list)\n"
   ]
  },
  {
   "cell_type": "markdown",
   "metadata": {},
   "source": [
    "We can also use + operator to combine two lists. This is also called concatenation.\n",
    "\n",
    "The * operator repeats a list for the given number of times."
   ]
  },
  {
   "cell_type": "code",
   "execution_count": 616,
   "metadata": {},
   "outputs": [
    {
     "name": "stdout",
     "output_type": "stream",
     "text": [
      "[1, 3, 5, 9, 7, 5]\n",
      "['abc', 'abc', 'abc']\n"
     ]
    }
   ],
   "source": [
    "# Concatenating and repeating\n",
    "my_list = [1, 3, 5]\n",
    "\n",
    "print(my_list + [9, 7, 5])\n",
    "\n",
    "print(['abc'] * 3)\n"
   ]
  },
  {
   "attachments": {},
   "cell_type": "markdown",
   "metadata": {},
   "source": [
    "#### Deleting elements\n",
    "We can delete one or more items from a list using the keyword del. \n",
    "\n",
    "del can even delete the list entirely."
   ]
  },
  {
   "cell_type": "code",
   "execution_count": 617,
   "metadata": {},
   "outputs": [
    {
     "name": "stdout",
     "output_type": "stream",
     "text": [
      "['s', 'o', 'r', 'c', 'e', ' ', 'c', 'o', 'd', 'e']\n",
      "['s', ' ', 'c', 'o', 'd', 'e']\n"
     ]
    }
   ],
   "source": [
    "# Deleting list items\n",
    "my_list = list('source code')\n",
    "\n",
    "# delete one item\n",
    "del my_list[2]\n",
    "print(my_list)\n",
    "\n",
    "# delete multiple items\n",
    "del my_list[1:5]\n",
    "print(my_list)\n",
    "\n",
    "# delete entire list\n",
    "del my_list\n",
    "# print(my_list)\n",
    "# NameError: name 'my_list' is not defined\n"
   ]
  },
  {
   "cell_type": "markdown",
   "metadata": {},
   "source": [
    "#### Removing items\n",
    "We can use remove() method to remove the given item or pop() method to remove an item at the given index.\n",
    "\n",
    "The pop() method removes and returns the last item if the index is not provided. Useful for implementing lists as stacks (first in, last out data structure).\n",
    "\n",
    "We can also use the clear() method to empty a list."
   ]
  },
  {
   "cell_type": "code",
   "execution_count": 618,
   "metadata": {},
   "outputs": [
    {
     "name": "stdout",
     "output_type": "stream",
     "text": [
      "['s', 'o', 'u', 'r', 'c', 'e', ' ', 'c', 'o', 'e']\n",
      "o\n",
      "['s', 'u', 'r', 'c', 'e', ' ', 'c', 'o', 'e']\n",
      "e\n",
      "['s', 'u', 'r', 'c', 'e', ' ', 'c', 'o']\n",
      "[]\n"
     ]
    }
   ],
   "source": [
    "my_list = list('source code')\n",
    "\n",
    "my_list.remove('d')\n",
    "print(my_list)\n",
    "\n",
    "print(my_list.pop(1))\n",
    "print(my_list)\n",
    "\n",
    "print(my_list.pop())\n",
    "print(my_list)\n",
    "\n",
    "my_list.clear()\n",
    "print(my_list)"
   ]
  },
  {
   "cell_type": "markdown",
   "metadata": {},
   "source": [
    "#### Iterating Through a List"
   ]
  },
  {
   "cell_type": "code",
   "execution_count": 619,
   "metadata": {},
   "outputs": [
    {
     "name": "stdout",
     "output_type": "stream",
     "text": [
      "a\n",
      "b\n",
      "c\n",
      "a\n",
      "b\n",
      "c\n"
     ]
    }
   ],
   "source": [
    "my_list = list('abc')\n",
    "\n",
    "# Python3 code to iterate over a list\n",
    "for i in my_list:\n",
    "    print(i)\n",
    "\n",
    "# Python3 code to iterate over a list (by index)\n",
    "length = len(my_list)\n",
    "for i in range(length):\n",
    "    print(my_list[i])"
   ]
  },
  {
   "cell_type": "markdown",
   "metadata": {},
   "source": [
    "## Tuples"
   ]
  },
  {
   "attachments": {},
   "cell_type": "markdown",
   "metadata": {},
   "source": [
    "A tuple is a collection of objects much like a list. The sequence of values stored in a tuple can be of any type, and they are indexed by integers.\n",
    "\n",
    "Tuples are immutable. A tuple cannot change once it is assigned.\n",
    "\n",
    "Eventually, we can change its internal items, if they are mutable (e.g., a list contained in a tuple).\n",
    "\n",
    "<table>\n",
    "    <tr>\n",
    "        <td> <img src=\"img/collections_tuple.png\" alt=\"Drawing\" style=\"width: 500px;\"/> </td>\n",
    "    </tr>\n",
    "</table>\n",
    "\n",
    "A tuple is created by placing all the items (elements) inside parentheses (), separated by commas. \n",
    "\n",
    "The parentheses are optional, however, it is a good practice to use them.\n",
    "\n",
    "A tuple can have any number of items and they may be of different types (integer, float, list, string, etc.).\n"
   ]
  },
  {
   "cell_type": "code",
   "execution_count": 620,
   "metadata": {},
   "outputs": [
    {
     "name": "stdout",
     "output_type": "stream",
     "text": [
      "()\n",
      "(1, 2, 3)\n",
      "(1, 'Hello', 3.4)\n",
      "('mouse', [8, 4, 6], (1, 2, 3))\n"
     ]
    }
   ],
   "source": [
    "# empty tuple\n",
    "my_tuple = ()\n",
    "print(my_tuple)\n",
    "\n",
    "# tuple having integers\n",
    "my_tuple = (1, 2, 3)\n",
    "print(my_tuple)\n",
    "\n",
    "# tuple with mixed datatypes\n",
    "my_tuple = (1, \"Hello\", 3.4)\n",
    "print(my_tuple)\n",
    "\n",
    "# nested tuple\n",
    "my_tuple = (\"mouse\", [8, 4, 6], (1, 2, 3))\n",
    "print(my_tuple)\n"
   ]
  },
  {
   "attachments": {},
   "cell_type": "markdown",
   "metadata": {},
   "source": [
    "Creating a tuple with one element is a bit tricky.\n",
    "\n",
    "Having one element within parentheses is not enough. A trailing comma to indicate that it is a tuple is required."
   ]
  },
  {
   "cell_type": "code",
   "execution_count": 621,
   "metadata": {},
   "outputs": [
    {
     "name": "stdout",
     "output_type": "stream",
     "text": [
      "<class 'str'>\n",
      "<class 'tuple'>\n",
      "<class 'tuple'>\n"
     ]
    }
   ],
   "source": [
    "my_tuple = (\"hello\")\n",
    "print(type(my_tuple))\n",
    "\n",
    "# Creating a tuple having one element\n",
    "my_tuple = (\"hello\",)\n",
    "print(type(my_tuple))\n",
    "\n",
    "# Parentheses is optional\n",
    "my_tuple = \"hello\",\n",
    "print(type(my_tuple))\n"
   ]
  },
  {
   "cell_type": "markdown",
   "metadata": {},
   "source": [
    "#### Accessing elements\n",
    "As seen for lists, there are three main ways in which we can access the elements of a tuple:\n",
    "* Indexing\n",
    "* Negative Indexing\n",
    "* Slicing\n",
    "\n"
   ]
  },
  {
   "cell_type": "code",
   "execution_count": 622,
   "metadata": {},
   "outputs": [
    {
     "name": "stdout",
     "output_type": "stream",
     "text": [
      "s\n",
      "e\n",
      "e\n",
      "('o', 'u', 'r')\n"
     ]
    }
   ],
   "source": [
    "my_tuple = tuple('source code')\n",
    "# indexing\n",
    "print(my_tuple[0])\n",
    "print(my_tuple[5])\n",
    "\n",
    "# negative indexing\n",
    "print(my_tuple[-1])\n",
    "\n",
    "# slicing\n",
    "print(my_tuple[1:4]) "
   ]
  },
  {
   "cell_type": "markdown",
   "metadata": {},
   "source": [
    "#### Changing elements\n",
    "Unlike lists, tuples are immutable. Elements of a tuple cannot be changed once they have been assigned. \n",
    "However, if the element is itself a mutable data type like list, its nested items can be changed.\n",
    "We can also assign a tuple to different values (reassignment).\n"
   ]
  },
  {
   "cell_type": "code",
   "execution_count": 623,
   "metadata": {},
   "outputs": [
    {
     "name": "stdout",
     "output_type": "stream",
     "text": [
      "(4, 2, 3, [6, 5])\n",
      "(4, 2, 3, [9, 5])\n",
      "('n', 'i', 'c', 'o', 'l', 'a')\n"
     ]
    }
   ],
   "source": [
    "my_tuple = (4, 2, 3, [6, 5])\n",
    "print(my_tuple)\n",
    "\n",
    "# my_tuple[1] = 9\n",
    "# TypeError: 'tuple' object does not support item assignment\n",
    "\n",
    "# However…\n",
    "my_tuple[3][0] = 9\n",
    "print(my_tuple)\n",
    "\n",
    "# Tuples can be reassigned\n",
    "my_tuple = ('n', 'i', 'c', 'o', 'l', 'a')\n",
    "print(my_tuple)\n"
   ]
  },
  {
   "cell_type": "markdown",
   "metadata": {},
   "source": [
    "We cannot change the elements in a tuple. It means that we cannot delete or remove items from a tuple.\n",
    "\n",
    "Deleting a tuple entirely, however, is possible using the keyword del."
   ]
  },
  {
   "cell_type": "code",
   "execution_count": 624,
   "metadata": {},
   "outputs": [],
   "source": [
    "my_tuple = ('n', 'i', 'c', 'o', 'l', 'a')\n",
    "\n",
    "# del my_tuple[3]\n",
    "# TypeError: 'tuple' object doesn't support item deletion\n",
    "\n",
    "del my_tuple\n",
    "\n",
    "# print(my_tuple)\n",
    "# NameError: name 'my_tuple' is not defined\n"
   ]
  },
  {
   "attachments": {},
   "cell_type": "markdown",
   "metadata": {},
   "source": [
    "#### Other tuple operations\n",
    "We can test if an item exists in a tuple or not, using the keyword in.\n",
    "\n",
    "We can use a for loop to iterate through each item in a tuple."
   ]
  },
  {
   "cell_type": "code",
   "execution_count": 625,
   "metadata": {},
   "outputs": [
    {
     "name": "stdout",
     "output_type": "stream",
     "text": [
      "True\n",
      "False\n",
      "True\n",
      "Hello John\n",
      "Hello Kate\n",
      "Hello Archie\n"
     ]
    }
   ],
   "source": [
    "my_tuple = ('a', 'p', 'p', 'l', 'e',)\n",
    "\n",
    "print('a' in my_tuple)\n",
    "print('b' in my_tuple)\n",
    "print('g' not in my_tuple)\n",
    "\n",
    "# iterate through a tuple\n",
    "for name in ('John', 'Kate', 'Archie'):\n",
    "    print(\"Hello\", name)\n"
   ]
  },
  {
   "cell_type": "markdown",
   "metadata": {},
   "source": [
    "#### Advantages of Tuple over List"
   ]
  },
  {
   "cell_type": "markdown",
   "metadata": {},
   "source": [
    "Since tuples are quite similar to lists, both of them are used in similar situations. However, there are certain advantages of implementing a tuple over a list. Below listed are some of the main advantages:\n",
    "* We generally use tuples for heterogeneous (different) data types and lists for homogeneous data types.\n",
    "* Since tuples are immutable, iterating through a tuple is faster than with list. \n",
    "* Tuples that contain immutable elements can be used as a key for a dictionary. With lists, this is not possible.\n",
    "* If you have data that doesn't change, implementing it as tuple will guarantee that it remains write-protected.\n"
   ]
  },
  {
   "cell_type": "markdown",
   "metadata": {},
   "source": [
    "## Sets"
   ]
  },
  {
   "cell_type": "markdown",
   "metadata": {},
   "source": [
    "A set is an unordered collection data type, mutable and has no duplicate elements. \n",
    "\n",
    "Set items must be immutable (e.g., lists are not allowed)\n",
    "\n",
    "The Set class represents the mathematical notion of a set. \n",
    "\n",
    "The major advantage of using a set, as opposed to a list, is that it has a highly optimized method for checking whether a specific element is contained in the set. \n",
    "\n",
    "Sets are based on a data structure known as a hash table. Since sets are unordered, we cannot access items using indexes like we do in lists.\n",
    "\n",
    "<table>\n",
    "    <tr>\n",
    "        <td> <img src=\"img/collections_set.png\" alt=\"Drawing\" style=\"width: 300px;\"/> </td>\n",
    "    </tr>\n",
    "</table>\n"
   ]
  },
  {
   "cell_type": "markdown",
   "metadata": {},
   "source": [
    "A set is created by placing all the items (elements) inside curly braces {}, separated by comma, or by using the built-in set() function.\n",
    "\n",
    "It can have any number of items and they may be of different types (integer, float, tuple, string etc.). \n",
    "\n",
    "A set cannot have mutable elements like lists, sets or dictionaries as its elements.\n"
   ]
  },
  {
   "cell_type": "code",
   "execution_count": 626,
   "metadata": {},
   "outputs": [
    {
     "name": "stdout",
     "output_type": "stream",
     "text": [
      "{1, 2, 3}\n",
      "{1.0, 'Hello', (1, 2, 3)}\n",
      "{1, 2, 3}\n"
     ]
    }
   ],
   "source": [
    "# set of integers\n",
    "my_set = {1, 2, 3}\n",
    "print(my_set)\n",
    "\n",
    "# set of mixed datatypes\n",
    "my_set = {1.0, \"Hello\", (1, 2, 3)}\n",
    "print(my_set)\n",
    "\n",
    "# set from list\n",
    "my_set = set([1, 2, 3, 2])\n",
    "print(my_set)\n",
    "\n",
    "# inserting mutable elements\n",
    "# my_set = {1, 2, [3, 4]}\n",
    "# TypeError: unhashable type: 'list'"
   ]
  },
  {
   "cell_type": "code",
   "execution_count": 627,
   "metadata": {},
   "outputs": [
    {
     "name": "stdout",
     "output_type": "stream",
     "text": [
      "<class 'dict'>\n",
      "<class 'set'>\n"
     ]
    }
   ],
   "source": [
    "# Distinguish set and dictionary while creating empty set\n",
    "\n",
    "# initialize a with {}\n",
    "a = {}\n",
    "\n",
    "# check data type of a\n",
    "print(type(a))\n",
    "\n",
    "# initialize a with set()\n",
    "a = set()\n",
    "\n",
    "# check data type of a\n",
    "print(type(a))"
   ]
  },
  {
   "attachments": {},
   "cell_type": "markdown",
   "metadata": {},
   "source": [
    "#### Modifying Sets\n",
    "Sets are mutable. However, since they are unordered, indexing has no meaning.\n",
    "\n",
    "We cannot access or change an element of a set using indexing or slicing. Set data type does not support it.\n",
    "\n",
    "We can add a single element using the add() method, and multiple elements using the update() method.\n",
    "\n",
    "The update() method can take tuples, lists, strings or other sets as its argument. In all cases, duplicates are avoided."
   ]
  },
  {
   "cell_type": "code",
   "execution_count": 628,
   "metadata": {},
   "outputs": [
    {
     "name": "stdout",
     "output_type": "stream",
     "text": [
      "{1, 3}\n",
      "{1, 2, 3}\n",
      "{1, 2, 3, 4}\n"
     ]
    }
   ],
   "source": [
    "# initialize my_set\n",
    "my_set = {1, 3}\n",
    "print(my_set)\n",
    "\n",
    "# add an element\n",
    "my_set.add(2)\n",
    "print(my_set)\n",
    "\n",
    "# add multiple elements\n",
    "my_set.update([2, 3, 4])\n",
    "print(my_set)"
   ]
  },
  {
   "cell_type": "markdown",
   "metadata": {},
   "source": [
    "#### Removing elements\n",
    "A particular item can be removed from a set using the methods discard() and remove().\n",
    "\n",
    "The only difference between the two is that the discard() function leaves a set unchanged if the element is not present in the set. On the other hand, the remove() function will raise an error in such a condition (if element is not present in the set).\n"
   ]
  },
  {
   "cell_type": "code",
   "execution_count": 629,
   "metadata": {},
   "outputs": [
    {
     "name": "stdout",
     "output_type": "stream",
     "text": [
      "{1, 3, 4, 5, 6}\n",
      "{1, 3, 5, 6}\n",
      "{1, 3, 5}\n",
      "{1, 3, 5}\n"
     ]
    }
   ],
   "source": [
    "# initialize my_set\n",
    "my_set = {1, 3, 4, 5, 6}\n",
    "print(my_set)\n",
    "\n",
    "# discard an element\n",
    "my_set.discard(4)\n",
    "print(my_set)\n",
    "\n",
    "# remove an element\n",
    "my_set.remove(6)\n",
    "print(my_set)\n",
    "\n",
    "# discard an element not present\n",
    "my_set.discard(4)\n",
    "print(my_set)\n",
    "\n",
    "# remove an element not present\n",
    "# my_set.remove(4)\n",
    "# KeyError: 4\n"
   ]
  },
  {
   "attachments": {},
   "cell_type": "markdown",
   "metadata": {},
   "source": [
    "#### Set operation\n",
    "Sets can be used to carry out mathematical set operations like union, intersection, difference and symmetric difference."
   ]
  },
  {
   "cell_type": "code",
   "execution_count": 630,
   "metadata": {},
   "outputs": [
    {
     "name": "stdout",
     "output_type": "stream",
     "text": [
      "{1, 2, 3, 4, 5, 6, 7, 8}\n",
      "{4, 5}\n",
      "{1, 2, 3}\n",
      "{1, 2, 3, 6, 7, 8}\n"
     ]
    }
   ],
   "source": [
    "A = {1, 2, 3, 4, 5}\n",
    "B = {4, 5, 6, 7, 8}\n",
    "\n",
    "print(A | B) # union\n",
    "print(A & B) # intersection\n",
    "print(A - B) # difference\n",
    "print(A ^ B) # simmetric difference\n"
   ]
  },
  {
   "attachments": {},
   "cell_type": "markdown",
   "metadata": {},
   "source": [
    "#### Set membership\n",
    "We can test if an item exists in a set or not, using the in keyword.\n",
    "\n",
    "Sets are significantly faster than lists when it comes to determining if an object is present in the set (as in x in s), but are slower than lists when it comes to iterating over their contents.\n",
    "\n",
    "You can use the timeit module to see which is faster for your situation."
   ]
  },
  {
   "cell_type": "code",
   "execution_count": 631,
   "metadata": {},
   "outputs": [
    {
     "name": "stdout",
     "output_type": "stream",
     "text": [
      "0.032613389019388705\n",
      "0.028819021012168378\n",
      "0.033158236008603126\n",
      "0.14427149604307488\n"
     ]
    }
   ],
   "source": [
    "import timeit\n",
    "t = timeit.timeit(\"'a' in {'a', 'b', 'c', 'd', 'e', 'f', 'g', 'h', 'i'}\", number=1000000)\n",
    "print(t)\n",
    "\n",
    "t = timeit.timeit(\"'a' in ['a', 'b', 'c', 'd', 'e', 'f', 'g', 'h', 'i']\", number=1000000)\n",
    "print(t)\n",
    "\n",
    "t = timeit.timeit(\"'i' in {'a', 'b', 'c', 'd', 'e', 'f', 'g', 'h', 'i'}\", number=1000000)\n",
    "print(t)\n",
    "\n",
    "t = timeit.timeit(\"'i' in ['a', 'b', 'c', 'd', 'e', 'f', 'g', 'h', 'i']\", number=1000000)\n",
    "print(t)"
   ]
  },
  {
   "attachments": {},
   "cell_type": "markdown",
   "metadata": {},
   "source": [
    "#### Frozenset\n",
    "Frozenset is a new class that has the characteristics of a set, but its elements cannot be changed once assigned. While tuples are immutable lists, frozensets are immutable sets.\n",
    "\n",
    "Sets being mutable are unhashable, so they can't be used as dictionary keys. On the other hand, frozensets are hashable and can be used as keys to a dictionary.\n",
    "\n",
    "Frozensets can be created using the frozenset() function."
   ]
  },
  {
   "cell_type": "code",
   "execution_count": 632,
   "metadata": {},
   "outputs": [],
   "source": [
    "s1 = frozenset([1, 2, 3, 4])\n",
    "s2 = frozenset([3, 4, 5, 6])\n",
    "# s1.add(3)\n",
    "# AttributeError: 'frozenset' object has no attribute 'add'\n"
   ]
  },
  {
   "cell_type": "markdown",
   "metadata": {},
   "source": [
    "## Dictionaries"
   ]
  },
  {
   "cell_type": "markdown",
   "metadata": {},
   "source": [
    "A dictionary is an unordered collection of key/value pairs.\n",
    "\n",
    "Each unique and immutable key has a value associated with it in the dictionary.\n",
    "\n",
    "Dictionaries can have any number of pairs. The values associated with a key can be any object. \n",
    "\n",
    "Dictionaries are unordered and mutable. \n",
    "\n",
    "The order in which key/value pairs are added to a dictionary is not maintained by the interpreter, and has no meaning.\n",
    "\n",
    "<table>\n",
    "    <tr>\n",
    "        <td> <img src=\"img/collections_dict.png\" alt=\"Drawing\" style=\"width: 400px;\"/> </td>\n",
    "    </tr>\n",
    "</table>"
   ]
  },
  {
   "cell_type": "code",
   "execution_count": 633,
   "metadata": {},
   "outputs": [
    {
     "name": "stdout",
     "output_type": "stream",
     "text": [
      "{1: 'Geeks', 2: 'For', 3: 'Geeks'}\n",
      "{'Name': 'Geeks', 1: [1, 2, 3, 4]}\n"
     ]
    }
   ],
   "source": [
    "# Creating a Dictionary with Integer Keys \n",
    "dict = {1: 'Geeks', 2: 'For', 3: 'Geeks'}  \n",
    "print(dict)\n",
    " \n",
    "# Creating a Dictionary with Mixed keys \n",
    "dict = {'Name': 'Geeks', 1: [1, 2, 3, 4]} \n",
    "print(dict)"
   ]
  },
  {
   "attachments": {},
   "cell_type": "markdown",
   "metadata": {},
   "source": [
    "#### Accessing elements\n",
    "While indexing is used with other data types to access values, a dictionary uses keys. Keys can be used either inside square brackets [] or with the get() method.\n",
    "If we use the square brackets [], KeyError is raised in case a key is not found in the dictionary. On the other hand, the get() method returns None if the key is not found."
   ]
  },
  {
   "cell_type": "code",
   "execution_count": 634,
   "metadata": {},
   "outputs": [
    {
     "name": "stdout",
     "output_type": "stream",
     "text": [
      "Jack\n",
      "26\n",
      "None\n"
     ]
    }
   ],
   "source": [
    "# get vs [] for retrieving elements\n",
    "my_dict = {'name': 'Jack', 'age': 26}\n",
    "\n",
    "print(my_dict['name'])\n",
    "print(my_dict.get('age'))\n",
    "\n",
    "print(my_dict.get('address'))\n",
    "# print(my_dict['address'])\n",
    "# KeyError: 'address'\n"
   ]
  },
  {
   "cell_type": "markdown",
   "metadata": {},
   "source": [
    "#### Modifying elements\n",
    "Dictionaries are mutable. We can add new items or change the value of existing items using an assignment operator.\n",
    "\n",
    "If the key is already present, then the existing value gets updated. In case the key is not present, a new (key: value) pair is added to the dictionary.\n"
   ]
  },
  {
   "cell_type": "code",
   "execution_count": 635,
   "metadata": {},
   "outputs": [
    {
     "name": "stdout",
     "output_type": "stream",
     "text": [
      "{'name': 'Jack', 'age': 27}\n",
      "{'name': 'Jack', 'age': 27, 'address': 'Downtown'}\n"
     ]
    }
   ],
   "source": [
    "# Changing and adding \n",
    "my_dict = {'name': 'Jack', 'age': 26}\n",
    "\n",
    "my_dict['age'] = 27\n",
    "print(my_dict)\n",
    "\n",
    "my_dict['address'] = 'Downtown'\n",
    "print(my_dict)\n"
   ]
  },
  {
   "attachments": {},
   "cell_type": "markdown",
   "metadata": {},
   "source": [
    "#### Removing elements\n",
    "We can remove a particular item in a dictionary by using the pop() method. This method removes an item with the provided key and returns the value.\n",
    "\n",
    "The popitem() method can be used to remove and return an arbitrary (key, value) item pair from the dictionary. \n",
    "\n",
    "All the items can be removed at once, using the clear() method.\n",
    "\n",
    "We can also use the del keyword to remove individual items or the entire dictionary itself."
   ]
  },
  {
   "cell_type": "code",
   "execution_count": 636,
   "metadata": {},
   "outputs": [
    {
     "name": "stdout",
     "output_type": "stream",
     "text": [
      "16\n",
      "(5, 25)\n",
      "{1: 1, 2: 4, 3: 9}\n",
      "{}\n"
     ]
    }
   ],
   "source": [
    "squares = {1: 1, 2: 4, 3: 9, 4: 16, 5: 25}\n",
    "\n",
    "# remove a particular item, returns its value\n",
    "print(squares.pop(4))\n",
    "\n",
    "# remove an arbitrary item, return (key,value)\n",
    "print(squares.popitem())\n",
    "print(squares)\n",
    "\n",
    "# remove all items\n",
    "squares.clear()\n",
    "print(squares)"
   ]
  },
  {
   "attachments": {},
   "cell_type": "markdown",
   "metadata": {},
   "source": [
    "#### Other Dictionary Operations\n",
    "We can test if a key is in a dictionary or not using the keyword in. \n",
    "Notice that the membership test is only for the keys and not for the values.\n",
    "We can iterate through both keys and key:value pairs using a for loop.\n"
   ]
  },
  {
   "cell_type": "code",
   "execution_count": 637,
   "metadata": {},
   "outputs": [
    {
     "name": "stdout",
     "output_type": "stream",
     "text": [
      "True\n",
      "False\n",
      "1\n",
      "4\n",
      "9\n",
      "1 1\n",
      "2 4\n",
      "3 9\n"
     ]
    }
   ],
   "source": [
    "squares = {1: 1, 2: 4, 3: 9}\n",
    "\n",
    "# membership tests for key only\n",
    "print(1 in squares)\n",
    "print(3 not in squares)\n",
    "\n",
    "# Iterating through keys\n",
    "for i in squares:\n",
    "    print(squares[i])\n",
    "\n",
    "# Iterating through keys and values\n",
    "for k, v in squares.items():\n",
    "    print(k, v)\n"
   ]
  },
  {
   "attachments": {},
   "cell_type": "markdown",
   "metadata": {},
   "source": [
    "## Comprehension Expressions"
   ]
  },
  {
   "attachments": {},
   "cell_type": "markdown",
   "metadata": {},
   "source": [
    "#### Unpacking and Enumerating\n",
    "Python provides some syntactic “tricks” for working with iterables: unpacking iterables and enumerating iterables. Useful for writing clean, readable code.\n",
    "\n",
    "Writing clean, readable code leads to bug-free algorithms that are easy to understand. Furthermore, these tricks will also facilitate the use of other features, like comprehension-statements."
   ]
  },
  {
   "cell_type": "code",
   "execution_count": 638,
   "metadata": {},
   "outputs": [
    {
     "name": "stdout",
     "output_type": "stream",
     "text": [
      "('Ashley', 93)\n",
      "('Brad', 95)\n",
      "('Cassie', 84)\n",
      "Ashley\n",
      "93\n",
      "Brad\n",
      "95\n",
      "Cassie\n",
      "84\n"
     ]
    }
   ],
   "source": [
    "# assigning a list to variables using iterable unpacking\n",
    "my_list = [7, 9, 11]\n",
    "x, y, z = my_list\n",
    "\n",
    "grades = [(\"Ashley\", 93), (\"Brad\", 95), (\"Cassie\", 84)]\n",
    "\n",
    "# for loop without unpacking\n",
    "for entry in grades:\n",
    "    print(entry)\n",
    "\n",
    "# for loop with unpacking\n",
    "for name, grade in grades:\n",
    "    print(name)\n",
    "    print(grade)"
   ]
  },
  {
   "cell_type": "code",
   "execution_count": 639,
   "metadata": {},
   "outputs": [
    {
     "name": "stdout",
     "output_type": "stream",
     "text": [
      "[1, 3]\n"
     ]
    }
   ],
   "source": [
    "# track which entries of an iterable store None\n",
    "# without enumeration\n",
    "\n",
    "none_indices = []\n",
    "iter_cnt = 0  \n",
    "for item in [2, None, -10, None, 4, 8]:\n",
    "    if item is None:\n",
    "        none_indices.append(iter_cnt)\n",
    "    iter_cnt = iter_cnt + 1\n",
    "print(none_indices)"
   ]
  },
  {
   "cell_type": "code",
   "execution_count": 640,
   "metadata": {},
   "outputs": [
    {
     "name": "stdout",
     "output_type": "stream",
     "text": [
      "[1, 3]\n"
     ]
    }
   ],
   "source": [
    "# track which entries of an iterable store None\n",
    "# with enumeration\n",
    "\n",
    "none_indices = []\n",
    "for iter_cnt, item in enumerate([2, None, -10, None, 4, 8]):\n",
    "    if item is None:\n",
    "        none_indices.append(iter_cnt)\n",
    "print(none_indices)"
   ]
  },
  {
   "attachments": {},
   "cell_type": "markdown",
   "metadata": {},
   "source": [
    "#### Generators\n",
    "A generator is a special kind of iterator, which stores the instructions for how to generate each of its members, in order, along with its current state of iterations. It generates each member, one at a time, only as it is requested via iteration."
   ]
  },
  {
   "cell_type": "code",
   "execution_count": 641,
   "metadata": {},
   "outputs": [
    {
     "name": "stdout",
     "output_type": "stream",
     "text": [
      "0\n",
      "1\n",
      "2\n"
     ]
    }
   ],
   "source": [
    "# start: 0 (default, included) # stop: 3 (excluded) # step: 1 (default) \n",
    "for i in range(3): \n",
    "    print(i) "
   ]
  },
  {
   "cell_type": "code",
   "execution_count": 642,
   "metadata": {},
   "outputs": [
    {
     "name": "stdout",
     "output_type": "stream",
     "text": [
      "2\n",
      "3\n",
      "4\n"
     ]
    }
   ],
   "source": [
    "# start: 2 (included) # stop: 5 (excluded) # step: 1 (default) \n",
    "for i in range(2, 5): \n",
    "    print(i) "
   ]
  },
  {
   "cell_type": "code",
   "execution_count": 643,
   "metadata": {},
   "outputs": [
    {
     "name": "stdout",
     "output_type": "stream",
     "text": [
      "1\n",
      "4\n",
      "7\n"
     ]
    }
   ],
   "source": [
    "# start: 1 (included) # stop: 10 (excluded) # step: 3\n",
    "for i in range(1, 10, 3): \n",
    "    print(i) "
   ]
  },
  {
   "attachments": {},
   "cell_type": "markdown",
   "metadata": {},
   "source": [
    "#### Generator Comprehension\n",
    "A generator comprehension is a single-line specification for defining a generator. It is absolutely essential to learn this syntax in order to write simple and readable code.\n",
    "\n",
    "```\n",
    "(<expression> for <var> in <iterable> [if <condition>]) \n",
    "```\n",
    "Specifies the general form for a generator comprehension. This produces a generator, whose instructions for generating its members are provided within the parenthetical statement.\n",
    "\n",
    "```\n",
    "(<expression> for <var> in <iterable>) \n",
    "```\n",
    "\n",
    "Also returns a valid generator."
   ]
  },
  {
   "cell_type": "code",
   "execution_count": 644,
   "metadata": {},
   "outputs": [
    {
     "name": "stdout",
     "output_type": "stream",
     "text": [
      "0.0\n",
      "4.5\n",
      "10.5\n",
      "16.0\n"
     ]
    }
   ],
   "source": [
    "example_gen = (i/2 for i in [0, 9, 21, 32])\n",
    "for item in example_gen:\n",
    "    print(item)"
   ]
  },
  {
   "cell_type": "code",
   "execution_count": 645,
   "metadata": {},
   "outputs": [
    {
     "name": "stdout",
     "output_type": "stream",
     "text": [
      "(0, 0, 0)\n",
      "(1, 1, 1)\n",
      "(2, 4, 8)\n",
      "(3, 9, 27)\n",
      "(4, 16, 64)\n"
     ]
    }
   ],
   "source": [
    "example_gen = ((i, i**2, i**3) for i in range(5))\n",
    "for item in example_gen:\n",
    "    print(item)"
   ]
  },
  {
   "cell_type": "code",
   "execution_count": 646,
   "metadata": {},
   "outputs": [
    {
     "name": "stdout",
     "output_type": "stream",
     "text": [
      "apple\n",
      "apple\n",
      "orange\n",
      "orange\n"
     ]
    }
   ],
   "source": [
    "example_gen = ((\"apple\" if i < 2 else \"orange\") for i in range(4))\n",
    "for item in example_gen:\n",
    "    print(item)"
   ]
  },
  {
   "attachments": {},
   "cell_type": "markdown",
   "metadata": {},
   "source": [
    "#### Consuming generators\n",
    "We can feed a generator to any function that accepts iterables. For instance, we can feed it to the built-in sum function, which sums the contents of an iterable. This computes the sum of the sequence of numbers without ever storing the full sequence of numbers in memory.\n",
    "\n",
    "You must redefine the generator if you want to iterate over it again; fortunately, defining a generator requires very few resources, so this is not a point of concern."
   ]
  },
  {
   "cell_type": "code",
   "execution_count": 647,
   "metadata": {},
   "outputs": [
    {
     "name": "stdout",
     "output_type": "stream",
     "text": [
      "285\n",
      "0\n"
     ]
    }
   ],
   "source": [
    "gen = (i**2 for i in range(10))\n",
    "# computes the sum of gen\n",
    "print(sum(gen))\n",
    "\n",
    "# computes the sum of ... nothing!\n",
    "# gen has already been consumed!\n",
    "print(sum(gen))"
   ]
  },
  {
   "attachments": {},
   "cell_type": "markdown",
   "metadata": {},
   "source": [
    "#### Using generator comprehensions on the fly\n",
    "\n",
    "A generator comprehension can be specified directly as an argument to a function, wherever a single iterable is expected as an input to that function."
   ]
  },
  {
   "cell_type": "code",
   "execution_count": 648,
   "metadata": {},
   "outputs": [
    {
     "name": "stdout",
     "output_type": "stream",
     "text": [
      "[0, 1, 4, 9, 16, 25, 36, 49, 64, 81]\n",
      "True\n",
      "10, 200, 4000, 80000\n"
     ]
    }
   ],
   "source": [
    "# providing generator expressions as arguments to functions\n",
    "# that operate on iterables\n",
    "print(list(i**2 for i in range(10)))\n",
    "print(all(i < 10 for i in [1, 3, 5, 7]))\n",
    "print(\", \".join(str(i) for i in [10, 200, 4000, 80000]))"
   ]
  },
  {
   "attachments": {},
   "cell_type": "markdown",
   "metadata": {},
   "source": [
    "#### Iterating over generators (next)\n",
    "The built-in function next allows you manually “request” the next member of a generator, or more generally, any kind of iterator.  Calling next on an exhausted iterator will raise a StopIteration signal."
   ]
  },
  {
   "cell_type": "code",
   "execution_count": 649,
   "metadata": {},
   "outputs": [
    {
     "name": "stdout",
     "output_type": "stream",
     "text": [
      "0.5\n",
      "1.0\n",
      "1.5\n"
     ]
    }
   ],
   "source": [
    "short_gen = (i/2 for i in [1, 2, 3])\n",
    "\n",
    "print(next(short_gen))\n",
    "print(next(short_gen))\n",
    "print(next(short_gen))\n",
    "# print(next(short_gen))\n",
    "# StopIteration"
   ]
  },
  {
   "cell_type": "markdown",
   "metadata": {},
   "source": [
    "#### List & Tuple Comprehensions"
   ]
  },
  {
   "cell_type": "markdown",
   "metadata": {},
   "source": [
    "Using generator comprehensions to initialize lists is so useful that Python actually reserves a specialized syntax for it, known as the list comprehension. A list comprehension is a syntax for constructing a list, which exactly mirrors the generator comprehension syntax:\n",
    "\n",
    "```\n",
    "[<expression> for <var> in <iterable> {if <condition>}]\n",
    "```\n",
    "\n",
    "List comprehension produces the exact same result as feeding the list function a generator comprehension. However, using a list comprehension is slightly more efficient than is feeding the list function a generator comprehension."
   ]
  },
  {
   "cell_type": "code",
   "execution_count": 650,
   "metadata": {},
   "outputs": [
    {
     "name": "stdout",
     "output_type": "stream",
     "text": [
      "[0, 1, 4, 9, 16]\n",
      "(0, 1, 4, 9, 16)\n"
     ]
    }
   ],
   "source": [
    "# creating a list using a comprehension expression \n",
    "print([i**2 for i in range(5)])\n",
    "\n",
    "# creating a tuple using a comprehension expression \n",
    "print(tuple(i**2 for i in range(5)))"
   ]
  },
  {
   "cell_type": "code",
   "execution_count": 651,
   "metadata": {},
   "outputs": [
    {
     "name": "stdout",
     "output_type": "stream",
     "text": [
      "['Python', 'You']\n",
      "['Python', 'You']\n"
     ]
    }
   ],
   "source": [
    "# Select all words containing the char ‘o’ OR ‘O’\n",
    "word_collection = ['Python', 'Like', 'You', 'Mean', 'It']\n",
    "\n",
    "# without list comprehension (4 lines)\n",
    "out = []\n",
    "for word in word_collection:\n",
    "    if \"o\" in word.lower():\n",
    "        out.append(word)\n",
    "print(out)\n",
    "\n",
    "# with list comprehension (1 line)\n",
    "out = [word for word in word_collection if \"o\" in word.lower()]\n",
    "print(out)"
   ]
  },
  {
   "cell_type": "code",
   "execution_count": 652,
   "metadata": {},
   "outputs": [
    {
     "name": "stdout",
     "output_type": "stream",
     "text": [
      "[0, 0, 0, 1, 1, 0, 0, 0, 1, 0]\n",
      "[0, 0, 0, 1, 1, 0, 0, 0, 1, 0]\n"
     ]
    }
   ],
   "source": [
    "# Skip all non-lowercased letters (including punctuation)\n",
    "# Append 1 if lowercase letter is \"o\"\n",
    "# Append 0 if lowercase letter is not \"o\"\n",
    "\n",
    "word = 'Hello. How Are You?'\n",
    "\n",
    "# without comprehension\n",
    "out = []\n",
    "for i in word:\n",
    "    if i.islower():\n",
    "        out.append(1 if i is \"o\" else 0)\n",
    "print(out)\n",
    "\n",
    "# with comprehension\n",
    "out = [(1 if letter == 'o' else 0) for letter in word if letter.islower()]\n",
    "print(out)"
   ]
  },
  {
   "attachments": {},
   "cell_type": "markdown",
   "metadata": {},
   "source": [
    "#### Dictionary Comprehension\n",
    "Dictionary comprehension is an elegant and concise way to create a new dictionary from an iterable.\n",
    "Dictionary comprehension consists of an expression pair (key: value) followed by a for statement inside curly braces {}."
   ]
  },
  {
   "cell_type": "code",
   "execution_count": 653,
   "metadata": {},
   "outputs": [
    {
     "name": "stdout",
     "output_type": "stream",
     "text": [
      "{0: 0, 1: 1, 2: 4, 3: 9, 4: 16, 5: 25}\n",
      "{0: 0, 1: 1, 2: 4, 3: 9, 4: 16, 5: 25}\n"
     ]
    }
   ],
   "source": [
    "# Without Dictionary Comprehension\n",
    "squares = {}\n",
    "for x in range(6):\n",
    "    squares[x] = x*x\n",
    "print(squares)\n",
    "\n",
    "# With Dictionary Comprehension\n",
    "squares = {x: x*x for x in range(6)}\n",
    "print(squares)"
   ]
  },
  {
   "attachments": {},
   "cell_type": "markdown",
   "metadata": {},
   "source": [
    "#### Itertools\n",
    "Python has an itertools module, which provides a core set of fast, memory-efficient tools for creating iterators. The majority of these functions create generators, thus we will have to iterate over them in order to explicitly demonstrate their use. \n",
    "\n",
    "There are three built-in functions, **range**, **enumerate**, and **zip**, that belong in itertools, but they are so useful that they are made accessible immediately and do not need to be imported. \n",
    "\n",
    "It is essential that range, enumerate, and zip become tools that you are comfortable using."
   ]
  },
  {
   "cell_type": "code",
   "execution_count": 654,
   "metadata": {},
   "outputs": [
    {
     "name": "stdout",
     "output_type": "stream",
     "text": [
      "range(0, 10)\n",
      "[0, 1, 2, 3, 4, 5, 6, 7, 8, 9]\n",
      "range(0, 10, 3)\n",
      "[0, 3, 6, 9]\n"
     ]
    }
   ],
   "source": [
    "print(range(10))\n",
    "print(list(range(10)))\n",
    "print(range(0, 10, 3))\n",
    "print(list(range(0, 10, 3)))"
   ]
  },
  {
   "cell_type": "code",
   "execution_count": 655,
   "metadata": {},
   "outputs": [
    {
     "name": "stdout",
     "output_type": "stream",
     "text": [
      "<enumerate object at 0x10e4421f8>\n",
      "[(0, 'apple'), (1, 'banana'), (2, 'cat'), (3, 'dog')]\n"
     ]
    }
   ],
   "source": [
    "print(enumerate([\"apple\", \"banana\", \"cat\", \"dog\"]))\n",
    "print(list(enumerate([\"apple\", \"banana\", \"cat\", \"dog\"])))"
   ]
  },
  {
   "cell_type": "code",
   "execution_count": 656,
   "metadata": {},
   "outputs": [
    {
     "name": "stdout",
     "output_type": "stream",
     "text": [
      "<zip object at 0x10e461788>\n",
      "[('Angie', 90, 95), ('Brian', 82, 84), ('Cassie', 79, 72), ('David', 87, 91)]\n"
     ]
    }
   ],
   "source": [
    "names = [\"Angie\", \"Brian\", \"Cassie\", \"David\"]\n",
    "exam_1_scores = [90, 82, 79, 87]\n",
    "exam_2_scores = [95, 84, 72, 91]\n",
    "\n",
    "print(zip(names, exam_1_scores, exam_2_scores))\n",
    "print(list(zip(names, exam_1_scores, exam_2_scores)))"
   ]
  },
  {
   "cell_type": "markdown",
   "metadata": {},
   "source": [
    "## In Depth"
   ]
  },
  {
   "cell_type": "markdown",
   "metadata": {},
   "source": [
    "#### Shallow copy\n",
    "\n",
    "The easiest way to copy a list (or most built-in mutable collections) is to use the built-in constructor for the type itself.  For lists and other mutable sequences, the shortcut l2 = l1[:] also makes a copy. \n",
    "\n",
    "However, using the constructor or [:] produces a shallow copy (i.e., the outermost container is duplicated, but the copy is filled with references to the same items held by the original container). \n",
    "\n",
    "This saves memory and causes no problems if all the items are immutable. But if there are mutable items, this may lead to unpleasant surprises. \n",
    "\n"
   ]
  },
  {
   "cell_type": "code",
   "execution_count": 657,
   "metadata": {},
   "outputs": [
    {
     "name": "stdout",
     "output_type": "stream",
     "text": [
      "True\n",
      "False\n"
     ]
    }
   ],
   "source": [
    "l1 = [3, [55, 44], (7, 8, 9)]\n",
    "l2 = list(l1)\n",
    "print(l2 == l1)\n",
    "print(l2 is l1)"
   ]
  },
  {
   "cell_type": "markdown",
   "metadata": {},
   "source": [
    "<table>\n",
    "    <tr>\n",
    "        <td> <img src=\"img/obj_copy_1.png\" alt=\"Drawing\" style=\"width: 300px;\"/> </td>\n",
    "    </tr>\n",
    "</table>"
   ]
  },
  {
   "cell_type": "code",
   "execution_count": 658,
   "metadata": {},
   "outputs": [
    {
     "name": "stdout",
     "output_type": "stream",
     "text": [
      "l1: [3, [66, 55, 44], (7, 8, 9)]\n",
      "l2: [3, [66, 55, 44], (7, 8, 9)]\n",
      "l1: [3, [66, 44, 33, 22], (7, 8, 9), 100]\n",
      "l2: [3, [66, 44, 33, 22], (7, 8, 9, 10, 11)]\n"
     ]
    }
   ],
   "source": [
    "l1 = [3, [66, 55, 44], (7, 8, 9)]\n",
    "l2 = list(l1)\n",
    "print('l1:', l1)\n",
    "print('l2:', l2)\n",
    "l1.append(100)\n",
    "l1[1].remove(55)\n",
    "l2[1] += [33, 22]\n",
    "l2[2] += (10, 11)\n",
    "print('l1:', l1)\n",
    "print('l2:', l2)"
   ]
  },
  {
   "cell_type": "markdown",
   "metadata": {},
   "source": [
    "<table>\n",
    "    <tr>\n",
    "        <td> <img src=\"img/obj_copy_2.png\" alt=\"Drawing\" style=\"width: 400px;\"/> </td>\n",
    "        <td> <img src=\"img/obj_copy_3.png\" alt=\"Drawing\" style=\"width: 400px;\"/> </td>\n",
    "    </tr>\n",
    "</table>"
   ]
  },
  {
   "cell_type": "code",
   "execution_count": 659,
   "metadata": {},
   "outputs": [
    {
     "name": "stdout",
     "output_type": "stream",
     "text": [
      "True\n",
      "False\n",
      "True\n",
      "False\n"
     ]
    }
   ],
   "source": [
    "# shallow copy\n",
    "l1 = [3, [55, 44], (7, 8, 9)]\n",
    "l2 = list(l1)\n",
    "print(l2 == l1)\n",
    "print(l2 is l1)\n",
    "\n",
    "# deep copy\n",
    "import copy\n",
    "l1 = [3, [55, 44], (7, 8, 9)]\n",
    "l2 = copy.deepcopy(l1)\n",
    "print(l2 == l1)\n",
    "print(l2 is l1)\n"
   ]
  },
  {
   "cell_type": "markdown",
   "metadata": {},
   "source": [
    "<table>\n",
    "    <tr>\n",
    "        <td> <img src=\"img/obj_copy_1.png\" alt=\"Drawing\" style=\"width: 300px;\"/> </td>\n",
    "        <td> <img src=\"img/obj_copy_4.png\" alt=\"Drawing\" style=\"width: 300px;\"/> </td>\n",
    "    </tr>\n",
    "</table>"
   ]
  },
  {
   "cell_type": "code",
   "execution_count": null,
   "metadata": {},
   "outputs": [],
   "source": []
  }
 ],
 "metadata": {
  "kernelspec": {
   "display_name": "Python 3",
   "language": "python",
   "name": "python3"
  },
  "language_info": {
   "codemirror_mode": {
    "name": "ipython",
    "version": 3
   },
   "file_extension": ".py",
   "mimetype": "text/x-python",
   "name": "python",
   "nbconvert_exporter": "python",
   "pygments_lexer": "ipython3",
   "version": "3.6.7"
  }
 },
 "nbformat": 4,
 "nbformat_minor": 2
}
